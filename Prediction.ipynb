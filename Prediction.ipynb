{
 "cells": [
  {
   "cell_type": "markdown",
   "metadata": {},
   "source": [
    "# Prediction of the movie revenue\n",
    "\n",
    "### This dataset *movies.csv* can be downloaded from Google drive: https://drive.google.com/drive/folders/1MwFoUvUp2St0Sjq0I9dlNIl_BXkw3fZU"
   ]
  },
  {
   "cell_type": "code",
   "execution_count": 44,
   "metadata": {},
   "outputs": [],
   "source": [
    "# import the library\n",
    "%matplotlib inline\n",
    "\n",
    "import ast\n",
    "import pandas as pd\n",
    "import numpy as np\n",
    "import scipy\n",
    "import matplotlib.pyplot as plt\n",
    "import seaborn as sns\n",
    "\n",
    "    \n",
    "from sklearn.linear_model import LinearRegression\n",
    "from sklearn.ensemble import RandomForestRegressor\n",
    "from sklearn.model_selection import train_test_split\n",
    "\n",
    "from sklearn.model_selection import KFold\n",
    "\n",
    "from sklearn.preprocessing import normalize\n",
    "\n",
    "from sklearn.model_selection import cross_val_score\n",
    "\n",
    "# sklearn :: evaluation metrics\n",
    "from sklearn.metrics import mean_absolute_error\n",
    "from sklearn.metrics import mean_squared_error\n",
    "\n",
    "# apply style to all the charts\n",
    "sns.set_style('whitegrid')\n",
    "\n",
    "# convert scientific notation to decimals\n",
    "pd.set_option('display.float_format', lambda x: '%.2f' % x)\n",
    "pd.set_option('display.max_columns', 24)"
   ]
  },
  {
   "cell_type": "markdown",
   "metadata": {},
   "source": [
    "# Reading the Data"
   ]
  },
  {
   "cell_type": "code",
   "execution_count": 45,
   "metadata": {},
   "outputs": [
    {
     "name": "stdout",
     "output_type": "stream",
     "text": [
      "id                                int64\n",
      "title                            object\n",
      "budget                            int64\n",
      "revenue                         float64\n",
      "production_countries             object\n",
      "release_date             datetime64[ns]\n",
      "popularity                      float64\n",
      "vote_average                    float64\n",
      "vote_count                      float64\n",
      "genres                           object\n",
      "production_companies             object\n",
      "belongs_to_collection            object\n",
      "cast                             object\n",
      "keywords                         object\n",
      "dtype: object\n"
     ]
    }
   ],
   "source": [
    "df = pd.read_csv('data/movies_new.csv')\n",
    "#df = pd.read_csv('data/movies.csv')\n",
    "df['release_date'] = pd.to_datetime(df['release_date'])\n",
    "print(df.dtypes)"
   ]
  },
  {
   "cell_type": "code",
   "execution_count": 46,
   "metadata": {},
   "outputs": [],
   "source": [
    "#Setting cast, production_companies, genres and keywords types to a list of dictionaries\n",
    "\n",
    "df['genres'] = df['genres'].astype(str)\n",
    "df['production_companies'] = df['production_companies'].astype(str)\n",
    "df['cast'] = df['cast'].astype(str)\n",
    "df['keywords'] = df['keywords'].astype(str)\n",
    "df['production_countries'] = df['production_countries'].astype(str)\n",
    "# df['belongs_to_collection'] = df['belongs_to_collection'].astype(str)\n",
    "\n",
    "df['genres'] = df['genres'].apply(lambda x: ast.literal_eval(x))\n",
    "df['production_companies'] = df['production_companies'].apply(lambda x: ast.literal_eval(x))\n",
    "df['cast'] = df['cast'].apply(lambda x: ast.literal_eval(x))\n",
    "df['keywords'] = df['keywords'].apply(lambda x: ast.literal_eval(x))\n",
    "df['production_countries'] = df['production_countries'].apply(lambda x: ast.literal_eval(x))\n",
    "# df['belongs_to_collection'] = df['belongs_to_collection'].apply(lambda x: ast.literal_eval(x))"
   ]
  },
  {
   "cell_type": "markdown",
   "metadata": {},
   "source": [
    "Some adjustments"
   ]
  },
  {
   "cell_type": "code",
   "execution_count": 47,
   "metadata": {},
   "outputs": [
    {
     "name": "stdout",
     "output_type": "stream",
     "text": [
      "       title\n",
      "2134  Subway\n",
      "                     title\n",
      "1242  King Solomon's Mines\n"
     ]
    }
   ],
   "source": [
    "#Extra adjustments for the points discovered later during the process\n",
    "\n",
    "#replace FRF budget by USD\n",
    "df.loc[df['id'] == 10656, ['budget']] = 25974\n",
    "print(df.loc[df['id'] == 10656, ['title']])\n",
    "\n",
    "#wrong revenue\n",
    "df.loc[df['id'] == 9838, ['revenue']] = 15057465\n",
    "print(df.loc[df['id'] == 9838, ['title']])"
   ]
  },
  {
   "cell_type": "code",
   "execution_count": 49,
   "metadata": {},
   "outputs": [],
   "source": [
    "# Analize release date\n",
    "# We see that there is a strong tendency of grouth movies produced every year\n",
    "df['year'] = df['release_date'].dt.year\n",
    "df['year_month'] = pd.to_datetime(df['release_date']).dt.to_period('M')"
   ]
  },
  {
   "cell_type": "markdown",
   "metadata": {},
   "source": [
    "### Choosing time period"
   ]
  },
  {
   "cell_type": "code",
   "execution_count": 50,
   "metadata": {},
   "outputs": [
    {
     "name": "stdout",
     "output_type": "stream",
     "text": [
      "(3030, 16)\n"
     ]
    }
   ],
   "source": [
    "#Slicing our data \n",
    "\n",
    "df = df[(df['year']>=2000) & (df['year']<2017)]\n",
    "\n",
    "print(df.shape)"
   ]
  },
  {
   "cell_type": "code",
   "execution_count": 51,
   "metadata": {
    "scrolled": false
   },
   "outputs": [
    {
     "data": {
      "text/html": [
       "<div>\n",
       "<style scoped>\n",
       "    .dataframe tbody tr th:only-of-type {\n",
       "        vertical-align: middle;\n",
       "    }\n",
       "\n",
       "    .dataframe tbody tr th {\n",
       "        vertical-align: top;\n",
       "    }\n",
       "\n",
       "    .dataframe thead th {\n",
       "        text-align: right;\n",
       "    }\n",
       "</style>\n",
       "<table border=\"1\" class=\"dataframe\">\n",
       "  <thead>\n",
       "    <tr style=\"text-align: right;\">\n",
       "      <th></th>\n",
       "      <th>id</th>\n",
       "      <th>title</th>\n",
       "      <th>budget</th>\n",
       "      <th>revenue</th>\n",
       "      <th>production_countries</th>\n",
       "      <th>release_date</th>\n",
       "      <th>popularity</th>\n",
       "      <th>vote_average</th>\n",
       "      <th>vote_count</th>\n",
       "      <th>genres</th>\n",
       "      <th>production_companies</th>\n",
       "      <th>belongs_to_collection</th>\n",
       "      <th>cast</th>\n",
       "      <th>keywords</th>\n",
       "      <th>year</th>\n",
       "      <th>year_month</th>\n",
       "    </tr>\n",
       "  </thead>\n",
       "  <tbody>\n",
       "    <tr>\n",
       "      <th>3</th>\n",
       "      <td>121173</td>\n",
       "      <td>Voracious</td>\n",
       "      <td>11178</td>\n",
       "      <td>34659.00</td>\n",
       "      <td>[{'iso_3166_1': 'PH', 'name': 'Philippines'}]</td>\n",
       "      <td>2012-09-05</td>\n",
       "      <td>0.08</td>\n",
       "      <td>8.00</td>\n",
       "      <td>1.00</td>\n",
       "      <td>[{'id': 35, 'name': 'Comedy'}, {'id': 18, 'nam...</td>\n",
       "      <td>[{'name': 'APT Entertainment', 'id': 8355}, {'...</td>\n",
       "      <td>0</td>\n",
       "      <td>[{'cast_id': 16, 'character': 'Rene', 'credit_...</td>\n",
       "      <td>[{'id': 4694, 'name': 'staged death'}, {'id': ...</td>\n",
       "      <td>2012</td>\n",
       "      <td>2012-09</td>\n",
       "    </tr>\n",
       "    <tr>\n",
       "      <th>5</th>\n",
       "      <td>110428</td>\n",
       "      <td>Camille Claudel 1915</td>\n",
       "      <td>3512454</td>\n",
       "      <td>115860.00</td>\n",
       "      <td>[{'iso_3166_1': 'FR', 'name': 'France'}]</td>\n",
       "      <td>2013-03-13</td>\n",
       "      <td>0.11</td>\n",
       "      <td>7.00</td>\n",
       "      <td>20.00</td>\n",
       "      <td>[{'id': 18, 'name': 'Drama'}]</td>\n",
       "      <td>[{'name': 'Canal+', 'id': 5358}, {'name': 'Art...</td>\n",
       "      <td>0</td>\n",
       "      <td>[{'cast_id': 3, 'character': 'Camille Claudel'...</td>\n",
       "      <td>[{'id': 254, 'name': 'france'}, {'id': 745, 'n...</td>\n",
       "      <td>2013</td>\n",
       "      <td>2013-03</td>\n",
       "    </tr>\n",
       "    <tr>\n",
       "      <th>6</th>\n",
       "      <td>110428</td>\n",
       "      <td>Camille Claudel 1915</td>\n",
       "      <td>3512454</td>\n",
       "      <td>115860.00</td>\n",
       "      <td>[{'iso_3166_1': 'FR', 'name': 'France'}]</td>\n",
       "      <td>2013-03-13</td>\n",
       "      <td>0.11</td>\n",
       "      <td>7.00</td>\n",
       "      <td>20.00</td>\n",
       "      <td>[{'id': 18, 'name': 'Drama'}]</td>\n",
       "      <td>[{'name': 'Canal+', 'id': 5358}, {'name': 'Art...</td>\n",
       "      <td>0</td>\n",
       "      <td>[{'cast_id': 3, 'character': 'Camille Claudel'...</td>\n",
       "      <td>[{'id': 254, 'name': 'france'}, {'id': 745, 'n...</td>\n",
       "      <td>2013</td>\n",
       "      <td>2013-03</td>\n",
       "    </tr>\n",
       "    <tr>\n",
       "      <th>7</th>\n",
       "      <td>110428</td>\n",
       "      <td>Camille Claudel 1915</td>\n",
       "      <td>3512454</td>\n",
       "      <td>115860.00</td>\n",
       "      <td>[{'iso_3166_1': 'FR', 'name': 'France'}]</td>\n",
       "      <td>2013-03-13</td>\n",
       "      <td>0.11</td>\n",
       "      <td>7.00</td>\n",
       "      <td>20.00</td>\n",
       "      <td>[{'id': 18, 'name': 'Drama'}]</td>\n",
       "      <td>[{'name': 'Canal+', 'id': 5358}, {'name': 'Art...</td>\n",
       "      <td>0</td>\n",
       "      <td>[{'cast_id': 3, 'character': 'Camille Claudel'...</td>\n",
       "      <td>[{'id': 254, 'name': 'france'}, {'id': 745, 'n...</td>\n",
       "      <td>2013</td>\n",
       "      <td>2013-03</td>\n",
       "    </tr>\n",
       "    <tr>\n",
       "      <th>8</th>\n",
       "      <td>110428</td>\n",
       "      <td>Camille Claudel 1915</td>\n",
       "      <td>3512454</td>\n",
       "      <td>115860.00</td>\n",
       "      <td>[{'iso_3166_1': 'FR', 'name': 'France'}]</td>\n",
       "      <td>2013-03-13</td>\n",
       "      <td>0.11</td>\n",
       "      <td>7.00</td>\n",
       "      <td>20.00</td>\n",
       "      <td>[{'id': 18, 'name': 'Drama'}]</td>\n",
       "      <td>[{'name': 'Canal+', 'id': 5358}, {'name': 'Art...</td>\n",
       "      <td>0</td>\n",
       "      <td>[{'cast_id': 3, 'character': 'Camille Claudel'...</td>\n",
       "      <td>[{'id': 254, 'name': 'france'}, {'id': 745, 'n...</td>\n",
       "      <td>2013</td>\n",
       "      <td>2013-03</td>\n",
       "    </tr>\n",
       "  </tbody>\n",
       "</table>\n",
       "</div>"
      ],
      "text/plain": [
       "       id                 title   budget   revenue  \\\n",
       "3  121173             Voracious    11178  34659.00   \n",
       "5  110428  Camille Claudel 1915  3512454 115860.00   \n",
       "6  110428  Camille Claudel 1915  3512454 115860.00   \n",
       "7  110428  Camille Claudel 1915  3512454 115860.00   \n",
       "8  110428  Camille Claudel 1915  3512454 115860.00   \n",
       "\n",
       "                            production_countries release_date  popularity  \\\n",
       "3  [{'iso_3166_1': 'PH', 'name': 'Philippines'}]   2012-09-05        0.08   \n",
       "5       [{'iso_3166_1': 'FR', 'name': 'France'}]   2013-03-13        0.11   \n",
       "6       [{'iso_3166_1': 'FR', 'name': 'France'}]   2013-03-13        0.11   \n",
       "7       [{'iso_3166_1': 'FR', 'name': 'France'}]   2013-03-13        0.11   \n",
       "8       [{'iso_3166_1': 'FR', 'name': 'France'}]   2013-03-13        0.11   \n",
       "\n",
       "   vote_average  vote_count  \\\n",
       "3          8.00        1.00   \n",
       "5          7.00       20.00   \n",
       "6          7.00       20.00   \n",
       "7          7.00       20.00   \n",
       "8          7.00       20.00   \n",
       "\n",
       "                                              genres  \\\n",
       "3  [{'id': 35, 'name': 'Comedy'}, {'id': 18, 'nam...   \n",
       "5                      [{'id': 18, 'name': 'Drama'}]   \n",
       "6                      [{'id': 18, 'name': 'Drama'}]   \n",
       "7                      [{'id': 18, 'name': 'Drama'}]   \n",
       "8                      [{'id': 18, 'name': 'Drama'}]   \n",
       "\n",
       "                                production_companies belongs_to_collection  \\\n",
       "3  [{'name': 'APT Entertainment', 'id': 8355}, {'...                     0   \n",
       "5  [{'name': 'Canal+', 'id': 5358}, {'name': 'Art...                     0   \n",
       "6  [{'name': 'Canal+', 'id': 5358}, {'name': 'Art...                     0   \n",
       "7  [{'name': 'Canal+', 'id': 5358}, {'name': 'Art...                     0   \n",
       "8  [{'name': 'Canal+', 'id': 5358}, {'name': 'Art...                     0   \n",
       "\n",
       "                                                cast  \\\n",
       "3  [{'cast_id': 16, 'character': 'Rene', 'credit_...   \n",
       "5  [{'cast_id': 3, 'character': 'Camille Claudel'...   \n",
       "6  [{'cast_id': 3, 'character': 'Camille Claudel'...   \n",
       "7  [{'cast_id': 3, 'character': 'Camille Claudel'...   \n",
       "8  [{'cast_id': 3, 'character': 'Camille Claudel'...   \n",
       "\n",
       "                                            keywords  year year_month  \n",
       "3  [{'id': 4694, 'name': 'staged death'}, {'id': ...  2012    2012-09  \n",
       "5  [{'id': 254, 'name': 'france'}, {'id': 745, 'n...  2013    2013-03  \n",
       "6  [{'id': 254, 'name': 'france'}, {'id': 745, 'n...  2013    2013-03  \n",
       "7  [{'id': 254, 'name': 'france'}, {'id': 745, 'n...  2013    2013-03  \n",
       "8  [{'id': 254, 'name': 'france'}, {'id': 745, 'n...  2013    2013-03  "
      ]
     },
     "execution_count": 51,
     "metadata": {},
     "output_type": "execute_result"
    }
   ],
   "source": [
    "df.head(5)"
   ]
  },
  {
   "cell_type": "markdown",
   "metadata": {},
   "source": [
    "Kepping only movies which were produced in USA as the budget might be marked in US although in reality its not "
   ]
  },
  {
   "cell_type": "code",
   "execution_count": 54,
   "metadata": {},
   "outputs": [
    {
     "name": "stdout",
     "output_type": "stream",
     "text": [
      "Number of production countries:  68\n",
      "(2450, 16)\n"
     ]
    }
   ],
   "source": [
    "index_extractor = lambda df, field, value: [idx for idx, entries in enumerate(df[field]) for item in entries if value in item['name']]\n",
    "list_creator = lambda df, idx: [1 if i in idx else 0 for i in df.index]\n",
    "\n",
    "#Extracting list of countries\n",
    "l=[]\n",
    "for i, item in enumerate(df['production_countries']):\n",
    "    for cell in item:\n",
    "        l.append(cell['name'])\n",
    "p_name, p_count = np.unique(np.array(l), return_counts=True)\n",
    "\n",
    "prod = zip(p_name, p_count) # list of Unique Values along with occurrence Count\n",
    "prod = list(prod)\n",
    "prod = sorted(prod, key = lambda x: x[1], reverse = True)\n",
    "print('Number of production countries: ', len(prod))\n",
    "\n",
    "df = df.iloc[index_extractor(df, 'production_countries', 'United States of America'),:]\n",
    "\n",
    "print(df.shape)\n",
    "\n"
   ]
  },
  {
   "cell_type": "markdown",
   "metadata": {},
   "source": [
    "# Choosing the columns"
   ]
  },
  {
   "cell_type": "code",
   "execution_count": 55,
   "metadata": {},
   "outputs": [],
   "source": [
    "X = df[['budget', 'year', 'genres', 'production_companies', 'vote_average', 'popularity', 'revenue',  'vote_count', \n",
    "        'belongs_to_collection', 'cast']]\n",
    "# y = df['revenue']\n",
    "# X = X.reset_index(drop=True)\n",
    "# y = y.reset_index(drop=True)"
   ]
  },
  {
   "cell_type": "markdown",
   "metadata": {},
   "source": [
    "# Feature engineering"
   ]
  },
  {
   "cell_type": "markdown",
   "metadata": {},
   "source": [
    "### Budget"
   ]
  },
  {
   "cell_type": "code",
   "execution_count": 56,
   "metadata": {
    "scrolled": false
   },
   "outputs": [
    {
     "data": {
      "text/plain": [
       "(array([1.436e+03, 5.540e+02, 2.150e+02, 1.440e+02, 5.200e+01, 3.100e+01,\n",
       "        1.400e+01, 3.000e+00, 0.000e+00, 1.000e+00]),\n",
       " array([7.000000e+03, 3.800630e+07, 7.600560e+07, 1.140049e+08,\n",
       "        1.520042e+08, 1.900035e+08, 2.280028e+08, 2.660021e+08,\n",
       "        3.040014e+08, 3.420007e+08, 3.800000e+08]),\n",
       " <a list of 10 Patch objects>)"
      ]
     },
     "execution_count": 56,
     "metadata": {},
     "output_type": "execute_result"
    },
    {
     "data": {
      "image/png": "[encoded data removed]",
      "text/plain": [
       "<Figure size 432x288 with 1 Axes>"
      ]
     },
     "metadata": {},
     "output_type": "display_data"
    }
   ],
   "source": [
    "#plt.hist(X['budget'], alpha=0.5)\n",
    "#print(X.groupby('budget')['id'].count())\n",
    "\n",
    "#X['budget'] = np.log(X['budget'])\n",
    "plt.hist(X['budget'], alpha=0.5)"
   ]
  },
  {
   "cell_type": "markdown",
   "metadata": {},
   "source": [
    "Removing outliers"
   ]
  },
  {
   "cell_type": "code",
   "execution_count": 57,
   "metadata": {
    "scrolled": true
   },
   "outputs": [],
   "source": [
    "# print(X['budget'].describe())\n",
    "\n",
    "# mean_a = np.mean(X['budget'])\n",
    "# std_a = np.std(X['budget'])\n",
    "\n",
    "# X = X[(X['budget']>mean_a-3*std_a)&(X['budget']<mean_a+3*std_a)]\n",
    "\n",
    "# print('After removing outliers:')\n",
    "# print(X['budget'].describe())\n",
    "\n",
    "# plt.figure()\n",
    "# plt.hist(X['budget'])\n",
    "# plt.show"
   ]
  },
  {
   "cell_type": "markdown",
   "metadata": {},
   "source": [
    "### Revenue"
   ]
  },
  {
   "cell_type": "code",
   "execution_count": 58,
   "metadata": {},
   "outputs": [
    {
     "data": {
      "text/plain": [
       "(array([2.017e+03, 2.550e+02, 8.200e+01, 4.900e+01, 3.100e+01, 1.000e+01,\n",
       "        3.000e+00, 2.000e+00, 0.000e+00, 1.000e+00]),\n",
       " array([1.40400000e+03, 2.06823626e+08, 4.13645848e+08, 6.20468070e+08,\n",
       "        8.27290292e+08, 1.03411251e+09, 1.24093474e+09, 1.44775696e+09,\n",
       "        1.65457918e+09, 1.86140140e+09, 2.06822362e+09]),\n",
       " <a list of 10 Patch objects>)"
      ]
     },
     "execution_count": 58,
     "metadata": {},
     "output_type": "execute_result"
    },
    {
     "data": {
      "image/png": "[encoded data removed]",
      "text/plain": [
       "<Figure size 432x288 with 1 Axes>"
      ]
     },
     "metadata": {},
     "output_type": "display_data"
    }
   ],
   "source": [
    "#plt.hist(X['revenue'])\n",
    "\n",
    "#X['revenue'] = np.log(X['revenue'])\n",
    "plt.hist(X['revenue'], alpha=0.5)"
   ]
  },
  {
   "cell_type": "markdown",
   "metadata": {},
   "source": [
    "Removing outliers"
   ]
  },
  {
   "cell_type": "code",
   "execution_count": 59,
   "metadata": {},
   "outputs": [],
   "source": [
    "# print(X['revenue'].describe())\n",
    "\n",
    "# mean_a = np.mean(X['revenue'])\n",
    "# std_a = np.std(X['revenue'])\n",
    "\n",
    "# X = X[(X['revenue']>mean_a-3*std_a)&(X['revenue']<mean_a+3*std_a)]\n",
    "\n",
    "# print('After removing outliers:')\n",
    "# print(X['revenue'].describe())\n",
    "\n",
    "# plt.figure()\n",
    "# plt.hist(X['revenue'])\n",
    "# plt.show"
   ]
  },
  {
   "cell_type": "markdown",
   "metadata": {},
   "source": [
    "### Vote count"
   ]
  },
  {
   "cell_type": "code",
   "execution_count": 60,
   "metadata": {},
   "outputs": [
    {
     "data": {
      "text/plain": [
       "(array([773., 480., 287., 192., 140., 116.,  71.,  58.,  61.,  37.,  35.,\n",
       "         30.,  20.,  16.,  18.,  12.,  21.,  13.,   7.,   6.,  11.,   8.,\n",
       "          4.,   8.,   3.,   5.,   2.,   3.,   1.,   2.,   0.,   4.,   1.,\n",
       "          0.,   2.,   0.,   1.,   0.,   0.,   1.,   0.,   0.,   0.,   0.,\n",
       "          0.,   0.,   0.,   0.,   0.,   1.]),\n",
       " array([3.000000e+00, 2.844400e+02, 5.658800e+02, 8.473200e+02,\n",
       "        1.128760e+03, 1.410200e+03, 1.691640e+03, 1.973080e+03,\n",
       "        2.254520e+03, 2.535960e+03, 2.817400e+03, 3.098840e+03,\n",
       "        3.380280e+03, 3.661720e+03, 3.943160e+03, 4.224600e+03,\n",
       "        4.506040e+03, 4.787480e+03, 5.068920e+03, 5.350360e+03,\n",
       "        5.631800e+03, 5.913240e+03, 6.194680e+03, 6.476120e+03,\n",
       "        6.757560e+03, 7.039000e+03, 7.320440e+03, 7.601880e+03,\n",
       "        7.883320e+03, 8.164760e+03, 8.446200e+03, 8.727640e+03,\n",
       "        9.009080e+03, 9.290520e+03, 9.571960e+03, 9.853400e+03,\n",
       "        1.013484e+04, 1.041628e+04, 1.069772e+04, 1.097916e+04,\n",
       "        1.126060e+04, 1.154204e+04, 1.182348e+04, 1.210492e+04,\n",
       "        1.238636e+04, 1.266780e+04, 1.294924e+04, 1.323068e+04,\n",
       "        1.351212e+04, 1.379356e+04, 1.407500e+04]),\n",
       " <a list of 50 Patch objects>)"
      ]
     },
     "execution_count": 60,
     "metadata": {},
     "output_type": "execute_result"
    },
    {
     "data": {
      "image/png": "[encoded data removed]",
      "text/plain": [
       "<Figure size 432x288 with 1 Axes>"
      ]
     },
     "metadata": {},
     "output_type": "display_data"
    }
   ],
   "source": [
    "plt.hist(X['vote_count'], bins=50)"
   ]
  },
  {
   "cell_type": "markdown",
   "metadata": {},
   "source": [
    "### Vote average"
   ]
  },
  {
   "cell_type": "code",
   "execution_count": 61,
   "metadata": {},
   "outputs": [
    {
     "data": {
      "text/plain": [
       "(array([  1.,   0.,   0.,   0.,   1.,   0.,   4.,   1.,   0.,   1.,   2.,\n",
       "          3.,   2.,   5.,   5.,  11.,   5.,   5.,  27.,  17.,  19.,  24.,\n",
       "         35.,  37.,  42., 118.,  68.,  85.,  95.,  99., 118., 248., 121.,\n",
       "        117., 107., 105., 118., 231.,  95.,  75.,  86.,  46.,  55., 106.,\n",
       "         26.,  23.,  24.,  10.,  16.,  11.]),\n",
       " array([2.3  , 2.416, 2.532, 2.648, 2.764, 2.88 , 2.996, 3.112, 3.228,\n",
       "        3.344, 3.46 , 3.576, 3.692, 3.808, 3.924, 4.04 , 4.156, 4.272,\n",
       "        4.388, 4.504, 4.62 , 4.736, 4.852, 4.968, 5.084, 5.2  , 5.316,\n",
       "        5.432, 5.548, 5.664, 5.78 , 5.896, 6.012, 6.128, 6.244, 6.36 ,\n",
       "        6.476, 6.592, 6.708, 6.824, 6.94 , 7.056, 7.172, 7.288, 7.404,\n",
       "        7.52 , 7.636, 7.752, 7.868, 7.984, 8.1  ]),\n",
       " <a list of 50 Patch objects>)"
      ]
     },
     "execution_count": 61,
     "metadata": {},
     "output_type": "execute_result"
    },
    {
     "data": {
      "image/png": "[encoded data removed]",
      "text/plain": [
       "<Figure size 432x288 with 1 Axes>"
      ]
     },
     "metadata": {},
     "output_type": "display_data"
    }
   ],
   "source": [
    "plt.hist(X['vote_average'], bins=50)"
   ]
  },
  {
   "cell_type": "markdown",
   "metadata": {},
   "source": [
    "Removing outliers"
   ]
  },
  {
   "cell_type": "code",
   "execution_count": 62,
   "metadata": {
    "scrolled": false
   },
   "outputs": [
    {
     "name": "stdout",
     "output_type": "stream",
     "text": [
      "count   2450.00\n",
      "mean       6.16\n",
      "std        0.81\n",
      "min        2.30\n",
      "25%        5.62\n",
      "50%        6.20\n",
      "75%        6.70\n",
      "max        8.10\n",
      "Name: vote_average, dtype: float64\n",
      "After removing outliers:\n",
      "count   2436.00\n",
      "mean       6.17\n",
      "std        0.78\n",
      "min        3.80\n",
      "25%        5.70\n",
      "50%        6.20\n",
      "75%        6.70\n",
      "max        8.10\n",
      "Name: vote_average, dtype: float64\n"
     ]
    },
    {
     "data": {
      "text/plain": [
       "<function matplotlib.pyplot.show(*args, **kw)>"
      ]
     },
     "execution_count": 62,
     "metadata": {},
     "output_type": "execute_result"
    },
    {
     "data": {
      "image/png": "[encoded data removed]",
      "text/plain": [
       "<Figure size 432x288 with 1 Axes>"
      ]
     },
     "metadata": {},
     "output_type": "display_data"
    }
   ],
   "source": [
    "print(X['vote_average'].describe())\n",
    "\n",
    "mean_a = np.mean(X['vote_average'])\n",
    "std_a = np.std(X['vote_average'])\n",
    "\n",
    "X = X[(X['vote_average']>mean_a-3*std_a)&(X['vote_average']<mean_a+3*std_a)]\n",
    "\n",
    "print('After removing outliers:')\n",
    "print(X['vote_average'].describe())\n",
    "\n",
    "plt.figure()\n",
    "plt.hist(X['vote_average'])\n",
    "plt.show"
   ]
  },
  {
   "cell_type": "code",
   "execution_count": null,
   "metadata": {},
   "outputs": [],
   "source": []
  },
  {
   "cell_type": "markdown",
   "metadata": {},
   "source": [
    "### Popularity"
   ]
  },
  {
   "cell_type": "code",
   "execution_count": 63,
   "metadata": {},
   "outputs": [
    {
     "data": {
      "text/plain": [
       "(array([ 190., 1027.,  789.,  261.,   82.,   38.,   27.,   12.,    6.,\n",
       "           4.]),\n",
       " array([ 0.262437 ,  4.9688598,  9.6752826, 14.3817054, 19.0881282,\n",
       "        23.794551 , 28.5009738, 33.2073966, 37.9138194, 42.6202422,\n",
       "        47.326665 ]),\n",
       " <a list of 10 Patch objects>)"
      ]
     },
     "execution_count": 63,
     "metadata": {},
     "output_type": "execute_result"
    },
    {
     "data": {
      "image/png": "[encoded data removed]",
      "text/plain": [
       "<Figure size 432x288 with 1 Axes>"
      ]
     },
     "metadata": {},
     "output_type": "display_data"
    }
   ],
   "source": [
    "plt.hist(X['popularity'])"
   ]
  },
  {
   "cell_type": "markdown",
   "metadata": {},
   "source": [
    "Removing outliers"
   ]
  },
  {
   "cell_type": "code",
   "execution_count": 64,
   "metadata": {},
   "outputs": [
    {
     "name": "stdout",
     "output_type": "stream",
     "text": [
      "count   2436.00\n",
      "mean      10.76\n",
      "std        5.71\n",
      "min        0.26\n",
      "25%        7.22\n",
      "50%        9.69\n",
      "75%       12.92\n",
      "max       47.33\n",
      "Name: popularity, dtype: float64\n",
      "After removing outliers:\n",
      "count   2383.00\n",
      "mean      10.25\n",
      "std        4.57\n",
      "min        0.26\n",
      "25%        7.15\n",
      "50%        9.58\n",
      "75%       12.69\n",
      "max       27.76\n",
      "Name: popularity, dtype: float64\n"
     ]
    },
    {
     "data": {
      "text/plain": [
       "<function matplotlib.pyplot.show(*args, **kw)>"
      ]
     },
     "execution_count": 64,
     "metadata": {},
     "output_type": "execute_result"
    },
    {
     "data": {
      "image/png": "[encoded data removed]",
      "text/plain": [
       "<Figure size 432x288 with 1 Axes>"
      ]
     },
     "metadata": {},
     "output_type": "display_data"
    }
   ],
   "source": [
    "\n",
    "print(X['popularity'].describe())\n",
    "\n",
    "mean_a = np.mean(X['popularity'])\n",
    "std_a = np.std(X['popularity'])\n",
    "\n",
    "X = X[(X['popularity']>mean_a-3*std_a)&(X['popularity']<mean_a+3*std_a)]\n",
    "\n",
    "print('After removing outliers:')\n",
    "print(X['popularity'].describe())\n",
    "\n",
    "plt.figure()\n",
    "plt.hist(X['popularity'])\n",
    "plt.show"
   ]
  },
  {
   "cell_type": "markdown",
   "metadata": {},
   "source": [
    "### Genres"
   ]
  },
  {
   "cell_type": "code",
   "execution_count": 65,
   "metadata": {},
   "outputs": [],
   "source": [
    "# del X['genres']"
   ]
  },
  {
   "cell_type": "code",
   "execution_count": 66,
   "metadata": {},
   "outputs": [],
   "source": [
    "index_extractor = lambda df, field, value: [idx for idx, entries in enumerate(df[field]) for item in entries if value in item['name']]\n",
    "list_creator = lambda df, idx: [1 if i in idx else 0 for i in df.index]\n",
    "\n",
    "#Extracting list of genres\n",
    "l=[]\n",
    "for i, item in enumerate(X['genres']):\n",
    "    for cell in item:\n",
    "        l.append(cell['name'])\n",
    "g_name, g_count = np.unique(np.array(l), return_counts=True)\n",
    "\n",
    "# Create column for every genre and assigh 1 or 0\n",
    "for genre in g_name:\n",
    "    idx = index_extractor(X, 'genres', genre)\n",
    "    c = list_creator(X, idx)\n",
    "    genre_col = pd.Series(c)    \n",
    "    X = X.assign(genre_col=genre_col.values)\n",
    "    X.rename(columns={'genre_col':'{0}'.format(genre)}, inplace=True)\n",
    "del X['genres']\n",
    "  \n"
   ]
  },
  {
   "cell_type": "markdown",
   "metadata": {},
   "source": [
    "### Belongs_to_collection"
   ]
  },
  {
   "cell_type": "code",
   "execution_count": 67,
   "metadata": {},
   "outputs": [],
   "source": [
    "X['collection'] = [0 if col == '0' else 1 for col in X['belongs_to_collection']]\n",
    "del X['belongs_to_collection']"
   ]
  },
  {
   "cell_type": "code",
   "execution_count": 68,
   "metadata": {},
   "outputs": [],
   "source": [
    "# index_extractor = lambda df, field, value: [idx for idx, item in enumerate(df[field]) if (type(item) != int) if value in item['name']]\n",
    "# list_creator = lambda df, idx: [1 if i in idx else 0 for i in df.index]\n",
    "\n",
    "# #Extracting list of collections\n",
    "# l=[]\n",
    "# for i, item in enumerate(X['belongs_to_collection']):\n",
    "#     if type(item) != int:\n",
    "#         #print(type(item))\n",
    "#         #item = ast.literal_eval(item)\n",
    "#         #print(type(item))\n",
    "#         l.append(item['name'])\n",
    "# p_name, p_count = np.unique(np.array(l), return_counts=True)\n",
    "\n",
    "# prod = zip(p_name, p_count) # list of Unique Values along with occurrence Count\n",
    "# prod = list(prod)\n",
    "# prod = sorted(prod, key = lambda x: x[1], reverse = True)\n",
    "# print('Number of collections: ', len(prod))\n",
    "    \n",
    "# #100 collections with the most number of movies in it\n",
    "# p_name = []\n",
    "# p_count = []\n",
    "# for i in range(50):\n",
    "#     p_name.append(prod[i][0])\n",
    "#     p_count.append(prod[i][1])"
   ]
  },
  {
   "cell_type": "code",
   "execution_count": 69,
   "metadata": {},
   "outputs": [],
   "source": [
    "# # Create column for every collection and assigh 1 or 0\n",
    "# for prod in p_name:\n",
    "#     idx = index_extractor(X, 'belongs_to_collection', prod)\n",
    "#     c = list_creator(X, idx)\n",
    "#     prod_col = pd.Series(c)    \n",
    "#     X = X.assign(prod_col=prod_col.values)\n",
    "#     X.rename(columns={'prod_col':'{0}'.format(prod)}, inplace=True)\n",
    "# del X['belongs_to_collection']"
   ]
  },
  {
   "cell_type": "markdown",
   "metadata": {},
   "source": [
    "### Production Companies"
   ]
  },
  {
   "cell_type": "code",
   "execution_count": 70,
   "metadata": {},
   "outputs": [
    {
     "name": "stdout",
     "output_type": "stream",
     "text": [
      "Number of production companies:  2855\n"
     ]
    }
   ],
   "source": [
    "index_extractor = lambda df, field, value: [idx for idx, entries in enumerate(df[field]) for item in entries if value in item['name']]\n",
    "list_creator = lambda df, idx: [1 if i in idx else 0 for i in df.index]\n",
    "\n",
    "#Extracting list of genres\n",
    "l=[]\n",
    "for i, item in enumerate(X['production_companies']):\n",
    "    for cell in item:\n",
    "        l.append(cell['name'])\n",
    "p_name, p_count = np.unique(np.array(l), return_counts=True)\n",
    "\n",
    "prod = zip(p_name, p_count) # list of Unique Values along with occurrence Count\n",
    "prod = list(prod)\n",
    "prod = sorted(prod, key = lambda x: x[1], reverse = True)\n",
    "print('Number of production companies: ', len(prod))\n",
    "    \n",
    "#100 companies which produced the hihest number of movies\n",
    "p_name = []\n",
    "p_count = []\n",
    "for i in range(100):\n",
    "    p_name.append(prod[i][0])\n",
    "    p_count.append(prod[i][1])"
   ]
  },
  {
   "cell_type": "code",
   "execution_count": 71,
   "metadata": {},
   "outputs": [],
   "source": [
    "# Create column for every production companie and assigh 1 or 0\n",
    "for prod in p_name:\n",
    "    idx = index_extractor(X, 'production_companies', prod)\n",
    "    c = list_creator(X, idx)\n",
    "    prod_col = pd.Series(c)    \n",
    "    X = X.assign(prod_col=prod_col.values)\n",
    "    X.rename(columns={'prod_col':'{0}'.format(prod)}, inplace=True)\n",
    "del X['production_companies']"
   ]
  },
  {
   "cell_type": "markdown",
   "metadata": {},
   "source": [
    "### Cast"
   ]
  },
  {
   "cell_type": "code",
   "execution_count": 72,
   "metadata": {},
   "outputs": [],
   "source": [
    "# del X['cast']"
   ]
  },
  {
   "cell_type": "code",
   "execution_count": 73,
   "metadata": {},
   "outputs": [
    {
     "name": "stdout",
     "output_type": "stream",
     "text": [
      "Number of actors:  33656\n",
      "87 87\n"
     ]
    }
   ],
   "source": [
    "\n",
    "#Extracting list of actors\n",
    "l=[]\n",
    "for i, item in enumerate(X['cast']):\n",
    "    for cell in item:\n",
    "        l.append(cell['name'])\n",
    "a_name, a_count = np.unique(np.array(l), return_counts=True)\n",
    "idx=[]\n",
    "for i, item  in enumerate(a_name):\n",
    "    if (item == 'Kar') | (item == 'George') | (a_name[i] == 'Mario') | (a_name[i] == 'Jack') | (a_name[i] == 'Charle') | (a_name[i] == 'Charlie') | (a_name[i] == 'Mars') | (a_name[i] == 'Terry') | (a_name[i] == 'King') | (a_name[i] == 'Sim') | (a_name[i] == 'Elli') | (a_name[i] == 'Carlos') | (a_name[i] == 'Sandra') | (a_name[i] == 'Justin') | (a_name[i] == 'Shane') | (a_name[i] == 'Angela') | (a_name[i] == 'Eve') | (a_name[i] == 'Foster') | (a_name[i] == 'Take') | (a_name[i] == 'Andrea') | (a_name[i] == 'Ade') | (a_name[i] == 'Tiffany') | (a_name[i] == 'Zoë'):\n",
    "        idx.append(i)\n",
    "    \n",
    "a_name = np.delete(a_name, idx)\n",
    "a_count = np.delete(a_count, idx)\n",
    "\n",
    "act = zip(a_name, a_count) # list of Unique Values along with occurrence Count\n",
    "act = list(act)\n",
    "act = sorted(act, key = lambda x: x[1], reverse = True)\n",
    "print('Number of actors: ', len(act))\n",
    "\n",
    "#100 companies which produced the hihest number of movies\n",
    "a_name = []\n",
    "a_count = []\n",
    "\n",
    "for i in range(len(act)):\n",
    "    if act[i][1] >20:\n",
    "        a_name.append(act[i][0])\n",
    "        a_count.append(act[i][1])\n",
    "\n",
    "        \n",
    "print(len(a_name), len(a_count))\n",
    "# plt.figure(figsize=(16,6))\n",
    "# x_pos = range(len(a_name))\n",
    "# plt.bar(x_pos,a_count, align='center', alpha=0.5)\n",
    "# plt.xticks(x_pos, a_name, rotation='vertical')"
   ]
  },
  {
   "cell_type": "code",
   "execution_count": 74,
   "metadata": {},
   "outputs": [],
   "source": [
    "index_extractor = lambda df, field, value: [idx for idx, entries in enumerate(df[field]) for item in entries if value in item['name']]\n",
    "list_creator = lambda df, idx: [1 if i in idx else 0 for i in df.index]\n",
    "# Create column for every actor and assigh 1 or 0\n",
    "for actor in a_name:\n",
    "    idx = index_extractor(X, 'cast', actor)\n",
    "    c = list_creator(X, idx)\n",
    "    prod_col = pd.Series(c)    \n",
    "    X = X.assign(prod_col=prod_col.values)\n",
    "    X.rename(columns={'prod_col':'{0}'.format(actor)}, inplace=True)\n",
    "del X['cast']"
   ]
  },
  {
   "cell_type": "code",
   "execution_count": 75,
   "metadata": {},
   "outputs": [
    {
     "data": {
      "text/html": [
       "<div>\n",
       "<style scoped>\n",
       "    .dataframe tbody tr th:only-of-type {\n",
       "        vertical-align: middle;\n",
       "    }\n",
       "\n",
       "    .dataframe tbody tr th {\n",
       "        vertical-align: top;\n",
       "    }\n",
       "\n",
       "    .dataframe thead th {\n",
       "        text-align: right;\n",
       "    }\n",
       "</style>\n",
       "<table border=\"1\" class=\"dataframe\">\n",
       "  <thead>\n",
       "    <tr style=\"text-align: right;\">\n",
       "      <th></th>\n",
       "      <th>budget</th>\n",
       "      <th>year</th>\n",
       "      <th>vote_average</th>\n",
       "      <th>popularity</th>\n",
       "      <th>revenue</th>\n",
       "      <th>vote_count</th>\n",
       "      <th>Action</th>\n",
       "      <th>Adventure</th>\n",
       "      <th>Animation</th>\n",
       "      <th>Comedy</th>\n",
       "      <th>Crime</th>\n",
       "      <th>Documentary</th>\n",
       "      <th>...</th>\n",
       "      <th>Brendan Gleeson</th>\n",
       "      <th>Brian Cox</th>\n",
       "      <th>Ed Harris</th>\n",
       "      <th>Julianne Moore</th>\n",
       "      <th>Kevin Hart</th>\n",
       "      <th>Luis Guzmán</th>\n",
       "      <th>Mark Ruffalo</th>\n",
       "      <th>Michael Peña</th>\n",
       "      <th>Peter Sarsgaard</th>\n",
       "      <th>Susan Sarandon</th>\n",
       "      <th>Terrence Howard</th>\n",
       "      <th>Tom Hanks</th>\n",
       "    </tr>\n",
       "  </thead>\n",
       "  <tbody>\n",
       "    <tr>\n",
       "      <th>20</th>\n",
       "      <td>2000000</td>\n",
       "      <td>2005</td>\n",
       "      <td>4.80</td>\n",
       "      <td>0.26</td>\n",
       "      <td>16344.00</td>\n",
       "      <td>6.00</td>\n",
       "      <td>0</td>\n",
       "      <td>0</td>\n",
       "      <td>0</td>\n",
       "      <td>0</td>\n",
       "      <td>0</td>\n",
       "      <td>0</td>\n",
       "      <td>...</td>\n",
       "      <td>0</td>\n",
       "      <td>0</td>\n",
       "      <td>0</td>\n",
       "      <td>0</td>\n",
       "      <td>0</td>\n",
       "      <td>0</td>\n",
       "      <td>0</td>\n",
       "      <td>0</td>\n",
       "      <td>0</td>\n",
       "      <td>0</td>\n",
       "      <td>0</td>\n",
       "      <td>0</td>\n",
       "    </tr>\n",
       "    <tr>\n",
       "      <th>34</th>\n",
       "      <td>250000</td>\n",
       "      <td>2010</td>\n",
       "      <td>5.50</td>\n",
       "      <td>0.39</td>\n",
       "      <td>23859.00</td>\n",
       "      <td>3.00</td>\n",
       "      <td>0</td>\n",
       "      <td>0</td>\n",
       "      <td>0</td>\n",
       "      <td>0</td>\n",
       "      <td>0</td>\n",
       "      <td>1</td>\n",
       "      <td>...</td>\n",
       "      <td>0</td>\n",
       "      <td>0</td>\n",
       "      <td>0</td>\n",
       "      <td>0</td>\n",
       "      <td>0</td>\n",
       "      <td>0</td>\n",
       "      <td>0</td>\n",
       "      <td>0</td>\n",
       "      <td>0</td>\n",
       "      <td>0</td>\n",
       "      <td>0</td>\n",
       "      <td>0</td>\n",
       "    </tr>\n",
       "    <tr>\n",
       "      <th>35</th>\n",
       "      <td>58000000</td>\n",
       "      <td>2013</td>\n",
       "      <td>6.10</td>\n",
       "      <td>0.39</td>\n",
       "      <td>44000000.00</td>\n",
       "      <td>1691.00</td>\n",
       "      <td>0</td>\n",
       "      <td>0</td>\n",
       "      <td>0</td>\n",
       "      <td>0</td>\n",
       "      <td>0</td>\n",
       "      <td>0</td>\n",
       "      <td>...</td>\n",
       "      <td>0</td>\n",
       "      <td>0</td>\n",
       "      <td>0</td>\n",
       "      <td>0</td>\n",
       "      <td>0</td>\n",
       "      <td>0</td>\n",
       "      <td>0</td>\n",
       "      <td>0</td>\n",
       "      <td>0</td>\n",
       "      <td>0</td>\n",
       "      <td>0</td>\n",
       "      <td>0</td>\n",
       "    </tr>\n",
       "    <tr>\n",
       "      <th>38</th>\n",
       "      <td>60000000</td>\n",
       "      <td>2010</td>\n",
       "      <td>5.80</td>\n",
       "      <td>0.45</td>\n",
       "      <td>300228084.00</td>\n",
       "      <td>1382.00</td>\n",
       "      <td>0</td>\n",
       "      <td>0</td>\n",
       "      <td>0</td>\n",
       "      <td>0</td>\n",
       "      <td>0</td>\n",
       "      <td>0</td>\n",
       "      <td>...</td>\n",
       "      <td>0</td>\n",
       "      <td>0</td>\n",
       "      <td>0</td>\n",
       "      <td>0</td>\n",
       "      <td>0</td>\n",
       "      <td>0</td>\n",
       "      <td>0</td>\n",
       "      <td>0</td>\n",
       "      <td>0</td>\n",
       "      <td>0</td>\n",
       "      <td>0</td>\n",
       "      <td>0</td>\n",
       "    </tr>\n",
       "    <tr>\n",
       "      <th>39</th>\n",
       "      <td>2500000</td>\n",
       "      <td>2007</td>\n",
       "      <td>7.10</td>\n",
       "      <td>0.46</td>\n",
       "      <td>71904.00</td>\n",
       "      <td>7.00</td>\n",
       "      <td>0</td>\n",
       "      <td>0</td>\n",
       "      <td>0</td>\n",
       "      <td>0</td>\n",
       "      <td>0</td>\n",
       "      <td>0</td>\n",
       "      <td>...</td>\n",
       "      <td>0</td>\n",
       "      <td>0</td>\n",
       "      <td>0</td>\n",
       "      <td>0</td>\n",
       "      <td>0</td>\n",
       "      <td>0</td>\n",
       "      <td>0</td>\n",
       "      <td>0</td>\n",
       "      <td>0</td>\n",
       "      <td>0</td>\n",
       "      <td>0</td>\n",
       "      <td>0</td>\n",
       "    </tr>\n",
       "  </tbody>\n",
       "</table>\n",
       "<p>5 rows × 213 columns</p>\n",
       "</div>"
      ],
      "text/plain": [
       "      budget  year  vote_average  popularity      revenue  vote_count  Action  \\\n",
       "20   2000000  2005          4.80        0.26     16344.00        6.00       0   \n",
       "34    250000  2010          5.50        0.39     23859.00        3.00       0   \n",
       "35  58000000  2013          6.10        0.39  44000000.00     1691.00       0   \n",
       "38  60000000  2010          5.80        0.45 300228084.00     1382.00       0   \n",
       "39   2500000  2007          7.10        0.46     71904.00        7.00       0   \n",
       "\n",
       "    Adventure  Animation  Comedy  Crime  Documentary    ...      \\\n",
       "20          0          0       0      0            0    ...       \n",
       "34          0          0       0      0            1    ...       \n",
       "35          0          0       0      0            0    ...       \n",
       "38          0          0       0      0            0    ...       \n",
       "39          0          0       0      0            0    ...       \n",
       "\n",
       "    Brendan Gleeson  Brian Cox  Ed Harris  Julianne Moore  Kevin Hart  \\\n",
       "20                0          0          0               0           0   \n",
       "34                0          0          0               0           0   \n",
       "35                0          0          0               0           0   \n",
       "38                0          0          0               0           0   \n",
       "39                0          0          0               0           0   \n",
       "\n",
       "    Luis Guzmán  Mark Ruffalo  Michael Peña  Peter Sarsgaard  Susan Sarandon  \\\n",
       "20            0             0             0                0               0   \n",
       "34            0             0             0                0               0   \n",
       "35            0             0             0                0               0   \n",
       "38            0             0             0                0               0   \n",
       "39            0             0             0                0               0   \n",
       "\n",
       "    Terrence Howard  Tom Hanks  \n",
       "20                0          0  \n",
       "34                0          0  \n",
       "35                0          0  \n",
       "38                0          0  \n",
       "39                0          0  \n",
       "\n",
       "[5 rows x 213 columns]"
      ]
     },
     "execution_count": 75,
     "metadata": {},
     "output_type": "execute_result"
    }
   ],
   "source": [
    "X.head(5)"
   ]
  },
  {
   "cell_type": "markdown",
   "metadata": {},
   "source": [
    "# Saving to the file"
   ]
  },
  {
   "cell_type": "code",
   "execution_count": 76,
   "metadata": {},
   "outputs": [],
   "source": [
    "X.head(5)\n",
    "X.to_csv('data/X_16.csv', index=False)"
   ]
  },
  {
   "cell_type": "markdown",
   "metadata": {},
   "source": [
    "# Prediction"
   ]
  },
  {
   "cell_type": "code",
   "execution_count": 77,
   "metadata": {},
   "outputs": [
    {
     "data": {
      "text/html": [
       "<div>\n",
       "<style scoped>\n",
       "    .dataframe tbody tr th:only-of-type {\n",
       "        vertical-align: middle;\n",
       "    }\n",
       "\n",
       "    .dataframe tbody tr th {\n",
       "        vertical-align: top;\n",
       "    }\n",
       "\n",
       "    .dataframe thead th {\n",
       "        text-align: right;\n",
       "    }\n",
       "</style>\n",
       "<table border=\"1\" class=\"dataframe\">\n",
       "  <thead>\n",
       "    <tr style=\"text-align: right;\">\n",
       "      <th></th>\n",
       "      <th>budget</th>\n",
       "      <th>year</th>\n",
       "      <th>vote_average</th>\n",
       "      <th>popularity</th>\n",
       "      <th>vote_count</th>\n",
       "      <th>Action</th>\n",
       "      <th>Adventure</th>\n",
       "      <th>Animation</th>\n",
       "      <th>Comedy</th>\n",
       "      <th>Crime</th>\n",
       "      <th>Documentary</th>\n",
       "      <th>Drama</th>\n",
       "      <th>...</th>\n",
       "      <th>Brendan Gleeson</th>\n",
       "      <th>Brian Cox</th>\n",
       "      <th>Ed Harris</th>\n",
       "      <th>Julianne Moore</th>\n",
       "      <th>Kevin Hart</th>\n",
       "      <th>Luis Guzmán</th>\n",
       "      <th>Mark Ruffalo</th>\n",
       "      <th>Michael Peña</th>\n",
       "      <th>Peter Sarsgaard</th>\n",
       "      <th>Susan Sarandon</th>\n",
       "      <th>Terrence Howard</th>\n",
       "      <th>Tom Hanks</th>\n",
       "    </tr>\n",
       "  </thead>\n",
       "  <tbody>\n",
       "    <tr>\n",
       "      <th>0</th>\n",
       "      <td>2000000</td>\n",
       "      <td>2005</td>\n",
       "      <td>4.80</td>\n",
       "      <td>0.26</td>\n",
       "      <td>6.00</td>\n",
       "      <td>0</td>\n",
       "      <td>0</td>\n",
       "      <td>0</td>\n",
       "      <td>0</td>\n",
       "      <td>0</td>\n",
       "      <td>0</td>\n",
       "      <td>1</td>\n",
       "      <td>...</td>\n",
       "      <td>0</td>\n",
       "      <td>0</td>\n",
       "      <td>0</td>\n",
       "      <td>0</td>\n",
       "      <td>0</td>\n",
       "      <td>0</td>\n",
       "      <td>0</td>\n",
       "      <td>0</td>\n",
       "      <td>0</td>\n",
       "      <td>0</td>\n",
       "      <td>0</td>\n",
       "      <td>0</td>\n",
       "    </tr>\n",
       "    <tr>\n",
       "      <th>1</th>\n",
       "      <td>250000</td>\n",
       "      <td>2010</td>\n",
       "      <td>5.50</td>\n",
       "      <td>0.39</td>\n",
       "      <td>3.00</td>\n",
       "      <td>0</td>\n",
       "      <td>0</td>\n",
       "      <td>0</td>\n",
       "      <td>0</td>\n",
       "      <td>0</td>\n",
       "      <td>1</td>\n",
       "      <td>0</td>\n",
       "      <td>...</td>\n",
       "      <td>0</td>\n",
       "      <td>0</td>\n",
       "      <td>0</td>\n",
       "      <td>0</td>\n",
       "      <td>0</td>\n",
       "      <td>0</td>\n",
       "      <td>0</td>\n",
       "      <td>0</td>\n",
       "      <td>0</td>\n",
       "      <td>0</td>\n",
       "      <td>0</td>\n",
       "      <td>0</td>\n",
       "    </tr>\n",
       "    <tr>\n",
       "      <th>2</th>\n",
       "      <td>58000000</td>\n",
       "      <td>2013</td>\n",
       "      <td>6.10</td>\n",
       "      <td>0.39</td>\n",
       "      <td>1691.00</td>\n",
       "      <td>0</td>\n",
       "      <td>0</td>\n",
       "      <td>0</td>\n",
       "      <td>0</td>\n",
       "      <td>0</td>\n",
       "      <td>0</td>\n",
       "      <td>1</td>\n",
       "      <td>...</td>\n",
       "      <td>0</td>\n",
       "      <td>0</td>\n",
       "      <td>0</td>\n",
       "      <td>0</td>\n",
       "      <td>0</td>\n",
       "      <td>0</td>\n",
       "      <td>0</td>\n",
       "      <td>0</td>\n",
       "      <td>0</td>\n",
       "      <td>0</td>\n",
       "      <td>0</td>\n",
       "      <td>0</td>\n",
       "    </tr>\n",
       "    <tr>\n",
       "      <th>3</th>\n",
       "      <td>60000000</td>\n",
       "      <td>2010</td>\n",
       "      <td>5.80</td>\n",
       "      <td>0.45</td>\n",
       "      <td>1382.00</td>\n",
       "      <td>0</td>\n",
       "      <td>0</td>\n",
       "      <td>0</td>\n",
       "      <td>0</td>\n",
       "      <td>0</td>\n",
       "      <td>0</td>\n",
       "      <td>1</td>\n",
       "      <td>...</td>\n",
       "      <td>0</td>\n",
       "      <td>0</td>\n",
       "      <td>0</td>\n",
       "      <td>0</td>\n",
       "      <td>0</td>\n",
       "      <td>0</td>\n",
       "      <td>0</td>\n",
       "      <td>0</td>\n",
       "      <td>0</td>\n",
       "      <td>0</td>\n",
       "      <td>0</td>\n",
       "      <td>0</td>\n",
       "    </tr>\n",
       "    <tr>\n",
       "      <th>4</th>\n",
       "      <td>2500000</td>\n",
       "      <td>2007</td>\n",
       "      <td>7.10</td>\n",
       "      <td>0.46</td>\n",
       "      <td>7.00</td>\n",
       "      <td>0</td>\n",
       "      <td>0</td>\n",
       "      <td>0</td>\n",
       "      <td>0</td>\n",
       "      <td>0</td>\n",
       "      <td>0</td>\n",
       "      <td>0</td>\n",
       "      <td>...</td>\n",
       "      <td>0</td>\n",
       "      <td>0</td>\n",
       "      <td>0</td>\n",
       "      <td>0</td>\n",
       "      <td>0</td>\n",
       "      <td>0</td>\n",
       "      <td>0</td>\n",
       "      <td>0</td>\n",
       "      <td>0</td>\n",
       "      <td>0</td>\n",
       "      <td>0</td>\n",
       "      <td>0</td>\n",
       "    </tr>\n",
       "  </tbody>\n",
       "</table>\n",
       "<p>5 rows × 212 columns</p>\n",
       "</div>"
      ],
      "text/plain": [
       "     budget  year  vote_average  popularity  vote_count  Action  Adventure  \\\n",
       "0   2000000  2005          4.80        0.26        6.00       0          0   \n",
       "1    250000  2010          5.50        0.39        3.00       0          0   \n",
       "2  58000000  2013          6.10        0.39     1691.00       0          0   \n",
       "3  60000000  2010          5.80        0.45     1382.00       0          0   \n",
       "4   2500000  2007          7.10        0.46        7.00       0          0   \n",
       "\n",
       "   Animation  Comedy  Crime  Documentary  Drama    ...      Brendan Gleeson  \\\n",
       "0          0       0      0            0      1    ...                    0   \n",
       "1          0       0      0            1      0    ...                    0   \n",
       "2          0       0      0            0      1    ...                    0   \n",
       "3          0       0      0            0      1    ...                    0   \n",
       "4          0       0      0            0      0    ...                    0   \n",
       "\n",
       "   Brian Cox  Ed Harris  Julianne Moore  Kevin Hart  Luis Guzmán  \\\n",
       "0          0          0               0           0            0   \n",
       "1          0          0               0           0            0   \n",
       "2          0          0               0           0            0   \n",
       "3          0          0               0           0            0   \n",
       "4          0          0               0           0            0   \n",
       "\n",
       "   Mark Ruffalo  Michael Peña  Peter Sarsgaard  Susan Sarandon  \\\n",
       "0             0             0                0               0   \n",
       "1             0             0                0               0   \n",
       "2             0             0                0               0   \n",
       "3             0             0                0               0   \n",
       "4             0             0                0               0   \n",
       "\n",
       "   Terrence Howard  Tom Hanks  \n",
       "0                0          0  \n",
       "1                0          0  \n",
       "2                0          0  \n",
       "3                0          0  \n",
       "4                0          0  \n",
       "\n",
       "[5 rows x 212 columns]"
      ]
     },
     "execution_count": 77,
     "metadata": {},
     "output_type": "execute_result"
    }
   ],
   "source": [
    "y = X['revenue']\n",
    "del X['revenue']\n",
    "#del X['year']\n",
    "\n",
    "#X = pd.DataFrame(normalize(X, axis=0))\n",
    "\n",
    "X = X.reset_index(drop=True)\n",
    "y = y.reset_index(drop=True)\n",
    "X.head(5)"
   ]
  },
  {
   "cell_type": "code",
   "execution_count": 78,
   "metadata": {},
   "outputs": [
    {
     "name": "stdout",
     "output_type": "stream",
     "text": [
      "cross_val_score 0.6352861032317622\n"
     ]
    }
   ],
   "source": [
    "scores = cross_val_score(RandomForestRegressor(500), X, y, cv=10)\n",
    "print('cross_val_score', np.mean(scores))"
   ]
  },
  {
   "cell_type": "markdown",
   "metadata": {},
   "source": [
    "### Grid Search"
   ]
  },
  {
   "cell_type": "code",
   "execution_count": 79,
   "metadata": {},
   "outputs": [],
   "source": [
    "# from sklearn.model_selection import GridSearchCV\n",
    "# # Create the parameter grid based on the results of random search \n",
    "# param_grid = {\n",
    "# #    'bootstrap': [True],\n",
    "# #    'max_depth': [80, 90, 100, 110],\n",
    "# #    'max_features': [2, 3],\n",
    "# #    'min_samples_leaf': [3, 4, 5],\n",
    "# #    'min_samples_split': [8, 10, 12],\n",
    "#     'n_estimators': [100, 200, 300, 500, 1000]\n",
    "# }\n",
    "# # Create a based model\n",
    "# rf = RandomForestRegressor()\n",
    "# grid_search = GridSearchCV(estimator = rf, param_grid = param_grid, cv = 3, n_jobs = -1, verbose = 2)\n",
    "# grid_search.fit(X, y)\n",
    "# print(grid_search.best_params_)\n",
    "# print(grid_search.best_score_)\n",
    "# print(grid_search.best_estimator_)"
   ]
  },
  {
   "cell_type": "code",
   "execution_count": 80,
   "metadata": {},
   "outputs": [
    {
     "name": "stdout",
     "output_type": "stream",
     "text": [
      "MODEL RandomForestRegressor\n"
     ]
    },
    {
     "data": {
      "image/png": "[encoded data removed]",
      "text/plain": [
       "<Figure size 864x432 with 1 Axes>"
      ]
     },
     "metadata": {},
     "output_type": "display_data"
    },
    {
     "data": {
      "image/png": "[encoded data removed]",
      "text/plain": [
       "<Figure size 864x432 with 1 Axes>"
      ]
     },
     "metadata": {},
     "output_type": "display_data"
    }
   ],
   "source": [
    "models = [ ('RandomForestRegressor', RandomForestRegressor(n_estimators=300, n_jobs=-1)),\n",
    "           # ('Ridge Regressor', Ridge(alpha=1.0, copy_X=True, fit_intercept=True, max_iter=None, normalize=False, random_state=None, solver='auto', tol=0.001))\n",
    "]\n",
    "#('GradientBoosting', GradientBoostingRegressor()),\n",
    "#('LinearRegression', LinearRegression()),\n",
    "#('LassoRegressor', Lasso(alpha=0.1)),\n",
    "#('RandomForestRegressor10', RandomForestRegressor(n_estimators=10)),\n",
    "#('DecisionTreeRegressor', DecisionTreeRegressor())\n",
    "#('KNeighborsRegressor', KNeighborsRegressor(5))\n",
    "\n",
    "#('SVMRegressor', SVR()), - Slow - check the optimal C (find the function)\n",
    "#('GaussianRegressor',GaussianProcessRegressor()),\n",
    "#('SGDRegressor', SGDRegressor(), - bad results, check the parameters\n",
    "\n",
    "k = 10\n",
    "results = {}\n",
    "for m in models:\n",
    "    print('MODEL', m[0])\n",
    "    results[m[0]] = {'mae':[], 'rmse':[]}\n",
    "    kf = KFold(n_splits=k)\n",
    "    for train_index, test_index in kf.split(X):\n",
    "        X_train_k, X_test_k = X.values[train_index], X.values[test_index]\n",
    "        y_train_k, y_test_k = y.values[train_index], y.values[test_index]\n",
    "        model = m[1]\n",
    "        model.fit(X_train_k, y_train_k.ravel())\n",
    "        y_pred = model.predict(X_test_k)\n",
    "        mae = mean_absolute_error(y_test_k, y_pred)\n",
    "        rmse = np.sqrt(mean_squared_error(y_test_k, y_pred))\n",
    "        results[m[0]]['mae'].append(mae)\n",
    "        results[m[0]]['rmse'].append(rmse)\n",
    "        \n",
    "for metric in ['mae', 'rmse']:\n",
    "    values = []\n",
    "    labels = []\n",
    "    for model, result_values in results.items():\n",
    "        for m, v in result_values.items():\n",
    "            if m == metric:\n",
    "                labels.append(model)\n",
    "                values.append(v)\n",
    "    plt.figure(figsize=(12,6))\n",
    "    plt.title(metric)\n",
    "    plt.boxplot(values)\n",
    "    plt.xticks(range(1, len(labels)+1), labels, rotation='horizontal')\n",
    "    plt.show()"
   ]
  },
  {
   "cell_type": "code",
   "execution_count": 81,
   "metadata": {},
   "outputs": [
    {
     "name": "stdout",
     "output_type": "stream",
     "text": [
      "X_train:  (1596, 212) y_train: (1596,) \n",
      "X_test:  (787, 212) y_test:  (787,)\n"
     ]
    }
   ],
   "source": [
    "X_train, X_test, y_train, y_test = train_test_split(X, y, test_size=0.33, random_state=42)\n",
    "print('X_train: ', X_train.shape, 'y_train:', y_train.shape, '\\nX_test: ', X_test.shape, 'y_test: ', y_test.shape)\n",
    "#print(X_train.head(5))\n",
    "#model = LinearRegression()\n",
    "model = RandomForestRegressor(500)\n",
    "model.fit(X_train, y_train)\n",
    "y_pred = model.predict(X_test)"
   ]
  },
  {
   "cell_type": "code",
   "execution_count": 82,
   "metadata": {},
   "outputs": [
    {
     "name": "stdout",
     "output_type": "stream",
     "text": [
      "MAE 49141016.96088946\n"
     ]
    },
    {
     "data": {
      "image/png": "[encoded data removed]",
      "text/plain": [
       "<Figure size 432x288 with 1 Axes>"
      ]
     },
     "metadata": {},
     "output_type": "display_data"
    }
   ],
   "source": [
    "# Evaluate the model using the Mean Absolute Error\n",
    "from sklearn.metrics import mean_absolute_error\n",
    "print('MAE', mean_absolute_error(y_test, y_pred))\n",
    "\n",
    "# plot the results\n",
    "plt.scatter(y_test, y_pred, alpha=0.3)\n",
    "plt.show()"
   ]
  },
  {
   "cell_type": "markdown",
   "metadata": {},
   "source": [
    "### Feature Importances"
   ]
  },
  {
   "cell_type": "code",
   "execution_count": 83,
   "metadata": {},
   "outputs": [
    {
     "name": "stdout",
     "output_type": "stream",
     "text": [
      "RandomForestRegressor(bootstrap=True, criterion='mse', max_depth=None,\n",
      "           max_features='auto', max_leaf_nodes=None,\n",
      "           min_impurity_decrease=0.0, min_impurity_split=None,\n",
      "           min_samples_leaf=1, min_samples_split=2,\n",
      "           min_weight_fraction_leaf=0.0, n_estimators=500, n_jobs=None,\n",
      "           oob_score=False, random_state=None, verbose=0, warm_start=False)\n",
      "<class 'pandas.core.frame.DataFrame'>\n",
      "                                          0    1\n",
      "4                                vote_count 0.42\n",
      "0                                    budget 0.42\n",
      "3                                popularity 0.07\n",
      "1                                      year 0.03\n",
      "2                              vote_average 0.03\n",
      "24                               collection 0.02\n",
      "21                                 Thriller 0.00\n",
      "9                                     Crime 0.00\n",
      "8                                    Comedy 0.00\n",
      "5                                    Action 0.00\n",
      "29   Twentieth Century Fox Film Corporation 0.00\n",
      "196                            Sam Rockwell 0.00\n",
      "11                                    Drama 0.00\n",
      "60                         Lions Gate Films 0.00\n",
      "108                              EuropaCorp 0.00\n",
      "12                                   Family 0.00\n",
      "16                                   Horror 0.00\n",
      "6                                 Adventure 0.00\n",
      "20                          Science Fiction 0.00\n",
      "211                               Tom Hanks 0.00\n",
      "191                             Keith David 0.00\n",
      "75                    Vertigo Entertainment 0.00\n",
      "50                  Lakeshore Entertainment 0.00\n",
      "28                        Columbia Pictures 0.00\n",
      "18                                  Mystery 0.00\n",
      "19                                  Romance 0.00\n",
      "27                       Paramount Pictures 0.00\n",
      "7                                 Animation 0.00\n",
      "17                                    Music 0.00\n",
      "37                Metro-Goldwyn-Mayer (MGM) 0.00\n",
      "..                                      ...  ...\n",
      "119                               Bad Robot 0.00\n",
      "90                 Morgan Creek Productions 0.00\n",
      "91                           Platinum Dunes 0.00\n",
      "168                     Matthew McConaughey 0.00\n",
      "190                           Gerard Butler 0.00\n",
      "53                            Original Film 0.00\n",
      "183                           Aaron Eckhart 0.00\n",
      "79                  Ingenious Film Partners 0.00\n",
      "73                        NPV Entertainment 0.00\n",
      "194                             Naomi Watts 0.00\n",
      "81                       Apatow Productions 0.00\n",
      "202                               Ed Harris 0.00\n",
      "101                        Mandate Pictures 0.00\n",
      "52                     New Regency Pictures 0.00\n",
      "162                            Kristen Wiig 0.00\n",
      "120                             BenderSpink 0.00\n",
      "85                                IM Global 0.00\n",
      "99                    Endgame Entertainment 0.00\n",
      "98                                BBC Films 0.00\n",
      "78                Castle Rock Entertainment 0.00\n",
      "195                         Octavia Spencer 0.00\n",
      "203                          Julianne Moore 0.00\n",
      "167                           Ewan McGregor 0.00\n",
      "166                          David Koechner 0.00\n",
      "111                         Ingenious Media 0.00\n",
      "131                          Robert De Niro 0.00\n",
      "121                  Big Screen Productions 0.00\n",
      "109                      Franchise Pictures 0.00\n",
      "123                   Exclusive Media Group 0.00\n",
      "14                                  Foreign 0.00\n",
      "\n",
      "[212 rows x 2 columns]\n",
      "['Science Fiction', 'Tom Hanks', 'Keith David', 'Vertigo Entertainment', 'Lakeshore Entertainment', 'Columbia Pictures', 'Mystery', 'Romance', 'Paramount Pictures', 'Animation', 'Music', 'Metro-Goldwyn-Mayer (MGM)', 'Fantasy', 'Warner Bros.', 'Brad Pitt', 'Julia Roberts', 'Pixar Animation Studios', 'Miramax Films', 'Happy Madison Productions', 'Nickelodeon Movies', 'Ken Jeong', 'Matt Damon', 'Dune Entertainment', 'Walt Disney Pictures', 'Mad Chance', 'TSG Entertainment', 'Willem Dafoe', 'Universal Pictures', 'Columbia Pictures Corporation', 'Anne Hathaway', 'Summit Entertainment', 'Imagine Entertainment', 'Di Bonaventura Pictures', 'George Clooney', 'Revolution Studios', 'Twentieth Century Fox Animation', 'GK Films', 'Drew Barrymore', 'Fox Searchlight Pictures', 'Michael Peña', 'Relativity Media', 'Hugh Jackman', 'Jack Black', 'Bill Hader', 'Lionsgate', 'MTV Films', 'History', 'Angelina Jolie', 'Ciarán Hinds', 'John Leguizamo', 'New Line Cinema', 'Valhalla Motion Pictures', 'Touchstone Pictures', 'Bruce McGill', 'DreamWorks Animation', 'Escape Artists', 'Screen Gems', 'Colin Farrell', 'Working Title Films', 'Epsilon Motion Pictures', 'Morgan Freeman', 'Kevin Hart', 'Anonymous Content', 'Seth Rogen', 'Fox 2000 Pictures', 'John Goodman', 'Bruce Willis', 'Cameron Diaz', 'Dimension Films', 'Michael Shannon', 'Village Roadshow Pictures', 'Bill Murray', 'Dennis Quaid', 'The Weinstein Company', 'StudioCanal', 'Jason Statham', 'J.K. Simmons', 'Anthony Mackie', 'DreamWorks SKG', 'Blumhouse Productions', 'Intermedia Films', 'Scott Free Productions', 'Millennium Films', 'Canal+', 'Worldview Entertainment', 'Luis Guzmán', 'Davis Entertainment', 'Woody Harrelson', 'Plan B Entertainment', 'Alec Baldwin', 'Brendan Gleeson', 'Elizabeth Banks', 'Studio Babelsberg', 'Brian Cox', 'Mark Wahlberg', 'Viola Davis', 'LStar Capital', 'Walden Media', 'War', 'Samuel L. Jackson', 'Ben Kingsley', 'Saturn Films', 'Legendary Pictures', 'Peter Sarsgaard', 'Marvel Enterprises', 'Liam Neeson', 'Documentary', 'Nu Image Films', 'Marc Platt Productions', 'Kristen Stewart', 'Nicolas Cage', 'Paul Rudd', 'Overbrook Entertainment', 'Bill Nighy', 'Stanley Tucci', 'Justin Long', 'Ben Affleck', 'Owen Wilson', 'Alan Tudyk', 'Participant Media', 'Dune Entertainment III', 'Jason Bateman', 'Steve Buscemi', 'Meryl Streep', 'Jennifer Aniston', 'Vince Vaughn', 'Amy Adams', 'Focus Features', 'Ben Stiller', 'Silver Pictures', 'Emmett/Furla Films', 'TriStar Pictures', 'Paul Giamatti', 'Mark Ruffalo', 'Imagenation Abu Dhabi FZ', 'James Franco', 'Dentsu', 'Malpaso Productions', 'Double Feature Films', 'Amblin Entertainment', 'Regency Enterprises', 'Western', 'Channing Tatum', 'Kennedy/Marshall Company, The', 'Spyglass Entertainment', 'Terrence Howard', 'Film4', 'Stephen Root', 'Jonah Hill', 'Scott Rudin Productions', \"Donners' Company\", 'Alcon Entertainment', 'Jerry Bruckheimer Films', 'Will Ferrell', 'James Marsden', 'Susan Sarandon', 'Adam Sandler', '21 Laps Entertainment', 'Bradley Cooper', 'Steve Carell', 'Johnny Depp', 'Dwayne Johnson', 'Richard Jenkins', 'FilmNation Entertainment', 'Bad Robot', 'Morgan Creek Productions', 'Platinum Dunes', 'Matthew McConaughey', 'Gerard Butler', 'Original Film', 'Aaron Eckhart', 'Ingenious Film Partners', 'NPV Entertainment', 'Naomi Watts', 'Apatow Productions', 'Ed Harris', 'Mandate Pictures', 'New Regency Pictures', 'Kristen Wiig', 'BenderSpink', 'IM Global', 'Endgame Entertainment', 'BBC Films', 'Castle Rock Entertainment', 'Octavia Spencer', 'Julianne Moore', 'Ewan McGregor', 'David Koechner', 'Ingenious Media', 'Robert De Niro', 'Big Screen Productions', 'Franchise Pictures', 'Exclusive Media Group', 'Foreign']\n"
     ]
    }
   ],
   "source": [
    "print(model)\n",
    "fi = []\n",
    "for i, col in enumerate(X_test.columns):\n",
    "    fi.append([col, model.feature_importances_[i]])\n",
    "features = pd.DataFrame(fi).sort_values(1, ascending=False)\n",
    "print(type(features))\n",
    "print(features)\n",
    "useless = list(features.loc[features[1] < 0.0003, 0])\n",
    "print(useless)"
   ]
  },
  {
   "cell_type": "markdown",
   "metadata": {},
   "source": [
    "### Error Analysis"
   ]
  },
  {
   "cell_type": "code",
   "execution_count": 84,
   "metadata": {},
   "outputs": [
    {
     "name": "stdout",
     "output_type": "stream",
     "text": [
      "budget                                    787\n",
      "year                                      787\n",
      "vote_average                              787\n",
      "popularity                                787\n",
      "vote_count                                787\n",
      "Action                                    787\n",
      "Adventure                                 787\n",
      "Animation                                 787\n",
      "Comedy                                    787\n",
      "Crime                                     787\n",
      "Documentary                               787\n",
      "Drama                                     787\n",
      "Family                                    787\n",
      "Fantasy                                   787\n",
      "Foreign                                   787\n",
      "History                                   787\n",
      "Horror                                    787\n",
      "Music                                     787\n",
      "Mystery                                   787\n",
      "Romance                                   787\n",
      "Science Fiction                           787\n",
      "Thriller                                  787\n",
      "War                                       787\n",
      "Western                                   787\n",
      "collection                                787\n",
      "Universal Pictures                        787\n",
      "Warner Bros.                              787\n",
      "Paramount Pictures                        787\n",
      "Columbia Pictures                         787\n",
      "Twentieth Century Fox Film Corporation    787\n",
      "                                         ... \n",
      "Woody Harrelson                           787\n",
      "Aaron Eckhart                             787\n",
      "Adam Sandler                              787\n",
      "Amy Adams                                 787\n",
      "Angelina Jolie                            787\n",
      "Ben Affleck                               787\n",
      "Bill Nighy                                787\n",
      "Dennis Quaid                              787\n",
      "Gerard Butler                             787\n",
      "Keith David                               787\n",
      "Kristen Stewart                           787\n",
      "Meryl Streep                              787\n",
      "Naomi Watts                               787\n",
      "Octavia Spencer                           787\n",
      "Sam Rockwell                              787\n",
      "Steve Buscemi                             787\n",
      "Viola Davis                               787\n",
      "Anne Hathaway                             787\n",
      "Brendan Gleeson                           787\n",
      "Brian Cox                                 787\n",
      "Ed Harris                                 787\n",
      "Julianne Moore                            787\n",
      "Kevin Hart                                787\n",
      "Luis Guzmán                               787\n",
      "Mark Ruffalo                              787\n",
      "Michael Peña                              787\n",
      "Peter Sarsgaard                           787\n",
      "Susan Sarandon                            787\n",
      "Terrence Howard                           787\n",
      "Tom Hanks                                 787\n",
      "Length: 212, dtype: int64\n",
      "787\n",
      "         budget  year  vote_average  popularity  vote_count  Action  \\\n",
      "486    10000000  2009          6.10        6.63      212.00       1   \n",
      "2380  125000000  2016          5.40       27.54     2776.00       0   \n",
      "1708    4000000  2016          4.50       12.19      162.00       0   \n",
      "2000   30000000  2010          5.30       14.31      518.00       0   \n",
      "1656   25000000  2000          6.40       11.84      104.00       0   \n",
      "\n",
      "      Adventure  Animation  Comedy  Crime  Documentary  Drama     ...       \\\n",
      "486           0          0       0      0            0      1     ...        \n",
      "2380          0          0       0      0            0      0     ...        \n",
      "1708          0          0       0      0            0      0     ...        \n",
      "2000          0          0       0      0            0      0     ...        \n",
      "1656          0          0       0      0            0      0     ...        \n",
      "\n",
      "      Julianne Moore  Kevin Hart  Luis Guzmán  Mark Ruffalo  Michael Peña  \\\n",
      "486                0           0            0             0             0   \n",
      "2380               0           0            0             0             0   \n",
      "1708               0           0            0             0             0   \n",
      "2000               0           0            0             0             0   \n",
      "1656               0           0            0             0             0   \n",
      "\n",
      "      Peter Sarsgaard  Susan Sarandon  Terrence Howard  Tom Hanks  \\\n",
      "486                 0               0                0          0   \n",
      "2380                0               0                0          0   \n",
      "1708                0               0                0          0   \n",
      "2000                0               0                0          0   \n",
      "1656                0               0                0          0   \n",
      "\n",
      "          revenue   prediction    abs_error  \n",
      "486    7022728.00   6338640.77    684087.23  \n",
      "2380 240697856.00 604757495.29 364059639.29  \n",
      "1708  10898293.00  10472051.41    426241.59  \n",
      "2000  55583804.00  55044491.31    539312.69  \n",
      "1656    260562.00  40263323.80  40002761.80  \n",
      "\n",
      "[5 rows x 215 columns]\n"
     ]
    }
   ],
   "source": [
    "df_new = pd.DataFrame(X_test).copy()\n",
    "print(df_new.count())\n",
    "print(len(y_pred))\n",
    "df_new['revenue'] = y_test\n",
    "df_new['prediction'] = y_pred\n",
    "df_new['abs_error'] = abs(df_new['revenue']-df_new['prediction'])\n",
    "df_new.sort_values(by='abs_error', ascending=False).round()\n",
    "print(df_new.head())"
   ]
  },
  {
   "cell_type": "code",
   "execution_count": 85,
   "metadata": {},
   "outputs": [
    {
     "data": {
      "text/plain": [
       "Drama                                    -0.16\n",
       "Action                                   -0.14\n",
       "Comedy                                   -0.13\n",
       "Adventure                                -0.12\n",
       "Thriller                                 -0.12\n",
       "Crime                                    -0.10\n",
       "Universal Pictures                       -0.10\n",
       "Mystery                                  -0.09\n",
       "Romance                                  -0.09\n",
       "Science Fiction                          -0.08\n",
       "Family                                   -0.08\n",
       "Horror                                   -0.07\n",
       "Paramount Pictures                       -0.07\n",
       "Fantasy                                  -0.06\n",
       "Warner Bros.                             -0.06\n",
       "Columbia Pictures                        -0.06\n",
       "Dimension Films                          -0.06\n",
       "Dune Entertainment                       -0.06\n",
       "Fox Searchlight Pictures                 -0.05\n",
       "Relativity Media                         -0.05\n",
       "Twentieth Century Fox Film Corporation   -0.05\n",
       "TriStar Pictures                         -0.05\n",
       "Dwayne Johnson                           -0.05\n",
       "Emmett/Furla Films                       -0.05\n",
       "Kennedy/Marshall Company, The            -0.05\n",
       "Film4                                    -0.05\n",
       "Columbia Pictures Corporation            -0.04\n",
       "J.K. Simmons                             -0.04\n",
       "Bradley Cooper                           -0.04\n",
       "Anonymous Content                        -0.04\n",
       "                                          ... \n",
       "Julianne Moore                           -0.00\n",
       "Metro-Goldwyn-Mayer (MGM)                -0.00\n",
       "Endgame Entertainment                    -0.00\n",
       "Screen Gems                              -0.00\n",
       "Revolution Studios                       -0.00\n",
       "Franchise Pictures                       -0.00\n",
       "Ben Stiller                              -0.00\n",
       "Exclusive Media Group                    -0.00\n",
       "Jason Bateman                            -0.00\n",
       "DreamWorks Animation                      0.00\n",
       "Ingenious Media                           0.00\n",
       "DreamWorks SKG                            0.00\n",
       "LStar Capital                             0.00\n",
       "Focus Features                            0.00\n",
       "Mark Ruffalo                              0.01\n",
       "Matthew McConaughey                       0.01\n",
       "Silver Pictures                           0.01\n",
       "Davis Entertainment                       0.02\n",
       "Cameron Diaz                              0.02\n",
       "Ed Harris                                 0.03\n",
       "BenderSpink                               0.03\n",
       "year                                      0.08\n",
       "vote_average                              0.18\n",
       "collection                                0.32\n",
       "popularity                                0.40\n",
       "budget                                    0.50\n",
       "vote_count                                0.55\n",
       "prediction                                0.59\n",
       "revenue                                   0.71\n",
       "abs_error                                 1.00\n",
       "Name: abs_error, Length: 208, dtype: float64"
      ]
     },
     "execution_count": 85,
     "metadata": {},
     "output_type": "execute_result"
    }
   ],
   "source": [
    "df_error = df_new[df_new['abs_error']>1]\n",
    "#df_error.groupby()\n",
    "df_error.corr()['abs_error'].dropna().sort_values()"
   ]
  },
  {
   "cell_type": "code",
   "execution_count": null,
   "metadata": {},
   "outputs": [],
   "source": []
  }
 ],
 "metadata": {
  "anaconda-cloud": {},
  "kernelspec": {
   "display_name": "Python 3",
   "language": "python",
   "name": "python3"
  },
  "language_info": {
   "codemirror_mode": {
    "name": "ipython",
    "version": 3
   },
   "file_extension": ".py",
   "mimetype": "text/x-python",
   "name": "python",
   "nbconvert_exporter": "python",
   "pygments_lexer": "ipython3",
   "version": "3.6.0"
  }
 },
 "nbformat": 4,
 "nbformat_minor": 1
}
