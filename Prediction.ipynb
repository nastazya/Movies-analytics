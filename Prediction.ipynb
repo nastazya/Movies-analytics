{
 "cells": [
  {
   "cell_type": "markdown",
   "metadata": {},
   "source": [
    "# Prediction of the movie revenue\n",
    "\n",
    "### This dataset *movies.csv* can be downloaded from Google drive: https://drive.google.com/drive/folders/1MwFoUvUp2St0Sjq0I9dlNIl_BXkw3fZU"
   ]
  },
  {
   "cell_type": "code",
   "execution_count": 1,
   "metadata": {},
   "outputs": [],
   "source": [
    "# import the library\n",
    "%matplotlib inline\n",
    "\n",
    "import ast\n",
    "import pandas as pd\n",
    "import numpy as np\n",
    "import scipy\n",
    "import matplotlib.pyplot as plt\n",
    "import seaborn as sns\n",
    "\n",
    "    \n",
    "from sklearn.linear_model import LinearRegression\n",
    "from sklearn.ensemble import RandomForestRegressor\n",
    "from sklearn.model_selection import train_test_split\n",
    "\n",
    "from sklearn.model_selection import KFold\n",
    "\n",
    "from sklearn.preprocessing import normalize\n",
    "from sklearn.preprocessing import StandardScaler\n",
    "\n",
    "from sklearn.model_selection import cross_val_score\n",
    "\n",
    "# sklearn :: evaluation metrics\n",
    "from sklearn.metrics import mean_absolute_error\n",
    "from sklearn.metrics import mean_squared_error\n",
    "\n",
    "# apply style to all the charts\n",
    "sns.set_style('whitegrid')\n",
    "\n",
    "# convert scientific notation to decimals\n",
    "pd.set_option('display.float_format', lambda x: '%.2f' % x)\n",
    "pd.set_option('display.max_columns', 24)"
   ]
  },
  {
   "cell_type": "markdown",
   "metadata": {},
   "source": [
    "# Reading the Data"
   ]
  },
  {
   "cell_type": "code",
   "execution_count": 2,
   "metadata": {},
   "outputs": [
    {
     "name": "stdout",
     "output_type": "stream",
     "text": [
      "id                                int64\n",
      "title                            object\n",
      "budget                            int64\n",
      "revenue                         float64\n",
      "production_countries             object\n",
      "release_date             datetime64[ns]\n",
      "popularity                      float64\n",
      "vote_average                    float64\n",
      "vote_count                      float64\n",
      "genres                           object\n",
      "production_companies             object\n",
      "belongs_to_collection            object\n",
      "cast                             object\n",
      "keywords                         object\n",
      "dtype: object\n"
     ]
    }
   ],
   "source": [
    "df = pd.read_csv('data/movies_new.csv')\n",
    "#df = pd.read_csv('data/movies.csv')\n",
    "df['release_date'] = pd.to_datetime(df['release_date'])\n",
    "print(df.dtypes)"
   ]
  },
  {
   "cell_type": "code",
   "execution_count": 3,
   "metadata": {},
   "outputs": [],
   "source": [
    "#Setting cast, production_companies, genres and keywords types to a list of dictionaries\n",
    "\n",
    "df['genres'] = df['genres'].astype(str)\n",
    "df['production_companies'] = df['production_companies'].astype(str)\n",
    "df['cast'] = df['cast'].astype(str)\n",
    "df['keywords'] = df['keywords'].astype(str)\n",
    "df['production_countries'] = df['production_countries'].astype(str)\n",
    "# df['belongs_to_collection'] = df['belongs_to_collection'].astype(str)\n",
    "\n",
    "df['genres'] = df['genres'].apply(lambda x: ast.literal_eval(x))\n",
    "df['production_companies'] = df['production_companies'].apply(lambda x: ast.literal_eval(x))\n",
    "df['cast'] = df['cast'].apply(lambda x: ast.literal_eval(x))\n",
    "df['keywords'] = df['keywords'].apply(lambda x: ast.literal_eval(x))\n",
    "df['production_countries'] = df['production_countries'].apply(lambda x: ast.literal_eval(x))\n",
    "# df['belongs_to_collection'] = df['belongs_to_collection'].apply(lambda x: ast.literal_eval(x))"
   ]
  },
  {
   "cell_type": "markdown",
   "metadata": {},
   "source": [
    "Some adjustments"
   ]
  },
  {
   "cell_type": "code",
   "execution_count": 4,
   "metadata": {},
   "outputs": [
    {
     "name": "stdout",
     "output_type": "stream",
     "text": [
      "       title\n",
      "2134  Subway\n",
      "                     title\n",
      "1242  King Solomon's Mines\n"
     ]
    }
   ],
   "source": [
    "#Extra adjustments for the points discovered later during the process\n",
    "\n",
    "#replace FRF budget by USD\n",
    "df.loc[df['id'] == 10656, ['budget']] = 25974\n",
    "print(df.loc[df['id'] == 10656, ['title']])\n",
    "\n",
    "#wrong revenue\n",
    "df.loc[df['id'] == 9838, ['revenue']] = 15057465\n",
    "print(df.loc[df['id'] == 9838, ['title']])"
   ]
  },
  {
   "cell_type": "code",
   "execution_count": 5,
   "metadata": {},
   "outputs": [],
   "source": [
    "# Analize release date\n",
    "# We see that there is a strong tendency of grouth movies produced every year\n",
    "df['year'] = df['release_date'].dt.year\n",
    "df['year_month'] = pd.to_datetime(df['release_date']).dt.to_period('M')"
   ]
  },
  {
   "cell_type": "markdown",
   "metadata": {},
   "source": [
    "### Choosing time period"
   ]
  },
  {
   "cell_type": "code",
   "execution_count": 6,
   "metadata": {},
   "outputs": [
    {
     "name": "stdout",
     "output_type": "stream",
     "text": [
      "(3044, 16)\n"
     ]
    }
   ],
   "source": [
    "#Slicing our data \n",
    "\n",
    "df = df[(df['year']>=2000) & (df['year']<2017)]\n",
    "\n",
    "print(df.shape)"
   ]
  },
  {
   "cell_type": "code",
   "execution_count": 7,
   "metadata": {
    "scrolled": false
   },
   "outputs": [
    {
     "data": {
      "text/html": [
       "<div>\n",
       "<style scoped>\n",
       "    .dataframe tbody tr th:only-of-type {\n",
       "        vertical-align: middle;\n",
       "    }\n",
       "\n",
       "    .dataframe tbody tr th {\n",
       "        vertical-align: top;\n",
       "    }\n",
       "\n",
       "    .dataframe thead th {\n",
       "        text-align: right;\n",
       "    }\n",
       "</style>\n",
       "<table border=\"1\" class=\"dataframe\">\n",
       "  <thead>\n",
       "    <tr style=\"text-align: right;\">\n",
       "      <th></th>\n",
       "      <th>id</th>\n",
       "      <th>title</th>\n",
       "      <th>budget</th>\n",
       "      <th>revenue</th>\n",
       "      <th>production_countries</th>\n",
       "      <th>release_date</th>\n",
       "      <th>popularity</th>\n",
       "      <th>vote_average</th>\n",
       "      <th>vote_count</th>\n",
       "      <th>genres</th>\n",
       "      <th>production_companies</th>\n",
       "      <th>belongs_to_collection</th>\n",
       "      <th>cast</th>\n",
       "      <th>keywords</th>\n",
       "      <th>year</th>\n",
       "      <th>year_month</th>\n",
       "    </tr>\n",
       "  </thead>\n",
       "  <tbody>\n",
       "    <tr>\n",
       "      <th>3</th>\n",
       "      <td>121173</td>\n",
       "      <td>Voracious</td>\n",
       "      <td>11178</td>\n",
       "      <td>34659.00</td>\n",
       "      <td>[{'iso_3166_1': 'PH', 'name': 'Philippines'}]</td>\n",
       "      <td>2012-09-05</td>\n",
       "      <td>0.08</td>\n",
       "      <td>8.00</td>\n",
       "      <td>1.00</td>\n",
       "      <td>[{'id': 35, 'name': 'Comedy'}, {'id': 18, 'nam...</td>\n",
       "      <td>[{'name': 'APT Entertainment', 'id': 8355}, {'...</td>\n",
       "      <td>0</td>\n",
       "      <td>[{'cast_id': 16, 'character': 'Rene', 'credit_...</td>\n",
       "      <td>[{'id': 4694, 'name': 'staged death'}, {'id': ...</td>\n",
       "      <td>2012</td>\n",
       "      <td>2012-09</td>\n",
       "    </tr>\n",
       "    <tr>\n",
       "      <th>5</th>\n",
       "      <td>110428</td>\n",
       "      <td>Camille Claudel 1915</td>\n",
       "      <td>3512454</td>\n",
       "      <td>115860.00</td>\n",
       "      <td>[{'iso_3166_1': 'FR', 'name': 'France'}]</td>\n",
       "      <td>2013-03-13</td>\n",
       "      <td>0.11</td>\n",
       "      <td>7.00</td>\n",
       "      <td>20.00</td>\n",
       "      <td>[{'id': 18, 'name': 'Drama'}]</td>\n",
       "      <td>[{'name': 'Canal+', 'id': 5358}, {'name': 'Art...</td>\n",
       "      <td>0</td>\n",
       "      <td>[{'cast_id': 3, 'character': 'Camille Claudel'...</td>\n",
       "      <td>[{'id': 254, 'name': 'france'}, {'id': 745, 'n...</td>\n",
       "      <td>2013</td>\n",
       "      <td>2013-03</td>\n",
       "    </tr>\n",
       "    <tr>\n",
       "      <th>6</th>\n",
       "      <td>110428</td>\n",
       "      <td>Camille Claudel 1915</td>\n",
       "      <td>3512454</td>\n",
       "      <td>115860.00</td>\n",
       "      <td>[{'iso_3166_1': 'FR', 'name': 'France'}]</td>\n",
       "      <td>2013-03-13</td>\n",
       "      <td>0.11</td>\n",
       "      <td>7.00</td>\n",
       "      <td>20.00</td>\n",
       "      <td>[{'id': 18, 'name': 'Drama'}]</td>\n",
       "      <td>[{'name': 'Canal+', 'id': 5358}, {'name': 'Art...</td>\n",
       "      <td>0</td>\n",
       "      <td>[{'cast_id': 3, 'character': 'Camille Claudel'...</td>\n",
       "      <td>[{'id': 254, 'name': 'france'}, {'id': 745, 'n...</td>\n",
       "      <td>2013</td>\n",
       "      <td>2013-03</td>\n",
       "    </tr>\n",
       "    <tr>\n",
       "      <th>7</th>\n",
       "      <td>110428</td>\n",
       "      <td>Camille Claudel 1915</td>\n",
       "      <td>3512454</td>\n",
       "      <td>115860.00</td>\n",
       "      <td>[{'iso_3166_1': 'FR', 'name': 'France'}]</td>\n",
       "      <td>2013-03-13</td>\n",
       "      <td>0.11</td>\n",
       "      <td>7.00</td>\n",
       "      <td>20.00</td>\n",
       "      <td>[{'id': 18, 'name': 'Drama'}]</td>\n",
       "      <td>[{'name': 'Canal+', 'id': 5358}, {'name': 'Art...</td>\n",
       "      <td>0</td>\n",
       "      <td>[{'cast_id': 3, 'character': 'Camille Claudel'...</td>\n",
       "      <td>[{'id': 254, 'name': 'france'}, {'id': 745, 'n...</td>\n",
       "      <td>2013</td>\n",
       "      <td>2013-03</td>\n",
       "    </tr>\n",
       "    <tr>\n",
       "      <th>8</th>\n",
       "      <td>110428</td>\n",
       "      <td>Camille Claudel 1915</td>\n",
       "      <td>3512454</td>\n",
       "      <td>115860.00</td>\n",
       "      <td>[{'iso_3166_1': 'FR', 'name': 'France'}]</td>\n",
       "      <td>2013-03-13</td>\n",
       "      <td>0.11</td>\n",
       "      <td>7.00</td>\n",
       "      <td>20.00</td>\n",
       "      <td>[{'id': 18, 'name': 'Drama'}]</td>\n",
       "      <td>[{'name': 'Canal+', 'id': 5358}, {'name': 'Art...</td>\n",
       "      <td>0</td>\n",
       "      <td>[{'cast_id': 3, 'character': 'Camille Claudel'...</td>\n",
       "      <td>[{'id': 254, 'name': 'france'}, {'id': 745, 'n...</td>\n",
       "      <td>2013</td>\n",
       "      <td>2013-03</td>\n",
       "    </tr>\n",
       "  </tbody>\n",
       "</table>\n",
       "</div>"
      ],
      "text/plain": [
       "       id                 title   budget   revenue  \\\n",
       "3  121173             Voracious    11178  34659.00   \n",
       "5  110428  Camille Claudel 1915  3512454 115860.00   \n",
       "6  110428  Camille Claudel 1915  3512454 115860.00   \n",
       "7  110428  Camille Claudel 1915  3512454 115860.00   \n",
       "8  110428  Camille Claudel 1915  3512454 115860.00   \n",
       "\n",
       "                            production_countries release_date  popularity  \\\n",
       "3  [{'iso_3166_1': 'PH', 'name': 'Philippines'}]   2012-09-05        0.08   \n",
       "5       [{'iso_3166_1': 'FR', 'name': 'France'}]   2013-03-13        0.11   \n",
       "6       [{'iso_3166_1': 'FR', 'name': 'France'}]   2013-03-13        0.11   \n",
       "7       [{'iso_3166_1': 'FR', 'name': 'France'}]   2013-03-13        0.11   \n",
       "8       [{'iso_3166_1': 'FR', 'name': 'France'}]   2013-03-13        0.11   \n",
       "\n",
       "   vote_average  vote_count  \\\n",
       "3          8.00        1.00   \n",
       "5          7.00       20.00   \n",
       "6          7.00       20.00   \n",
       "7          7.00       20.00   \n",
       "8          7.00       20.00   \n",
       "\n",
       "                                              genres  \\\n",
       "3  [{'id': 35, 'name': 'Comedy'}, {'id': 18, 'nam...   \n",
       "5                      [{'id': 18, 'name': 'Drama'}]   \n",
       "6                      [{'id': 18, 'name': 'Drama'}]   \n",
       "7                      [{'id': 18, 'name': 'Drama'}]   \n",
       "8                      [{'id': 18, 'name': 'Drama'}]   \n",
       "\n",
       "                                production_companies belongs_to_collection  \\\n",
       "3  [{'name': 'APT Entertainment', 'id': 8355}, {'...                     0   \n",
       "5  [{'name': 'Canal+', 'id': 5358}, {'name': 'Art...                     0   \n",
       "6  [{'name': 'Canal+', 'id': 5358}, {'name': 'Art...                     0   \n",
       "7  [{'name': 'Canal+', 'id': 5358}, {'name': 'Art...                     0   \n",
       "8  [{'name': 'Canal+', 'id': 5358}, {'name': 'Art...                     0   \n",
       "\n",
       "                                                cast  \\\n",
       "3  [{'cast_id': 16, 'character': 'Rene', 'credit_...   \n",
       "5  [{'cast_id': 3, 'character': 'Camille Claudel'...   \n",
       "6  [{'cast_id': 3, 'character': 'Camille Claudel'...   \n",
       "7  [{'cast_id': 3, 'character': 'Camille Claudel'...   \n",
       "8  [{'cast_id': 3, 'character': 'Camille Claudel'...   \n",
       "\n",
       "                                            keywords  year year_month  \n",
       "3  [{'id': 4694, 'name': 'staged death'}, {'id': ...  2012    2012-09  \n",
       "5  [{'id': 254, 'name': 'france'}, {'id': 745, 'n...  2013    2013-03  \n",
       "6  [{'id': 254, 'name': 'france'}, {'id': 745, 'n...  2013    2013-03  \n",
       "7  [{'id': 254, 'name': 'france'}, {'id': 745, 'n...  2013    2013-03  \n",
       "8  [{'id': 254, 'name': 'france'}, {'id': 745, 'n...  2013    2013-03  "
      ]
     },
     "execution_count": 7,
     "metadata": {},
     "output_type": "execute_result"
    }
   ],
   "source": [
    "df.head(5)"
   ]
  },
  {
   "cell_type": "markdown",
   "metadata": {},
   "source": [
    "Kepping only movies which were produced in USA as the budget might be marked in US although in reality its not "
   ]
  },
  {
   "cell_type": "code",
   "execution_count": 8,
   "metadata": {},
   "outputs": [
    {
     "name": "stdout",
     "output_type": "stream",
     "text": [
      "Number of production countries:  68\n",
      "(2464, 16)\n"
     ]
    }
   ],
   "source": [
    "index_extractor = lambda df, field, value: [idx for idx, entries in enumerate(df[field]) for item in entries if value in item['name']]\n",
    "list_creator = lambda df, idx: [1 if i in idx else 0 for i in df.index]\n",
    "\n",
    "#Extracting list of countries\n",
    "l=[]\n",
    "for i, item in enumerate(df['production_countries']):\n",
    "    for cell in item:\n",
    "        l.append(cell['name'])\n",
    "p_name, p_count = np.unique(np.array(l), return_counts=True)\n",
    "\n",
    "prod = zip(p_name, p_count) # list of Unique Values along with occurrence Count\n",
    "prod = list(prod)\n",
    "prod = sorted(prod, key = lambda x: x[1], reverse = True)\n",
    "print('Number of production countries: ', len(prod))\n",
    "\n",
    "df = df.iloc[index_extractor(df, 'production_countries', 'United States of America'),:]\n",
    "\n",
    "print(df.shape)\n",
    "\n"
   ]
  },
  {
   "cell_type": "markdown",
   "metadata": {},
   "source": [
    "# Choosing the columns"
   ]
  },
  {
   "cell_type": "code",
   "execution_count": 9,
   "metadata": {},
   "outputs": [],
   "source": [
    "\n",
    "X = df[['title', 'budget', 'year', 'genres', 'production_companies', 'revenue',  'vote_count', \n",
    "        'belongs_to_collection', 'cast']]\n",
    "# y = df['revenue']\n",
    "# X = X.reset_index(drop=True)\n",
    "# y = y.reset_index(drop=True)"
   ]
  },
  {
   "cell_type": "markdown",
   "metadata": {},
   "source": [
    "# Feature engineering"
   ]
  },
  {
   "cell_type": "markdown",
   "metadata": {},
   "source": [
    "### Budget"
   ]
  },
  {
   "cell_type": "code",
   "execution_count": 10,
   "metadata": {
    "scrolled": false
   },
   "outputs": [
    {
     "name": "stderr",
     "output_type": "stream",
     "text": [
      "C:\\Users\\Anastasia\\Anaconda3\\lib\\site-packages\\ipykernel_launcher.py:4: SettingWithCopyWarning: \n",
      "A value is trying to be set on a copy of a slice from a DataFrame.\n",
      "Try using .loc[row_indexer,col_indexer] = value instead\n",
      "\n",
      "See the caveats in the documentation: http://pandas.pydata.org/pandas-docs/stable/indexing.html#indexing-view-versus-copy\n",
      "  after removing the cwd from sys.path.\n"
     ]
    },
    {
     "data": {
      "text/plain": [
       "(array([  3.,   4.,  14.,  22.,  47., 126., 395., 947., 697., 209.]),\n",
       " array([ 8.85366543,  9.94386707, 11.0340687 , 12.12427034, 13.21447198,\n",
       "        14.30467362, 15.39487526, 16.4850769 , 17.57527853, 18.66548017,\n",
       "        19.75568181]),\n",
       " <a list of 10 Patch objects>)"
      ]
     },
     "execution_count": 10,
     "metadata": {},
     "output_type": "execute_result"
    },
    {
     "data": {
      "image/png": "[encoded data removed]",
      "text/plain": [
       "<Figure size 432x288 with 1 Axes>"
      ]
     },
     "metadata": {
      "needs_background": "light"
     },
     "output_type": "display_data"
    }
   ],
   "source": [
    "#plt.hist(X['budget'], alpha=0.5)\n",
    "#print(X.groupby('budget')['id'].count())\n",
    "\n",
    "X['budget'] = np.log(X['budget'])\n",
    "plt.hist(X['budget'], alpha=0.5)"
   ]
  },
  {
   "cell_type": "markdown",
   "metadata": {},
   "source": [
    "Removing outliers"
   ]
  },
  {
   "cell_type": "code",
   "execution_count": 11,
   "metadata": {
    "scrolled": true
   },
   "outputs": [],
   "source": [
    "# print(X['budget'].describe())\n",
    "\n",
    "# mean_a = np.mean(X['budget'])\n",
    "# std_a = np.std(X['budget'])\n",
    "\n",
    "# X = X[(X['budget']>mean_a-3*std_a)&(X['budget']<mean_a+3*std_a)]\n",
    "\n",
    "# print('After removing outliers:')\n",
    "# print(X['budget'].describe())\n",
    "\n",
    "# plt.figure()\n",
    "# plt.hist(X['budget'])\n",
    "# plt.show"
   ]
  },
  {
   "cell_type": "markdown",
   "metadata": {},
   "source": [
    "### Revenue"
   ]
  },
  {
   "cell_type": "code",
   "execution_count": 12,
   "metadata": {},
   "outputs": [
    {
     "data": {
      "text/plain": [
       "(array([2.144e+03, 1.970e+02, 7.300e+01, 3.700e+01, 7.000e+00, 4.000e+00,\n",
       "        0.000e+00, 1.000e+00, 0.000e+00, 1.000e+00]),\n",
       " array([1.40400000e+03, 2.78797772e+08, 5.57594141e+08, 8.36390509e+08,\n",
       "        1.11518688e+09, 1.39398325e+09, 1.67277961e+09, 1.95157598e+09,\n",
       "        2.23037235e+09, 2.50916872e+09, 2.78796509e+09]),\n",
       " <a list of 10 Patch objects>)"
      ]
     },
     "execution_count": 12,
     "metadata": {},
     "output_type": "execute_result"
    },
    {
     "data": {
      "image/png": "[encoded data removed]",
      "text/plain": [
       "<Figure size 432x288 with 1 Axes>"
      ]
     },
     "metadata": {
      "needs_background": "light"
     },
     "output_type": "display_data"
    }
   ],
   "source": [
    "#plt.hist(X['revenue'])\n",
    "\n",
    "#X['revenue'] = np.log(X['revenue'])\n",
    "plt.hist(X['revenue'], alpha=0.5)"
   ]
  },
  {
   "cell_type": "markdown",
   "metadata": {},
   "source": [
    "Removing outliers"
   ]
  },
  {
   "cell_type": "code",
   "execution_count": 13,
   "metadata": {},
   "outputs": [],
   "source": [
    "# print(X['revenue'].describe())\n",
    "\n",
    "# mean_a = np.mean(X['revenue'])\n",
    "# std_a = np.std(X['revenue'])\n",
    "\n",
    "# X = X[(X['revenue']>mean_a-3*std_a)&(X['revenue']<mean_a+3*std_a)]\n",
    "\n",
    "# print('After removing outliers:')\n",
    "# print(X['revenue'].describe())\n",
    "\n",
    "# plt.figure()\n",
    "# plt.hist(X['revenue'])\n",
    "# plt.show"
   ]
  },
  {
   "cell_type": "markdown",
   "metadata": {},
   "source": [
    "### Vote count\n",
    "\n",
    "Removed from prediction as we wont be able to input this feature in our API"
   ]
  },
  {
   "cell_type": "code",
   "execution_count": 14,
   "metadata": {},
   "outputs": [],
   "source": [
    "# plt.hist(X['vote_count'], bins=50)"
   ]
  },
  {
   "cell_type": "markdown",
   "metadata": {},
   "source": [
    "### Vote average\n",
    "\n",
    "Removed from prediction as we wont be able to input this feature in our API"
   ]
  },
  {
   "cell_type": "code",
   "execution_count": 15,
   "metadata": {},
   "outputs": [],
   "source": [
    "# plt.hist(X['vote_average'], bins=50)"
   ]
  },
  {
   "cell_type": "markdown",
   "metadata": {},
   "source": [
    "Removing outliers"
   ]
  },
  {
   "cell_type": "code",
   "execution_count": 16,
   "metadata": {
    "scrolled": false
   },
   "outputs": [],
   "source": [
    "# print(X['vote_average'].describe())\n",
    "\n",
    "# mean_a = np.mean(X['vote_average'])\n",
    "# std_a = np.std(X['vote_average'])\n",
    "\n",
    "# X = X[(X['vote_average']>mean_a-3*std_a)&(X['vote_average']<mean_a+3*std_a)]\n",
    "\n",
    "# print('After removing outliers:')\n",
    "# print(X['vote_average'].describe())\n",
    "\n",
    "# plt.figure()\n",
    "# plt.hist(X['vote_average'])\n",
    "# plt.show"
   ]
  },
  {
   "cell_type": "markdown",
   "metadata": {},
   "source": [
    "### Popularity\n",
    "\n",
    "Removed from prediction as this feature showed to be changing with the time. It depends on the current interest of public to the movie. I means that the most popular movies in this dataset are the ones that were released right before extracting the data "
   ]
  },
  {
   "cell_type": "code",
   "execution_count": 17,
   "metadata": {},
   "outputs": [],
   "source": [
    "# plt.hist(X['popularity'])"
   ]
  },
  {
   "cell_type": "markdown",
   "metadata": {},
   "source": [
    "Removing outliers"
   ]
  },
  {
   "cell_type": "code",
   "execution_count": 18,
   "metadata": {},
   "outputs": [],
   "source": [
    "\n",
    "# print(X['popularity'].describe())\n",
    "\n",
    "# mean_a = np.mean(X['popularity'])\n",
    "# std_a = np.std(X['popularity'])\n",
    "\n",
    "# X = X[(X['popularity']>mean_a-3*std_a)&(X['popularity']<mean_a+3*std_a)]\n",
    "\n",
    "# print('After removing outliers:')\n",
    "# print(X['popularity'].describe())\n",
    "\n",
    "# plt.figure()\n",
    "# plt.hist(X['popularity'])\n",
    "# plt.show"
   ]
  },
  {
   "cell_type": "markdown",
   "metadata": {},
   "source": [
    "### Belongs_to_collection"
   ]
  },
  {
   "cell_type": "code",
   "execution_count": 19,
   "metadata": {},
   "outputs": [
    {
     "name": "stderr",
     "output_type": "stream",
     "text": [
      "C:\\Users\\Anastasia\\Anaconda3\\lib\\site-packages\\ipykernel_launcher.py:2: SettingWithCopyWarning: \n",
      "A value is trying to be set on a copy of a slice from a DataFrame.\n",
      "Try using .loc[row_indexer,col_indexer] = value instead\n",
      "\n",
      "See the caveats in the documentation: http://pandas.pydata.org/pandas-docs/stable/indexing.html#indexing-view-versus-copy\n",
      "  \n"
     ]
    }
   ],
   "source": [
    "coll = [0 if col == '0' else 1 for col in X['belongs_to_collection']]\n",
    "X['collection'] = coll\n",
    "# del X['belongs_to_collection']"
   ]
  },
  {
   "cell_type": "markdown",
   "metadata": {},
   "source": [
    "Creating a new volumn: average of the of number of votes of all movies in each collection. And assigning this values to the movies which belongs to the collection. Here number of votes will be the measure of movie popularity (more votes - higher popularity). As we've learned that popularity feature doesn't reflect real picture as it is mesured in a timely manner (older movies are not popular as now people are not checking them out on IMDB)"
   ]
  },
  {
   "cell_type": "code",
   "execution_count": 20,
   "metadata": {},
   "outputs": [
    {
     "name": "stderr",
     "output_type": "stream",
     "text": [
      "C:\\Users\\Anastasia\\Anaconda3\\lib\\site-packages\\ipykernel_launcher.py:18: SettingWithCopyWarning: \n",
      "A value is trying to be set on a copy of a slice from a DataFrame.\n",
      "Try using .loc[row_indexer,col_indexer] = value instead\n",
      "\n",
      "See the caveats in the documentation: http://pandas.pydata.org/pandas-docs/stable/indexing.html#indexing-view-versus-copy\n",
      "C:\\Users\\Anastasia\\Anaconda3\\lib\\site-packages\\ipykernel_launcher.py:35: SettingWithCopyWarning: \n",
      "A value is trying to be set on a copy of a slice from a DataFrame.\n",
      "Try using .loc[row_indexer,col_indexer] = value instead\n",
      "\n",
      "See the caveats in the documentation: http://pandas.pydata.org/pandas-docs/stable/indexing.html#indexing-view-versus-copy\n",
      "C:\\Users\\Anastasia\\Anaconda3\\lib\\site-packages\\ipykernel_launcher.py:41: SettingWithCopyWarning: \n",
      "A value is trying to be set on a copy of a slice from a DataFrame.\n",
      "Try using .loc[row_indexer,col_indexer] = value instead\n",
      "\n",
      "See the caveats in the documentation: http://pandas.pydata.org/pandas-docs/stable/indexing.html#indexing-view-versus-copy\n"
     ]
    }
   ],
   "source": [
    "X.reset_index(inplace=True, drop=True)\n",
    "df['belongs_to_collection'] = df['belongs_to_collection'].astype(str)\n",
    "\n",
    "index_extractor = lambda df, field, value: [idx for idx, item in enumerate(df[field]) if value == item['name']]\n",
    "list_creator = lambda df, idx: [1 if i in idx else 0 for i in df.index]\n",
    "\n",
    "#Extracting list of collections\n",
    "l=[]\n",
    "index_0 = []\n",
    "for i, item in enumerate(X['belongs_to_collection']):\n",
    "    if item.strip() != '0':\n",
    "        item = ast.literal_eval(item)\n",
    "        l.append(item['name'])\n",
    "    else:\n",
    "        index_0.append(i)\n",
    "\n",
    "d = {\"id\": 0, \"name\": 'No Name', \"poster_path\": None, \"backdrop_path\": None}\n",
    "X['belongs_to_collection'] = [d if idx in index_0 else ast.literal_eval(item) for idx, item in enumerate(X['belongs_to_collection'])]\n",
    "\n",
    "c_name, c_count = np.unique(np.array(l), return_counts=True)\n",
    "\n",
    "# collection = zip(c_name, c_count) # list of collections with num of movies and average popularity\n",
    "# collection = list(collection)\n",
    "# collection = sorted(collection, key = lambda x: x[1], reverse = True)\n",
    "# c_name=[]\n",
    "# c_count=[]\n",
    "# for i in range(len(collection)):\n",
    "#     c_name.append(collection[i][0])\n",
    "#     c_count.append(collection[i][1])\n",
    "\n",
    "#Creating mean count_votes for each collection\n",
    "index_extractor = lambda df, field, value: [idx for idx, item in enumerate(df['belongs_to_collection']) if type(item) != str if coll == item['name']]\n",
    "list_pop_creator =  lambda df, idx: [df.loc[i,'vote_count'] if i in idx else 0 for i in df.index] # List of popularities for current actor\n",
    "\n",
    "X['coll_vote'] = [0 for i in range(len(X.index))]\n",
    "\n",
    "for coll, count in zip(c_name, c_count):\n",
    "    idx = index_extractor(X, 'belongs_to_collection', coll)\n",
    "    list_pop = list_pop_creator(X, idx) \n",
    "    vote_count_ave = (np.sum(list_pop)/count)  \n",
    "    X['coll_vote'] = [vote_count_ave if i in idx else item for i, item in enumerate(X['coll_vote'])]\n",
    "\n",
    "del X['belongs_to_collection']\n",
    "del X['vote_count']\n",
    "del X['title']"
   ]
  },
  {
   "cell_type": "markdown",
   "metadata": {},
   "source": [
    "### Genres"
   ]
  },
  {
   "cell_type": "code",
   "execution_count": 21,
   "metadata": {},
   "outputs": [],
   "source": [
    "X.reset_index(inplace=True, drop=True)\n",
    "index_extractor = lambda df, field, value: [idx for idx, entries in enumerate(df[field]) for item in entries if value == item['name']]\n",
    "list_creator = lambda df, idx: [1 if i in idx else 0 for i in df.index]\n",
    "\n",
    "#Extracting list of genres\n",
    "l=[]\n",
    "for i, item in enumerate(X['genres']):\n",
    "    for cell in item:\n",
    "        l.append(cell['name'])\n",
    "g_name, g_count = np.unique(np.array(l), return_counts=True)\n",
    "\n",
    "# Create column for every genre and assigh 1 or 0\n",
    "for genre in g_name:\n",
    "    idx = index_extractor(X, 'genres', genre)\n",
    "    c = list_creator(X, idx)\n",
    "    genre_col = pd.Series(c)    \n",
    "    X = X.assign(genre_col=genre_col.values)\n",
    "    X.rename(columns={'genre_col':'{0}'.format(genre)}, inplace=True)\n",
    "del X['genres']\n",
    "  \n"
   ]
  },
  {
   "cell_type": "markdown",
   "metadata": {},
   "source": [
    "### Production Companies"
   ]
  },
  {
   "cell_type": "code",
   "execution_count": 22,
   "metadata": {},
   "outputs": [
    {
     "name": "stdout",
     "output_type": "stream",
     "text": [
      "Number of production companies:  2903\n"
     ]
    }
   ],
   "source": [
    "X.reset_index(inplace=True, drop=True)\n",
    "index_extractor = lambda df, field, value: [idx for idx, entries in enumerate(df[field]) for item in entries if value == item['name']]\n",
    "list_creator = lambda df, idx: [1 if i in idx else 0 for i in df.index]\n",
    "\n",
    "#Extracting list of production_companies\n",
    "l=[]\n",
    "for i, item in enumerate(X['production_companies']):\n",
    "    for cell in item:\n",
    "        l.append(cell['name'])\n",
    "p_name, p_count = np.unique(np.array(l), return_counts=True)\n",
    "\n",
    "prod = zip(p_name, p_count) # list of Unique Values along with occurrence Count\n",
    "prod = list(prod)\n",
    "prod = sorted(prod, key = lambda x: x[1], reverse = True)\n",
    "print('Number of production companies: ', len(prod))\n",
    "    \n",
    "#50 companies which produced the hihest number of movies\n",
    "p_name = []\n",
    "p_count = []\n",
    "for i in range(50):\n",
    "    p_name.append(prod[i][0])\n",
    "    p_count.append(prod[i][1])"
   ]
  },
  {
   "cell_type": "code",
   "execution_count": 23,
   "metadata": {},
   "outputs": [],
   "source": [
    "# Create column for every production companie and assigh 1 or 0\n",
    "for prod in p_name:\n",
    "    idx = index_extractor(X, 'production_companies', prod)\n",
    "    c = list_creator(X, idx)\n",
    "    prod_col = pd.Series(c)    \n",
    "    X = X.assign(prod_col=prod_col.values)\n",
    "    X.rename(columns={'prod_col':'{0}'.format(prod)}, inplace=True)\n",
    "del X['production_companies']"
   ]
  },
  {
   "cell_type": "markdown",
   "metadata": {},
   "source": [
    "### Cast"
   ]
  },
  {
   "cell_type": "code",
   "execution_count": 24,
   "metadata": {},
   "outputs": [
    {
     "name": "stdout",
     "output_type": "stream",
     "text": [
      "Number of actors:  35593\n",
      "108 108\n"
     ]
    }
   ],
   "source": [
    "X.reset_index(inplace=True, drop=True)\n",
    "#Extracting list of actors\n",
    "l=[]\n",
    "for i, item in enumerate(X['cast']):\n",
    "    for cell in item:\n",
    "        l.append(cell['name'])\n",
    "a_name, a_count = np.unique(np.array(l), return_counts=True)\n",
    "idx=[]\n",
    "for i, item  in enumerate(a_name):\n",
    "    if (item == 'Kar') | (item == 'George') | (a_name[i] == 'Mario') | (a_name[i] == 'Jack') | (a_name[i] == 'Charle') | (a_name[i] == 'Charlie') | (a_name[i] == 'Mars') | (a_name[i] == 'Terry') | (a_name[i] == 'King') | (a_name[i] == 'Sim') | (a_name[i] == 'Elli') | (a_name[i] == 'Carlos') | (a_name[i] == 'Sandra') | (a_name[i] == 'Justin') | (a_name[i] == 'Shane') | (a_name[i] == 'Angela') | (a_name[i] == 'Eve') | (a_name[i] == 'Foster') | (a_name[i] == 'Take') | (a_name[i] == 'Andrea') | (a_name[i] == 'Ade') | (a_name[i] == 'Tiffany') | (a_name[i] == 'Zoë'):\n",
    "        idx.append(i)\n",
    "    \n",
    "a_name = np.delete(a_name, idx)\n",
    "a_count = np.delete(a_count, idx)\n",
    "\n",
    "act = zip(a_name, a_count) # list of Unique Values along with occurrence Count\n",
    "act = list(act)\n",
    "act = sorted(act, key = lambda x: x[1], reverse = True)\n",
    "print('Number of actors: ', len(act))\n",
    "\n",
    "#100 companies which produced the hihest number of movies\n",
    "a_name = []\n",
    "a_count = []\n",
    "\n",
    "for i in range(len(act)):\n",
    "    if act[i][1] >20:\n",
    "        a_name.append(act[i][0])\n",
    "        a_count.append(act[i][1])\n",
    "\n",
    "        \n",
    "print(len(a_name), len(a_count))\n",
    "# plt.figure(figsize=(16,6))\n",
    "# x_pos = range(len(a_name))\n",
    "# plt.bar(x_pos,a_count, align='center', alpha=0.5)\n",
    "# plt.xticks(x_pos, a_name, rotation='vertical')"
   ]
  },
  {
   "cell_type": "code",
   "execution_count": 25,
   "metadata": {},
   "outputs": [],
   "source": [
    "index_extractor = lambda df, field, value: [idx for idx, entries in enumerate(df[field]) for item in entries if value == item['name']]\n",
    "list_creator = lambda df, idx: [1 if i in idx else 0 for i in df.index]\n",
    "# Create column for every actor and assigh 1 or 0\n",
    "for actor in a_name:\n",
    "    idx = index_extractor(X, 'cast', actor)\n",
    "    c = list_creator(X, idx)\n",
    "    prod_col = pd.Series(c)    \n",
    "    X = X.assign(prod_col=prod_col.values)\n",
    "    X.rename(columns={'prod_col':'{0}'.format(actor)}, inplace=True)\n",
    "del X['cast']"
   ]
  },
  {
   "cell_type": "code",
   "execution_count": 26,
   "metadata": {},
   "outputs": [
    {
     "data": {
      "text/html": [
       "<div>\n",
       "<style scoped>\n",
       "    .dataframe tbody tr th:only-of-type {\n",
       "        vertical-align: middle;\n",
       "    }\n",
       "\n",
       "    .dataframe tbody tr th {\n",
       "        vertical-align: top;\n",
       "    }\n",
       "\n",
       "    .dataframe thead th {\n",
       "        text-align: right;\n",
       "    }\n",
       "</style>\n",
       "<table border=\"1\" class=\"dataframe\">\n",
       "  <thead>\n",
       "    <tr style=\"text-align: right;\">\n",
       "      <th></th>\n",
       "      <th>budget</th>\n",
       "      <th>year</th>\n",
       "      <th>revenue</th>\n",
       "      <th>collection</th>\n",
       "      <th>coll_vote</th>\n",
       "      <th>Action</th>\n",
       "      <th>Adventure</th>\n",
       "      <th>Animation</th>\n",
       "      <th>Comedy</th>\n",
       "      <th>Crime</th>\n",
       "      <th>Documentary</th>\n",
       "      <th>Drama</th>\n",
       "      <th>...</th>\n",
       "      <th>Luis Guzmán</th>\n",
       "      <th>Maggie Gyllenhaal</th>\n",
       "      <th>Michael Caine</th>\n",
       "      <th>Michael Sheen</th>\n",
       "      <th>Paul Bettany</th>\n",
       "      <th>Peter Sarsgaard</th>\n",
       "      <th>Ron Perlman</th>\n",
       "      <th>Ryan Reynolds</th>\n",
       "      <th>Sigourney Weaver</th>\n",
       "      <th>Susan Sarandon</th>\n",
       "      <th>Tom Hanks</th>\n",
       "      <th>Tom Wilkinson</th>\n",
       "    </tr>\n",
       "  </thead>\n",
       "  <tbody>\n",
       "    <tr>\n",
       "      <th>0</th>\n",
       "      <td>14.51</td>\n",
       "      <td>2005</td>\n",
       "      <td>16344.00</td>\n",
       "      <td>0</td>\n",
       "      <td>0.00</td>\n",
       "      <td>0</td>\n",
       "      <td>0</td>\n",
       "      <td>0</td>\n",
       "      <td>1</td>\n",
       "      <td>0</td>\n",
       "      <td>0</td>\n",
       "      <td>0</td>\n",
       "      <td>...</td>\n",
       "      <td>0</td>\n",
       "      <td>0</td>\n",
       "      <td>0</td>\n",
       "      <td>0</td>\n",
       "      <td>0</td>\n",
       "      <td>0</td>\n",
       "      <td>0</td>\n",
       "      <td>0</td>\n",
       "      <td>0</td>\n",
       "      <td>0</td>\n",
       "      <td>0</td>\n",
       "      <td>0</td>\n",
       "    </tr>\n",
       "    <tr>\n",
       "      <th>1</th>\n",
       "      <td>12.43</td>\n",
       "      <td>2010</td>\n",
       "      <td>23859.00</td>\n",
       "      <td>0</td>\n",
       "      <td>0.00</td>\n",
       "      <td>0</td>\n",
       "      <td>0</td>\n",
       "      <td>0</td>\n",
       "      <td>0</td>\n",
       "      <td>0</td>\n",
       "      <td>1</td>\n",
       "      <td>0</td>\n",
       "      <td>...</td>\n",
       "      <td>0</td>\n",
       "      <td>0</td>\n",
       "      <td>0</td>\n",
       "      <td>0</td>\n",
       "      <td>0</td>\n",
       "      <td>0</td>\n",
       "      <td>0</td>\n",
       "      <td>0</td>\n",
       "      <td>0</td>\n",
       "      <td>0</td>\n",
       "      <td>0</td>\n",
       "      <td>0</td>\n",
       "    </tr>\n",
       "    <tr>\n",
       "      <th>2</th>\n",
       "      <td>17.88</td>\n",
       "      <td>2013</td>\n",
       "      <td>44000000.00</td>\n",
       "      <td>0</td>\n",
       "      <td>0.00</td>\n",
       "      <td>0</td>\n",
       "      <td>0</td>\n",
       "      <td>0</td>\n",
       "      <td>1</td>\n",
       "      <td>0</td>\n",
       "      <td>0</td>\n",
       "      <td>0</td>\n",
       "      <td>...</td>\n",
       "      <td>0</td>\n",
       "      <td>0</td>\n",
       "      <td>0</td>\n",
       "      <td>0</td>\n",
       "      <td>0</td>\n",
       "      <td>0</td>\n",
       "      <td>0</td>\n",
       "      <td>0</td>\n",
       "      <td>0</td>\n",
       "      <td>0</td>\n",
       "      <td>0</td>\n",
       "      <td>0</td>\n",
       "    </tr>\n",
       "    <tr>\n",
       "      <th>3</th>\n",
       "      <td>17.91</td>\n",
       "      <td>2010</td>\n",
       "      <td>300228084.00</td>\n",
       "      <td>1</td>\n",
       "      <td>1538.80</td>\n",
       "      <td>1</td>\n",
       "      <td>1</td>\n",
       "      <td>0</td>\n",
       "      <td>0</td>\n",
       "      <td>0</td>\n",
       "      <td>0</td>\n",
       "      <td>0</td>\n",
       "      <td>...</td>\n",
       "      <td>0</td>\n",
       "      <td>0</td>\n",
       "      <td>0</td>\n",
       "      <td>0</td>\n",
       "      <td>0</td>\n",
       "      <td>0</td>\n",
       "      <td>0</td>\n",
       "      <td>0</td>\n",
       "      <td>0</td>\n",
       "      <td>0</td>\n",
       "      <td>0</td>\n",
       "      <td>0</td>\n",
       "    </tr>\n",
       "    <tr>\n",
       "      <th>4</th>\n",
       "      <td>14.73</td>\n",
       "      <td>2007</td>\n",
       "      <td>71904.00</td>\n",
       "      <td>1</td>\n",
       "      <td>7.00</td>\n",
       "      <td>0</td>\n",
       "      <td>0</td>\n",
       "      <td>0</td>\n",
       "      <td>0</td>\n",
       "      <td>0</td>\n",
       "      <td>0</td>\n",
       "      <td>1</td>\n",
       "      <td>...</td>\n",
       "      <td>0</td>\n",
       "      <td>0</td>\n",
       "      <td>0</td>\n",
       "      <td>0</td>\n",
       "      <td>0</td>\n",
       "      <td>0</td>\n",
       "      <td>0</td>\n",
       "      <td>0</td>\n",
       "      <td>0</td>\n",
       "      <td>0</td>\n",
       "      <td>0</td>\n",
       "      <td>0</td>\n",
       "    </tr>\n",
       "  </tbody>\n",
       "</table>\n",
       "<p>5 rows × 182 columns</p>\n",
       "</div>"
      ],
      "text/plain": [
       "   budget  year      revenue  collection  coll_vote  Action  Adventure  \\\n",
       "0   14.51  2005     16344.00           0       0.00       0          0   \n",
       "1   12.43  2010     23859.00           0       0.00       0          0   \n",
       "2   17.88  2013  44000000.00           0       0.00       0          0   \n",
       "3   17.91  2010 300228084.00           1    1538.80       1          1   \n",
       "4   14.73  2007     71904.00           1       7.00       0          0   \n",
       "\n",
       "   Animation  Comedy  Crime  Documentary  Drama      ...        Luis Guzmán  \\\n",
       "0          0       1      0            0      0      ...                  0   \n",
       "1          0       0      0            1      0      ...                  0   \n",
       "2          0       1      0            0      0      ...                  0   \n",
       "3          0       0      0            0      0      ...                  0   \n",
       "4          0       0      0            0      1      ...                  0   \n",
       "\n",
       "   Maggie Gyllenhaal  Michael Caine  Michael Sheen  Paul Bettany  \\\n",
       "0                  0              0              0             0   \n",
       "1                  0              0              0             0   \n",
       "2                  0              0              0             0   \n",
       "3                  0              0              0             0   \n",
       "4                  0              0              0             0   \n",
       "\n",
       "   Peter Sarsgaard  Ron Perlman  Ryan Reynolds  Sigourney Weaver  \\\n",
       "0                0            0              0                 0   \n",
       "1                0            0              0                 0   \n",
       "2                0            0              0                 0   \n",
       "3                0            0              0                 0   \n",
       "4                0            0              0                 0   \n",
       "\n",
       "   Susan Sarandon  Tom Hanks  Tom Wilkinson  \n",
       "0               0          0              0  \n",
       "1               0          0              0  \n",
       "2               0          0              0  \n",
       "3               0          0              0  \n",
       "4               0          0              0  \n",
       "\n",
       "[5 rows x 182 columns]"
      ]
     },
     "execution_count": 26,
     "metadata": {},
     "output_type": "execute_result"
    }
   ],
   "source": [
    "X.head(5)"
   ]
  },
  {
   "cell_type": "markdown",
   "metadata": {},
   "source": [
    "# Saving to the file"
   ]
  },
  {
   "cell_type": "code",
   "execution_count": 27,
   "metadata": {},
   "outputs": [],
   "source": [
    "X.head(5)\n",
    "X.to_csv('data/for_api.csv', index=False)"
   ]
  },
  {
   "cell_type": "markdown",
   "metadata": {},
   "source": [
    "# Prediction"
   ]
  },
  {
   "cell_type": "code",
   "execution_count": 28,
   "metadata": {},
   "outputs": [
    {
     "data": {
      "text/html": [
       "<div>\n",
       "<style scoped>\n",
       "    .dataframe tbody tr th:only-of-type {\n",
       "        vertical-align: middle;\n",
       "    }\n",
       "\n",
       "    .dataframe tbody tr th {\n",
       "        vertical-align: top;\n",
       "    }\n",
       "\n",
       "    .dataframe thead th {\n",
       "        text-align: right;\n",
       "    }\n",
       "</style>\n",
       "<table border=\"1\" class=\"dataframe\">\n",
       "  <thead>\n",
       "    <tr style=\"text-align: right;\">\n",
       "      <th></th>\n",
       "      <th>budget</th>\n",
       "      <th>year</th>\n",
       "      <th>collection</th>\n",
       "      <th>coll_vote</th>\n",
       "      <th>Action</th>\n",
       "      <th>Adventure</th>\n",
       "      <th>Animation</th>\n",
       "      <th>Comedy</th>\n",
       "      <th>Crime</th>\n",
       "      <th>Documentary</th>\n",
       "      <th>Drama</th>\n",
       "      <th>Family</th>\n",
       "      <th>...</th>\n",
       "      <th>Luis Guzmán</th>\n",
       "      <th>Maggie Gyllenhaal</th>\n",
       "      <th>Michael Caine</th>\n",
       "      <th>Michael Sheen</th>\n",
       "      <th>Paul Bettany</th>\n",
       "      <th>Peter Sarsgaard</th>\n",
       "      <th>Ron Perlman</th>\n",
       "      <th>Ryan Reynolds</th>\n",
       "      <th>Sigourney Weaver</th>\n",
       "      <th>Susan Sarandon</th>\n",
       "      <th>Tom Hanks</th>\n",
       "      <th>Tom Wilkinson</th>\n",
       "    </tr>\n",
       "  </thead>\n",
       "  <tbody>\n",
       "    <tr>\n",
       "      <th>0</th>\n",
       "      <td>14.51</td>\n",
       "      <td>2005</td>\n",
       "      <td>0</td>\n",
       "      <td>0.00</td>\n",
       "      <td>0</td>\n",
       "      <td>0</td>\n",
       "      <td>0</td>\n",
       "      <td>1</td>\n",
       "      <td>0</td>\n",
       "      <td>0</td>\n",
       "      <td>0</td>\n",
       "      <td>0</td>\n",
       "      <td>...</td>\n",
       "      <td>0</td>\n",
       "      <td>0</td>\n",
       "      <td>0</td>\n",
       "      <td>0</td>\n",
       "      <td>0</td>\n",
       "      <td>0</td>\n",
       "      <td>0</td>\n",
       "      <td>0</td>\n",
       "      <td>0</td>\n",
       "      <td>0</td>\n",
       "      <td>0</td>\n",
       "      <td>0</td>\n",
       "    </tr>\n",
       "    <tr>\n",
       "      <th>1</th>\n",
       "      <td>12.43</td>\n",
       "      <td>2010</td>\n",
       "      <td>0</td>\n",
       "      <td>0.00</td>\n",
       "      <td>0</td>\n",
       "      <td>0</td>\n",
       "      <td>0</td>\n",
       "      <td>0</td>\n",
       "      <td>0</td>\n",
       "      <td>1</td>\n",
       "      <td>0</td>\n",
       "      <td>0</td>\n",
       "      <td>...</td>\n",
       "      <td>0</td>\n",
       "      <td>0</td>\n",
       "      <td>0</td>\n",
       "      <td>0</td>\n",
       "      <td>0</td>\n",
       "      <td>0</td>\n",
       "      <td>0</td>\n",
       "      <td>0</td>\n",
       "      <td>0</td>\n",
       "      <td>0</td>\n",
       "      <td>0</td>\n",
       "      <td>0</td>\n",
       "    </tr>\n",
       "    <tr>\n",
       "      <th>2</th>\n",
       "      <td>17.88</td>\n",
       "      <td>2013</td>\n",
       "      <td>0</td>\n",
       "      <td>0.00</td>\n",
       "      <td>0</td>\n",
       "      <td>0</td>\n",
       "      <td>0</td>\n",
       "      <td>1</td>\n",
       "      <td>0</td>\n",
       "      <td>0</td>\n",
       "      <td>0</td>\n",
       "      <td>0</td>\n",
       "      <td>...</td>\n",
       "      <td>0</td>\n",
       "      <td>0</td>\n",
       "      <td>0</td>\n",
       "      <td>0</td>\n",
       "      <td>0</td>\n",
       "      <td>0</td>\n",
       "      <td>0</td>\n",
       "      <td>0</td>\n",
       "      <td>0</td>\n",
       "      <td>0</td>\n",
       "      <td>0</td>\n",
       "      <td>0</td>\n",
       "    </tr>\n",
       "    <tr>\n",
       "      <th>3</th>\n",
       "      <td>17.91</td>\n",
       "      <td>2010</td>\n",
       "      <td>1</td>\n",
       "      <td>1538.80</td>\n",
       "      <td>1</td>\n",
       "      <td>1</td>\n",
       "      <td>0</td>\n",
       "      <td>0</td>\n",
       "      <td>0</td>\n",
       "      <td>0</td>\n",
       "      <td>0</td>\n",
       "      <td>0</td>\n",
       "      <td>...</td>\n",
       "      <td>0</td>\n",
       "      <td>0</td>\n",
       "      <td>0</td>\n",
       "      <td>0</td>\n",
       "      <td>0</td>\n",
       "      <td>0</td>\n",
       "      <td>0</td>\n",
       "      <td>0</td>\n",
       "      <td>0</td>\n",
       "      <td>0</td>\n",
       "      <td>0</td>\n",
       "      <td>0</td>\n",
       "    </tr>\n",
       "    <tr>\n",
       "      <th>4</th>\n",
       "      <td>14.73</td>\n",
       "      <td>2007</td>\n",
       "      <td>1</td>\n",
       "      <td>7.00</td>\n",
       "      <td>0</td>\n",
       "      <td>0</td>\n",
       "      <td>0</td>\n",
       "      <td>0</td>\n",
       "      <td>0</td>\n",
       "      <td>0</td>\n",
       "      <td>1</td>\n",
       "      <td>0</td>\n",
       "      <td>...</td>\n",
       "      <td>0</td>\n",
       "      <td>0</td>\n",
       "      <td>0</td>\n",
       "      <td>0</td>\n",
       "      <td>0</td>\n",
       "      <td>0</td>\n",
       "      <td>0</td>\n",
       "      <td>0</td>\n",
       "      <td>0</td>\n",
       "      <td>0</td>\n",
       "      <td>0</td>\n",
       "      <td>0</td>\n",
       "    </tr>\n",
       "  </tbody>\n",
       "</table>\n",
       "<p>5 rows × 181 columns</p>\n",
       "</div>"
      ],
      "text/plain": [
       "   budget  year  collection  coll_vote  Action  Adventure  Animation  Comedy  \\\n",
       "0   14.51  2005           0       0.00       0          0          0       1   \n",
       "1   12.43  2010           0       0.00       0          0          0       0   \n",
       "2   17.88  2013           0       0.00       0          0          0       1   \n",
       "3   17.91  2010           1    1538.80       1          1          0       0   \n",
       "4   14.73  2007           1       7.00       0          0          0       0   \n",
       "\n",
       "   Crime  Documentary  Drama  Family      ...        Luis Guzmán  \\\n",
       "0      0            0      0       0      ...                  0   \n",
       "1      0            1      0       0      ...                  0   \n",
       "2      0            0      0       0      ...                  0   \n",
       "3      0            0      0       0      ...                  0   \n",
       "4      0            0      1       0      ...                  0   \n",
       "\n",
       "   Maggie Gyllenhaal  Michael Caine  Michael Sheen  Paul Bettany  \\\n",
       "0                  0              0              0             0   \n",
       "1                  0              0              0             0   \n",
       "2                  0              0              0             0   \n",
       "3                  0              0              0             0   \n",
       "4                  0              0              0             0   \n",
       "\n",
       "   Peter Sarsgaard  Ron Perlman  Ryan Reynolds  Sigourney Weaver  \\\n",
       "0                0            0              0                 0   \n",
       "1                0            0              0                 0   \n",
       "2                0            0              0                 0   \n",
       "3                0            0              0                 0   \n",
       "4                0            0              0                 0   \n",
       "\n",
       "   Susan Sarandon  Tom Hanks  Tom Wilkinson  \n",
       "0               0          0              0  \n",
       "1               0          0              0  \n",
       "2               0          0              0  \n",
       "3               0          0              0  \n",
       "4               0          0              0  \n",
       "\n",
       "[5 rows x 181 columns]"
      ]
     },
     "execution_count": 28,
     "metadata": {},
     "output_type": "execute_result"
    }
   ],
   "source": [
    "y = X['revenue']\n",
    "del X['revenue']\n",
    "\n",
    "\n",
    "#X = pd.DataFrame(normalize(X, axis=0))\n",
    "# for col in X.columns:\n",
    "#     X[col] = StandardScaler().fit_transform(X[col].values.reshape(-1, 1))\n",
    "\n",
    "X = X.reset_index(drop=True)\n",
    "y = y.reset_index(drop=True)\n",
    "X.head(5)"
   ]
  },
  {
   "cell_type": "code",
   "execution_count": 29,
   "metadata": {},
   "outputs": [
    {
     "name": "stdout",
     "output_type": "stream",
     "text": [
      "181\n"
     ]
    }
   ],
   "source": [
    "list_columns=[]\n",
    "for i in X.columns:\n",
    "    list_columns.append(i)\n",
    "print(len(list_columns))"
   ]
  },
  {
   "cell_type": "code",
   "execution_count": 30,
   "metadata": {},
   "outputs": [
    {
     "name": "stdout",
     "output_type": "stream",
     "text": [
      "cross_val_score 0.4718322153031128\n"
     ]
    }
   ],
   "source": [
    "scores = cross_val_score(RandomForestRegressor(500), X, y, cv=10)\n",
    "print('cross_val_score', np.mean(scores))"
   ]
  },
  {
   "cell_type": "markdown",
   "metadata": {},
   "source": [
    "### Grid Search"
   ]
  },
  {
   "cell_type": "code",
   "execution_count": 31,
   "metadata": {},
   "outputs": [],
   "source": [
    "# from sklearn.model_selection import GridSearchCV\n",
    "# # Create the parameter grid based on the results of random search \n",
    "# param_grid = {\n",
    "# #    'bootstrap': [True],\n",
    "# #    'max_depth': [80, 90, 100, 110],\n",
    "# #    'max_features': [2, 3],\n",
    "# #    'min_samples_leaf': [3, 4, 5],\n",
    "# #    'min_samples_split': [8, 10, 12],\n",
    "#     'n_estimators': [100, 200, 300, 500, 1000]\n",
    "# }\n",
    "# # Create a based model\n",
    "# rf = RandomForestRegressor()\n",
    "# grid_search = GridSearchCV(estimator = rf, param_grid = param_grid, cv = 3, n_jobs = -1, verbose = 2)\n",
    "# grid_search.fit(X, y)\n",
    "# print(grid_search.best_params_)\n",
    "# print(grid_search.best_score_)\n",
    "# print(grid_search.best_estimator_)"
   ]
  },
  {
   "cell_type": "code",
   "execution_count": 32,
   "metadata": {},
   "outputs": [
    {
     "name": "stdout",
     "output_type": "stream",
     "text": [
      "MODEL RandomForestRegressor\n"
     ]
    },
    {
     "data": {
      "image/png": "[encoded data removed]",
      "text/plain": [
       "<Figure size 864x432 with 1 Axes>"
      ]
     },
     "metadata": {
      "needs_background": "light"
     },
     "output_type": "display_data"
    },
    {
     "data": {
      "image/png": "[encoded data removed]",
      "text/plain": [
       "<Figure size 864x432 with 1 Axes>"
      ]
     },
     "metadata": {
      "needs_background": "light"
     },
     "output_type": "display_data"
    }
   ],
   "source": [
    "models = [ ('RandomForestRegressor', RandomForestRegressor(n_estimators=300, n_jobs=-1)),\n",
    "           # ('Ridge Regressor', Ridge(alpha=1.0, copy_X=True, fit_intercept=True, max_iter=None, normalize=False, random_state=None, solver='auto', tol=0.001))\n",
    "]\n",
    "#('GradientBoosting', GradientBoostingRegressor()),\n",
    "#('LinearRegression', LinearRegression()),\n",
    "#('LassoRegressor', Lasso(alpha=0.1)),\n",
    "#('RandomForestRegressor10', RandomForestRegressor(n_estimators=10)),\n",
    "#('DecisionTreeRegressor', DecisionTreeRegressor())\n",
    "#('KNeighborsRegressor', KNeighborsRegressor(5))\n",
    "\n",
    "#('SVMRegressor', SVR()), - Slow - check the optimal C (find the function)\n",
    "#('GaussianRegressor',GaussianProcessRegressor()),\n",
    "#('SGDRegressor', SGDRegressor(), - bad results, check the parameters\n",
    "\n",
    "k = 10\n",
    "results = {}\n",
    "for m in models:\n",
    "    print('MODEL', m[0])\n",
    "    results[m[0]] = {'mae':[], 'rmse':[]}\n",
    "    kf = KFold(n_splits=k)\n",
    "    for train_index, test_index in kf.split(X):\n",
    "        X_train_k, X_test_k = X.values[train_index], X.values[test_index]\n",
    "        y_train_k, y_test_k = y.values[train_index], y.values[test_index]\n",
    "        model = m[1]\n",
    "        model.fit(X_train_k, y_train_k.ravel())\n",
    "        y_pred = model.predict(X_test_k)\n",
    "        mae = mean_absolute_error(y_test_k, y_pred)\n",
    "        rmse = np.sqrt(mean_squared_error(y_test_k, y_pred))\n",
    "        results[m[0]]['mae'].append(mae)\n",
    "        results[m[0]]['rmse'].append(rmse)\n",
    "        \n",
    "for metric in ['mae', 'rmse']:\n",
    "    values = []\n",
    "    labels = []\n",
    "    for model, result_values in results.items():\n",
    "        for m, v in result_values.items():\n",
    "            if m == metric:\n",
    "                labels.append(model)\n",
    "                values.append(v)\n",
    "    plt.figure(figsize=(12,6))\n",
    "    plt.title(metric)\n",
    "    plt.boxplot(values)\n",
    "    plt.xticks(range(1, len(labels)+1), labels, rotation='horizontal')\n",
    "    plt.show()"
   ]
  },
  {
   "cell_type": "code",
   "execution_count": 33,
   "metadata": {},
   "outputs": [
    {
     "name": "stdout",
     "output_type": "stream",
     "text": [
      "X_train:  (1650, 181) y_train: (1650,) \n",
      "X_test:  (814, 181) y_test:  (814,)\n"
     ]
    }
   ],
   "source": [
    "X_train, X_test, y_train, y_test = train_test_split(X, y, test_size=0.33, random_state=42)\n",
    "print('X_train: ', X_train.shape, 'y_train:', y_train.shape, '\\nX_test: ', X_test.shape, 'y_test: ', y_test.shape)\n",
    "#print(X_train.head(5))\n",
    "#model = LinearRegression()\n",
    "model = RandomForestRegressor(500)\n",
    "model.fit(X_train, y_train)\n",
    "y_pred = model.predict(X_test)"
   ]
  },
  {
   "cell_type": "code",
   "execution_count": 34,
   "metadata": {},
   "outputs": [
    {
     "name": "stdout",
     "output_type": "stream",
     "text": [
      "MAE 60371815.37613145\n"
     ]
    },
    {
     "data": {
      "image/png": "[encoded data removed]",
      "text/plain": [
       "<Figure size 432x288 with 1 Axes>"
      ]
     },
     "metadata": {
      "needs_background": "light"
     },
     "output_type": "display_data"
    }
   ],
   "source": [
    "# Evaluate the model using the Mean Absolute Error\n",
    "from sklearn.metrics import mean_absolute_error\n",
    "print('MAE', mean_absolute_error(y_test, y_pred))\n",
    "\n",
    "# plot the results\n",
    "plt.scatter(y_test, y_pred, alpha=0.3)\n",
    "plt.show()"
   ]
  },
  {
   "cell_type": "markdown",
   "metadata": {},
   "source": [
    "### Feature Importances"
   ]
  },
  {
   "cell_type": "code",
   "execution_count": 35,
   "metadata": {},
   "outputs": [
    {
     "name": "stdout",
     "output_type": "stream",
     "text": [
      "RandomForestRegressor(bootstrap=True, criterion='mse', max_depth=None,\n",
      "           max_features='auto', max_leaf_nodes=None,\n",
      "           min_impurity_decrease=0.0, min_impurity_split=None,\n",
      "           min_samples_leaf=1, min_samples_split=2,\n",
      "           min_weight_fraction_leaf=0.0, n_estimators=500, n_jobs=None,\n",
      "           oob_score=False, random_state=None, verbose=0, warm_start=False)\n",
      "<class 'pandas.core.frame.DataFrame'>\n",
      "                                          0    1\n",
      "3                                 coll_vote 0.53\n",
      "0                                    budget 0.27\n",
      "1                                      year 0.02\n",
      "113                           Ewan McGregor 0.01\n",
      "36                       Dune Entertainment 0.01\n",
      "18                                  Romance 0.01\n",
      "11                                   Family 0.00\n",
      "7                                    Comedy 0.00\n",
      "177                        Sigourney Weaver 0.00\n",
      "19                          Science Fiction 0.00\n",
      "12                                  Fantasy 0.00\n",
      "27   Twentieth Century Fox Film Corporation 0.00\n",
      "66                     Amblin Entertainment 0.00\n",
      "5                                 Adventure 0.00\n",
      "6                                 Animation 0.00\n",
      "8                                     Crime 0.00\n",
      "20                                 Thriller 0.00\n",
      "127                            Ciarán Hinds 0.00\n",
      "26                        Columbia Pictures 0.00\n",
      "10                                    Drama 0.00\n",
      "179                               Tom Hanks 0.00\n",
      "4                                    Action 0.00\n",
      "23                             Warner Bros. 0.00\n",
      "171                           Michael Caine 0.00\n",
      "130                            Mark Ruffalo 0.00\n",
      "32                           DreamWorks SKG 0.00\n",
      "76                        Samuel L. Jackson 0.00\n",
      "167                              Judy Greer 0.00\n",
      "126                          Cate Blanchett 0.00\n",
      "42                        Fox 2000 Pictures 0.00\n",
      "..                                      ...  ...\n",
      "94                            James Marsden 0.00\n",
      "178                          Susan Sarandon 0.00\n",
      "169                             Luis Guzmán 0.00\n",
      "98                          Michael Shannon 0.00\n",
      "132                         Richard Jenkins 0.00\n",
      "159                         Terrence Howard 0.00\n",
      "143                            Adam Sandler 0.00\n",
      "67                       Nickelodeon Movies 0.00\n",
      "57                         Millennium Films 0.00\n",
      "135                             Bill Murray 0.00\n",
      "43                          Dimension Films 0.00\n",
      "148                          Christian Bale 0.00\n",
      "70                Happy Madison Productions 0.00\n",
      "136                            Bruce McGill 0.00\n",
      "138                        Jennifer Aniston 0.00\n",
      "68                         TriStar Pictures 0.00\n",
      "63                        Participant Media 0.00\n",
      "134                           Aaron Eckhart 0.00\n",
      "106                            Will Ferrell 0.00\n",
      "48                  Epsilon Motion Pictures 0.00\n",
      "58                       Revolution Studios 0.00\n",
      "157                            Sam Rockwell 0.00\n",
      "52                  Lakeshore Entertainment 0.00\n",
      "9                               Documentary 0.00\n",
      "168                              Kevin Hart 0.00\n",
      "153                             Keith David 0.00\n",
      "129                          David Koechner 0.00\n",
      "137                          Drew Barrymore 0.00\n",
      "170                       Maggie Gyllenhaal 0.00\n",
      "13                                  Foreign 0.00\n",
      "\n",
      "[181 rows x 2 columns]\n",
      "['Viola Davis', 'Matthew McConaughey', 'Seth Rogen', 'The Weinstein Company', 'George Clooney', 'Chris Evans', 'Scarlett Johansson', 'Spyglass Entertainment', 'Jason Statham', 'Stephen Root', 'Working Title Films', 'Colin Farrell', 'Miramax Films', 'Kristen Wiig', 'Davis Entertainment', 'Lionsgate', 'Dune Entertainment III', 'Screen Gems', 'Gerard Butler', 'Focus Features', 'Julianne Moore', 'StudioCanal', 'Scott Free Productions', 'Studio Babelsberg', 'Ron Perlman', 'Naomi Watts', 'Brian Cox', 'Alec Baldwin', 'Nicolas Cage', 'Peter Sarsgaard', 'James Marsden', 'Susan Sarandon', 'Luis Guzmán', 'Michael Shannon', 'Richard Jenkins', 'Terrence Howard', 'Adam Sandler', 'Nickelodeon Movies', 'Millennium Films', 'Bill Murray', 'Dimension Films', 'Christian Bale', 'Happy Madison Productions', 'Bruce McGill', 'Jennifer Aniston', 'TriStar Pictures', 'Participant Media', 'Aaron Eckhart', 'Will Ferrell', 'Epsilon Motion Pictures', 'Revolution Studios', 'Sam Rockwell', 'Lakeshore Entertainment', 'Documentary', 'Kevin Hart', 'Keith David', 'David Koechner', 'Drew Barrymore', 'Maggie Gyllenhaal', 'Foreign']\n"
     ]
    }
   ],
   "source": [
    "print(model)\n",
    "fi = []\n",
    "for i, col in enumerate(X_test.columns):\n",
    "    fi.append([col, model.feature_importances_[i]])\n",
    "features = pd.DataFrame(fi).sort_values(1, ascending=False)\n",
    "print(type(features))\n",
    "print(features)\n",
    "useless = list(features.loc[features[1] < 0.0003, 0])\n",
    "print(useless)"
   ]
  },
  {
   "cell_type": "markdown",
   "metadata": {},
   "source": [
    "### Error Analysis"
   ]
  },
  {
   "cell_type": "code",
   "execution_count": 36,
   "metadata": {},
   "outputs": [
    {
     "name": "stdout",
     "output_type": "stream",
     "text": [
      "budget                                    814\n",
      "year                                      814\n",
      "collection                                814\n",
      "coll_vote                                 814\n",
      "Action                                    814\n",
      "Adventure                                 814\n",
      "Animation                                 814\n",
      "Comedy                                    814\n",
      "Crime                                     814\n",
      "Documentary                               814\n",
      "Drama                                     814\n",
      "Family                                    814\n",
      "Fantasy                                   814\n",
      "Foreign                                   814\n",
      "History                                   814\n",
      "Horror                                    814\n",
      "Music                                     814\n",
      "Mystery                                   814\n",
      "Romance                                   814\n",
      "Science Fiction                           814\n",
      "Thriller                                  814\n",
      "War                                       814\n",
      "Western                                   814\n",
      "Warner Bros.                              814\n",
      "Universal Pictures                        814\n",
      "Paramount Pictures                        814\n",
      "Columbia Pictures                         814\n",
      "Twentieth Century Fox Film Corporation    814\n",
      "Relativity Media                          814\n",
      "New Line Cinema                           814\n",
      "                                         ... \n",
      "Josh Brolin                               814\n",
      "Julianne Moore                            814\n",
      "Keith David                               814\n",
      "Meryl Streep                              814\n",
      "Michael Peña                              814\n",
      "Robert Downey Jr.                         814\n",
      "Sam Rockwell                              814\n",
      "Steve Buscemi                             814\n",
      "Terrence Howard                           814\n",
      "Charlize Theron                           814\n",
      "Chris Evans                               814\n",
      "Ed Harris                                 814\n",
      "Idris Elba                                814\n",
      "Jeremy Renner                             814\n",
      "John C. Reilly                            814\n",
      "Joseph Gordon-Levitt                      814\n",
      "Judy Greer                                814\n",
      "Kevin Hart                                814\n",
      "Luis Guzmán                               814\n",
      "Maggie Gyllenhaal                         814\n",
      "Michael Caine                             814\n",
      "Michael Sheen                             814\n",
      "Paul Bettany                              814\n",
      "Peter Sarsgaard                           814\n",
      "Ron Perlman                               814\n",
      "Ryan Reynolds                             814\n",
      "Sigourney Weaver                          814\n",
      "Susan Sarandon                            814\n",
      "Tom Hanks                                 814\n",
      "Tom Wilkinson                             814\n",
      "Length: 181, dtype: int64\n",
      "814\n",
      "      budget  year  collection  coll_vote  Action  Adventure  Animation  \\\n",
      "111    15.37  2005           0       0.00       0          0          0   \n",
      "2256   17.22  2013           0       0.00       0          0          0   \n",
      "695    17.28  2011           1     404.00       1          0          0   \n",
      "56     14.51  2009           0       0.00       0          0          0   \n",
      "869    17.03  2016           0       0.00       0          0          0   \n",
      "\n",
      "      Comedy  Crime  Documentary  Drama  Family     ...      Michael Sheen  \\\n",
      "111        0      0            0      0       0     ...                  0   \n",
      "2256       0      0            0      1       0     ...                  0   \n",
      "695        1      1            0      0       0     ...                  0   \n",
      "56         0      1            0      1       0     ...                  0   \n",
      "869        1      0            0      1       0     ...                  0   \n",
      "\n",
      "      Paul Bettany  Peter Sarsgaard  Ron Perlman  Ryan Reynolds  \\\n",
      "111              0                0            0              0   \n",
      "2256             0                0            0              0   \n",
      "695              0                0            0              0   \n",
      "56               0                0            0              0   \n",
      "869              0                0            0              0   \n",
      "\n",
      "      Sigourney Weaver  Susan Sarandon  Tom Hanks  Tom Wilkinson     revenue  \\\n",
      "111                  0               0          0              0   206871.00   \n",
      "2256                 0               0          0              0 82394288.00   \n",
      "695                  0               0          0              0 83615414.00   \n",
      "56                   0               0          0              0     7306.00   \n",
      "869                  0               0          0              0  3885342.00   \n",
      "\n",
      "       prediction   abs_error  \n",
      "111   15254300.84 15047429.84  \n",
      "2256  72755973.37  9638314.63  \n",
      "695  125779105.92 42163691.92  \n",
      "56     3411288.66  3403982.66  \n",
      "869   52510549.15 48625207.15  \n",
      "\n",
      "[5 rows x 184 columns]\n"
     ]
    }
   ],
   "source": [
    "df_new = pd.DataFrame(X_test).copy()\n",
    "print(df_new.count())\n",
    "print(len(y_pred))\n",
    "df_new['revenue'] = y_test\n",
    "df_new['prediction'] = y_pred\n",
    "df_new['abs_error'] = abs(df_new['revenue']-df_new['prediction'])\n",
    "df_new.sort_values(by='abs_error', ascending=False).round()\n",
    "print(df_new.head())"
   ]
  },
  {
   "cell_type": "code",
   "execution_count": 37,
   "metadata": {},
   "outputs": [
    {
     "data": {
      "text/plain": [
       "Drama                       -0.14\n",
       "Horror                      -0.09\n",
       "Crime                       -0.09\n",
       "Romance                     -0.07\n",
       "Documentary                 -0.06\n",
       "Focus Features              -0.06\n",
       "Anthony Mackie              -0.05\n",
       "Western                     -0.05\n",
       "Sam Rockwell                -0.05\n",
       "History                     -0.04\n",
       "Metro-Goldwyn-Mayer (MGM)   -0.04\n",
       "Brad Pitt                   -0.04\n",
       "Robert De Niro              -0.04\n",
       "Davis Entertainment         -0.03\n",
       "Lionsgate                   -0.03\n",
       "Drew Barrymore              -0.03\n",
       "Ken Jeong                   -0.03\n",
       "Fox Searchlight Pictures    -0.03\n",
       "New Line Cinema             -0.03\n",
       "Justin Long                 -0.03\n",
       "Richard Jenkins             -0.03\n",
       "War                         -0.03\n",
       "Millennium Films            -0.03\n",
       "Dimension Films             -0.03\n",
       "Revolution Studios          -0.03\n",
       "Lions Gate Films            -0.03\n",
       "The Weinstein Company       -0.03\n",
       "Michael Shannon             -0.02\n",
       "Cameron Diaz                -0.02\n",
       "Lakeshore Entertainment     -0.02\n",
       "                             ... \n",
       "year                         0.10\n",
       "Tom Hanks                    0.10\n",
       "John C. Reilly               0.11\n",
       "Kristen Wiig                 0.11\n",
       "Samuel L. Jackson            0.11\n",
       "Matthew McConaughey          0.11\n",
       "Fantasy                      0.11\n",
       "Universal Pictures           0.11\n",
       "Jason Bateman                0.11\n",
       "Robert Downey Jr.            0.11\n",
       "Warner Bros.                 0.11\n",
       "Octavia Spencer              0.12\n",
       "Stan Lee                     0.12\n",
       "Paul Bettany                 0.13\n",
       "Original Film                0.15\n",
       "Science Fiction              0.16\n",
       "Scarlett Johansson           0.16\n",
       "Jeremy Renner                0.16\n",
       "Alan Tudyk                   0.22\n",
       "Walt Disney Pictures         0.23\n",
       "Idris Elba                   0.24\n",
       "Family                       0.25\n",
       "Adventure                    0.26\n",
       "collection                   0.26\n",
       "Animation                    0.26\n",
       "budget                       0.40\n",
       "coll_vote                    0.43\n",
       "prediction                   0.60\n",
       "revenue                      0.69\n",
       "abs_error                    1.00\n",
       "Name: abs_error, Length: 183, dtype: float64"
      ]
     },
     "execution_count": 37,
     "metadata": {},
     "output_type": "execute_result"
    }
   ],
   "source": [
    "df_error = df_new[df_new['abs_error']>1]\n",
    "#df_error.groupby()\n",
    "df_error.corr()['abs_error'].dropna().sort_values()"
   ]
  },
  {
   "cell_type": "markdown",
   "metadata": {},
   "source": [
    "### Export the model"
   ]
  },
  {
   "cell_type": "code",
   "execution_count": null,
   "metadata": {},
   "outputs": [],
   "source": []
  }
 ],
 "metadata": {
  "anaconda-cloud": {},
  "kernelspec": {
   "display_name": "Python 3",
   "language": "python",
   "name": "python3"
  },
  "language_info": {
   "codemirror_mode": {
    "name": "ipython",
    "version": 3
   },
   "file_extension": ".py",
   "mimetype": "text/x-python",
   "name": "python",
   "nbconvert_exporter": "python",
   "pygments_lexer": "ipython3",
   "version": "3.6.0"
  }
 },
 "nbformat": 4,
 "nbformat_minor": 1
}
