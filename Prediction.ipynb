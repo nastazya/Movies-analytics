{
 "cells": [
  {
   "cell_type": "markdown",
   "metadata": {},
   "source": [
    "# Prediction of the movie revenue\n",
    "\n",
    "### This dataset *movies_full_with_outliers.csv* can be downloaded from Google drive: https://drive.google.com/drive/folders/1MwFoUvUp2St0Sjq0I9dlNIl_BXkw3fZU"
   ]
  },
  {
   "cell_type": "code",
   "execution_count": 1,
   "metadata": {},
   "outputs": [],
   "source": [
    "# import the library\n",
    "%matplotlib inline\n",
    "\n",
    "import ast\n",
    "import pandas as pd\n",
    "import numpy as np\n",
    "import scipy\n",
    "import matplotlib.pyplot as plt\n",
    "import seaborn as sns\n",
    "\n",
    "    \n",
    "from sklearn.linear_model import LinearRegression\n",
    "from sklearn.ensemble import RandomForestRegressor\n",
    "from sklearn.model_selection import train_test_split\n",
    "\n",
    "from sklearn.preprocessing import normalize\n",
    "\n",
    "from sklearn.model_selection import cross_val_score\n",
    "\n",
    "# apply style to all the charts\n",
    "sns.set_style('whitegrid')\n",
    "\n",
    "# convert scientific notation to decimals\n",
    "pd.set_option('display.float_format', lambda x: '%.2f' % x)\n",
    "pd.set_option('display.max_columns', 24)"
   ]
  },
  {
   "cell_type": "code",
   "execution_count": 2,
   "metadata": {},
   "outputs": [
    {
     "name": "stdout",
     "output_type": "stream",
     "text": [
      "id                                int64\n",
      "title                            object\n",
      "budget                            int64\n",
      "revenue                         float64\n",
      "release_date             datetime64[ns]\n",
      "popularity                      float64\n",
      "vote_average                    float64\n",
      "vote_count                      float64\n",
      "genres                           object\n",
      "production_companies             object\n",
      "belongs_to_collection            object\n",
      "cast                             object\n",
      "keywords                         object\n",
      "dtype: object\n"
     ]
    }
   ],
   "source": [
    "df = pd.read_csv('data/movies_2.csv')\n",
    "df['release_date'] = pd.to_datetime(df['release_date'])\n",
    "print(df.dtypes)"
   ]
  },
  {
   "cell_type": "code",
   "execution_count": 3,
   "metadata": {},
   "outputs": [],
   "source": [
    "#Setting cast, production_companies, genres and keywords types to a list of dictionaries\n",
    "\n",
    "df['genres'] = df['genres'].astype(str)\n",
    "df['production_companies'] = df['production_companies'].astype(str)\n",
    "df['cast'] = df['cast'].astype(str)\n",
    "df['keywords'] = df['keywords'].astype(str)\n",
    "\n",
    "df['genres'] = df['genres'].apply(lambda x: ast.literal_eval(x))\n",
    "df['production_companies'] = df['production_companies'].apply(lambda x: ast.literal_eval(x))\n",
    "df['cast'] = df['cast'].apply(lambda x: ast.literal_eval(x))\n",
    "df['keywords'] = df['keywords'].apply(lambda x: ast.literal_eval(x))"
   ]
  },
  {
   "cell_type": "code",
   "execution_count": 4,
   "metadata": {},
   "outputs": [
    {
     "name": "stdout",
     "output_type": "stream",
     "text": [
      "       title\n",
      "2134  Subway\n",
      "                     title\n",
      "1242  King Solomon's Mines\n"
     ]
    }
   ],
   "source": [
    "#Extra adjustments for the points discovered later during the process\n",
    "\n",
    "#replace FRF budget by USD\n",
    "df.loc[df['id'] == 10656, ['budget']] = 25974\n",
    "print(df.loc[df['id'] == 10656, ['title']])\n",
    "\n",
    "#wrong revenue\n",
    "df.loc[df['id'] == 9838, ['revenue']] = 15057465\n",
    "print(df.loc[df['id'] == 9838, ['title']])"
   ]
  },
  {
   "cell_type": "code",
   "execution_count": 5,
   "metadata": {},
   "outputs": [],
   "source": [
    "# Analize release date\n",
    "# We see that there is a strong tendency of grouth movies produced every year\n",
    "df['year'] = df['release_date'].dt.year\n",
    "df['year_month'] = pd.to_datetime(df['release_date']).dt.to_period('M')"
   ]
  },
  {
   "cell_type": "markdown",
   "metadata": {},
   "source": [
    "### Choosing time period"
   ]
  },
  {
   "cell_type": "code",
   "execution_count": 6,
   "metadata": {},
   "outputs": [
    {
     "name": "stdout",
     "output_type": "stream",
     "text": [
      "(3030, 15)\n"
     ]
    }
   ],
   "source": [
    "#Slicing our data \n",
    "\n",
    "df = df[(df['year']>=2000) & (df['year']<2017)]\n",
    "\n",
    "print(df.shape)"
   ]
  },
  {
   "cell_type": "code",
   "execution_count": 7,
   "metadata": {
    "scrolled": false
   },
   "outputs": [
    {
     "data": {
      "text/html": [
       "<div>\n",
       "<style scoped>\n",
       "    .dataframe tbody tr th:only-of-type {\n",
       "        vertical-align: middle;\n",
       "    }\n",
       "\n",
       "    .dataframe tbody tr th {\n",
       "        vertical-align: top;\n",
       "    }\n",
       "\n",
       "    .dataframe thead th {\n",
       "        text-align: right;\n",
       "    }\n",
       "</style>\n",
       "<table border=\"1\" class=\"dataframe\">\n",
       "  <thead>\n",
       "    <tr style=\"text-align: right;\">\n",
       "      <th></th>\n",
       "      <th>id</th>\n",
       "      <th>title</th>\n",
       "      <th>budget</th>\n",
       "      <th>revenue</th>\n",
       "      <th>release_date</th>\n",
       "      <th>popularity</th>\n",
       "      <th>vote_average</th>\n",
       "      <th>vote_count</th>\n",
       "      <th>genres</th>\n",
       "      <th>production_companies</th>\n",
       "      <th>belongs_to_collection</th>\n",
       "      <th>cast</th>\n",
       "      <th>keywords</th>\n",
       "      <th>year</th>\n",
       "      <th>year_month</th>\n",
       "    </tr>\n",
       "  </thead>\n",
       "  <tbody>\n",
       "    <tr>\n",
       "      <th>3</th>\n",
       "      <td>121173</td>\n",
       "      <td>Voracious</td>\n",
       "      <td>11178</td>\n",
       "      <td>34659.00</td>\n",
       "      <td>2012-09-05</td>\n",
       "      <td>0.08</td>\n",
       "      <td>8.00</td>\n",
       "      <td>1.00</td>\n",
       "      <td>[{'id': 35, 'name': 'Comedy'}, {'id': 18, 'nam...</td>\n",
       "      <td>[{'name': 'APT Entertainment', 'id': 8355}, {'...</td>\n",
       "      <td>0</td>\n",
       "      <td>[{'cast_id': 16, 'character': 'Rene', 'credit_...</td>\n",
       "      <td>[{'id': 4694, 'name': 'staged death'}, {'id': ...</td>\n",
       "      <td>2012</td>\n",
       "      <td>2012-09</td>\n",
       "    </tr>\n",
       "    <tr>\n",
       "      <th>5</th>\n",
       "      <td>110428</td>\n",
       "      <td>Camille Claudel 1915</td>\n",
       "      <td>3512454</td>\n",
       "      <td>115860.00</td>\n",
       "      <td>2013-03-13</td>\n",
       "      <td>0.11</td>\n",
       "      <td>7.00</td>\n",
       "      <td>20.00</td>\n",
       "      <td>[{'id': 18, 'name': 'Drama'}]</td>\n",
       "      <td>[{'name': 'Canal+', 'id': 5358}, {'name': 'Art...</td>\n",
       "      <td>0</td>\n",
       "      <td>[{'cast_id': 3, 'character': 'Camille Claudel'...</td>\n",
       "      <td>[{'id': 254, 'name': 'france'}, {'id': 745, 'n...</td>\n",
       "      <td>2013</td>\n",
       "      <td>2013-03</td>\n",
       "    </tr>\n",
       "    <tr>\n",
       "      <th>6</th>\n",
       "      <td>110428</td>\n",
       "      <td>Camille Claudel 1915</td>\n",
       "      <td>3512454</td>\n",
       "      <td>115860.00</td>\n",
       "      <td>2013-03-13</td>\n",
       "      <td>0.11</td>\n",
       "      <td>7.00</td>\n",
       "      <td>20.00</td>\n",
       "      <td>[{'id': 18, 'name': 'Drama'}]</td>\n",
       "      <td>[{'name': 'Canal+', 'id': 5358}, {'name': 'Art...</td>\n",
       "      <td>0</td>\n",
       "      <td>[{'cast_id': 3, 'character': 'Camille Claudel'...</td>\n",
       "      <td>[{'id': 254, 'name': 'france'}, {'id': 745, 'n...</td>\n",
       "      <td>2013</td>\n",
       "      <td>2013-03</td>\n",
       "    </tr>\n",
       "    <tr>\n",
       "      <th>7</th>\n",
       "      <td>110428</td>\n",
       "      <td>Camille Claudel 1915</td>\n",
       "      <td>3512454</td>\n",
       "      <td>115860.00</td>\n",
       "      <td>2013-03-13</td>\n",
       "      <td>0.11</td>\n",
       "      <td>7.00</td>\n",
       "      <td>20.00</td>\n",
       "      <td>[{'id': 18, 'name': 'Drama'}]</td>\n",
       "      <td>[{'name': 'Canal+', 'id': 5358}, {'name': 'Art...</td>\n",
       "      <td>0</td>\n",
       "      <td>[{'cast_id': 3, 'character': 'Camille Claudel'...</td>\n",
       "      <td>[{'id': 254, 'name': 'france'}, {'id': 745, 'n...</td>\n",
       "      <td>2013</td>\n",
       "      <td>2013-03</td>\n",
       "    </tr>\n",
       "    <tr>\n",
       "      <th>8</th>\n",
       "      <td>110428</td>\n",
       "      <td>Camille Claudel 1915</td>\n",
       "      <td>3512454</td>\n",
       "      <td>115860.00</td>\n",
       "      <td>2013-03-13</td>\n",
       "      <td>0.11</td>\n",
       "      <td>7.00</td>\n",
       "      <td>20.00</td>\n",
       "      <td>[{'id': 18, 'name': 'Drama'}]</td>\n",
       "      <td>[{'name': 'Canal+', 'id': 5358}, {'name': 'Art...</td>\n",
       "      <td>0</td>\n",
       "      <td>[{'cast_id': 3, 'character': 'Camille Claudel'...</td>\n",
       "      <td>[{'id': 254, 'name': 'france'}, {'id': 745, 'n...</td>\n",
       "      <td>2013</td>\n",
       "      <td>2013-03</td>\n",
       "    </tr>\n",
       "  </tbody>\n",
       "</table>\n",
       "</div>"
      ],
      "text/plain": [
       "       id                 title   budget   revenue release_date  popularity  \\\n",
       "3  121173             Voracious    11178  34659.00   2012-09-05        0.08   \n",
       "5  110428  Camille Claudel 1915  3512454 115860.00   2013-03-13        0.11   \n",
       "6  110428  Camille Claudel 1915  3512454 115860.00   2013-03-13        0.11   \n",
       "7  110428  Camille Claudel 1915  3512454 115860.00   2013-03-13        0.11   \n",
       "8  110428  Camille Claudel 1915  3512454 115860.00   2013-03-13        0.11   \n",
       "\n",
       "   vote_average  vote_count  \\\n",
       "3          8.00        1.00   \n",
       "5          7.00       20.00   \n",
       "6          7.00       20.00   \n",
       "7          7.00       20.00   \n",
       "8          7.00       20.00   \n",
       "\n",
       "                                              genres  \\\n",
       "3  [{'id': 35, 'name': 'Comedy'}, {'id': 18, 'nam...   \n",
       "5                      [{'id': 18, 'name': 'Drama'}]   \n",
       "6                      [{'id': 18, 'name': 'Drama'}]   \n",
       "7                      [{'id': 18, 'name': 'Drama'}]   \n",
       "8                      [{'id': 18, 'name': 'Drama'}]   \n",
       "\n",
       "                                production_companies belongs_to_collection  \\\n",
       "3  [{'name': 'APT Entertainment', 'id': 8355}, {'...                     0   \n",
       "5  [{'name': 'Canal+', 'id': 5358}, {'name': 'Art...                     0   \n",
       "6  [{'name': 'Canal+', 'id': 5358}, {'name': 'Art...                     0   \n",
       "7  [{'name': 'Canal+', 'id': 5358}, {'name': 'Art...                     0   \n",
       "8  [{'name': 'Canal+', 'id': 5358}, {'name': 'Art...                     0   \n",
       "\n",
       "                                                cast  \\\n",
       "3  [{'cast_id': 16, 'character': 'Rene', 'credit_...   \n",
       "5  [{'cast_id': 3, 'character': 'Camille Claudel'...   \n",
       "6  [{'cast_id': 3, 'character': 'Camille Claudel'...   \n",
       "7  [{'cast_id': 3, 'character': 'Camille Claudel'...   \n",
       "8  [{'cast_id': 3, 'character': 'Camille Claudel'...   \n",
       "\n",
       "                                            keywords  year year_month  \n",
       "3  [{'id': 4694, 'name': 'staged death'}, {'id': ...  2012    2012-09  \n",
       "5  [{'id': 254, 'name': 'france'}, {'id': 745, 'n...  2013    2013-03  \n",
       "6  [{'id': 254, 'name': 'france'}, {'id': 745, 'n...  2013    2013-03  \n",
       "7  [{'id': 254, 'name': 'france'}, {'id': 745, 'n...  2013    2013-03  \n",
       "8  [{'id': 254, 'name': 'france'}, {'id': 745, 'n...  2013    2013-03  "
      ]
     },
     "execution_count": 7,
     "metadata": {},
     "output_type": "execute_result"
    }
   ],
   "source": [
    "df.head(5)"
   ]
  },
  {
   "cell_type": "markdown",
   "metadata": {},
   "source": [
    "# Choosing the columns"
   ]
  },
  {
   "cell_type": "code",
   "execution_count": 8,
   "metadata": {},
   "outputs": [],
   "source": [
    "X = df[['budget', 'year', 'genres', 'vote_average', 'popularity', 'revenue',  'vote_count', 'belongs_to_collection', 'cast']]\n",
    "# y = df['revenue']\n",
    "# X = X.reset_index(drop=True)\n",
    "# y = y.reset_index(drop=True)"
   ]
  },
  {
   "cell_type": "markdown",
   "metadata": {},
   "source": [
    "# Feature engineering"
   ]
  },
  {
   "cell_type": "markdown",
   "metadata": {},
   "source": [
    "### Budget"
   ]
  },
  {
   "cell_type": "code",
   "execution_count": 9,
   "metadata": {},
   "outputs": [
    {
     "data": {
      "text/plain": [
       "(array([1.977e+03, 5.850e+02, 2.220e+02, 1.450e+02, 5.200e+01, 3.100e+01,\n",
       "        1.400e+01, 3.000e+00, 0.000e+00, 1.000e+00]),\n",
       " array([5.000000e+03, 3.800450e+07, 7.600400e+07, 1.140035e+08,\n",
       "        1.520030e+08, 1.900025e+08, 2.280020e+08, 2.660015e+08,\n",
       "        3.040010e+08, 3.420005e+08, 3.800000e+08]),\n",
       " <a list of 10 Patch objects>)"
      ]
     },
     "execution_count": 9,
     "metadata": {},
     "output_type": "execute_result"
    },
    {
     "data": {
      "image/png": "[encoded data removed]",
      "text/plain": [
       "<Figure size 432x288 with 1 Axes>"
      ]
     },
     "metadata": {
      "needs_background": "light"
     },
     "output_type": "display_data"
    }
   ],
   "source": [
    "plt.hist(X['budget'])"
   ]
  },
  {
   "cell_type": "markdown",
   "metadata": {},
   "source": [
    "Removing outliers"
   ]
  },
  {
   "cell_type": "code",
   "execution_count": 10,
   "metadata": {
    "scrolled": true
   },
   "outputs": [],
   "source": [
    "# print(X['budget'].describe())\n",
    "\n",
    "# mean_a = np.mean(X['budget'])\n",
    "# std_a = np.std(X['budget'])\n",
    "\n",
    "# X = X[(X['budget']>mean_a-3*std_a)&(X['budget']<mean_a+3*std_a)]\n",
    "\n",
    "# print('After removing outliers:')\n",
    "# print(X['budget'].describe())\n",
    "\n",
    "# plt.figure()\n",
    "# plt.hist(X['budget'])\n",
    "# plt.show"
   ]
  },
  {
   "cell_type": "markdown",
   "metadata": {},
   "source": [
    "### Revenue"
   ]
  },
  {
   "cell_type": "code",
   "execution_count": 11,
   "metadata": {},
   "outputs": [
    {
     "data": {
      "text/plain": [
       "(array([2.583e+03, 2.670e+02, 8.400e+01, 4.900e+01, 3.100e+01, 1.000e+01,\n",
       "        3.000e+00, 2.000e+00, 0.000e+00, 1.000e+00]),\n",
       " array([1.98000000e+02, 2.06822541e+08, 4.13644883e+08, 6.20467226e+08,\n",
       "        8.27289568e+08, 1.03411191e+09, 1.24093425e+09, 1.44775660e+09,\n",
       "        1.65457894e+09, 1.86140128e+09, 2.06822362e+09]),\n",
       " <a list of 10 Patch objects>)"
      ]
     },
     "execution_count": 11,
     "metadata": {},
     "output_type": "execute_result"
    },
    {
     "data": {
      "image/png": "[encoded data removed]",
      "text/plain": [
       "<Figure size 432x288 with 1 Axes>"
      ]
     },
     "metadata": {
      "needs_background": "light"
     },
     "output_type": "display_data"
    }
   ],
   "source": [
    "plt.hist(X['revenue'])"
   ]
  },
  {
   "cell_type": "markdown",
   "metadata": {},
   "source": [
    "Removing outliers"
   ]
  },
  {
   "cell_type": "code",
   "execution_count": 12,
   "metadata": {},
   "outputs": [],
   "source": [
    "# print(X['revenue'].describe())\n",
    "\n",
    "# mean_a = np.mean(X['revenue'])\n",
    "# std_a = np.std(X['revenue'])\n",
    "\n",
    "# X = X[(X['revenue']>mean_a-3*std_a)&(X['revenue']<mean_a+3*std_a)]\n",
    "\n",
    "# print('After removing outliers:')\n",
    "# print(X['revenue'].describe())\n",
    "\n",
    "# plt.figure()\n",
    "# plt.hist(X['revenue'])\n",
    "# plt.show"
   ]
  },
  {
   "cell_type": "markdown",
   "metadata": {},
   "source": [
    "### Year"
   ]
  },
  {
   "cell_type": "code",
   "execution_count": 13,
   "metadata": {
    "scrolled": true
   },
   "outputs": [
    {
     "data": {
      "text/plain": [
       "(array([124.,   0.,   0., 130.,   0.,   0., 156.,   0.,   0., 126.,   0.,\n",
       "          0., 153.,   0.,   0., 170.,   0.,   0., 199.,   0.,   0., 168.,\n",
       "          0.,   0.,   0., 184.,   0.,   0., 190.,   0.,   0., 206.,   0.,\n",
       "          0., 217.,   0.,   0., 175.,   0.,   0., 207.,   0.,   0., 187.,\n",
       "          0.,   0., 195.,   0.,   0., 243.]),\n",
       " array([2000.  , 2000.32, 2000.64, 2000.96, 2001.28, 2001.6 , 2001.92,\n",
       "        2002.24, 2002.56, 2002.88, 2003.2 , 2003.52, 2003.84, 2004.16,\n",
       "        2004.48, 2004.8 , 2005.12, 2005.44, 2005.76, 2006.08, 2006.4 ,\n",
       "        2006.72, 2007.04, 2007.36, 2007.68, 2008.  , 2008.32, 2008.64,\n",
       "        2008.96, 2009.28, 2009.6 , 2009.92, 2010.24, 2010.56, 2010.88,\n",
       "        2011.2 , 2011.52, 2011.84, 2012.16, 2012.48, 2012.8 , 2013.12,\n",
       "        2013.44, 2013.76, 2014.08, 2014.4 , 2014.72, 2015.04, 2015.36,\n",
       "        2015.68, 2016.  ]),\n",
       " <a list of 50 Patch objects>)"
      ]
     },
     "execution_count": 13,
     "metadata": {},
     "output_type": "execute_result"
    },
    {
     "data": {
      "image/png": "[encoded data removed]",
      "text/plain": [
       "<Figure size 432x288 with 1 Axes>"
      ]
     },
     "metadata": {
      "needs_background": "light"
     },
     "output_type": "display_data"
    }
   ],
   "source": [
    "plt.hist(X['year'], bins=50)"
   ]
  },
  {
   "cell_type": "markdown",
   "metadata": {},
   "source": [
    "### Vote average"
   ]
  },
  {
   "cell_type": "code",
   "execution_count": 14,
   "metadata": {},
   "outputs": [
    {
     "data": {
      "text/plain": [
       "(array([  1.,   0.,   0.,   0.,   1.,   2.,   2.,   1.,   0.,   1.,   6.,\n",
       "          1.,   2.,   6.,   7.,  20.,   5.,  17.,  12.,  18.,  48.,  36.,\n",
       "         44.,  50., 132.,  72.,  93., 110., 106., 130., 289., 142., 144.,\n",
       "        128., 286., 151., 148., 120., 100., 190.,  80.,  88.,  57.,  43.,\n",
       "         70.,  21.,  20.,  16.,   8.,   6.]),\n",
       " array([2.3 , 2.42, 2.54, 2.66, 2.78, 2.9 , 3.02, 3.14, 3.26, 3.38, 3.5 ,\n",
       "        3.62, 3.74, 3.86, 3.98, 4.1 , 4.22, 4.34, 4.46, 4.58, 4.7 , 4.82,\n",
       "        4.94, 5.06, 5.18, 5.3 , 5.42, 5.54, 5.66, 5.78, 5.9 , 6.02, 6.14,\n",
       "        6.26, 6.38, 6.5 , 6.62, 6.74, 6.86, 6.98, 7.1 , 7.22, 7.34, 7.46,\n",
       "        7.58, 7.7 , 7.82, 7.94, 8.06, 8.18, 8.3 ]),\n",
       " <a list of 50 Patch objects>)"
      ]
     },
     "execution_count": 14,
     "metadata": {},
     "output_type": "execute_result"
    },
    {
     "data": {
      "image/png": "[encoded data removed]",
      "text/plain": [
       "<Figure size 432x288 with 1 Axes>"
      ]
     },
     "metadata": {
      "needs_background": "light"
     },
     "output_type": "display_data"
    }
   ],
   "source": [
    "plt.hist(X['vote_average'], bins=50)"
   ]
  },
  {
   "cell_type": "markdown",
   "metadata": {},
   "source": [
    "Removing outliers"
   ]
  },
  {
   "cell_type": "code",
   "execution_count": 15,
   "metadata": {
    "scrolled": false
   },
   "outputs": [
    {
     "name": "stdout",
     "output_type": "stream",
     "text": [
      "count   3030.00\n",
      "mean       6.24\n",
      "std        0.82\n",
      "min        2.30\n",
      "25%        5.70\n",
      "50%        6.30\n",
      "75%        6.80\n",
      "max        8.30\n",
      "Name: vote_average, dtype: float64\n",
      "After removing outliers:\n",
      "count   3015.00\n",
      "mean       6.25\n",
      "std        0.80\n",
      "min        3.80\n",
      "25%        5.70\n",
      "50%        6.30\n",
      "75%        6.80\n",
      "max        8.30\n",
      "Name: vote_average, dtype: float64\n"
     ]
    },
    {
     "data": {
      "text/plain": [
       "<function matplotlib.pyplot.show(*args, **kw)>"
      ]
     },
     "execution_count": 15,
     "metadata": {},
     "output_type": "execute_result"
    },
    {
     "data": {
      "image/png": "[encoded data removed]",
      "text/plain": [
       "<Figure size 432x288 with 1 Axes>"
      ]
     },
     "metadata": {
      "needs_background": "light"
     },
     "output_type": "display_data"
    }
   ],
   "source": [
    "print(X['vote_average'].describe())\n",
    "\n",
    "mean_a = np.mean(X['vote_average'])\n",
    "std_a = np.std(X['vote_average'])\n",
    "\n",
    "X = X[(X['vote_average']>mean_a-3*std_a)&(X['vote_average']<mean_a+3*std_a)]\n",
    "\n",
    "print('After removing outliers:')\n",
    "print(X['vote_average'].describe())\n",
    "\n",
    "plt.figure()\n",
    "plt.hist(X['vote_average'])\n",
    "plt.show"
   ]
  },
  {
   "cell_type": "markdown",
   "metadata": {},
   "source": [
    "### Year"
   ]
  },
  {
   "cell_type": "code",
   "execution_count": 16,
   "metadata": {},
   "outputs": [],
   "source": [
    "# x_year = pd.get_dummies(X['year'])\n",
    "# for i, col in enumerate(x_year.columns):\n",
    "#     X[col] = x_year[col]\n",
    "# #item = pd.concat([item, item_city], axis=1)\n",
    "# del X['year']\n",
    "# X.head(5)"
   ]
  },
  {
   "cell_type": "markdown",
   "metadata": {},
   "source": [
    "### Popularity"
   ]
  },
  {
   "cell_type": "code",
   "execution_count": 17,
   "metadata": {},
   "outputs": [
    {
     "data": {
      "text/plain": [
       "(array([ 378., 1247.,  917.,  296.,   87.,   38.,   29.,   12.,    7.,\n",
       "           4.]),\n",
       " array([ 0.079287 ,  4.8040248,  9.5287626, 14.2535004, 18.9782382,\n",
       "        23.702976 , 28.4277138, 33.1524516, 37.8771894, 42.6019272,\n",
       "        47.326665 ]),\n",
       " <a list of 10 Patch objects>)"
      ]
     },
     "execution_count": 17,
     "metadata": {},
     "output_type": "execute_result"
    },
    {
     "data": {
      "image/png": "[encoded data removed]",
      "text/plain": [
       "<Figure size 432x288 with 1 Axes>"
      ]
     },
     "metadata": {
      "needs_background": "light"
     },
     "output_type": "display_data"
    }
   ],
   "source": [
    "plt.hist(X['popularity'])"
   ]
  },
  {
   "cell_type": "markdown",
   "metadata": {},
   "source": [
    "Removing outliers"
   ]
  },
  {
   "cell_type": "code",
   "execution_count": 18,
   "metadata": {},
   "outputs": [
    {
     "name": "stdout",
     "output_type": "stream",
     "text": [
      "count   3015.00\n",
      "mean       9.96\n",
      "std        5.73\n",
      "min        0.08\n",
      "25%        6.52\n",
      "50%        9.12\n",
      "75%       12.36\n",
      "max       47.33\n",
      "Name: popularity, dtype: float64\n",
      "After removing outliers:\n",
      "count   2955.00\n",
      "mean       9.49\n",
      "std        4.67\n",
      "min        0.08\n",
      "25%        6.48\n",
      "50%        9.00\n",
      "75%       12.08\n",
      "max       26.97\n",
      "Name: popularity, dtype: float64\n"
     ]
    },
    {
     "data": {
      "text/plain": [
       "<function matplotlib.pyplot.show(*args, **kw)>"
      ]
     },
     "execution_count": 18,
     "metadata": {},
     "output_type": "execute_result"
    },
    {
     "data": {
      "image/png": "[encoded data removed]",
      "text/plain": [
       "<Figure size 432x288 with 1 Axes>"
      ]
     },
     "metadata": {
      "needs_background": "light"
     },
     "output_type": "display_data"
    }
   ],
   "source": [
    "print(X['popularity'].describe())\n",
    "\n",
    "mean_a = np.mean(X['popularity'])\n",
    "std_a = np.std(X['popularity'])\n",
    "\n",
    "X = X[(X['popularity']>mean_a-3*std_a)&(X['popularity']<mean_a+3*std_a)]\n",
    "\n",
    "print('After removing outliers:')\n",
    "print(X['popularity'].describe())\n",
    "\n",
    "plt.figure()\n",
    "plt.hist(X['popularity'])\n",
    "plt.show"
   ]
  },
  {
   "cell_type": "markdown",
   "metadata": {},
   "source": [
    "### Genres"
   ]
  },
  {
   "cell_type": "code",
   "execution_count": 19,
   "metadata": {},
   "outputs": [],
   "source": [
    "index_extractor = lambda df, field, value: [idx for idx, entries in enumerate(df[field]) for item in entries if value in item['name']]\n",
    "list_creator = lambda df, idx: [1 if i in idx else 0 for i in df.index]\n",
    "\n",
    "#Extracting list of genres\n",
    "l=[]\n",
    "for i, item in enumerate(X['genres']):\n",
    "    for cell in item:\n",
    "        l.append(cell['name'])\n",
    "g_name, g_count = np.unique(np.array(l), return_counts=True)\n",
    "\n",
    "# Create column for every genre and assigh 1 or 0\n",
    "for genre in g_name:\n",
    "    idx = index_extractor(X, 'genres', genre)\n",
    "    c = list_creator(X, idx)\n",
    "    genre_col = pd.Series(c)    \n",
    "    X = X.assign(genre_col=genre_col.values)\n",
    "    X.rename(columns={'genre_col':'{0}'.format(genre)}, inplace=True)\n",
    "del X['genres']\n",
    "  \n"
   ]
  },
  {
   "cell_type": "markdown",
   "metadata": {},
   "source": [
    "### belongs_to_collection"
   ]
  },
  {
   "cell_type": "code",
   "execution_count": 20,
   "metadata": {},
   "outputs": [],
   "source": [
    "X['collection'] = [0 if col == '0' else 1 for col in X['belongs_to_collection']]\n",
    "del X['belongs_to_collection']"
   ]
  },
  {
   "cell_type": "markdown",
   "metadata": {},
   "source": [
    "### Production Companies"
   ]
  },
  {
   "cell_type": "code",
   "execution_count": 21,
   "metadata": {},
   "outputs": [],
   "source": [
    "# index_extractor = lambda df, field, value: [idx for idx, entries in enumerate(df[field]) for item in entries if value in item['name']]\n",
    "# list_creator = lambda df, idx: [1 if i in idx else 0 for i in df.index]\n",
    "\n",
    "# #Extracting list of genres\n",
    "# l=[]\n",
    "# for i, item in enumerate(X['production_companies']):\n",
    "#     for cell in item:\n",
    "#         l.append(cell['name'])\n",
    "# p_name, p_count = np.unique(np.array(l), return_counts=True)\n",
    "\n",
    "# prod = zip(p_name, p_count) # list of Unique Values along with occurrence Count\n",
    "# prod = list(prod)\n",
    "# prod = sorted(prod, key = lambda x: x[1], reverse = True)\n",
    "# print('Number of production companies: ', len(prod))\n",
    "    \n",
    "# #100 companies which produced the hihest number of movies\n",
    "# p_name = []\n",
    "# p_count = []\n",
    "# for i in range(100):\n",
    "#     p_name.append(prod[i][0])\n",
    "#     p_count.append(prod[i][1])"
   ]
  },
  {
   "cell_type": "code",
   "execution_count": 22,
   "metadata": {},
   "outputs": [],
   "source": [
    "# # Create column for every production companie and assigh 1 or 0\n",
    "# for prod in p_name:\n",
    "#     idx = index_extractor(X, 'production_companies', prod)\n",
    "#     c = list_creator(X, idx)\n",
    "#     prod_col = pd.Series(c)    \n",
    "#     X = X.assign(prod_col=prod_col.values)\n",
    "#     X.rename(columns={'prod_col':'{0}'.format(prod)}, inplace=True)\n",
    "# del X['production_companies']"
   ]
  },
  {
   "cell_type": "markdown",
   "metadata": {},
   "source": [
    "### Cast"
   ]
  },
  {
   "cell_type": "code",
   "execution_count": 23,
   "metadata": {},
   "outputs": [
    {
     "name": "stdout",
     "output_type": "stream",
     "text": [
      "Number of actors:  39955\n",
      "108 108\n"
     ]
    }
   ],
   "source": [
    "#Extracting list of actors\n",
    "l=[]\n",
    "for i, item in enumerate(X['cast']):\n",
    "    for cell in item:\n",
    "        l.append(cell['name'])\n",
    "a_name, a_count = np.unique(np.array(l), return_counts=True)\n",
    "idx=[]\n",
    "for i, item  in enumerate(a_name):\n",
    "    if (item == 'Kar') | (item == 'George') | (a_name[i] == 'Mario') | (a_name[i] == 'Jack') | (a_name[i] == 'Charle') | (a_name[i] == 'Charlie') | (a_name[i] == 'Mars') | (a_name[i] == 'Terry') | (a_name[i] == 'King') | (a_name[i] == 'Sim') | (a_name[i] == 'Elli') | (a_name[i] == 'Carlos') | (a_name[i] == 'Sandra') | (a_name[i] == 'Justin') | (a_name[i] == 'Shane') | (a_name[i] == 'Angela') | (a_name[i] == 'Eve') | (a_name[i] == 'Foster') | (a_name[i] == 'Take') | (a_name[i] == 'Andrea') | (a_name[i] == 'Ade') | (a_name[i] == 'Tiffany') | (a_name[i] == 'Zoë'):\n",
    "        idx.append(i)\n",
    "    \n",
    "a_name = np.delete(a_name, idx)\n",
    "a_count = np.delete(a_count, idx)\n",
    "\n",
    "act = zip(a_name, a_count) # list of Unique Values along with occurrence Count\n",
    "act = list(act)\n",
    "act = sorted(act, key = lambda x: x[1], reverse = True)\n",
    "print('Number of actors: ', len(act))\n",
    "\n",
    "#100 companies which produced the hihest number of movies\n",
    "a_name = []\n",
    "a_count = []\n",
    "\n",
    "for i in range(len(act)):\n",
    "    if act[i][1] >20:\n",
    "        a_name.append(act[i][0])\n",
    "        a_count.append(act[i][1])\n",
    "\n",
    "        \n",
    "print(len(a_name), len(a_count))\n",
    "# plt.figure(figsize=(16,6))\n",
    "# x_pos = range(len(a_name))\n",
    "# plt.bar(x_pos,a_count, align='center', alpha=0.5)\n",
    "# plt.xticks(x_pos, a_name, rotation='vertical')"
   ]
  },
  {
   "cell_type": "code",
   "execution_count": 24,
   "metadata": {},
   "outputs": [],
   "source": [
    "index_extractor = lambda df, field, value: [idx for idx, entries in enumerate(df[field]) for item in entries if value in item['name']]\n",
    "list_creator = lambda df, idx: [1 if i in idx else 0 for i in df.index]\n",
    "# Create column for every actor and assigh 1 or 0\n",
    "for actor in a_name:\n",
    "    idx = index_extractor(X, 'cast', actor)\n",
    "    c = list_creator(X, idx)\n",
    "    prod_col = pd.Series(c)    \n",
    "    X = X.assign(prod_col=prod_col.values)\n",
    "    X.rename(columns={'prod_col':'{0}'.format(actor)}, inplace=True)\n",
    "del X['cast']"
   ]
  },
  {
   "cell_type": "code",
   "execution_count": 25,
   "metadata": {},
   "outputs": [
    {
     "data": {
      "text/html": [
       "<div>\n",
       "<style scoped>\n",
       "    .dataframe tbody tr th:only-of-type {\n",
       "        vertical-align: middle;\n",
       "    }\n",
       "\n",
       "    .dataframe tbody tr th {\n",
       "        vertical-align: top;\n",
       "    }\n",
       "\n",
       "    .dataframe thead th {\n",
       "        text-align: right;\n",
       "    }\n",
       "</style>\n",
       "<table border=\"1\" class=\"dataframe\">\n",
       "  <thead>\n",
       "    <tr style=\"text-align: right;\">\n",
       "      <th></th>\n",
       "      <th>budget</th>\n",
       "      <th>year</th>\n",
       "      <th>vote_average</th>\n",
       "      <th>popularity</th>\n",
       "      <th>revenue</th>\n",
       "      <th>vote_count</th>\n",
       "      <th>Action</th>\n",
       "      <th>Adventure</th>\n",
       "      <th>Animation</th>\n",
       "      <th>Comedy</th>\n",
       "      <th>Crime</th>\n",
       "      <th>Documentary</th>\n",
       "      <th>...</th>\n",
       "      <th>Kevin Hart</th>\n",
       "      <th>Luis Guzmán</th>\n",
       "      <th>Maggie Gyllenhaal</th>\n",
       "      <th>Michael Gambon</th>\n",
       "      <th>Michael Peña</th>\n",
       "      <th>Peter Sarsgaard</th>\n",
       "      <th>Rosario Dawson</th>\n",
       "      <th>Ryan Reynolds</th>\n",
       "      <th>Simon Pegg</th>\n",
       "      <th>Susan Sarandon</th>\n",
       "      <th>Terrence Howard</th>\n",
       "      <th>Tom Hanks</th>\n",
       "    </tr>\n",
       "  </thead>\n",
       "  <tbody>\n",
       "    <tr>\n",
       "      <th>3</th>\n",
       "      <td>11178</td>\n",
       "      <td>2012</td>\n",
       "      <td>8.00</td>\n",
       "      <td>0.08</td>\n",
       "      <td>34659.00</td>\n",
       "      <td>1.00</td>\n",
       "      <td>0</td>\n",
       "      <td>0</td>\n",
       "      <td>0</td>\n",
       "      <td>0</td>\n",
       "      <td>0</td>\n",
       "      <td>0</td>\n",
       "      <td>...</td>\n",
       "      <td>0</td>\n",
       "      <td>0</td>\n",
       "      <td>0</td>\n",
       "      <td>0</td>\n",
       "      <td>0</td>\n",
       "      <td>0</td>\n",
       "      <td>0</td>\n",
       "      <td>0</td>\n",
       "      <td>0</td>\n",
       "      <td>0</td>\n",
       "      <td>0</td>\n",
       "      <td>0</td>\n",
       "    </tr>\n",
       "    <tr>\n",
       "      <th>5</th>\n",
       "      <td>3512454</td>\n",
       "      <td>2013</td>\n",
       "      <td>7.00</td>\n",
       "      <td>0.11</td>\n",
       "      <td>115860.00</td>\n",
       "      <td>20.00</td>\n",
       "      <td>0</td>\n",
       "      <td>0</td>\n",
       "      <td>0</td>\n",
       "      <td>0</td>\n",
       "      <td>0</td>\n",
       "      <td>0</td>\n",
       "      <td>...</td>\n",
       "      <td>0</td>\n",
       "      <td>0</td>\n",
       "      <td>0</td>\n",
       "      <td>0</td>\n",
       "      <td>0</td>\n",
       "      <td>0</td>\n",
       "      <td>0</td>\n",
       "      <td>0</td>\n",
       "      <td>0</td>\n",
       "      <td>0</td>\n",
       "      <td>0</td>\n",
       "      <td>0</td>\n",
       "    </tr>\n",
       "    <tr>\n",
       "      <th>6</th>\n",
       "      <td>3512454</td>\n",
       "      <td>2013</td>\n",
       "      <td>7.00</td>\n",
       "      <td>0.11</td>\n",
       "      <td>115860.00</td>\n",
       "      <td>20.00</td>\n",
       "      <td>0</td>\n",
       "      <td>0</td>\n",
       "      <td>0</td>\n",
       "      <td>0</td>\n",
       "      <td>0</td>\n",
       "      <td>0</td>\n",
       "      <td>...</td>\n",
       "      <td>0</td>\n",
       "      <td>0</td>\n",
       "      <td>0</td>\n",
       "      <td>0</td>\n",
       "      <td>0</td>\n",
       "      <td>0</td>\n",
       "      <td>0</td>\n",
       "      <td>0</td>\n",
       "      <td>0</td>\n",
       "      <td>0</td>\n",
       "      <td>0</td>\n",
       "      <td>0</td>\n",
       "    </tr>\n",
       "    <tr>\n",
       "      <th>7</th>\n",
       "      <td>3512454</td>\n",
       "      <td>2013</td>\n",
       "      <td>7.00</td>\n",
       "      <td>0.11</td>\n",
       "      <td>115860.00</td>\n",
       "      <td>20.00</td>\n",
       "      <td>0</td>\n",
       "      <td>0</td>\n",
       "      <td>0</td>\n",
       "      <td>0</td>\n",
       "      <td>0</td>\n",
       "      <td>0</td>\n",
       "      <td>...</td>\n",
       "      <td>0</td>\n",
       "      <td>0</td>\n",
       "      <td>0</td>\n",
       "      <td>0</td>\n",
       "      <td>0</td>\n",
       "      <td>0</td>\n",
       "      <td>0</td>\n",
       "      <td>0</td>\n",
       "      <td>0</td>\n",
       "      <td>0</td>\n",
       "      <td>0</td>\n",
       "      <td>0</td>\n",
       "    </tr>\n",
       "    <tr>\n",
       "      <th>8</th>\n",
       "      <td>3512454</td>\n",
       "      <td>2013</td>\n",
       "      <td>7.00</td>\n",
       "      <td>0.11</td>\n",
       "      <td>115860.00</td>\n",
       "      <td>20.00</td>\n",
       "      <td>0</td>\n",
       "      <td>0</td>\n",
       "      <td>0</td>\n",
       "      <td>0</td>\n",
       "      <td>0</td>\n",
       "      <td>0</td>\n",
       "      <td>...</td>\n",
       "      <td>0</td>\n",
       "      <td>0</td>\n",
       "      <td>0</td>\n",
       "      <td>0</td>\n",
       "      <td>0</td>\n",
       "      <td>0</td>\n",
       "      <td>0</td>\n",
       "      <td>0</td>\n",
       "      <td>0</td>\n",
       "      <td>0</td>\n",
       "      <td>0</td>\n",
       "      <td>0</td>\n",
       "    </tr>\n",
       "  </tbody>\n",
       "</table>\n",
       "<p>5 rows × 134 columns</p>\n",
       "</div>"
      ],
      "text/plain": [
       "    budget  year  vote_average  popularity   revenue  vote_count  Action  \\\n",
       "3    11178  2012          8.00        0.08  34659.00        1.00       0   \n",
       "5  3512454  2013          7.00        0.11 115860.00       20.00       0   \n",
       "6  3512454  2013          7.00        0.11 115860.00       20.00       0   \n",
       "7  3512454  2013          7.00        0.11 115860.00       20.00       0   \n",
       "8  3512454  2013          7.00        0.11 115860.00       20.00       0   \n",
       "\n",
       "   Adventure  Animation  Comedy  Crime  Documentary    ...      Kevin Hart  \\\n",
       "3          0          0       0      0            0    ...               0   \n",
       "5          0          0       0      0            0    ...               0   \n",
       "6          0          0       0      0            0    ...               0   \n",
       "7          0          0       0      0            0    ...               0   \n",
       "8          0          0       0      0            0    ...               0   \n",
       "\n",
       "   Luis Guzmán  Maggie Gyllenhaal  Michael Gambon  Michael Peña  \\\n",
       "3            0                  0               0             0   \n",
       "5            0                  0               0             0   \n",
       "6            0                  0               0             0   \n",
       "7            0                  0               0             0   \n",
       "8            0                  0               0             0   \n",
       "\n",
       "   Peter Sarsgaard  Rosario Dawson  Ryan Reynolds  Simon Pegg  Susan Sarandon  \\\n",
       "3                0               0              0           0               0   \n",
       "5                0               0              0           0               0   \n",
       "6                0               0              0           0               0   \n",
       "7                0               0              0           0               0   \n",
       "8                0               0              0           0               0   \n",
       "\n",
       "   Terrence Howard  Tom Hanks  \n",
       "3                0          0  \n",
       "5                0          0  \n",
       "6                0          0  \n",
       "7                0          0  \n",
       "8                0          0  \n",
       "\n",
       "[5 rows x 134 columns]"
      ]
     },
     "execution_count": 25,
     "metadata": {},
     "output_type": "execute_result"
    }
   ],
   "source": [
    "X.head(5)"
   ]
  },
  {
   "cell_type": "code",
   "execution_count": 26,
   "metadata": {},
   "outputs": [
    {
     "data": {
      "text/html": [
       "<div>\n",
       "<style scoped>\n",
       "    .dataframe tbody tr th:only-of-type {\n",
       "        vertical-align: middle;\n",
       "    }\n",
       "\n",
       "    .dataframe tbody tr th {\n",
       "        vertical-align: top;\n",
       "    }\n",
       "\n",
       "    .dataframe thead th {\n",
       "        text-align: right;\n",
       "    }\n",
       "</style>\n",
       "<table border=\"1\" class=\"dataframe\">\n",
       "  <thead>\n",
       "    <tr style=\"text-align: right;\">\n",
       "      <th></th>\n",
       "      <th>budget</th>\n",
       "      <th>year</th>\n",
       "      <th>vote_average</th>\n",
       "      <th>popularity</th>\n",
       "      <th>vote_count</th>\n",
       "      <th>Action</th>\n",
       "      <th>Adventure</th>\n",
       "      <th>Animation</th>\n",
       "      <th>Comedy</th>\n",
       "      <th>Crime</th>\n",
       "      <th>Documentary</th>\n",
       "      <th>Drama</th>\n",
       "      <th>...</th>\n",
       "      <th>Kevin Hart</th>\n",
       "      <th>Luis Guzmán</th>\n",
       "      <th>Maggie Gyllenhaal</th>\n",
       "      <th>Michael Gambon</th>\n",
       "      <th>Michael Peña</th>\n",
       "      <th>Peter Sarsgaard</th>\n",
       "      <th>Rosario Dawson</th>\n",
       "      <th>Ryan Reynolds</th>\n",
       "      <th>Simon Pegg</th>\n",
       "      <th>Susan Sarandon</th>\n",
       "      <th>Terrence Howard</th>\n",
       "      <th>Tom Hanks</th>\n",
       "    </tr>\n",
       "  </thead>\n",
       "  <tbody>\n",
       "    <tr>\n",
       "      <th>0</th>\n",
       "      <td>11178</td>\n",
       "      <td>2012</td>\n",
       "      <td>8.00</td>\n",
       "      <td>0.08</td>\n",
       "      <td>1.00</td>\n",
       "      <td>0</td>\n",
       "      <td>0</td>\n",
       "      <td>0</td>\n",
       "      <td>0</td>\n",
       "      <td>0</td>\n",
       "      <td>0</td>\n",
       "      <td>1</td>\n",
       "      <td>...</td>\n",
       "      <td>0</td>\n",
       "      <td>0</td>\n",
       "      <td>0</td>\n",
       "      <td>0</td>\n",
       "      <td>0</td>\n",
       "      <td>0</td>\n",
       "      <td>0</td>\n",
       "      <td>0</td>\n",
       "      <td>0</td>\n",
       "      <td>0</td>\n",
       "      <td>0</td>\n",
       "      <td>0</td>\n",
       "    </tr>\n",
       "    <tr>\n",
       "      <th>1</th>\n",
       "      <td>3512454</td>\n",
       "      <td>2013</td>\n",
       "      <td>7.00</td>\n",
       "      <td>0.11</td>\n",
       "      <td>20.00</td>\n",
       "      <td>0</td>\n",
       "      <td>0</td>\n",
       "      <td>0</td>\n",
       "      <td>0</td>\n",
       "      <td>0</td>\n",
       "      <td>0</td>\n",
       "      <td>1</td>\n",
       "      <td>...</td>\n",
       "      <td>0</td>\n",
       "      <td>0</td>\n",
       "      <td>0</td>\n",
       "      <td>0</td>\n",
       "      <td>0</td>\n",
       "      <td>0</td>\n",
       "      <td>0</td>\n",
       "      <td>0</td>\n",
       "      <td>0</td>\n",
       "      <td>0</td>\n",
       "      <td>0</td>\n",
       "      <td>0</td>\n",
       "    </tr>\n",
       "    <tr>\n",
       "      <th>2</th>\n",
       "      <td>3512454</td>\n",
       "      <td>2013</td>\n",
       "      <td>7.00</td>\n",
       "      <td>0.11</td>\n",
       "      <td>20.00</td>\n",
       "      <td>0</td>\n",
       "      <td>0</td>\n",
       "      <td>0</td>\n",
       "      <td>0</td>\n",
       "      <td>0</td>\n",
       "      <td>0</td>\n",
       "      <td>1</td>\n",
       "      <td>...</td>\n",
       "      <td>0</td>\n",
       "      <td>0</td>\n",
       "      <td>0</td>\n",
       "      <td>0</td>\n",
       "      <td>0</td>\n",
       "      <td>0</td>\n",
       "      <td>0</td>\n",
       "      <td>0</td>\n",
       "      <td>0</td>\n",
       "      <td>0</td>\n",
       "      <td>0</td>\n",
       "      <td>0</td>\n",
       "    </tr>\n",
       "    <tr>\n",
       "      <th>3</th>\n",
       "      <td>3512454</td>\n",
       "      <td>2013</td>\n",
       "      <td>7.00</td>\n",
       "      <td>0.11</td>\n",
       "      <td>20.00</td>\n",
       "      <td>0</td>\n",
       "      <td>0</td>\n",
       "      <td>0</td>\n",
       "      <td>0</td>\n",
       "      <td>0</td>\n",
       "      <td>0</td>\n",
       "      <td>1</td>\n",
       "      <td>...</td>\n",
       "      <td>0</td>\n",
       "      <td>0</td>\n",
       "      <td>0</td>\n",
       "      <td>0</td>\n",
       "      <td>0</td>\n",
       "      <td>0</td>\n",
       "      <td>0</td>\n",
       "      <td>0</td>\n",
       "      <td>0</td>\n",
       "      <td>0</td>\n",
       "      <td>0</td>\n",
       "      <td>0</td>\n",
       "    </tr>\n",
       "    <tr>\n",
       "      <th>4</th>\n",
       "      <td>3512454</td>\n",
       "      <td>2013</td>\n",
       "      <td>7.00</td>\n",
       "      <td>0.11</td>\n",
       "      <td>20.00</td>\n",
       "      <td>0</td>\n",
       "      <td>0</td>\n",
       "      <td>0</td>\n",
       "      <td>0</td>\n",
       "      <td>0</td>\n",
       "      <td>0</td>\n",
       "      <td>1</td>\n",
       "      <td>...</td>\n",
       "      <td>0</td>\n",
       "      <td>0</td>\n",
       "      <td>0</td>\n",
       "      <td>0</td>\n",
       "      <td>0</td>\n",
       "      <td>0</td>\n",
       "      <td>0</td>\n",
       "      <td>0</td>\n",
       "      <td>0</td>\n",
       "      <td>0</td>\n",
       "      <td>0</td>\n",
       "      <td>0</td>\n",
       "    </tr>\n",
       "  </tbody>\n",
       "</table>\n",
       "<p>5 rows × 133 columns</p>\n",
       "</div>"
      ],
      "text/plain": [
       "    budget  year  vote_average  popularity  vote_count  Action  Adventure  \\\n",
       "0    11178  2012          8.00        0.08        1.00       0          0   \n",
       "1  3512454  2013          7.00        0.11       20.00       0          0   \n",
       "2  3512454  2013          7.00        0.11       20.00       0          0   \n",
       "3  3512454  2013          7.00        0.11       20.00       0          0   \n",
       "4  3512454  2013          7.00        0.11       20.00       0          0   \n",
       "\n",
       "   Animation  Comedy  Crime  Documentary  Drama    ...      Kevin Hart  \\\n",
       "0          0       0      0            0      1    ...               0   \n",
       "1          0       0      0            0      1    ...               0   \n",
       "2          0       0      0            0      1    ...               0   \n",
       "3          0       0      0            0      1    ...               0   \n",
       "4          0       0      0            0      1    ...               0   \n",
       "\n",
       "   Luis Guzmán  Maggie Gyllenhaal  Michael Gambon  Michael Peña  \\\n",
       "0            0                  0               0             0   \n",
       "1            0                  0               0             0   \n",
       "2            0                  0               0             0   \n",
       "3            0                  0               0             0   \n",
       "4            0                  0               0             0   \n",
       "\n",
       "   Peter Sarsgaard  Rosario Dawson  Ryan Reynolds  Simon Pegg  Susan Sarandon  \\\n",
       "0                0               0              0           0               0   \n",
       "1                0               0              0           0               0   \n",
       "2                0               0              0           0               0   \n",
       "3                0               0              0           0               0   \n",
       "4                0               0              0           0               0   \n",
       "\n",
       "   Terrence Howard  Tom Hanks  \n",
       "0                0          0  \n",
       "1                0          0  \n",
       "2                0          0  \n",
       "3                0          0  \n",
       "4                0          0  \n",
       "\n",
       "[5 rows x 133 columns]"
      ]
     },
     "execution_count": 26,
     "metadata": {},
     "output_type": "execute_result"
    }
   ],
   "source": [
    "y = X['revenue']\n",
    "del X['revenue']\n",
    "#del X['year']\n",
    "\n",
    "#X = pd.DataFrame(normalize(X, axis=0))\n",
    "\n",
    "X = X.reset_index(drop=True)\n",
    "y = y.reset_index(drop=True)\n",
    "X.head(5)"
   ]
  },
  {
   "cell_type": "code",
   "execution_count": 27,
   "metadata": {},
   "outputs": [
    {
     "name": "stdout",
     "output_type": "stream",
     "text": [
      "cross_val_score 0.6218258382189076\n"
     ]
    }
   ],
   "source": [
    "scores = cross_val_score(RandomForestRegressor(500), X, y, cv=10)\n",
    "print('cross_val_score', np.mean(scores))"
   ]
  },
  {
   "cell_type": "markdown",
   "metadata": {},
   "source": [
    "### Grid Search"
   ]
  },
  {
   "cell_type": "code",
   "execution_count": 28,
   "metadata": {},
   "outputs": [],
   "source": [
    "# from sklearn.model_selection import GridSearchCV\n",
    "# # Create the parameter grid based on the results of random search \n",
    "# param_grid = {\n",
    "# #    'bootstrap': [True],\n",
    "# #    'max_depth': [80, 90, 100, 110],\n",
    "# #    'max_features': [2, 3],\n",
    "# #    'min_samples_leaf': [3, 4, 5],\n",
    "# #    'min_samples_split': [8, 10, 12],\n",
    "#     'n_estimators': [100, 200, 300, 500, 1000]\n",
    "# }\n",
    "# # Create a based model\n",
    "# rf = RandomForestRegressor()\n",
    "# grid_search = GridSearchCV(estimator = rf, param_grid = param_grid, cv = 3, n_jobs = -1, verbose = 2)\n",
    "# grid_search.fit(X, y)\n",
    "# print(grid_search.best_params_)\n",
    "# print(grid_search.best_score_)\n",
    "# print(grid_search.best_estimator_)"
   ]
  },
  {
   "cell_type": "code",
   "execution_count": 29,
   "metadata": {},
   "outputs": [
    {
     "name": "stdout",
     "output_type": "stream",
     "text": [
      "X_train:  (1979, 133) y_train: (1979,) \n",
      "X_test:  (976, 133) y_test:  (976,)\n"
     ]
    }
   ],
   "source": [
    "X_train, X_test, y_train, y_test = train_test_split(X, y, test_size=0.33, random_state=42)\n",
    "print('X_train: ', X_train.shape, 'y_train:', y_train.shape, '\\nX_test: ', X_test.shape, 'y_test: ', y_test.shape)\n",
    "#print(X_train.head(5))\n",
    "#model = LinearRegression()\n",
    "model = RandomForestRegressor(500)\n",
    "model.fit(X_train, y_train)\n",
    "y_pred = model.predict(X_test)"
   ]
  },
  {
   "cell_type": "code",
   "execution_count": 30,
   "metadata": {},
   "outputs": [
    {
     "name": "stdout",
     "output_type": "stream",
     "text": [
      "MAE 43429492.85823361\n"
     ]
    },
    {
     "data": {
      "image/png": "[encoded data removed]",
      "text/plain": [
       "<Figure size 432x288 with 1 Axes>"
      ]
     },
     "metadata": {
      "needs_background": "light"
     },
     "output_type": "display_data"
    }
   ],
   "source": [
    "# Evaluate the model using the Mean Absolute Error\n",
    "from sklearn.metrics import mean_absolute_error\n",
    "print('MAE', mean_absolute_error(y_test, y_pred))\n",
    "\n",
    "# plot the results\n",
    "plt.scatter(y_test, y_pred, alpha=0.3)\n",
    "plt.show()"
   ]
  },
  {
   "cell_type": "markdown",
   "metadata": {},
   "source": [
    "### Feature Importances"
   ]
  },
  {
   "cell_type": "code",
   "execution_count": 31,
   "metadata": {},
   "outputs": [
    {
     "name": "stdout",
     "output_type": "stream",
     "text": [
      "<class 'pandas.core.frame.DataFrame'>\n",
      "                        0    1\n",
      "0                  budget 0.54\n",
      "4              vote_count 0.30\n",
      "3              popularity 0.06\n",
      "2            vote_average 0.04\n",
      "1                    year 0.03\n",
      "24             collection 0.02\n",
      "20        Science Fiction 0.00\n",
      "11                  Drama 0.00\n",
      "8                  Comedy 0.00\n",
      "21               Thriller 0.00\n",
      "5                  Action 0.00\n",
      "98           Stephen Root 0.00\n",
      "19                Romance 0.00\n",
      "9                   Crime 0.00\n",
      "16                 Horror 0.00\n",
      "112         Michael Sheen 0.00\n",
      "12                 Family 0.00\n",
      "40             Seth Rogen 0.00\n",
      "67          Mark Wahlberg 0.00\n",
      "18                Mystery 0.00\n",
      "15                History 0.00\n",
      "6               Adventure 0.00\n",
      "122           Luis Guzmán 0.00\n",
      "13                Fantasy 0.00\n",
      "7               Animation 0.00\n",
      "42          Paul Giamatti 0.00\n",
      "66          Julia Roberts 0.00\n",
      "90           Bruce McGill 0.00\n",
      "30            Liam Neeson 0.00\n",
      "34              Brad Pitt 0.00\n",
      "..                    ...  ...\n",
      "119  Joseph Gordon-Levitt 0.00\n",
      "86          Tom Wilkinson 0.00\n",
      "88             Alan Tudyk 0.00\n",
      "100          Adam Sandler 0.00\n",
      "58        Michael Shannon 0.00\n",
      "69            Johnny Depp 0.00\n",
      "75              Paul Rudd 0.00\n",
      "125          Michael Peña 0.00\n",
      "108  Helena Bonham Carter 0.00\n",
      "82           Meryl Streep 0.00\n",
      "79             Jack Black 0.00\n",
      "46           Ben Kingsley 0.00\n",
      "105           Ben Affleck 0.00\n",
      "89            Bill Murray 0.00\n",
      "48          Colin Farrell 0.00\n",
      "116             Brian Cox 0.00\n",
      "77         Cate Blanchett 0.00\n",
      "52        Brendan Gleeson 0.00\n",
      "114            Toby Jones 0.00\n",
      "72            Mark Strong 0.00\n",
      "118             Ed Harris 0.00\n",
      "83        Richard Jenkins 0.00\n",
      "123     Maggie Gyllenhaal 0.00\n",
      "97            Keith David 0.00\n",
      "130        Susan Sarandon 0.00\n",
      "126       Peter Sarsgaard 0.00\n",
      "85          Steve Buscemi 0.00\n",
      "115           Viola Davis 0.00\n",
      "54         Dwayne Johnson 0.00\n",
      "78         David Koechner 0.00\n",
      "\n",
      "[133 rows x 2 columns]\n",
      "['Adventure', 'Luis Guzmán', 'Fantasy', 'Animation', 'Paul Giamatti', 'Julia Roberts', 'Bruce McGill', 'Liam Neeson', 'Brad Pitt', 'Rosario Dawson', 'Bill Hader', 'Will Ferrell', 'John C. Reilly', 'Kate Winslet', 'Aaron Eckhart', 'Documentary', 'John Leguizamo', 'Simon Pegg', 'Morgan Freeman', 'Hugh Jackman', 'Michael Gambon', 'Willem Dafoe', 'J.K. Simmons', 'Jonah Hill', 'Julianne Moore', 'Ben Stiller', 'Nicolas Cage', 'Alec Baldwin', 'Anne Hathaway', 'Kristen Wiig', 'Justin Long', 'John Goodman', 'War', 'Drew Barrymore', 'Tom Hanks', 'Jennifer Aniston', 'Matt Damon', 'Amy Adams', 'Jason Statham', 'Octavia Spencer', 'Bradley Cooper', 'Naomi Watts', 'Bruce Willis', 'Music', 'James Franco', 'Bill Nighy', 'Samuel L. Jackson', 'Jude Law', 'Elizabeth Banks', 'Mark Ruffalo', 'Nicole Kidman', 'Christian Bale', 'Stanley Tucci', 'Matthew McConaughey', 'Kevin Hart', 'Ken Jeong', 'Woody Harrelson', 'Jim Broadbent', 'George Clooney', 'Robert De Niro', 'Vince Vaughn', 'Steve Carell', 'Dennis Quaid', 'Gerard Butler', 'Owen Wilson', 'Sam Rockwell', 'Western', 'Cameron Diaz', 'Ciarán Hinds', 'Foreign', 'Bruce Greenwood', 'Ewan McGregor', 'Channing Tatum', 'Antonio Banderas', 'Chloë Grace Moretz', 'Ryan Reynolds', 'James Marsden', 'Angelina Jolie', 'Anthony Mackie', 'Jason Bateman', 'Terrence Howard', 'Kristen Stewart', 'Joseph Gordon-Levitt', 'Tom Wilkinson', 'Alan Tudyk', 'Adam Sandler', 'Michael Shannon', 'Johnny Depp', 'Paul Rudd', 'Michael Peña', 'Helena Bonham Carter', 'Meryl Streep', 'Jack Black', 'Ben Kingsley', 'Ben Affleck', 'Bill Murray', 'Colin Farrell', 'Brian Cox', 'Cate Blanchett', 'Brendan Gleeson', 'Toby Jones', 'Mark Strong', 'Ed Harris', 'Richard Jenkins', 'Maggie Gyllenhaal', 'Keith David', 'Susan Sarandon', 'Peter Sarsgaard', 'Steve Buscemi', 'Viola Davis', 'Dwayne Johnson', 'David Koechner']\n"
     ]
    }
   ],
   "source": [
    "fi = []\n",
    "for i, col in enumerate(X_test.columns):\n",
    "    fi.append([col, model.feature_importances_[i]])\n",
    "features = pd.DataFrame(fi).sort_values(1, ascending=False)\n",
    "print(type(features))\n",
    "print(features)\n",
    "useless = list(features.loc[features[1] < 0.0003, 0])\n",
    "print(useless)"
   ]
  },
  {
   "cell_type": "markdown",
   "metadata": {},
   "source": [
    "### Error Analysis"
   ]
  },
  {
   "cell_type": "code",
   "execution_count": 32,
   "metadata": {},
   "outputs": [
    {
     "name": "stdout",
     "output_type": "stream",
     "text": [
      "budget                  976\n",
      "year                    976\n",
      "vote_average            976\n",
      "popularity              976\n",
      "vote_count              976\n",
      "Action                  976\n",
      "Adventure               976\n",
      "Animation               976\n",
      "Comedy                  976\n",
      "Crime                   976\n",
      "Documentary             976\n",
      "Drama                   976\n",
      "Family                  976\n",
      "Fantasy                 976\n",
      "Foreign                 976\n",
      "History                 976\n",
      "Horror                  976\n",
      "Music                   976\n",
      "Mystery                 976\n",
      "Romance                 976\n",
      "Science Fiction         976\n",
      "Thriller                976\n",
      "War                     976\n",
      "Western                 976\n",
      "collection              976\n",
      "Matt Damon              976\n",
      "Bruce Willis            976\n",
      "J.K. Simmons            976\n",
      "Morgan Freeman          976\n",
      "Samuel L. Jackson       976\n",
      "                       ... \n",
      "Anne Hathaway           976\n",
      "Antonio Banderas        976\n",
      "Ben Affleck             976\n",
      "Bruce Greenwood         976\n",
      "Chloë Grace Moretz      976\n",
      "Helena Bonham Carter    976\n",
      "John C. Reilly          976\n",
      "Jude Law                976\n",
      "Mark Ruffalo            976\n",
      "Michael Sheen           976\n",
      "Octavia Spencer         976\n",
      "Toby Jones              976\n",
      "Viola Davis             976\n",
      "Brian Cox               976\n",
      "Christian Bale          976\n",
      "Ed Harris               976\n",
      "Joseph Gordon-Levitt    976\n",
      "Kate Winslet            976\n",
      "Kevin Hart              976\n",
      "Luis Guzmán             976\n",
      "Maggie Gyllenhaal       976\n",
      "Michael Gambon          976\n",
      "Michael Peña            976\n",
      "Peter Sarsgaard         976\n",
      "Rosario Dawson          976\n",
      "Ryan Reynolds           976\n",
      "Simon Pegg              976\n",
      "Susan Sarandon          976\n",
      "Terrence Howard         976\n",
      "Tom Hanks               976\n",
      "Length: 133, dtype: int64\n",
      "976\n",
      "         budget  year  vote_average  popularity  vote_count  Action  \\\n",
      "1746  127500000  2000          6.20       10.00      563.00       1   \n",
      "2768  144000000  2016          5.30       17.16     2203.00       0   \n",
      "174    16000000  2011          6.60        2.25       10.00       0   \n",
      "2845   58800000  2014          7.40       19.23     4600.00       0   \n",
      "2954    3500000  2013          6.10       26.97      668.00       0   \n",
      "\n",
      "      Adventure  Animation  Comedy  Crime  Documentary  Drama     ...       \\\n",
      "1746          1          0       0      0            0      0     ...        \n",
      "2768          0          0       0      0            0      0     ...        \n",
      "174           0          0       1      0            0      1     ...        \n",
      "2845          0          0       0      0            0      0     ...        \n",
      "2954          0          0       0      0            0      0     ...        \n",
      "\n",
      "      Michael Gambon  Michael Peña  Peter Sarsgaard  Rosario Dawson  \\\n",
      "1746               0             1                0               0   \n",
      "2768               0             0                0               0   \n",
      "174                0             0                0               0   \n",
      "2845               0             0                0               0   \n",
      "2954               0             0                0               0   \n",
      "\n",
      "      Ryan Reynolds  Simon Pegg  Susan Sarandon  Terrence Howard  Tom Hanks  \\\n",
      "1746              0           0               0                0          0   \n",
      "2768              0           0               0                0          0   \n",
      "174               0           0               0                0          0   \n",
      "2845              0           0               0                0          0   \n",
      "2954              0           0               0                0          0   \n",
      "\n",
      "          revenue   prediction    abs_error  \n",
      "1746 354248063.00 181889646.40 172358416.60  \n",
      "2768 229147509.00 360460101.68 131312592.68  \n",
      "174   98900000.00  14863659.96  84036340.04  \n",
      "2845 542307423.00 235359684.88 306947738.12  \n",
      "2954  25174316.00  19302098.78   5872217.22  \n",
      "\n",
      "[5 rows x 136 columns]\n"
     ]
    }
   ],
   "source": [
    "df_new = pd.DataFrame(X_test).copy()\n",
    "print(df_new.count())\n",
    "print(len(y_pred))\n",
    "df_new['revenue'] = y_test\n",
    "df_new['prediction'] = y_pred\n",
    "df_new['abs_error'] = abs(df_new['revenue']-df_new['prediction'])\n",
    "df_new.sort_values(by='abs_error', ascending=False).round()\n",
    "print(df_new.head())"
   ]
  },
  {
   "cell_type": "code",
   "execution_count": 33,
   "metadata": {},
   "outputs": [
    {
     "data": {
      "text/plain": [
       "Drama                -0.18\n",
       "Comedy               -0.12\n",
       "Romance              -0.12\n",
       "Thriller             -0.09\n",
       "Crime                -0.06\n",
       "Adventure            -0.06\n",
       "Mystery              -0.06\n",
       "Action               -0.06\n",
       "Horror               -0.05\n",
       "Western              -0.05\n",
       "Science Fiction      -0.05\n",
       "Cate Blanchett       -0.04\n",
       "Documentary          -0.04\n",
       "Cameron Diaz         -0.04\n",
       "Morgan Freeman       -0.04\n",
       "Brian Cox            -0.04\n",
       "David Koechner       -0.04\n",
       "Elizabeth Banks      -0.04\n",
       "Bradley Cooper       -0.04\n",
       "Ben Affleck          -0.04\n",
       "Steve Carell         -0.04\n",
       "Dwayne Johnson       -0.04\n",
       "Dennis Quaid         -0.04\n",
       "Brad Pitt            -0.03\n",
       "Chloë Grace Moretz   -0.03\n",
       "History              -0.03\n",
       "Maggie Gyllenhaal    -0.03\n",
       "Gerard Butler        -0.03\n",
       "James Marsden        -0.03\n",
       "John Goodman         -0.03\n",
       "                      ... \n",
       "Jennifer Aniston     -0.01\n",
       "Kevin Hart           -0.00\n",
       "Michael Peña         -0.00\n",
       "Richard Jenkins      -0.00\n",
       "Alan Tudyk           -0.00\n",
       "Justin Long          -0.00\n",
       "Bill Hader           -0.00\n",
       "Animation            -0.00\n",
       "George Clooney       -0.00\n",
       "Bruce Greenwood       0.00\n",
       "Steve Buscemi         0.01\n",
       "Ewan McGregor         0.01\n",
       "Ben Kingsley          0.02\n",
       "Rosario Dawson        0.02\n",
       "Paul Rudd             0.02\n",
       "Stephen Root          0.02\n",
       "Sam Rockwell          0.03\n",
       "Adam Sandler          0.03\n",
       "Jason Statham         0.03\n",
       "year                  0.04\n",
       "Nicolas Cage          0.04\n",
       "Bill Nighy            0.06\n",
       "vote_average          0.11\n",
       "collection            0.27\n",
       "popularity            0.36\n",
       "budget                0.49\n",
       "vote_count            0.52\n",
       "prediction            0.56\n",
       "revenue               0.71\n",
       "abs_error             1.00\n",
       "Name: abs_error, Length: 135, dtype: float64"
      ]
     },
     "execution_count": 33,
     "metadata": {},
     "output_type": "execute_result"
    }
   ],
   "source": [
    "df_error = df_new[df_new['abs_error']>1]\n",
    "#df_error.groupby()\n",
    "df_error.corr()['abs_error'].dropna().sort_values()"
   ]
  },
  {
   "cell_type": "code",
   "execution_count": null,
   "metadata": {},
   "outputs": [],
   "source": []
  }
 ],
 "metadata": {
  "anaconda-cloud": {},
  "kernelspec": {
   "display_name": "Python 3",
   "language": "python",
   "name": "python3"
  },
  "language_info": {
   "codemirror_mode": {
    "name": "ipython",
    "version": 3
   },
   "file_extension": ".py",
   "mimetype": "text/x-python",
   "name": "python",
   "nbconvert_exporter": "python",
   "pygments_lexer": "ipython3",
   "version": "3.6.0"
  }
 },
 "nbformat": 4,
 "nbformat_minor": 1
}
