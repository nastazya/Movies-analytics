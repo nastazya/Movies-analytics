{
 "cells": [
  {
   "cell_type": "markdown",
   "metadata": {},
   "source": [
    "# Exploratory Data Analysis\n",
    "\n",
    "### This dataset *movies_full.csv* is downloaded to GitHub: https://github.com/nastazya/Movies-analytics/tree/master/data"
   ]
  },
  {
   "cell_type": "code",
   "execution_count": 1,
   "metadata": {},
   "outputs": [],
   "source": [
    "# import the library\n",
    "%matplotlib inline\n",
    "\n",
    "import ast\n",
    "import pandas as pd\n",
    "import numpy as np\n",
    "import scipy\n",
    "import matplotlib.pyplot as plt\n",
    "import seaborn as sns\n",
    "\n",
    "# apply style to all the charts\n",
    "sns.set_style('whitegrid')\n",
    "\n",
    "# convert scientific notation to decimals\n",
    "pd.set_option('display.float_format', lambda x: '%.2f' % x)\n",
    "pd.set_option('display.max_columns', 24)"
   ]
  },
  {
   "cell_type": "code",
   "execution_count": 2,
   "metadata": {},
   "outputs": [
    {
     "name": "stdout",
     "output_type": "stream",
     "text": [
      "id                               int64\n",
      "title                           object\n",
      "budget                           int64\n",
      "revenue                        float64\n",
      "release_date            datetime64[ns]\n",
      "popularity                     float64\n",
      "vote_average                   float64\n",
      "genres                          object\n",
      "production_companies            object\n",
      "cast                            object\n",
      "keywords                        object\n",
      "dtype: object\n"
     ]
    }
   ],
   "source": [
    "df = pd.read_csv('data/movies_full.csv')\n",
    "df['release_date'] = pd.to_datetime(df['release_date'])\n",
    "print(df.dtypes)"
   ]
  },
  {
   "cell_type": "code",
   "execution_count": 3,
   "metadata": {},
   "outputs": [
    {
     "name": "stdout",
     "output_type": "stream",
     "text": [
      "\n",
      "Genres cell:  <class 'list'> . \n",
      "Cell[0]:  {'id': 27, 'name': 'Horror'} :  <class 'dict'>\n",
      "\n",
      "Production_companies cell:  <class 'list'> . \n",
      "Cell[0]:  {'name': 'William Castle Productions', 'id': 10324} :  <class 'dict'>\n",
      "\n",
      "Cast cell:  <class 'list'> . \n",
      "Cell[0]:  {'cast_id': 5, 'character': 'Dr. Rodney Barrett', 'credit_id': '52fe45dcc3a368484e073031', 'gender': 2, 'id': 46099, 'name': 'William Prince', 'order': 0, 'profile_path': '/w5aLRVfH98WHH5wezzMT9oAB8t0.jpg'} :  <class 'dict'>\n",
      "\n",
      "Keywords cell:  <class 'list'> . \n",
      "Cell[0]:  {'id': 428, 'name': 'nurse'} :  <class 'dict'>\n"
     ]
    }
   ],
   "source": [
    "#Setting cast, production_companies, genres and keywords types to a list of dictionaries\n",
    "\n",
    "df['genres'] = df['genres'].astype(str)\n",
    "df['production_companies'] = df['production_companies'].astype(str)\n",
    "df['cast'] = df['cast'].astype(str)\n",
    "df['keywords'] = df['keywords'].astype(str)\n",
    "\n",
    "df['genres'] = df['genres'].apply(lambda x: ast.literal_eval(x))\n",
    "df['production_companies'] = df['production_companies'].apply(lambda x: ast.literal_eval(x))\n",
    "df['cast'] = df['cast'].apply(lambda x: ast.literal_eval(x))\n",
    "df['keywords'] = df['keywords'].apply(lambda x: ast.literal_eval(x))\n",
    "\n",
    "#checking results\n",
    "cell = df['genres'][100]\n",
    "print('\\nGenres cell: ', type(cell), '. \\nCell[0]: ', cell[0], ': ', type(cell[0]))\n",
    "\n",
    "cell = df['production_companies'][100]\n",
    "print('\\nProduction_companies cell: ', type(cell), '. \\nCell[0]: ', cell[0], ': ', type(cell[0]))\n",
    "\n",
    "cell = df['cast'][100]\n",
    "print('\\nCast cell: ', type(cell), '. \\nCell[0]: ', cell[0], ': ', type(cell[0]))\n",
    "\n",
    "cell = df['keywords'][100]\n",
    "print('\\nKeywords cell: ', type(cell), '. \\nCell[0]: ', cell[0], ': ', type(cell[0]))"
   ]
  },
  {
   "cell_type": "code",
   "execution_count": 4,
   "metadata": {},
   "outputs": [
    {
     "data": {
      "text/html": [
       "<div>\n",
       "<style scoped>\n",
       "    .dataframe tbody tr th:only-of-type {\n",
       "        vertical-align: middle;\n",
       "    }\n",
       "\n",
       "    .dataframe tbody tr th {\n",
       "        vertical-align: top;\n",
       "    }\n",
       "\n",
       "    .dataframe thead th {\n",
       "        text-align: right;\n",
       "    }\n",
       "</style>\n",
       "<table border=\"1\" class=\"dataframe\">\n",
       "  <thead>\n",
       "    <tr style=\"text-align: right;\">\n",
       "      <th></th>\n",
       "      <th>id</th>\n",
       "      <th>title</th>\n",
       "      <th>budget</th>\n",
       "      <th>revenue</th>\n",
       "      <th>release_date</th>\n",
       "      <th>popularity</th>\n",
       "      <th>vote_average</th>\n",
       "      <th>genres</th>\n",
       "      <th>production_companies</th>\n",
       "      <th>cast</th>\n",
       "      <th>keywords</th>\n",
       "    </tr>\n",
       "  </thead>\n",
       "  <tbody>\n",
       "    <tr>\n",
       "      <th>0</th>\n",
       "      <td>36523</td>\n",
       "      <td>Felix The Cat: The Movie</td>\n",
       "      <td>9000000</td>\n",
       "      <td>1964253.00</td>\n",
       "      <td>1988-10-01</td>\n",
       "      <td>0.03</td>\n",
       "      <td>3.70</td>\n",
       "      <td>[{'id': 16, 'name': 'Animation'}, {'id': 10751...</td>\n",
       "      <td>[{'name': 'Pannónia Filmstúdió', 'id': 48669},...</td>\n",
       "      <td>[{'cast_id': 1, 'character': 'Felix the Cat (V...</td>\n",
       "      <td>[{'id': 9820, 'name': 'alternate dimension'}, ...</td>\n",
       "    </tr>\n",
       "    <tr>\n",
       "      <th>1</th>\n",
       "      <td>68351</td>\n",
       "      <td>Sankofa</td>\n",
       "      <td>1000000</td>\n",
       "      <td>2691899.00</td>\n",
       "      <td>1993-05-28</td>\n",
       "      <td>0.05</td>\n",
       "      <td>6.90</td>\n",
       "      <td>[{'id': 18, 'name': 'Drama'}]</td>\n",
       "      <td>[{'name': 'Channel Four Films', 'id': 181}, {'...</td>\n",
       "      <td>[{'cast_id': 6, 'character': 'Sankofa', 'credi...</td>\n",
       "      <td>[{'id': 409, 'name': 'africa'}, {'id': 2831, '...</td>\n",
       "    </tr>\n",
       "    <tr>\n",
       "      <th>2</th>\n",
       "      <td>285908</td>\n",
       "      <td>The Last Breath</td>\n",
       "      <td>3800000</td>\n",
       "      <td>559298.00</td>\n",
       "      <td>1999-03-25</td>\n",
       "      <td>0.07</td>\n",
       "      <td>4.00</td>\n",
       "      <td>[{'id': 80, 'name': 'Crime'}, {'id': 18, 'name...</td>\n",
       "      <td>[{'name': 'Lions Gate Films', 'id': 35}]</td>\n",
       "      <td>[{'cast_id': 0, 'character': 'Lauren Vaillanco...</td>\n",
       "      <td>[{'id': 10714, 'name': 'serial killer'}]</td>\n",
       "    </tr>\n",
       "    <tr>\n",
       "      <th>3</th>\n",
       "      <td>121173</td>\n",
       "      <td>Voracious</td>\n",
       "      <td>11178</td>\n",
       "      <td>34659.00</td>\n",
       "      <td>2012-09-05</td>\n",
       "      <td>0.08</td>\n",
       "      <td>8.00</td>\n",
       "      <td>[{'id': 35, 'name': 'Comedy'}, {'id': 18, 'nam...</td>\n",
       "      <td>[{'name': 'APT Entertainment', 'id': 8355}, {'...</td>\n",
       "      <td>[{'cast_id': 16, 'character': 'Rene', 'credit_...</td>\n",
       "      <td>[{'id': 4694, 'name': 'staged death'}, {'id': ...</td>\n",
       "    </tr>\n",
       "    <tr>\n",
       "      <th>4</th>\n",
       "      <td>110669</td>\n",
       "      <td>Wabash Avenue</td>\n",
       "      <td>2115000</td>\n",
       "      <td>2039000.00</td>\n",
       "      <td>1950-03-31</td>\n",
       "      <td>0.11</td>\n",
       "      <td>7.00</td>\n",
       "      <td>[{'id': 10402, 'name': 'Music'}]</td>\n",
       "      <td>[{'name': 'Twentieth Century Fox Film Corporat...</td>\n",
       "      <td>[{'cast_id': 1004, 'character': 'Ruby Summers'...</td>\n",
       "      <td>[{'id': 4344, 'name': 'musical'}, {'id': 4497,...</td>\n",
       "    </tr>\n",
       "    <tr>\n",
       "      <th>5</th>\n",
       "      <td>110428</td>\n",
       "      <td>Camille Claudel 1915</td>\n",
       "      <td>3512454</td>\n",
       "      <td>115860.00</td>\n",
       "      <td>2013-03-13</td>\n",
       "      <td>0.11</td>\n",
       "      <td>7.00</td>\n",
       "      <td>[{'id': 18, 'name': 'Drama'}]</td>\n",
       "      <td>[{'name': 'Canal+', 'id': 5358}, {'name': 'Art...</td>\n",
       "      <td>[{'cast_id': 3, 'character': 'Camille Claudel'...</td>\n",
       "      <td>[{'id': 254, 'name': 'france'}, {'id': 745, 'n...</td>\n",
       "    </tr>\n",
       "    <tr>\n",
       "      <th>6</th>\n",
       "      <td>110428</td>\n",
       "      <td>Camille Claudel 1915</td>\n",
       "      <td>3512454</td>\n",
       "      <td>115860.00</td>\n",
       "      <td>2013-03-13</td>\n",
       "      <td>0.11</td>\n",
       "      <td>7.00</td>\n",
       "      <td>[{'id': 18, 'name': 'Drama'}]</td>\n",
       "      <td>[{'name': 'Canal+', 'id': 5358}, {'name': 'Art...</td>\n",
       "      <td>[{'cast_id': 3, 'character': 'Camille Claudel'...</td>\n",
       "      <td>[{'id': 254, 'name': 'france'}, {'id': 745, 'n...</td>\n",
       "    </tr>\n",
       "    <tr>\n",
       "      <th>7</th>\n",
       "      <td>110428</td>\n",
       "      <td>Camille Claudel 1915</td>\n",
       "      <td>3512454</td>\n",
       "      <td>115860.00</td>\n",
       "      <td>2013-03-13</td>\n",
       "      <td>0.11</td>\n",
       "      <td>7.00</td>\n",
       "      <td>[{'id': 18, 'name': 'Drama'}]</td>\n",
       "      <td>[{'name': 'Canal+', 'id': 5358}, {'name': 'Art...</td>\n",
       "      <td>[{'cast_id': 3, 'character': 'Camille Claudel'...</td>\n",
       "      <td>[{'id': 254, 'name': 'france'}, {'id': 745, 'n...</td>\n",
       "    </tr>\n",
       "    <tr>\n",
       "      <th>8</th>\n",
       "      <td>110428</td>\n",
       "      <td>Camille Claudel 1915</td>\n",
       "      <td>3512454</td>\n",
       "      <td>115860.00</td>\n",
       "      <td>2013-03-13</td>\n",
       "      <td>0.11</td>\n",
       "      <td>7.00</td>\n",
       "      <td>[{'id': 18, 'name': 'Drama'}]</td>\n",
       "      <td>[{'name': 'Canal+', 'id': 5358}, {'name': 'Art...</td>\n",
       "      <td>[{'cast_id': 3, 'character': 'Camille Claudel'...</td>\n",
       "      <td>[{'id': 254, 'name': 'france'}, {'id': 745, 'n...</td>\n",
       "    </tr>\n",
       "    <tr>\n",
       "      <th>9</th>\n",
       "      <td>53863</td>\n",
       "      <td>Star of Midnight</td>\n",
       "      <td>280</td>\n",
       "      <td>831.00</td>\n",
       "      <td>1935-04-19</td>\n",
       "      <td>0.11</td>\n",
       "      <td>5.30</td>\n",
       "      <td>[{'id': 10749, 'name': 'Romance'}, {'id': 35, ...</td>\n",
       "      <td>[{'name': 'RKO Radio Pictures', 'id': 6}]</td>\n",
       "      <td>[{'cast_id': 4, 'character': 'Clay 'Dal' Dalze...</td>\n",
       "      <td>[{'id': 733, 'name': 'dancer'}, {'id': 163110,...</td>\n",
       "    </tr>\n",
       "  </tbody>\n",
       "</table>\n",
       "</div>"
      ],
      "text/plain": [
       "       id                     title   budget    revenue release_date  \\\n",
       "0   36523  Felix The Cat: The Movie  9000000 1964253.00   1988-10-01   \n",
       "1   68351                   Sankofa  1000000 2691899.00   1993-05-28   \n",
       "2  285908           The Last Breath  3800000  559298.00   1999-03-25   \n",
       "3  121173                 Voracious    11178   34659.00   2012-09-05   \n",
       "4  110669             Wabash Avenue  2115000 2039000.00   1950-03-31   \n",
       "5  110428      Camille Claudel 1915  3512454  115860.00   2013-03-13   \n",
       "6  110428      Camille Claudel 1915  3512454  115860.00   2013-03-13   \n",
       "7  110428      Camille Claudel 1915  3512454  115860.00   2013-03-13   \n",
       "8  110428      Camille Claudel 1915  3512454  115860.00   2013-03-13   \n",
       "9   53863          Star of Midnight      280     831.00   1935-04-19   \n",
       "\n",
       "   popularity  vote_average  \\\n",
       "0        0.03          3.70   \n",
       "1        0.05          6.90   \n",
       "2        0.07          4.00   \n",
       "3        0.08          8.00   \n",
       "4        0.11          7.00   \n",
       "5        0.11          7.00   \n",
       "6        0.11          7.00   \n",
       "7        0.11          7.00   \n",
       "8        0.11          7.00   \n",
       "9        0.11          5.30   \n",
       "\n",
       "                                              genres  \\\n",
       "0  [{'id': 16, 'name': 'Animation'}, {'id': 10751...   \n",
       "1                      [{'id': 18, 'name': 'Drama'}]   \n",
       "2  [{'id': 80, 'name': 'Crime'}, {'id': 18, 'name...   \n",
       "3  [{'id': 35, 'name': 'Comedy'}, {'id': 18, 'nam...   \n",
       "4                   [{'id': 10402, 'name': 'Music'}]   \n",
       "5                      [{'id': 18, 'name': 'Drama'}]   \n",
       "6                      [{'id': 18, 'name': 'Drama'}]   \n",
       "7                      [{'id': 18, 'name': 'Drama'}]   \n",
       "8                      [{'id': 18, 'name': 'Drama'}]   \n",
       "9  [{'id': 10749, 'name': 'Romance'}, {'id': 35, ...   \n",
       "\n",
       "                                production_companies  \\\n",
       "0  [{'name': 'Pannónia Filmstúdió', 'id': 48669},...   \n",
       "1  [{'name': 'Channel Four Films', 'id': 181}, {'...   \n",
       "2           [{'name': 'Lions Gate Films', 'id': 35}]   \n",
       "3  [{'name': 'APT Entertainment', 'id': 8355}, {'...   \n",
       "4  [{'name': 'Twentieth Century Fox Film Corporat...   \n",
       "5  [{'name': 'Canal+', 'id': 5358}, {'name': 'Art...   \n",
       "6  [{'name': 'Canal+', 'id': 5358}, {'name': 'Art...   \n",
       "7  [{'name': 'Canal+', 'id': 5358}, {'name': 'Art...   \n",
       "8  [{'name': 'Canal+', 'id': 5358}, {'name': 'Art...   \n",
       "9          [{'name': 'RKO Radio Pictures', 'id': 6}]   \n",
       "\n",
       "                                                cast  \\\n",
       "0  [{'cast_id': 1, 'character': 'Felix the Cat (V...   \n",
       "1  [{'cast_id': 6, 'character': 'Sankofa', 'credi...   \n",
       "2  [{'cast_id': 0, 'character': 'Lauren Vaillanco...   \n",
       "3  [{'cast_id': 16, 'character': 'Rene', 'credit_...   \n",
       "4  [{'cast_id': 1004, 'character': 'Ruby Summers'...   \n",
       "5  [{'cast_id': 3, 'character': 'Camille Claudel'...   \n",
       "6  [{'cast_id': 3, 'character': 'Camille Claudel'...   \n",
       "7  [{'cast_id': 3, 'character': 'Camille Claudel'...   \n",
       "8  [{'cast_id': 3, 'character': 'Camille Claudel'...   \n",
       "9  [{'cast_id': 4, 'character': 'Clay 'Dal' Dalze...   \n",
       "\n",
       "                                            keywords  \n",
       "0  [{'id': 9820, 'name': 'alternate dimension'}, ...  \n",
       "1  [{'id': 409, 'name': 'africa'}, {'id': 2831, '...  \n",
       "2           [{'id': 10714, 'name': 'serial killer'}]  \n",
       "3  [{'id': 4694, 'name': 'staged death'}, {'id': ...  \n",
       "4  [{'id': 4344, 'name': 'musical'}, {'id': 4497,...  \n",
       "5  [{'id': 254, 'name': 'france'}, {'id': 745, 'n...  \n",
       "6  [{'id': 254, 'name': 'france'}, {'id': 745, 'n...  \n",
       "7  [{'id': 254, 'name': 'france'}, {'id': 745, 'n...  \n",
       "8  [{'id': 254, 'name': 'france'}, {'id': 745, 'n...  \n",
       "9  [{'id': 733, 'name': 'dancer'}, {'id': 163110,...  "
      ]
     },
     "execution_count": 4,
     "metadata": {},
     "output_type": "execute_result"
    }
   ],
   "source": [
    "df.head(10)"
   ]
  },
  {
   "cell_type": "markdown",
   "metadata": {},
   "source": [
    "## Data Perspective\n",
    "- One variable\n",
    "    - Numeric variables\n",
    "        - continuous: budget, revenue\n",
    "        - discrete: votes, popularity\n",
    "    - Categorical variables\n",
    "        - ordinal: \n",
    "        - nominal: genre, production_companies, actors, keywords\n",
    "- Multiple variables\n",
    "    - Numeric x Numeric\n",
    "        - budget VS revenue\n",
    "        - correlation heatmap\n",
    "    - Categorical x Numeric\n",
    "        - title raitings VS rating\n",
    "        -  production_companies VS revenue\n",
    "    - Categorical x Categorical\n",
    "        - actors VS genre\n",
    "        - production_companies VS genre"
   ]
  },
  {
   "cell_type": "markdown",
   "metadata": {},
   "source": [
    "## One Variable (numeric)"
   ]
  },
  {
   "cell_type": "code",
   "execution_count": 5,
   "metadata": {},
   "outputs": [
    {
     "name": "stdout",
     "output_type": "stream",
     "text": [
      "count        4627.00\n",
      "mean     27022811.00\n",
      "std      28984352.00\n",
      "min           113.00\n",
      "25%       6000000.00\n",
      "50%      17000000.00\n",
      "75%      37000000.00\n",
      "max     150000000.00\n",
      "Name: budget, dtype: float64\n"
     ]
    },
    {
     "data": {
      "image/png": "[encoded data removed]",
      "text/plain": [
       "<Figure size 864x432 with 1 Axes>"
      ]
     },
     "metadata": {
      "needs_background": "light"
     },
     "output_type": "display_data"
    },
    {
     "data": {
      "image/png": "[encoded data removed]",
      "text/plain": [
       "<Figure size 864x432 with 1 Axes>"
      ]
     },
     "metadata": {
      "needs_background": "light"
     },
     "output_type": "display_data"
    },
    {
     "data": {
      "image/png": "[encoded data removed]",
      "text/plain": [
       "<Figure size 864x432 with 1 Axes>"
      ]
     },
     "metadata": {
      "needs_background": "light"
     },
     "output_type": "display_data"
    }
   ],
   "source": [
    "# Analize pricing distribution\n",
    "\n",
    "# Histogram\n",
    "print(df['budget'].describe().round())\n",
    "plt.figure(figsize=(12,6))\n",
    "plt.hist(df['budget'], bins=100)\n",
    "plt.show()\n",
    "# Violin and box plot\n",
    "plt.figure(figsize=(12,6))\n",
    "plt.violinplot(df['budget'], showmeans=True)\n",
    "plt.show()\n",
    "plt.figure(figsize=(12,6))\n",
    "plt.boxplot(df['budget'])\n",
    "plt.xticks([1], ['budget'], rotation='horizontal')\n",
    "plt.show()"
   ]
  },
  {
   "cell_type": "code",
   "execution_count": 27,
   "metadata": {},
   "outputs": [
    {
     "name": "stdout",
     "output_type": "stream",
     "text": [
      "count   4627.00\n",
      "mean       6.28\n",
      "std        0.86\n",
      "min        2.00\n",
      "25%        5.70\n",
      "50%        6.30\n",
      "75%        6.90\n",
      "max        8.70\n",
      "Name: vote_average, dtype: float64\n"
     ]
    },
    {
     "data": {
      "image/png": "[encoded data removed]",
      "text/plain": [
       "<Figure size 864x432 with 1 Axes>"
      ]
     },
     "metadata": {},
     "output_type": "display_data"
    }
   ],
   "source": [
    "#Analyze votes\n",
    "print(df['vote_average'].describe())\n",
    "plt.figure(figsize=(12,6))\n",
    "plt.hist(df['vote_average'], bins=100)\n",
    "plt.title('Votes')\n",
    "plt.xlabel('votes_average')\n",
    "plt.ylabel('count')\n",
    "plt.show()"
   ]
  },
  {
   "cell_type": "code",
   "execution_count": 31,
   "metadata": {},
   "outputs": [
    {
     "name": "stdout",
     "output_type": "stream",
     "text": [
      "count   4627.00\n",
      "mean       8.74\n",
      "std        4.26\n",
      "min        0.03\n",
      "25%        5.94\n",
      "50%        8.46\n",
      "75%       11.43\n",
      "max       22.49\n",
      "Name: popularity, dtype: float64\n"
     ]
    },
    {
     "data": {
      "image/png": "[encoded data removed]",
      "text/plain": [
       "<Figure size 864x432 with 1 Axes>"
      ]
     },
     "metadata": {},
     "output_type": "display_data"
    }
   ],
   "source": [
    "#Analyze popularity\n",
    "print(df['popularity'].describe())\n",
    "plt.figure(figsize=(12,6))\n",
    "plt.hist(df['popularity'], bins=100)\n",
    "plt.title('popularity')\n",
    "plt.xlabel('popularity')\n",
    "plt.ylabel('count')\n",
    "plt.show()"
   ]
  },
  {
   "cell_type": "markdown",
   "metadata": {},
   "source": [
    "## One Variable (categorical)"
   ]
  },
  {
   "cell_type": "code",
   "execution_count": 8,
   "metadata": {},
   "outputs": [
    {
     "data": {
      "image/png": "[encoded data removed]",
      "text/plain": [
       "<Figure size 1152x432 with 1 Axes>"
      ]
     },
     "metadata": {
      "needs_background": "light"
     },
     "output_type": "display_data"
    }
   ],
   "source": [
    "# Analize genres\n",
    "l=[]\n",
    "for i, item in enumerate(df['genres']):\n",
    "    for cell in item:\n",
    "        l.append(cell['name'])\n",
    "genres_all = np.array(l) \n",
    "g_name, g_count = np.unique(genres_all, return_counts=True)\n",
    "genres = zip(g_name, g_count) # list of Unique Values along with occurrence Count\n",
    "genres = list(genres)\n",
    "genres = sorted(genres, key = lambda x: x[1]) \n",
    "for i, elem in enumerate(genres):\n",
    "    g_name[i] = elem[0]\n",
    "    g_count[i] = elem[1]\n",
    "\n",
    "# Bar Chart\n",
    "plt.figure(figsize=(16,6))\n",
    "plt.title('Genres')\n",
    "plt.xlabel('genres')\n",
    "plt.ylabel('number or movies')\n",
    "y_pos = range(len(g_name))\n",
    "plt.bar(y_pos,g_count, align='center', alpha=0.5)\n",
    "plt.xticks(y_pos, g_name, rotation=45)\n",
    "plt.show()"
   ]
  },
  {
   "cell_type": "code",
   "execution_count": 9,
   "metadata": {},
   "outputs": [],
   "source": [
    "#TODO: Analyze all the categorical variables"
   ]
  },
  {
   "cell_type": "markdown",
   "metadata": {},
   "source": [
    "## Multiple variables (Numeric x Numeric)"
   ]
  },
  {
   "cell_type": "code",
   "execution_count": 10,
   "metadata": {},
   "outputs": [
    {
     "data": {
      "text/html": [
       "<div>\n",
       "<style scoped>\n",
       "    .dataframe tbody tr th:only-of-type {\n",
       "        vertical-align: middle;\n",
       "    }\n",
       "\n",
       "    .dataframe tbody tr th {\n",
       "        vertical-align: top;\n",
       "    }\n",
       "\n",
       "    .dataframe thead th {\n",
       "        text-align: right;\n",
       "    }\n",
       "</style>\n",
       "<table border=\"1\" class=\"dataframe\">\n",
       "  <thead>\n",
       "    <tr style=\"text-align: right;\">\n",
       "      <th></th>\n",
       "      <th>id</th>\n",
       "      <th>budget</th>\n",
       "      <th>revenue</th>\n",
       "      <th>popularity</th>\n",
       "      <th>vote_average</th>\n",
       "    </tr>\n",
       "  </thead>\n",
       "  <tbody>\n",
       "    <tr>\n",
       "      <th>id</th>\n",
       "      <td>1.00</td>\n",
       "      <td>-0.07</td>\n",
       "      <td>-0.06</td>\n",
       "      <td>0.02</td>\n",
       "      <td>-0.01</td>\n",
       "    </tr>\n",
       "    <tr>\n",
       "      <th>budget</th>\n",
       "      <td>-0.07</td>\n",
       "      <td>1.00</td>\n",
       "      <td>0.63</td>\n",
       "      <td>0.36</td>\n",
       "      <td>-0.14</td>\n",
       "    </tr>\n",
       "    <tr>\n",
       "      <th>revenue</th>\n",
       "      <td>-0.06</td>\n",
       "      <td>0.63</td>\n",
       "      <td>1.00</td>\n",
       "      <td>0.44</td>\n",
       "      <td>0.09</td>\n",
       "    </tr>\n",
       "    <tr>\n",
       "      <th>popularity</th>\n",
       "      <td>0.02</td>\n",
       "      <td>0.36</td>\n",
       "      <td>0.44</td>\n",
       "      <td>1.00</td>\n",
       "      <td>0.23</td>\n",
       "    </tr>\n",
       "    <tr>\n",
       "      <th>vote_average</th>\n",
       "      <td>-0.01</td>\n",
       "      <td>-0.14</td>\n",
       "      <td>0.09</td>\n",
       "      <td>0.23</td>\n",
       "      <td>1.00</td>\n",
       "    </tr>\n",
       "  </tbody>\n",
       "</table>\n",
       "</div>"
      ],
      "text/plain": [
       "                id  budget  revenue  popularity  vote_average\n",
       "id            1.00   -0.07    -0.06        0.02         -0.01\n",
       "budget       -0.07    1.00     0.63        0.36         -0.14\n",
       "revenue      -0.06    0.63     1.00        0.44          0.09\n",
       "popularity    0.02    0.36     0.44        1.00          0.23\n",
       "vote_average -0.01   -0.14     0.09        0.23          1.00"
      ]
     },
     "execution_count": 10,
     "metadata": {},
     "output_type": "execute_result"
    }
   ],
   "source": [
    "# Correlation\n",
    "df.corr()"
   ]
  },
  {
   "cell_type": "code",
   "execution_count": 11,
   "metadata": {},
   "outputs": [],
   "source": [
    "# heatmap\n"
   ]
  },
  {
   "cell_type": "code",
   "execution_count": 12,
   "metadata": {},
   "outputs": [],
   "source": [
    "# Visualization : correlation between Price x SQFT\n"
   ]
  },
  {
   "cell_type": "code",
   "execution_count": 13,
   "metadata": {},
   "outputs": [],
   "source": [
    "# TODO: Create a scatterplot Price x Mean Income\n",
    "# TODO: What is the correlation between Price x Mean Income\n"
   ]
  },
  {
   "cell_type": "code",
   "execution_count": 14,
   "metadata": {},
   "outputs": [],
   "source": [
    "# Box plot to show the distribution between bedrooms x price\n"
   ]
  },
  {
   "cell_type": "markdown",
   "metadata": {},
   "source": [
    "## Multiple variables (Categorical x Numeric)"
   ]
  },
  {
   "cell_type": "markdown",
   "metadata": {},
   "source": [
    "## Multiple variables (Categorical x Categorical)"
   ]
  },
  {
   "cell_type": "code",
   "execution_count": 15,
   "metadata": {},
   "outputs": [],
   "source": [
    "#"
   ]
  },
  {
   "cell_type": "markdown",
   "metadata": {},
   "source": [
    "## Business Perspective\n",
    "\"An approximate answer to the right question is worth a great deal more than a precise answer to the wrong question.\" John Tukey"
   ]
  },
  {
   "cell_type": "code",
   "execution_count": 30,
   "metadata": {},
   "outputs": [
    {
     "data": {
      "text/plain": [
       "<Figure size 864x432 with 0 Axes>"
      ]
     },
     "metadata": {},
     "output_type": "display_data"
    },
    {
     "data": {
      "image/png": "[encoded data removed]",
      "text/plain": [
       "<Figure size 1440x595.44 with 1 Axes>"
      ]
     },
     "metadata": {},
     "output_type": "display_data"
    }
   ],
   "source": [
    "# Show the budget/revenue curve for Marvel Productions\n",
    "index_marvel=[]\n",
    "for i, item in enumerate(df['production_companies']):\n",
    "    for cell in item:                                   #cell is a dictionary object\n",
    "        if 'Marvel' in cell['name']:\n",
    "            index_marvel.append(i)\n",
    "            break\n",
    "df_marvel = df.loc[index_marvel, :]\n",
    "df_marvel.sort_values(by='budget')\n",
    "df_marvel.reset_index(drop=True, inplace=True)\n",
    "\n",
    "#mylambda = lambda mylist, x: [mylist.index(item) if x in item] for item in mylist\n",
    "#df_test = df.iloc[mylambda(df['title'],'Sun')]\n",
    "#df_test\n",
    "\n",
    "#mylambda = lambda mylist, x: mylist.index(x) if x in [cell['name'] for cell in item] for i, item in mylist  else False\n",
    "#df_marvel = df.iloc[mylambda(df['production_companies'],'Marvel')]\n",
    "#df_marvel\n",
    "\n",
    "from matplotlib.pyplot import subplots, show\n",
    "plt.figure(figsize=(12,6))\n",
    "fig, ax = subplots()\n",
    "ax.plot(df_marvel['budget'], df_marvel['revenue'], 'o')\n",
    "ax.set_xlabel(\"Budget\")\n",
    "ax.set_ylabel(\"Revenue\")\n",
    "ax.set_title(\"Marvel: Revenue/Budget\");\n",
    "show()"
   ]
  },
  {
   "cell_type": "code",
   "execution_count": 17,
   "metadata": {},
   "outputs": [],
   "source": [
    "# What is the total sales ($) per month?\n",
    "\n",
    "\n",
    "\n"
   ]
  },
  {
   "cell_type": "code",
   "execution_count": 18,
   "metadata": {},
   "outputs": [
    {
     "data": {
      "text/plain": [
       "(array([0, 1, 2, 3, 4, 5, 6, 7]), <a list of 8 Text xticklabel objects>)"
      ]
     },
     "execution_count": 18,
     "metadata": {},
     "output_type": "execute_result"
    },
    {
     "data": {
      "image/png": "[encoded data removed]",
      "text/plain": [
       "<Figure size 1440x595.44 with 1 Axes>"
      ]
     },
     "metadata": {},
     "output_type": "display_data"
    }
   ],
   "source": [
    "# Show the raitings for each Marvel movie\n",
    "marvel = df_marvel[['id','title']]\n",
    "ratings = pd.read_csv('data/ratings.csv')\n",
    "ratings.rename(columns={'movieId':'id'}, inplace=True)\n",
    "del_index = ratings[ratings['rating'] == 0].index\n",
    "ratings.drop(del_index, inplace=True)\n",
    "ratings.reset_index(drop=True, inplace=True)\n",
    "\n",
    "marvel = marvel.merge(ratings, on='id', how='inner')\n",
    "\n",
    "sns.set(rc={'figure.figsize':(20,8.27)})\n",
    "sns.boxplot(x=marvel['title'], y=marvel['rating'])\n",
    "plt.xticks(rotation=45)"
   ]
  },
  {
   "cell_type": "code",
   "execution_count": null,
   "metadata": {},
   "outputs": [],
   "source": []
  }
 ],
 "metadata": {
  "anaconda-cloud": {},
  "kernelspec": {
   "display_name": "Python 3",
   "language": "python",
   "name": "python3"
  },
  "language_info": {
   "codemirror_mode": {
    "name": "ipython",
    "version": 3
   },
   "file_extension": ".py",
   "mimetype": "text/x-python",
   "name": "python",
   "nbconvert_exporter": "python",
   "pygments_lexer": "ipython3",
   "version": "3.6.0"
  }
 },
 "nbformat": 4,
 "nbformat_minor": 1
}
