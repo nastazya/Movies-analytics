{
 "cells": [
  {
   "cell_type": "markdown",
   "metadata": {},
   "source": [
    "# Exploratory Data Analysis\n",
    "\n",
    "### This dataset *movies_full.csv* is downloaded to GitHub: https://github.com/nastazya/Movies-analytics/tree/master/data"
   ]
  },
  {
   "cell_type": "code",
   "execution_count": 1,
   "metadata": {},
   "outputs": [],
   "source": [
    "# import the library\n",
    "%matplotlib inline\n",
    "\n",
    "import ast\n",
    "import pandas as pd\n",
    "import numpy as np\n",
    "import scipy\n",
    "import matplotlib.pyplot as plt\n",
    "import seaborn as sns\n",
    "\n",
    "# apply style to all the charts\n",
    "sns.set_style('whitegrid')\n",
    "\n",
    "# convert scientific notation to decimals\n",
    "pd.set_option('display.float_format', lambda x: '%.2f' % x)\n",
    "pd.set_option('display.max_columns', 24)"
   ]
  },
  {
   "cell_type": "code",
   "execution_count": 2,
   "metadata": {},
   "outputs": [
    {
     "name": "stdout",
     "output_type": "stream",
     "text": [
      "id                               int64\n",
      "title                           object\n",
      "budget                           int64\n",
      "revenue                        float64\n",
      "release_date            datetime64[ns]\n",
      "popularity                     float64\n",
      "vote_average                   float64\n",
      "genres                          object\n",
      "production_companies            object\n",
      "cast                            object\n",
      "keywords                        object\n",
      "dtype: object\n"
     ]
    }
   ],
   "source": [
    "df = pd.read_csv('data/movies_full.csv')\n",
    "df['release_date'] = pd.to_datetime(df['release_date'])\n",
    "print(df.dtypes)"
   ]
  },
  {
   "cell_type": "code",
   "execution_count": 3,
   "metadata": {},
   "outputs": [
    {
     "name": "stdout",
     "output_type": "stream",
     "text": [
      "\n",
      "Genres cell:  <class 'list'> . \n",
      "Cell[0]:  {'id': 35, 'name': 'Comedy'} :  <class 'dict'>\n",
      "\n",
      "Production_companies cell:  <class 'list'> . \n",
      "Cell[0]:  {'name': 'Canal+', 'id': 5358} :  <class 'dict'>\n",
      "\n",
      "Cast cell:  <class 'list'> . \n",
      "Cell[0]:  {'cast_id': 7, 'character': 'Xavier', 'credit_id': '52fe46ccc3a36847f8112def', 'gender': 2, 'id': 46919, 'name': 'Thomas F. Duffy', 'order': 0, 'profile_path': '/jLANWUvY91SUNcBfB4z7PQUieE7.jpg'} :  <class 'dict'>\n",
      "\n",
      "Keywords cell:  <class 'list'> . \n",
      "Cell[0]:  {'id': 9778, 'name': 'exploding building'} :  <class 'dict'>\n"
     ]
    }
   ],
   "source": [
    "#Setting cast, production_companies, genres and keywords types to a list of dictionaries\n",
    "\n",
    "df['genres'] = df['genres'].astype(str)\n",
    "df['production_companies'] = df['production_companies'].astype(str)\n",
    "df['cast'] = df['cast'].astype(str)\n",
    "df['keywords'] = df['keywords'].astype(str)\n",
    "\n",
    "df['genres'] = df['genres'].apply(lambda x: ast.literal_eval(x))\n",
    "df['production_companies'] = df['production_companies'].apply(lambda x: ast.literal_eval(x))\n",
    "df['cast'] = df['cast'].apply(lambda x: ast.literal_eval(x))\n",
    "df['keywords'] = df['keywords'].apply(lambda x: ast.literal_eval(x))\n",
    "\n",
    "#checking results\n",
    "cell = df['genres'][100]\n",
    "print('\\nGenres cell: ', type(cell), '. \\nCell[0]: ', cell[0], ': ', type(cell[0]))\n",
    "\n",
    "cell = df['production_companies'][100]\n",
    "print('\\nProduction_companies cell: ', type(cell), '. \\nCell[0]: ', cell[0], ': ', type(cell[0]))\n",
    "\n",
    "cell = df['cast'][100]\n",
    "print('\\nCast cell: ', type(cell), '. \\nCell[0]: ', cell[0], ': ', type(cell[0]))\n",
    "\n",
    "cell = df['keywords'][100]\n",
    "print('\\nKeywords cell: ', type(cell), '. \\nCell[0]: ', cell[0], ': ', type(cell[0]))"
   ]
  },
  {
   "cell_type": "code",
   "execution_count": 4,
   "metadata": {},
   "outputs": [
    {
     "data": {
      "text/html": [
       "<div>\n",
       "<style scoped>\n",
       "    .dataframe tbody tr th:only-of-type {\n",
       "        vertical-align: middle;\n",
       "    }\n",
       "\n",
       "    .dataframe tbody tr th {\n",
       "        vertical-align: top;\n",
       "    }\n",
       "\n",
       "    .dataframe thead th {\n",
       "        text-align: right;\n",
       "    }\n",
       "</style>\n",
       "<table border=\"1\" class=\"dataframe\">\n",
       "  <thead>\n",
       "    <tr style=\"text-align: right;\">\n",
       "      <th></th>\n",
       "      <th>id</th>\n",
       "      <th>title</th>\n",
       "      <th>budget</th>\n",
       "      <th>revenue</th>\n",
       "      <th>release_date</th>\n",
       "      <th>popularity</th>\n",
       "      <th>vote_average</th>\n",
       "      <th>genres</th>\n",
       "      <th>production_companies</th>\n",
       "      <th>cast</th>\n",
       "      <th>keywords</th>\n",
       "    </tr>\n",
       "  </thead>\n",
       "  <tbody>\n",
       "    <tr>\n",
       "      <th>0</th>\n",
       "      <td>57186</td>\n",
       "      <td>Skinning</td>\n",
       "      <td>500000</td>\n",
       "      <td>198.00</td>\n",
       "      <td>2010-10-06</td>\n",
       "      <td>1.02</td>\n",
       "      <td>5.90</td>\n",
       "      <td>[{'id': 28, 'name': 'Action'}, {'id': 80, 'nam...</td>\n",
       "      <td>[{'name': 'Hypnopolis', 'id': 51316}]</td>\n",
       "      <td>[{'cast_id': 1001, 'character': 'Novica', 'cre...</td>\n",
       "      <td>[{'id': 379, 'name': 'skinhead'}, {'id': 7492,...</td>\n",
       "    </tr>\n",
       "    <tr>\n",
       "      <th>1</th>\n",
       "      <td>70805</td>\n",
       "      <td>Sunday</td>\n",
       "      <td>450</td>\n",
       "      <td>288.00</td>\n",
       "      <td>1997-08-27</td>\n",
       "      <td>0.30</td>\n",
       "      <td>6.30</td>\n",
       "      <td>[{'id': 18, 'name': 'Drama'}, {'id': 10749, 'n...</td>\n",
       "      <td>[{'name': 'Sunday Productions', 'id': 40423}, ...</td>\n",
       "      <td>[{'cast_id': 2, 'character': 'Oliver / Matthew...</td>\n",
       "      <td>[{'id': 1821, 'name': 'sunday'}, {'id': 8508, ...</td>\n",
       "    </tr>\n",
       "    <tr>\n",
       "      <th>2</th>\n",
       "      <td>108923</td>\n",
       "      <td>The Mysterious Lady</td>\n",
       "      <td>337</td>\n",
       "      <td>551.00</td>\n",
       "      <td>1928-08-04</td>\n",
       "      <td>0.77</td>\n",
       "      <td>7.50</td>\n",
       "      <td>[{'id': 12, 'name': 'Adventure'}, {'id': 18, '...</td>\n",
       "      <td>[{'name': 'Metro-Goldwyn-Mayer (MGM)', 'id': 8...</td>\n",
       "      <td>[{'cast_id': 1, 'character': 'Tania Fedorova',...</td>\n",
       "      <td>[{'id': 154802, 'name': 'silent film'}, {'id':...</td>\n",
       "    </tr>\n",
       "    <tr>\n",
       "      <th>3</th>\n",
       "      <td>53863</td>\n",
       "      <td>Star of Midnight</td>\n",
       "      <td>280</td>\n",
       "      <td>831.00</td>\n",
       "      <td>1935-04-19</td>\n",
       "      <td>0.11</td>\n",
       "      <td>5.30</td>\n",
       "      <td>[{'id': 10749, 'name': 'Romance'}, {'id': 35, ...</td>\n",
       "      <td>[{'name': 'RKO Radio Pictures', 'id': 6}]</td>\n",
       "      <td>[{'cast_id': 4, 'character': 'Clay 'Dal' Dalze...</td>\n",
       "      <td>[{'id': 733, 'name': 'dancer'}, {'id': 163110,...</td>\n",
       "    </tr>\n",
       "    <tr>\n",
       "      <th>4</th>\n",
       "      <td>44895</td>\n",
       "      <td>Poor White Trash</td>\n",
       "      <td>1200000</td>\n",
       "      <td>1404.00</td>\n",
       "      <td>2000-06-16</td>\n",
       "      <td>0.58</td>\n",
       "      <td>3.90</td>\n",
       "      <td>[{'id': 80, 'name': 'Crime'}, {'id': 35, 'name...</td>\n",
       "      <td>[{'name': 'Kingsize Entertainment', 'id': 36242}]</td>\n",
       "      <td>[{'cast_id': 2, 'character': 'Sandy Lake', 'cr...</td>\n",
       "      <td>[{'id': 572, 'name': 'sex'}, {'id': 798, 'name...</td>\n",
       "    </tr>\n",
       "    <tr>\n",
       "      <th>5</th>\n",
       "      <td>81048</td>\n",
       "      <td>Running Time</td>\n",
       "      <td>130000</td>\n",
       "      <td>1596.00</td>\n",
       "      <td>1997-12-18</td>\n",
       "      <td>0.47</td>\n",
       "      <td>6.20</td>\n",
       "      <td>[{'id': 80, 'name': 'Crime'}]</td>\n",
       "      <td>[{'name': 'Blood Money Partners LP', 'id': 160...</td>\n",
       "      <td>[{'cast_id': 1, 'character': 'Carl', 'credit_i...</td>\n",
       "      <td>[{'id': 10051, 'name': 'heist'}, {'id': 12999,...</td>\n",
       "    </tr>\n",
       "    <tr>\n",
       "      <th>6</th>\n",
       "      <td>98339</td>\n",
       "      <td>The Samaritan</td>\n",
       "      <td>12000000</td>\n",
       "      <td>2521.00</td>\n",
       "      <td>2012-03-02</td>\n",
       "      <td>11.52</td>\n",
       "      <td>5.20</td>\n",
       "      <td>[{'id': 53, 'name': 'Thriller'}]</td>\n",
       "      <td>[{'name': 'Quickfire Films', 'id': 4186}, {'na...</td>\n",
       "      <td>[{'cast_id': 1, 'character': 'Foley', 'credit_...</td>\n",
       "      <td>[{'id': 378, 'name': 'prison'}, {'id': 572, 'n...</td>\n",
       "    </tr>\n",
       "    <tr>\n",
       "      <th>7</th>\n",
       "      <td>35610</td>\n",
       "      <td>Philadelphia Experiment II</td>\n",
       "      <td>5000000</td>\n",
       "      <td>2970.00</td>\n",
       "      <td>1993-11-12</td>\n",
       "      <td>1.16</td>\n",
       "      <td>5.00</td>\n",
       "      <td>[{'id': 878, 'name': 'Science Fiction'}]</td>\n",
       "      <td>[{'name': 'Trimark Pictures', 'id': 4063}]</td>\n",
       "      <td>[{'cast_id': 2, 'character': 'David Herdeg', '...</td>\n",
       "      <td>[{'id': 4379, 'name': 'time travel'}, {'id': 1...</td>\n",
       "    </tr>\n",
       "    <tr>\n",
       "      <th>8</th>\n",
       "      <td>94901</td>\n",
       "      <td>About Cherry</td>\n",
       "      <td>2500000</td>\n",
       "      <td>3003.00</td>\n",
       "      <td>2012-02-14</td>\n",
       "      <td>5.47</td>\n",
       "      <td>4.40</td>\n",
       "      <td>[{'id': 18, 'name': 'Drama'}]</td>\n",
       "      <td>[{'name': 'Gordon Bijelonic / Datari Turner Fi...</td>\n",
       "      <td>[{'cast_id': 1, 'character': 'Angelina', 'cred...</td>\n",
       "      <td>[{'id': 445, 'name': 'pornography'}]</td>\n",
       "    </tr>\n",
       "    <tr>\n",
       "      <th>9</th>\n",
       "      <td>89691</td>\n",
       "      <td>ATM</td>\n",
       "      <td>3000000</td>\n",
       "      <td>3010.00</td>\n",
       "      <td>2012-02-17</td>\n",
       "      <td>8.95</td>\n",
       "      <td>5.10</td>\n",
       "      <td>[{'id': 27, 'name': 'Horror'}, {'id': 53, 'nam...</td>\n",
       "      <td>[{'name': 'Buffalo Gal Pictures', 'id': 11517}...</td>\n",
       "      <td>[{'cast_id': 2, 'character': 'Emily', 'credit_...</td>\n",
       "      <td>[{'id': 157145, 'name': 'atm'}, {'id': 157146,...</td>\n",
       "    </tr>\n",
       "  </tbody>\n",
       "</table>\n",
       "</div>"
      ],
      "text/plain": [
       "       id                       title    budget  revenue release_date  \\\n",
       "0   57186                    Skinning    500000   198.00   2010-10-06   \n",
       "1   70805                      Sunday       450   288.00   1997-08-27   \n",
       "2  108923         The Mysterious Lady       337   551.00   1928-08-04   \n",
       "3   53863            Star of Midnight       280   831.00   1935-04-19   \n",
       "4   44895            Poor White Trash   1200000  1404.00   2000-06-16   \n",
       "5   81048                Running Time    130000  1596.00   1997-12-18   \n",
       "6   98339               The Samaritan  12000000  2521.00   2012-03-02   \n",
       "7   35610  Philadelphia Experiment II   5000000  2970.00   1993-11-12   \n",
       "8   94901                About Cherry   2500000  3003.00   2012-02-14   \n",
       "9   89691                         ATM   3000000  3010.00   2012-02-17   \n",
       "\n",
       "   popularity  vote_average  \\\n",
       "0        1.02          5.90   \n",
       "1        0.30          6.30   \n",
       "2        0.77          7.50   \n",
       "3        0.11          5.30   \n",
       "4        0.58          3.90   \n",
       "5        0.47          6.20   \n",
       "6       11.52          5.20   \n",
       "7        1.16          5.00   \n",
       "8        5.47          4.40   \n",
       "9        8.95          5.10   \n",
       "\n",
       "                                              genres  \\\n",
       "0  [{'id': 28, 'name': 'Action'}, {'id': 80, 'nam...   \n",
       "1  [{'id': 18, 'name': 'Drama'}, {'id': 10749, 'n...   \n",
       "2  [{'id': 12, 'name': 'Adventure'}, {'id': 18, '...   \n",
       "3  [{'id': 10749, 'name': 'Romance'}, {'id': 35, ...   \n",
       "4  [{'id': 80, 'name': 'Crime'}, {'id': 35, 'name...   \n",
       "5                      [{'id': 80, 'name': 'Crime'}]   \n",
       "6                   [{'id': 53, 'name': 'Thriller'}]   \n",
       "7           [{'id': 878, 'name': 'Science Fiction'}]   \n",
       "8                      [{'id': 18, 'name': 'Drama'}]   \n",
       "9  [{'id': 27, 'name': 'Horror'}, {'id': 53, 'nam...   \n",
       "\n",
       "                                production_companies  \\\n",
       "0              [{'name': 'Hypnopolis', 'id': 51316}]   \n",
       "1  [{'name': 'Sunday Productions', 'id': 40423}, ...   \n",
       "2  [{'name': 'Metro-Goldwyn-Mayer (MGM)', 'id': 8...   \n",
       "3          [{'name': 'RKO Radio Pictures', 'id': 6}]   \n",
       "4  [{'name': 'Kingsize Entertainment', 'id': 36242}]   \n",
       "5  [{'name': 'Blood Money Partners LP', 'id': 160...   \n",
       "6  [{'name': 'Quickfire Films', 'id': 4186}, {'na...   \n",
       "7         [{'name': 'Trimark Pictures', 'id': 4063}]   \n",
       "8  [{'name': 'Gordon Bijelonic / Datari Turner Fi...   \n",
       "9  [{'name': 'Buffalo Gal Pictures', 'id': 11517}...   \n",
       "\n",
       "                                                cast  \\\n",
       "0  [{'cast_id': 1001, 'character': 'Novica', 'cre...   \n",
       "1  [{'cast_id': 2, 'character': 'Oliver / Matthew...   \n",
       "2  [{'cast_id': 1, 'character': 'Tania Fedorova',...   \n",
       "3  [{'cast_id': 4, 'character': 'Clay 'Dal' Dalze...   \n",
       "4  [{'cast_id': 2, 'character': 'Sandy Lake', 'cr...   \n",
       "5  [{'cast_id': 1, 'character': 'Carl', 'credit_i...   \n",
       "6  [{'cast_id': 1, 'character': 'Foley', 'credit_...   \n",
       "7  [{'cast_id': 2, 'character': 'David Herdeg', '...   \n",
       "8  [{'cast_id': 1, 'character': 'Angelina', 'cred...   \n",
       "9  [{'cast_id': 2, 'character': 'Emily', 'credit_...   \n",
       "\n",
       "                                            keywords  \n",
       "0  [{'id': 379, 'name': 'skinhead'}, {'id': 7492,...  \n",
       "1  [{'id': 1821, 'name': 'sunday'}, {'id': 8508, ...  \n",
       "2  [{'id': 154802, 'name': 'silent film'}, {'id':...  \n",
       "3  [{'id': 733, 'name': 'dancer'}, {'id': 163110,...  \n",
       "4  [{'id': 572, 'name': 'sex'}, {'id': 798, 'name...  \n",
       "5  [{'id': 10051, 'name': 'heist'}, {'id': 12999,...  \n",
       "6  [{'id': 378, 'name': 'prison'}, {'id': 572, 'n...  \n",
       "7  [{'id': 4379, 'name': 'time travel'}, {'id': 1...  \n",
       "8               [{'id': 445, 'name': 'pornography'}]  \n",
       "9  [{'id': 157145, 'name': 'atm'}, {'id': 157146,...  "
      ]
     },
     "execution_count": 4,
     "metadata": {},
     "output_type": "execute_result"
    }
   ],
   "source": [
    "df.head(10)"
   ]
  },
  {
   "cell_type": "markdown",
   "metadata": {},
   "source": [
    "## Data Perspective\n",
    "- One variable\n",
    "    - Numeric variables\n",
    "        - continuous: average income\n",
    "        - discrete: population\n",
    "    - Categorical variables\n",
    "        - ordinal: grade\n",
    "        - nominal: house, apartment, townhouse, etc.\n",
    "- Multiple variables\n",
    "    - Numeric x Numeric\n",
    "    - Categorical x Numeric\n",
    "    - Categorical x Categorical"
   ]
  },
  {
   "cell_type": "markdown",
   "metadata": {},
   "source": [
    "## One Variable (numeric)"
   ]
  },
  {
   "cell_type": "code",
   "execution_count": 5,
   "metadata": {},
   "outputs": [
    {
     "name": "stdout",
     "output_type": "stream",
     "text": [
      "count        4714.00\n",
      "mean     27327869.00\n",
      "std      29326492.00\n",
      "min           113.00\n",
      "25%       6000000.00\n",
      "50%      18000000.00\n",
      "75%      38000000.00\n",
      "max     152000000.00\n",
      "Name: budget, dtype: float64\n"
     ]
    },
    {
     "data": {
      "image/png": "[encoded data removed]",
      "text/plain": [
       "<Figure size 432x288 with 1 Axes>"
      ]
     },
     "metadata": {
      "needs_background": "light"
     },
     "output_type": "display_data"
    },
    {
     "data": {
      "image/png": "[encoded data removed]",
      "text/plain": [
       "<Figure size 432x288 with 1 Axes>"
      ]
     },
     "metadata": {
      "needs_background": "light"
     },
     "output_type": "display_data"
    },
    {
     "data": {
      "image/png": "[encoded data removed]",
      "text/plain": [
       "<Figure size 432x288 with 1 Axes>"
      ]
     },
     "metadata": {
      "needs_background": "light"
     },
     "output_type": "display_data"
    }
   ],
   "source": [
    "# Analize pricing distribution\n",
    "\n",
    "# Histogram\n",
    "print(df['budget'].describe().round())\n",
    "plt.hist(df['budget'], bins=100)\n",
    "plt.show()\n",
    "# Violin and box plot\n",
    "plt.violinplot(df['budget'], showmeans=True)\n",
    "plt.show()\n",
    "plt.boxplot(df['budget'])\n",
    "plt.xticks([1], ['budget'], rotation='horizontal')\n",
    "plt.show()"
   ]
  },
  {
   "cell_type": "code",
   "execution_count": 6,
   "metadata": {},
   "outputs": [],
   "source": [
    "#TODO: Analyze all the numerical variables"
   ]
  },
  {
   "cell_type": "markdown",
   "metadata": {},
   "source": [
    "## One Variable (categorical)"
   ]
  },
  {
   "cell_type": "code",
   "execution_count": 7,
   "metadata": {},
   "outputs": [
    {
     "data": {
      "image/png": "[encoded data removed]",
      "text/plain": [
       "<Figure size 1152x432 with 1 Axes>"
      ]
     },
     "metadata": {
      "needs_background": "light"
     },
     "output_type": "display_data"
    }
   ],
   "source": [
    "# Analize genres\n",
    "l=[]\n",
    "for i, item in enumerate(df['genres']):\n",
    "    for cell in item:\n",
    "        l.append(cell['name'])\n",
    "genres_all = np.array(l) \n",
    "g_name, g_count = np.unique(genres_all, return_counts=True)\n",
    "genres = zip(g_name, g_count) # list of Unique Values along with occurrence Count\n",
    "genres = list(genres)\n",
    "genres = sorted(genres, key = lambda x: x[1]) \n",
    "for i, elem in enumerate(genres):\n",
    "    g_name[i] = elem[0]\n",
    "    g_count[i] = elem[1]\n",
    "\n",
    "# Bar Chart\n",
    "plt.figure(figsize=(16,6))\n",
    "plt.title('Genres')\n",
    "plt.xlabel('genres')\n",
    "plt.ylabel('number or movies')\n",
    "y_pos = range(len(g_name))\n",
    "plt.bar(y_pos,g_count, align='center', alpha=0.5)\n",
    "plt.xticks(y_pos, g_name, rotation=45)\n",
    "plt.show()"
   ]
  },
  {
   "cell_type": "code",
   "execution_count": 8,
   "metadata": {},
   "outputs": [],
   "source": [
    "#TODO: Analyze all the categorical variables"
   ]
  },
  {
   "cell_type": "markdown",
   "metadata": {},
   "source": [
    "## Multiple variables (Numeric x Numeric)"
   ]
  },
  {
   "cell_type": "code",
   "execution_count": 9,
   "metadata": {},
   "outputs": [
    {
     "data": {
      "text/html": [
       "<div>\n",
       "<style scoped>\n",
       "    .dataframe tbody tr th:only-of-type {\n",
       "        vertical-align: middle;\n",
       "    }\n",
       "\n",
       "    .dataframe tbody tr th {\n",
       "        vertical-align: top;\n",
       "    }\n",
       "\n",
       "    .dataframe thead th {\n",
       "        text-align: right;\n",
       "    }\n",
       "</style>\n",
       "<table border=\"1\" class=\"dataframe\">\n",
       "  <thead>\n",
       "    <tr style=\"text-align: right;\">\n",
       "      <th></th>\n",
       "      <th>id</th>\n",
       "      <th>budget</th>\n",
       "      <th>revenue</th>\n",
       "      <th>popularity</th>\n",
       "      <th>vote_average</th>\n",
       "    </tr>\n",
       "  </thead>\n",
       "  <tbody>\n",
       "    <tr>\n",
       "      <th>id</th>\n",
       "      <td>1.00</td>\n",
       "      <td>-0.05</td>\n",
       "      <td>-0.04</td>\n",
       "      <td>0.13</td>\n",
       "      <td>-0.01</td>\n",
       "    </tr>\n",
       "    <tr>\n",
       "      <th>budget</th>\n",
       "      <td>-0.05</td>\n",
       "      <td>1.00</td>\n",
       "      <td>0.63</td>\n",
       "      <td>0.23</td>\n",
       "      <td>-0.13</td>\n",
       "    </tr>\n",
       "    <tr>\n",
       "      <th>revenue</th>\n",
       "      <td>-0.04</td>\n",
       "      <td>0.63</td>\n",
       "      <td>1.00</td>\n",
       "      <td>0.34</td>\n",
       "      <td>0.11</td>\n",
       "    </tr>\n",
       "    <tr>\n",
       "      <th>popularity</th>\n",
       "      <td>0.13</td>\n",
       "      <td>0.23</td>\n",
       "      <td>0.34</td>\n",
       "      <td>1.00</td>\n",
       "      <td>0.18</td>\n",
       "    </tr>\n",
       "    <tr>\n",
       "      <th>vote_average</th>\n",
       "      <td>-0.01</td>\n",
       "      <td>-0.13</td>\n",
       "      <td>0.11</td>\n",
       "      <td>0.18</td>\n",
       "      <td>1.00</td>\n",
       "    </tr>\n",
       "  </tbody>\n",
       "</table>\n",
       "</div>"
      ],
      "text/plain": [
       "                id  budget  revenue  popularity  vote_average\n",
       "id            1.00   -0.05    -0.04        0.13         -0.01\n",
       "budget       -0.05    1.00     0.63        0.23         -0.13\n",
       "revenue      -0.04    0.63     1.00        0.34          0.11\n",
       "popularity    0.13    0.23     0.34        1.00          0.18\n",
       "vote_average -0.01   -0.13     0.11        0.18          1.00"
      ]
     },
     "execution_count": 9,
     "metadata": {},
     "output_type": "execute_result"
    }
   ],
   "source": [
    "# Correlation\n",
    "df.corr()"
   ]
  },
  {
   "cell_type": "code",
   "execution_count": 10,
   "metadata": {},
   "outputs": [],
   "source": [
    "# heatmap\n"
   ]
  },
  {
   "cell_type": "code",
   "execution_count": 11,
   "metadata": {},
   "outputs": [],
   "source": [
    "# Visualization : correlation between Price x SQFT\n"
   ]
  },
  {
   "cell_type": "code",
   "execution_count": 12,
   "metadata": {},
   "outputs": [],
   "source": [
    "# TODO: Create a scatterplot Price x Mean Income\n",
    "# TODO: What is the correlation between Price x Mean Income\n"
   ]
  },
  {
   "cell_type": "code",
   "execution_count": 13,
   "metadata": {},
   "outputs": [],
   "source": [
    "# Box plot to show the distribution between bedrooms x price\n"
   ]
  },
  {
   "cell_type": "markdown",
   "metadata": {},
   "source": [
    "## Multiple variables (Categorical x Numeric)"
   ]
  },
  {
   "cell_type": "markdown",
   "metadata": {},
   "source": [
    "## Multiple variables (Categorical x Categorical)"
   ]
  },
  {
   "cell_type": "code",
   "execution_count": 14,
   "metadata": {},
   "outputs": [],
   "source": [
    "# Count of number of houses by zipcode and bedrooms\n",
    "\n",
    "\n",
    "# From raw value to percentage\n",
    "\n",
    "\n",
    "# plot\n",
    "\n",
    "\n",
    "# Show graphic\n"
   ]
  },
  {
   "cell_type": "markdown",
   "metadata": {},
   "source": [
    "## Business Perspective\n",
    "\"An approximate answer to the right question is worth a great deal more than a precise answer to the wrong question.\" John Tukey"
   ]
  },
  {
   "cell_type": "code",
   "execution_count": 29,
   "metadata": {},
   "outputs": [
    {
     "data": {
      "image/png": "[encoded data removed]",
      "text/plain": [
       "<Figure size 432x288 with 1 Axes>"
      ]
     },
     "metadata": {
      "needs_background": "light"
     },
     "output_type": "display_data"
    }
   ],
   "source": [
    "# Show the budget/revenue curve for Marvel Productions\n",
    "index_marvel=[]\n",
    "for i, item in enumerate(df['production_companies']):\n",
    "    for cell in item:                                   #cell is a dictionary object\n",
    "        if 'Marvel' in cell['name']:\n",
    "            index_marvel.append(i)\n",
    "            break\n",
    "df_marvel = df.loc[index_marvel, :]\n",
    "df_marvel.sort_values(by='budget')\n",
    "df_marvel.reset_index(drop=True, inplace=True)\n",
    "\n",
    "#mylambda = lambda mylist, x: [mylist.index(item) if x in item] for item in mylist\n",
    "#df_test = df.iloc[mylambda(df['title'],'Sun')]\n",
    "#df_test\n",
    "\n",
    "#mylambda = lambda mylist, x: mylist.index(x) if x in [cell['name'] for cell in item] for i, item in mylist  else False\n",
    "#df_marvel = df.iloc[mylambda(df['production_companies'],'Marvel')]\n",
    "#df_marvel\n",
    "\n",
    "#from matplotlib.pyplot import subplots, show\n",
    "fig, ax = subplots()\n",
    "ax.plot(df_marvel['budget'], df_marvel['revenue'], 'o')\n",
    "ax.set_xlabel(\"Budget\")\n",
    "ax.set_ylabel(\"Revenue\")\n",
    "ax.set_title(\"Marvel: Revenue/Budget\");\n",
    "show()"
   ]
  },
  {
   "cell_type": "code",
   "execution_count": 16,
   "metadata": {},
   "outputs": [],
   "source": [
    "# What is the total sales ($) per month?\n",
    "\n",
    "\n",
    "\n"
   ]
  },
  {
   "cell_type": "code",
   "execution_count": 52,
   "metadata": {},
   "outputs": [
    {
     "data": {
      "text/plain": [
       "(array([0, 1, 2, 3, 4, 5, 6, 7]), <a list of 8 Text xticklabel objects>)"
      ]
     },
     "execution_count": 52,
     "metadata": {},
     "output_type": "execute_result"
    },
    {
     "data": {
      "image/png": "[encoded data removed]",
      "text/plain": [
       "<Figure size 1440x595.44 with 1 Axes>"
      ]
     },
     "metadata": {},
     "output_type": "display_data"
    }
   ],
   "source": [
    "# Show the raitings for each Marvel movie\n",
    "marvel = df_marvel[['id','title']]\n",
    "ratings = pd.read_csv('data/ratings.csv')\n",
    "ratings.rename(columns={'movieId':'id'}, inplace=True)\n",
    "del_index = ratings[ratings['rating'] == 0].index\n",
    "ratings.drop(del_index, inplace=True)\n",
    "ratings.reset_index(drop=True, inplace=True)\n",
    "\n",
    "marvel = marvel.merge(ratings, on='id', how='inner')\n",
    "\n",
    "sns.set(rc={'figure.figsize':(20,8.27)})\n",
    "sns.boxplot(x=marvel['title'], y=marvel['rating'])\n",
    "plt.xticks(rotation=45)"
   ]
  },
  {
   "cell_type": "code",
   "execution_count": 18,
   "metadata": {},
   "outputs": [],
   "source": [
    "# What is the average price by zip code?\n"
   ]
  },
  {
   "cell_type": "code",
   "execution_count": 19,
   "metadata": {},
   "outputs": [],
   "source": [
    "# Identify the zip codes with highest and lowest price per square foot\n"
   ]
  },
  {
   "cell_type": "code",
   "execution_count": 20,
   "metadata": {},
   "outputs": [],
   "source": [
    "# Is the grade a good indicator of price?\n"
   ]
  },
  {
   "cell_type": "code",
   "execution_count": 21,
   "metadata": {
    "scrolled": true
   },
   "outputs": [],
   "source": [
    "# Is the walking score a good indicator of price?\n"
   ]
  },
  {
   "cell_type": "code",
   "execution_count": null,
   "metadata": {},
   "outputs": [],
   "source": []
  }
 ],
 "metadata": {
  "anaconda-cloud": {},
  "kernelspec": {
   "display_name": "Python 3",
   "language": "python",
   "name": "python3"
  },
  "language_info": {
   "codemirror_mode": {
    "name": "ipython",
    "version": 3
   },
   "file_extension": ".py",
   "mimetype": "text/x-python",
   "name": "python",
   "nbconvert_exporter": "python",
   "pygments_lexer": "ipython3",
   "version": "3.6.0"
  }
 },
 "nbformat": 4,
 "nbformat_minor": 1
}
