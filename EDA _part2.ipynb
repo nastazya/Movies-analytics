{
 "cells": [
  {
   "cell_type": "markdown",
   "metadata": {},
   "source": [
    "# Exploratory Data Analysis\n",
    "\n",
    "### This dataset *movies_full.csv* is downloaded to GitHub: https://github.com/nastazya/Movies-analytics/tree/master/data"
   ]
  },
  {
   "cell_type": "code",
   "execution_count": 1,
   "metadata": {},
   "outputs": [],
   "source": [
    "# import the library\n",
    "%matplotlib inline\n",
    "\n",
    "import ast\n",
    "import pandas as pd\n",
    "import numpy as np\n",
    "import scipy\n",
    "import matplotlib.pyplot as plt\n",
    "import seaborn as sns\n",
    "\n",
    "# apply style to all the charts\n",
    "sns.set_style('whitegrid')\n",
    "\n",
    "# convert scientific notation to decimals\n",
    "pd.set_option('display.float_format', lambda x: '%.2f' % x)\n",
    "pd.set_option('display.max_columns', 24)"
   ]
  },
  {
   "cell_type": "code",
   "execution_count": 2,
   "metadata": {},
   "outputs": [
    {
     "name": "stdout",
     "output_type": "stream",
     "text": [
      "id                               int64\n",
      "title                           object\n",
      "budget                           int64\n",
      "revenue                        float64\n",
      "release_date            datetime64[ns]\n",
      "popularity                     float64\n",
      "vote_average                   float64\n",
      "genres                          object\n",
      "production_companies            object\n",
      "cast                            object\n",
      "keywords                        object\n",
      "dtype: object\n"
     ]
    }
   ],
   "source": [
    "df = pd.read_csv('data/movies_full_with_outliers.csv')\n",
    "df['release_date'] = pd.to_datetime(df['release_date'])\n",
    "print(df.dtypes)"
   ]
  },
  {
   "cell_type": "code",
   "execution_count": 3,
   "metadata": {},
   "outputs": [
    {
     "name": "stdout",
     "output_type": "stream",
     "text": [
      "\n",
      "Genres cell:  <class 'list'> . \n",
      "Cell[0]:  {'id': 16, 'name': 'Animation'} :  <class 'dict'>\n",
      "\n",
      "Production_companies cell:  <class 'list'> . \n",
      "Cell[0]:  {'name': 'Steve Krantz Productions', 'id': 5067} :  <class 'dict'>\n",
      "\n",
      "Cast cell:  <class 'list'> . \n",
      "Cell[0]:  {'cast_id': 2, 'character': 'Michael Corleone', 'credit_id': '52fe44289251416c91006c3f', 'gender': 2, 'id': 936451, 'name': 'Joseph Kaufmann', 'order': 0, 'profile_path': None} :  <class 'dict'>\n",
      "\n",
      "Keywords cell:  <class 'list'> . \n",
      "Cell[0]:  {'id': 293, 'name': 'female nudity'} :  <class 'dict'>\n"
     ]
    }
   ],
   "source": [
    "#Setting cast, production_companies, genres and keywords types to a list of dictionaries\n",
    "\n",
    "df['genres'] = df['genres'].astype(str)\n",
    "df['production_companies'] = df['production_companies'].astype(str)\n",
    "df['cast'] = df['cast'].astype(str)\n",
    "df['keywords'] = df['keywords'].astype(str)\n",
    "\n",
    "df['genres'] = df['genres'].apply(lambda x: ast.literal_eval(x))\n",
    "df['production_companies'] = df['production_companies'].apply(lambda x: ast.literal_eval(x))\n",
    "df['cast'] = df['cast'].apply(lambda x: ast.literal_eval(x))\n",
    "df['keywords'] = df['keywords'].apply(lambda x: ast.literal_eval(x))\n",
    "\n",
    "#checking results\n",
    "cell = df['genres'][100]\n",
    "print('\\nGenres cell: ', type(cell), '. \\nCell[0]: ', cell[0], ': ', type(cell[0]))\n",
    "\n",
    "cell = df['production_companies'][100]\n",
    "print('\\nProduction_companies cell: ', type(cell), '. \\nCell[0]: ', cell[0], ': ', type(cell[0]))\n",
    "\n",
    "cell = df['cast'][100]\n",
    "print('\\nCast cell: ', type(cell), '. \\nCell[0]: ', cell[0], ': ', type(cell[0]))\n",
    "\n",
    "cell = df['keywords'][100]\n",
    "print('\\nKeywords cell: ', type(cell), '. \\nCell[0]: ', cell[0], ': ', type(cell[0]))"
   ]
  },
  {
   "cell_type": "code",
   "execution_count": 4,
   "metadata": {},
   "outputs": [
    {
     "data": {
      "text/html": [
       "<div>\n",
       "<style scoped>\n",
       "    .dataframe tbody tr th:only-of-type {\n",
       "        vertical-align: middle;\n",
       "    }\n",
       "\n",
       "    .dataframe tbody tr th {\n",
       "        vertical-align: top;\n",
       "    }\n",
       "\n",
       "    .dataframe thead th {\n",
       "        text-align: right;\n",
       "    }\n",
       "</style>\n",
       "<table border=\"1\" class=\"dataframe\">\n",
       "  <thead>\n",
       "    <tr style=\"text-align: right;\">\n",
       "      <th></th>\n",
       "      <th>id</th>\n",
       "      <th>title</th>\n",
       "      <th>budget</th>\n",
       "      <th>revenue</th>\n",
       "      <th>release_date</th>\n",
       "      <th>popularity</th>\n",
       "      <th>vote_average</th>\n",
       "      <th>genres</th>\n",
       "      <th>production_companies</th>\n",
       "      <th>cast</th>\n",
       "      <th>keywords</th>\n",
       "    </tr>\n",
       "  </thead>\n",
       "  <tbody>\n",
       "    <tr>\n",
       "      <th>0</th>\n",
       "      <td>36523</td>\n",
       "      <td>Felix The Cat: The Movie</td>\n",
       "      <td>9000000</td>\n",
       "      <td>1964253.00</td>\n",
       "      <td>1988-10-01</td>\n",
       "      <td>0.03</td>\n",
       "      <td>3.70</td>\n",
       "      <td>[{'id': 16, 'name': 'Animation'}, {'id': 10751...</td>\n",
       "      <td>[{'name': 'Pannónia Filmstúdió', 'id': 48669},...</td>\n",
       "      <td>[{'cast_id': 1, 'character': 'Felix the Cat (V...</td>\n",
       "      <td>[{'id': 9820, 'name': 'alternate dimension'}, ...</td>\n",
       "    </tr>\n",
       "    <tr>\n",
       "      <th>1</th>\n",
       "      <td>68351</td>\n",
       "      <td>Sankofa</td>\n",
       "      <td>1000000</td>\n",
       "      <td>2691899.00</td>\n",
       "      <td>1993-05-28</td>\n",
       "      <td>0.05</td>\n",
       "      <td>6.90</td>\n",
       "      <td>[{'id': 18, 'name': 'Drama'}]</td>\n",
       "      <td>[{'name': 'Channel Four Films', 'id': 181}, {'...</td>\n",
       "      <td>[{'cast_id': 6, 'character': 'Sankofa', 'credi...</td>\n",
       "      <td>[{'id': 409, 'name': 'africa'}, {'id': 2831, '...</td>\n",
       "    </tr>\n",
       "    <tr>\n",
       "      <th>2</th>\n",
       "      <td>285908</td>\n",
       "      <td>The Last Breath</td>\n",
       "      <td>3800000</td>\n",
       "      <td>559298.00</td>\n",
       "      <td>1999-03-25</td>\n",
       "      <td>0.07</td>\n",
       "      <td>4.00</td>\n",
       "      <td>[{'id': 80, 'name': 'Crime'}, {'id': 18, 'name...</td>\n",
       "      <td>[{'name': 'Lions Gate Films', 'id': 35}]</td>\n",
       "      <td>[{'cast_id': 0, 'character': 'Lauren Vaillanco...</td>\n",
       "      <td>[{'id': 10714, 'name': 'serial killer'}]</td>\n",
       "    </tr>\n",
       "    <tr>\n",
       "      <th>3</th>\n",
       "      <td>121173</td>\n",
       "      <td>Voracious</td>\n",
       "      <td>11178</td>\n",
       "      <td>34659.00</td>\n",
       "      <td>2012-09-05</td>\n",
       "      <td>0.08</td>\n",
       "      <td>8.00</td>\n",
       "      <td>[{'id': 35, 'name': 'Comedy'}, {'id': 18, 'nam...</td>\n",
       "      <td>[{'name': 'APT Entertainment', 'id': 8355}, {'...</td>\n",
       "      <td>[{'cast_id': 16, 'character': 'Rene', 'credit_...</td>\n",
       "      <td>[{'id': 4694, 'name': 'staged death'}, {'id': ...</td>\n",
       "    </tr>\n",
       "    <tr>\n",
       "      <th>4</th>\n",
       "      <td>110669</td>\n",
       "      <td>Wabash Avenue</td>\n",
       "      <td>2115000</td>\n",
       "      <td>2039000.00</td>\n",
       "      <td>1950-03-31</td>\n",
       "      <td>0.11</td>\n",
       "      <td>7.00</td>\n",
       "      <td>[{'id': 10402, 'name': 'Music'}]</td>\n",
       "      <td>[{'name': 'Twentieth Century Fox Film Corporat...</td>\n",
       "      <td>[{'cast_id': 1004, 'character': 'Ruby Summers'...</td>\n",
       "      <td>[{'id': 4344, 'name': 'musical'}, {'id': 4497,...</td>\n",
       "    </tr>\n",
       "  </tbody>\n",
       "</table>\n",
       "</div>"
      ],
      "text/plain": [
       "       id                     title   budget    revenue release_date  \\\n",
       "0   36523  Felix The Cat: The Movie  9000000 1964253.00   1988-10-01   \n",
       "1   68351                   Sankofa  1000000 2691899.00   1993-05-28   \n",
       "2  285908           The Last Breath  3800000  559298.00   1999-03-25   \n",
       "3  121173                 Voracious    11178   34659.00   2012-09-05   \n",
       "4  110669             Wabash Avenue  2115000 2039000.00   1950-03-31   \n",
       "\n",
       "   popularity  vote_average  \\\n",
       "0        0.03          3.70   \n",
       "1        0.05          6.90   \n",
       "2        0.07          4.00   \n",
       "3        0.08          8.00   \n",
       "4        0.11          7.00   \n",
       "\n",
       "                                              genres  \\\n",
       "0  [{'id': 16, 'name': 'Animation'}, {'id': 10751...   \n",
       "1                      [{'id': 18, 'name': 'Drama'}]   \n",
       "2  [{'id': 80, 'name': 'Crime'}, {'id': 18, 'name...   \n",
       "3  [{'id': 35, 'name': 'Comedy'}, {'id': 18, 'nam...   \n",
       "4                   [{'id': 10402, 'name': 'Music'}]   \n",
       "\n",
       "                                production_companies  \\\n",
       "0  [{'name': 'Pannónia Filmstúdió', 'id': 48669},...   \n",
       "1  [{'name': 'Channel Four Films', 'id': 181}, {'...   \n",
       "2           [{'name': 'Lions Gate Films', 'id': 35}]   \n",
       "3  [{'name': 'APT Entertainment', 'id': 8355}, {'...   \n",
       "4  [{'name': 'Twentieth Century Fox Film Corporat...   \n",
       "\n",
       "                                                cast  \\\n",
       "0  [{'cast_id': 1, 'character': 'Felix the Cat (V...   \n",
       "1  [{'cast_id': 6, 'character': 'Sankofa', 'credi...   \n",
       "2  [{'cast_id': 0, 'character': 'Lauren Vaillanco...   \n",
       "3  [{'cast_id': 16, 'character': 'Rene', 'credit_...   \n",
       "4  [{'cast_id': 1004, 'character': 'Ruby Summers'...   \n",
       "\n",
       "                                            keywords  \n",
       "0  [{'id': 9820, 'name': 'alternate dimension'}, ...  \n",
       "1  [{'id': 409, 'name': 'africa'}, {'id': 2831, '...  \n",
       "2           [{'id': 10714, 'name': 'serial killer'}]  \n",
       "3  [{'id': 4694, 'name': 'staged death'}, {'id': ...  \n",
       "4  [{'id': 4344, 'name': 'musical'}, {'id': 4497,...  "
      ]
     },
     "execution_count": 4,
     "metadata": {},
     "output_type": "execute_result"
    }
   ],
   "source": [
    "df.head(5)"
   ]
  },
  {
   "cell_type": "code",
   "execution_count": 5,
   "metadata": {},
   "outputs": [
    {
     "name": "stdout",
     "output_type": "stream",
     "text": [
      "       title\n",
      "2134  Subway\n",
      "                     title\n",
      "1242  King Solomon's Mines\n"
     ]
    }
   ],
   "source": [
    "#Extra adjustments for the points discovered later during the process\n",
    "\n",
    "#replace FRF budget by USD\n",
    "df.loc[df['id'] == 10656, ['budget']] = 25974\n",
    "print(df.loc[df['id'] == 10656, ['title']])\n",
    "\n",
    "#wrong revenue\n",
    "df.loc[df['id'] == 9838, ['revenue']] = 15057465\n",
    "print(df.loc[df['id'] == 9838, ['title']])"
   ]
  },
  {
   "cell_type": "code",
   "execution_count": 24,
   "metadata": {},
   "outputs": [],
   "source": [
    "# Analize release date\n",
    "# We see that there is a strong tendency of grouth movies produced every year\n",
    "df['year'] = df['release_date'].dt.year\n",
    "df['year_month'] = pd.to_datetime(df['release_date']).dt.to_period('M')\n",
    "df = df[df['year']>=1980]"
   ]
  },
  {
   "cell_type": "code",
   "execution_count": 37,
   "metadata": {},
   "outputs": [
    {
     "name": "stdout",
     "output_type": "stream",
     "text": [
      "Number of Movies in each genre:\n",
      "11   Foreign\n",
      "32   Western\n",
      "34   Documentary\n",
      "90   Music\n",
      "105   War\n",
      "131   History\n",
      "211   Animation\n",
      "253   Mystery\n",
      "309   Fantasy\n",
      "315   Horror\n",
      "343   Family\n",
      "345   Science Fiction\n",
      "488   Crime\n",
      "544   Romance\n",
      "571   Adventure\n",
      "838   Action\n",
      "910   Thriller\n",
      "1038   Comedy\n",
      "1479   Drama\n",
      "Number of genres:  19\n",
      "[0.0, 1.0, 1.0, 3.0, 3.0, 4.0, 7.0, 8.0, 10.0, 10.0, 11.0, 11.0, 16.0, 18.0, 19.0, 27.0, 29.0, 34.0, 48.0]\n"
     ]
    },
    {
     "data": {
      "text/plain": [
       "([<matplotlib.axis.XTick at 0x21d1fd33400>,\n",
       "  <matplotlib.axis.XTick at 0x21d1fd33f60>,\n",
       "  <matplotlib.axis.XTick at 0x21d1fcfb588>,\n",
       "  <matplotlib.axis.XTick at 0x21d20e00780>,\n",
       "  <matplotlib.axis.XTick at 0x21d20e00c18>,\n",
       "  <matplotlib.axis.XTick at 0x21d20e00668>,\n",
       "  <matplotlib.axis.XTick at 0x21d20e085f8>,\n",
       "  <matplotlib.axis.XTick at 0x21d1f5015c0>,\n",
       "  <matplotlib.axis.XTick at 0x21d1f1d8b38>,\n",
       "  <matplotlib.axis.XTick at 0x21d1f50efd0>,\n",
       "  <matplotlib.axis.XTick at 0x21d20e08828>,\n",
       "  <matplotlib.axis.XTick at 0x21d20e08f28>,\n",
       "  <matplotlib.axis.XTick at 0x21d20e12438>,\n",
       "  <matplotlib.axis.XTick at 0x21d20e12908>,\n",
       "  <matplotlib.axis.XTick at 0x21d20e12e10>,\n",
       "  <matplotlib.axis.XTick at 0x21d20e1c358>,\n",
       "  <matplotlib.axis.XTick at 0x21d20e1c860>,\n",
       "  <matplotlib.axis.XTick at 0x21d20e1cd68>,\n",
       "  <matplotlib.axis.XTick at 0x21d20e1c908>],\n",
       " <a list of 19 Text xticklabel objects>)"
      ]
     },
     "execution_count": 37,
     "metadata": {},
     "output_type": "execute_result"
    },
    {
     "data": {
      "image/png": "[encoded data removed]",
      "text/plain": [
       "<Figure size 1152x432 with 1 Axes>"
      ]
     },
     "metadata": {
      "needs_background": "light"
     },
     "output_type": "display_data"
    }
   ],
   "source": [
    "# Analize genres\n",
    "#There are 20 genres. In our dataset there is only one TV Show and 2287 Dramas (highest number og movies in Drama)\n",
    "df = df[df['year']>=1997]\n",
    "l=[]\n",
    "for i, item in enumerate(df['genres']):\n",
    "    for cell in item:\n",
    "        l.append(cell['name'])\n",
    "genres_all = np.array(l) \n",
    "g_name, g_count = np.unique(genres_all, return_counts=True)\n",
    "genres = zip(g_name, g_count) # list of Unique Values along with occurrence Count\n",
    "genres = list(genres)\n",
    "genres = sorted(genres, key = lambda x: x[1])\n",
    "print('Number of Movies in each genre:')\n",
    "for i, elem in enumerate(genres):\n",
    "    print(genres[i][1], ' ', genres[i][0])\n",
    "    g_name[i] = elem[0]\n",
    "    g_count[i] = elem[1]\n",
    "print('Number of genres: ', len(genres))\n",
    "\n",
    "# Bar Chart\n",
    "plt.figure(figsize=(16,6))\n",
    "plt.title('Genres')\n",
    "plt.xlabel('genres')\n",
    "plt.ylabel('%')\n",
    "y_pos = range(len(g_name))\n",
    "g_count_pers = [round(g_count[x]*100/df['id'].count()) for x in range(len(g_count))]\n",
    "print(g_count_pers)\n",
    "plt.bar(y_pos, g_count_pers, align='center', alpha=0.5)\n",
    "plt.xticks(y_pos, g_name, rotation=45)\n"
   ]
  },
  {
   "cell_type": "code",
   "execution_count": 8,
   "metadata": {
    "scrolled": true
   },
   "outputs": [
    {
     "name": "stdout",
     "output_type": "stream",
     "text": [
      "Correlation between popularity and revenue: \n",
      "\n",
      "             popularity  revenue\n",
      "popularity        1.00     0.54\n",
      "revenue           0.54     1.00\n"
     ]
    },
    {
     "data": {
      "image/png": "[encoded data removed]",
      "text/plain": [
       "<Figure size 1008x576 with 1 Axes>"
      ]
     },
     "metadata": {
      "needs_background": "light"
     },
     "output_type": "display_data"
    }
   ],
   "source": [
    "# Revenue VS Popularity\n",
    "\n",
    "budget_year = df.groupby(by='year')['popularity'].sum()\n",
    "#print('Total budget per year:\\n', budget_year_u.sort_values(ascending=False))\n",
    "revenue_year = df.groupby(by='year')['revenue'].sum()\n",
    "#print('Total revenue per year:\\n', revenue_year_u.sort_values(ascending=False))\n",
    "\n",
    "\n",
    "\n",
    "#Plot scatter\n",
    "plt.figure(figsize=(14,8))\n",
    "plt.plot(df['popularity'], df['revenue'], 'o', color='violet')\n",
    "plt.xlabel('Popularity')\n",
    "plt.ylabel('Revenue')\n",
    "\n",
    "print('Correlation between popularity and revenue: \\n\\n', df[['popularity','revenue']].corr())"
   ]
  },
  {
   "cell_type": "code",
   "execution_count": 22,
   "metadata": {},
   "outputs": [
    {
     "name": "stdout",
     "output_type": "stream",
     "text": [
      "Number of Actors:  61552\n",
      "Jodie Foster\n",
      "Number of Actors:  61530\n"
     ]
    }
   ],
   "source": [
    "#Extracting list of genres\n",
    "l=[]\n",
    "for i, item in enumerate(df['genres']):\n",
    "    for cell in item:\n",
    "        l.append(cell['name'])\n",
    "g_name, g_count = np.unique(np.array(l), return_counts=True)\n",
    "\n",
    "#-----------------------------------------------------------------------------\n",
    "#Extracting list of actors\n",
    "l=[]\n",
    "for i, item in enumerate(df['cast']):\n",
    "    for cell in item:\n",
    "        l.append(cell['name'])\n",
    "a_name, a_count = np.unique(np.array(l), return_counts=True)\n",
    "print('Number of Actors: ', len(a_name))\n",
    "idx=[]\n",
    "for i, item  in enumerate(a_name):\n",
    "    if (item == 'Kar') | (item == 'George') | (a_name[i] == 'Mario') | (a_name[i] == 'Jack') | (a_name[i] == 'Charle') | (a_name[i] == 'Charlie') | (a_name[i] == 'Mars') | (a_name[i] == 'Terry') | (a_name[i] == 'King') | (a_name[i] == 'Sim') | (a_name[i] == 'Elli') | (a_name[i] == 'Carlos') | (a_name[i] == 'Sandra') | (a_name[i] == 'Justin') | (a_name[i] == 'Shane') | (a_name[i] == 'Angela') | (a_name[i] == 'Eve') | (a_name[i] == 'Foster') | (a_name[i] == 'Take') | (a_name[i] == 'Andrea') | (a_name[i] == 'Ade') | (a_name[i] == 'Tiffany') | (a_name[i] == 'Zoë'):\n",
    "        idx.append(i)\n",
    "    if item == 'Jodie Foster':\n",
    "        print(item)\n",
    "a_name = np.delete(a_name, idx)\n",
    "a_count = np.delete(a_count, idx)\n",
    "\n",
    "print('Number of Actors: ', len(a_name))\n",
    "    "
   ]
  },
  {
   "cell_type": "code",
   "execution_count": 23,
   "metadata": {},
   "outputs": [
    {
     "name": "stdout",
     "output_type": "stream",
     "text": [
      "2010-2017: \n",
      "Adventure :  9.64 %; revenue:  16.03\n",
      "Action :  12.28 %; revenue:  14.91\n",
      "Comedy :  11.36 %; revenue:  9.9\n",
      "Drama :  16.6 %; revenue:  9.07\n",
      "Adventure : \n",
      " [('Stan Lee', 310.358408, 24, 8078975034.0), ('Idris Elba', 269.435391, 25, 7719816457.0), ('Samuel L. Jackson', 240.44414500000002, 67, 4639080315.0), ('Chris Hemsworth', 208.78098, 17, 4299408276.0), ('Zoë', 181.236582, 1, 3181933921.0), ('Toby Jones', 178.508646, 25, 5080627980.0), ('Lasco Atkins', 177.32550400000002, 13, 3127626814.0), ('Fred Tatasciore', 176.153872, 21, 6695197641.0), ('Simon Pegg', 175.41123800000003, 22, 6427106363.0), ('Michael Caine', 165.655012, 36, 3312387730.0)] \n",
      "\n",
      "Action : \n",
      " [('Stan Lee', 310.358408, 24, 8078975034.0), ('Samuel L. Jackson', 234.847013, 67, 4760577510.0), ('Chris Hemsworth', 223.45547700000003, 17, 4267010192.0), ('Idris Elba', 208.82121400000003, 25, 3520271371.0), ('Morgan Freeman', 195.22895600000004, 55, 2619744993.0), ('Liam Neeson', 179.376577, 49, 3166867384.0), ('Jason Statham', 169.13694800000002, 31, 3697105823.0), ('Anthony Mackie', 164.280441, 29, 3313891855.0), ('Joe Chrest', 156.81085699999997, 21, 2439947584.0), ('Lasco Atkins', 154.446361, 13, 2667519259.0)] \n",
      "\n",
      "Comedy : \n",
      " [('Cher', 185.49100099999998, 9, 2027418082.0), ('Ken Jeong', 183.49903799999998, 25, 2826618754.0), ('Jonah Hill', 169.208029, 28, 2792067113.0), ('Seth Rogen', 163.99925499999998, 31, 2346849225.0), ('Bill Hader', 161.44649, 30, 3712728060.0), ('Keegan-Michael Key', 157.701149, 16, 2350408703.0), ('Nick Offerman', 154.919546, 16, 2701331369.0), ('Jason Bateman', 149.567768, 28, 2890042003.0), ('Kristen Wiig', 144.294282, 26, 2940998554.0), ('Rebel Wilson', 139.89010000000002, 14, 2358248501.0)] \n",
      "\n",
      "Drama : \n",
      " [('Cher', 249.323834, 9, 1894266465.0), ('Kristen Stewart', 181.99888499999997, 27, 2059751443.0), ('Jessica Chastain', 180.839941, 18, 1980323497.0), ('Brad Pitt', 173.699298, 49, 1423166957.0), ('David Oyelowo', 170.492227, 17, 2050758217.0), ('Rain', 168.935342, 3, 1670074245.0), ('Matt Damon', 163.371061, 57, 2480953517.0), ('Liam Neeson', 150.029425, 49, 1578457375.0), ('J.D. Evermore', 148.823312, 18, 960546600.0), ('Matthew McConaughey', 145.410333, 34, 2074119411.0)] \n",
      "\n"
     ]
    }
   ],
   "source": [
    "# Show four most popular genres the four last decades\n",
    "\n",
    "#------------------------------------------------------------------------------\n",
    "# Function that takes dataframe and returns percentages of movie popularity and revenue in every genre\n",
    "def movie_genre(df_10):\n",
    "    # Extracting mean of popularity of each genre into votes\n",
    "    index_extractor = lambda df, field, value: [idx for idx, entries in enumerate(df[field]) for item in entries if value in item['name']]\n",
    "    votes = []\n",
    "    revenue=[]\n",
    "    for i, item in enumerate(g_name):\n",
    "        votes.append(df_10.iloc[index_extractor(df_10, 'genres', item),:]['popularity'].sum())\n",
    "        revenue.append(df_10.iloc[index_extractor(df_10, 'genres', item),:]['revenue'].sum())\n",
    "        \n",
    "    # Calculating percentage\n",
    "    total_v = np.sum(votes)\n",
    "    total_r = np.sum(revenue)\n",
    "    \n",
    "    for i in range(len(votes)):\n",
    "        votes[i] = votes[i]/total_v*100\n",
    "        revenue[i] = revenue[i]/total_r*100\n",
    "\n",
    "    # Zip and Sort by popularity percentage \n",
    "    sorted_genres = sorted(list(zip(g_name, votes, g_count, revenue)), key = lambda x: x[3], reverse = True)\n",
    "    return sorted_genres\n",
    "\n",
    "#-------------------------------------------------------------------------------\n",
    "# Taking 2010-2017\n",
    "df_10 = df[(df['year']>=2010) & (df['year']<2017)]\n",
    "g_v_c_1 = movie_genre(df_10)\n",
    "print('2010-2017: ')\n",
    "top_1=[]\n",
    "for i in range(4): \n",
    "    top_1.append(g_v_c_1[i][0])\n",
    "    print(g_v_c_1[i][0], ': ', round(g_v_c_1[i][1],2), '%; revenue: ', round(g_v_c_1[i][3],2))\n",
    "    \n",
    "\n",
    "#Creating list of lists of 10 most popular actors in each genre in top_1\n",
    "index_extractor = lambda df, field, value: [idx for idx, entries in enumerate(df[field]) for item in entries if value in item['name']]\n",
    "a_1=[]\n",
    "for i, genre in enumerate(top_1):\n",
    "    df_temp = df_10.iloc[index_extractor(df_10, 'genres', genre),:]\n",
    "    a_pop = []\n",
    "    a_rev = []\n",
    "    for actor in a_name:\n",
    "        a_pop.append(df_temp.iloc[index_extractor(df_temp, 'cast', actor),:]['popularity'].sum())\n",
    "        a_rev.append(df_temp.iloc[index_extractor(df_temp, 'cast', actor),:]['revenue'].sum())\n",
    "    sorted_actors = sorted(list(zip(a_name, a_pop, a_count, a_rev)), key = lambda x: x[1], reverse = True)\n",
    "    a_all = sorted_actors[0:10]\n",
    "    #a_temp_10 = a_temp[0:10]\n",
    "    print(genre, ': \\n', a_all, '\\n')\n",
    "    \n",
    "a_1.append(a_all)\n",
    "\n",
    "#-------------------------------------------------------------------------------\n"
   ]
  },
  {
   "cell_type": "code",
   "execution_count": 41,
   "metadata": {},
   "outputs": [
    {
     "data": {
      "image/png": "[encoded data removed]",
      "text/plain": [
       "<Figure size 1152x432 with 1 Axes>"
      ]
     },
     "metadata": {
      "needs_background": "light"
     },
     "output_type": "display_data"
    },
    {
     "data": {
      "image/png": "[encoded data removed]",
      "text/plain": [
       "<Figure size 1152x432 with 1 Axes>"
      ]
     },
     "metadata": {
      "needs_background": "light"
     },
     "output_type": "display_data"
    }
   ],
   "source": [
    "# Show total revenues for each genre\n",
    "df_t = df\n",
    "\n",
    "\n",
    "#Extracting list of genres\n",
    "l=[]\n",
    "for i, item in enumerate(df['genres']):\n",
    "    for cell in item:\n",
    "        l.append(cell['name'])\n",
    "g_name, g_count = np.unique(np.array(l), return_counts=True)\n",
    "\n",
    "#------------------------------------------------------------------------------\n",
    "# Calculating total revenue of movies in every genre\n",
    "index_extractor = lambda df, field, value: [idx for idx, entries in enumerate(df[field]) for item in entries if value in item['name']]\n",
    "revenue = []\n",
    "for i, item in enumerate(g_name):\n",
    "    r = df_t.iloc[index_extractor(df_t, 'genres', item),:]['revenue'].sum()\n",
    "    revenue.append(round(r*100/sum(df_t['revenue'])))\n",
    "rev_all_list = sorted(zip(g_name, revenue), key = lambda x: x[1], reverse = True) # list of names along with revenues sorted\n",
    "rev_genre = [rev_all_list[x][0] for x in range(len(rev_all_list ))]\n",
    "rev_value = [rev_all_list[x][1] for x in range(len(rev_all_list ))]\n",
    "    \n",
    "# Bar Chart\n",
    "plt.figure(figsize=(16,6))\n",
    "plt.title('Total revenue in every genre after 1980')\n",
    "plt.xlabel('Genres')\n",
    "plt.ylabel('Total Revenue, %')\n",
    "x_pos = range(len(rev_genre))\n",
    "plt.bar(x_pos, rev_value, align='center', alpha=0.5)\n",
    "plt.xticks(x_pos, rev_genre, rotation='vertical')\n",
    "plt.show()\n",
    "\n",
    "#------------------------------------------------------------------------------\n",
    "# Calculating total popularity for every genre\n",
    "index_extractor = lambda df, field, value: [idx for idx, entries in enumerate(df[field]) for item in entries if value in item['name']]\n",
    "popularity = []\n",
    "for i, item in enumerate(g_name):\n",
    "    p = df_t.iloc[index_extractor(df_t, 'genres', item),:]['popularity'].sum()\n",
    "    popularity.append(round(p*100/sum(df_t['popularity'])))\n",
    "\n",
    "pop_all_list = sorted(zip(g_name, popularity), key = lambda x: x[1], reverse = True) # list of names along with popularity sorted\n",
    "pop_genre = [pop_all_list[x][0] for x in range(len(pop_all_list ))]\n",
    "pop_value = [pop_all_list[x][1] for x in range(len(pop_all_list ))]\n",
    "    \n",
    "# Bar Chart\n",
    "plt.figure(figsize=(16,6))\n",
    "plt.title('Total popularity for every genre after 1980')\n",
    "plt.xlabel('Genres')\n",
    "plt.ylabel('Popularity, %')\n",
    "x_pos = range(len(pop_genre))\n",
    "plt.bar(x_pos,pop_value, align='center', alpha=0.5)\n",
    "plt.xticks(y_pos, pop_genre, rotation='vertical')\n",
    "plt.show()\n"
   ]
  },
  {
   "cell_type": "code",
   "execution_count": 47,
   "metadata": {},
   "outputs": [
    {
     "data": {
      "image/png": "[encoded data removed]",
      "text/plain": [
       "<Figure size 1152x504 with 1 Axes>"
      ]
     },
     "metadata": {
      "needs_background": "light"
     },
     "output_type": "display_data"
    }
   ],
   "source": [
    "#Revenue and Popularity, %\n",
    "\n",
    "rev_pop_list = sorted(zip(g_name, revenue, popularity), key = lambda x: x[1], reverse = True) # list of names along with revenues sorted\n",
    "genre_values = [rev_pop_list[x][0] for x in range(len(rev_pop_list))]\n",
    "pop_values = [rev_pop_list[x][2] for x in range(len(rev_pop_list))]\n",
    "rev_values = [rev_pop_list[x][1] for x in range(len(rev_pop_list))]\n",
    "\n",
    "\n",
    "# Bar Chart\n",
    "fig, ax = plt.subplots(figsize=(16,7))\n",
    "index = np.arange(len(genre_values))\n",
    "bar_width = 0.3\n",
    "opacity = 0.3\n",
    "\n",
    "rects1 = ax.bar(index, pop_values, bar_width,\n",
    "                alpha=opacity, color='b',\n",
    "                label='popularity')\n",
    "\n",
    "rects2 = ax.bar(index + bar_width, rev_values, bar_width,\n",
    "                alpha=opacity, color='r',\n",
    "                label='revenue')\n",
    "\n",
    "ax.set_xlabel('Genres')\n",
    "ax.set_ylabel('%')\n",
    "ax.set_title('Popularity and Revenue, %, after 1980')\n",
    "ax.set_xticks(index + bar_width / 2)\n",
    "ax.set_xticklabels(genre_values)\n",
    "ax.legend()\n",
    "\n",
    "fig.tight_layout()\n",
    "plt.show()"
   ]
  },
  {
   "cell_type": "code",
   "execution_count": null,
   "metadata": {},
   "outputs": [],
   "source": []
  },
  {
   "cell_type": "code",
   "execution_count": null,
   "metadata": {},
   "outputs": [],
   "source": []
  }
 ],
 "metadata": {
  "anaconda-cloud": {},
  "kernelspec": {
   "display_name": "Python 3",
   "language": "python",
   "name": "python3"
  },
  "language_info": {
   "codemirror_mode": {
    "name": "ipython",
    "version": 3
   },
   "file_extension": ".py",
   "mimetype": "text/x-python",
   "name": "python",
   "nbconvert_exporter": "python",
   "pygments_lexer": "ipython3",
   "version": "3.6.0"
  }
 },
 "nbformat": 4,
 "nbformat_minor": 1
}
