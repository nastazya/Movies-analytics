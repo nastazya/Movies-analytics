{
 "cells": [
  {
   "cell_type": "markdown",
   "metadata": {},
   "source": [
    "# Data Wrangling & Cleaning"
   ]
  },
  {
   "cell_type": "code",
   "execution_count": 1,
   "metadata": {},
   "outputs": [],
   "source": [
    "# import the library\n",
    "%matplotlib inline\n",
    "\n",
    "import pandas as pd\n",
    "import numpy as np\n",
    "import matplotlib.pyplot as plt\n",
    "\n",
    "# convert scientific notation to decimals\n",
    "pd.set_option('display.float_format', lambda x: '%.2f' % x)"
   ]
  },
  {
   "cell_type": "markdown",
   "metadata": {},
   "source": [
    "### Load & Merge the data"
   ]
  },
  {
   "cell_type": "code",
   "execution_count": 2,
   "metadata": {},
   "outputs": [
    {
     "name": "stderr",
     "output_type": "stream",
     "text": [
      "C:\\Users\\Anastasia\\Anaconda3\\lib\\site-packages\\IPython\\core\\interactiveshell.py:3020: DtypeWarning: Columns (10) have mixed types. Specify dtype option on import or set low_memory=False.\n",
      "  interactivity=interactivity, compiler=compiler, result=result)\n"
     ]
    }
   ],
   "source": [
    "movies = pd.read_csv('data/movies_metadata.csv')\n",
    "cast = pd.read_csv('data/credits.csv')\n",
    "keywords = pd.read_csv('data/keywords.csv')"
   ]
  },
  {
   "cell_type": "markdown",
   "metadata": {},
   "source": [
    "### Summarizing your data for inspection"
   ]
  },
  {
   "cell_type": "code",
   "execution_count": 4,
   "metadata": {},
   "outputs": [
    {
     "name": "stdout",
     "output_type": "stream",
     "text": [
      "Movies Info\n",
      "Index(['adult', 'belongs_to_collection', 'budget', 'genres', 'homepage', 'id',\n",
      "       'imdb_id', 'original_language', 'original_title', 'overview',\n",
      "       'popularity', 'poster_path', 'production_companies',\n",
      "       'production_countries', 'release_date', 'revenue', 'runtime',\n",
      "       'spoken_languages', 'status', 'tagline', 'title', 'video',\n",
      "       'vote_average', 'vote_count'],\n",
      "      dtype='object')\n",
      "   adult                              belongs_to_collection    budget  \\\n",
      "0  False  {'id': 10194, 'name': 'Toy Story Collection', ...  30000000   \n",
      "1  False                                                NaN  65000000   \n",
      "2  False  {'id': 119050, 'name': 'Grumpy Old Men Collect...         0   \n",
      "3  False                                                NaN  16000000   \n",
      "4  False  {'id': 96871, 'name': 'Father of the Bride Col...         0   \n",
      "\n",
      "                                              genres  \\\n",
      "0  [{'id': 16, 'name': 'Animation'}, {'id': 35, '...   \n",
      "1  [{'id': 12, 'name': 'Adventure'}, {'id': 14, '...   \n",
      "2  [{'id': 10749, 'name': 'Romance'}, {'id': 35, ...   \n",
      "3  [{'id': 35, 'name': 'Comedy'}, {'id': 18, 'nam...   \n",
      "4                     [{'id': 35, 'name': 'Comedy'}]   \n",
      "\n",
      "                               homepage     id    imdb_id original_language  \\\n",
      "0  http://toystory.disney.com/toy-story    862  tt0114709                en   \n",
      "1                                   NaN   8844  tt0113497                en   \n",
      "2                                   NaN  15602  tt0113228                en   \n",
      "3                                   NaN  31357  tt0114885                en   \n",
      "4                                   NaN  11862  tt0113041                en   \n",
      "\n",
      "                original_title  \\\n",
      "0                    Toy Story   \n",
      "1                      Jumanji   \n",
      "2             Grumpier Old Men   \n",
      "3            Waiting to Exhale   \n",
      "4  Father of the Bride Part II   \n",
      "\n",
      "                                            overview    ...     release_date  \\\n",
      "0  Led by Woody, Andy's toys live happily in his ...    ...       1995-10-30   \n",
      "1  When siblings Judy and Peter discover an encha...    ...       1995-12-15   \n",
      "2  A family wedding reignites the ancient feud be...    ...       1995-12-22   \n",
      "3  Cheated on, mistreated and stepped on, the wom...    ...       1995-12-22   \n",
      "4  Just when George Banks has recovered from his ...    ...       1995-02-10   \n",
      "\n",
      "       revenue runtime                                   spoken_languages  \\\n",
      "0 373554033.00   81.00           [{'iso_639_1': 'en', 'name': 'English'}]   \n",
      "1 262797249.00  104.00  [{'iso_639_1': 'en', 'name': 'English'}, {'iso...   \n",
      "2         0.00  101.00           [{'iso_639_1': 'en', 'name': 'English'}]   \n",
      "3  81452156.00  127.00           [{'iso_639_1': 'en', 'name': 'English'}]   \n",
      "4  76578911.00  106.00           [{'iso_639_1': 'en', 'name': 'English'}]   \n",
      "\n",
      "     status                                            tagline  \\\n",
      "0  Released                                                NaN   \n",
      "1  Released          Roll the dice and unleash the excitement!   \n",
      "2  Released  Still Yelling. Still Fighting. Still Ready for...   \n",
      "3  Released  Friends are the people who let you be yourself...   \n",
      "4  Released  Just When His World Is Back To Normal... He's ...   \n",
      "\n",
      "                         title  video vote_average vote_count  \n",
      "0                    Toy Story  False         7.70    5415.00  \n",
      "1                      Jumanji  False         6.90    2413.00  \n",
      "2             Grumpier Old Men  False         6.50      92.00  \n",
      "3            Waiting to Exhale  False         6.10      34.00  \n",
      "4  Father of the Bride Part II  False         5.70     173.00  \n",
      "\n",
      "[5 rows x 24 columns]\n",
      "            revenue  runtime  vote_average  vote_count\n",
      "count      45460.00 45203.00      45460.00    45460.00\n",
      "mean    11209348.54    94.13          5.62      109.90\n",
      "std     64332246.74    38.41          1.92      491.31\n",
      "min            0.00     0.00          0.00        0.00\n",
      "25%            0.00    85.00          5.00        3.00\n",
      "50%            0.00    95.00          6.00       10.00\n",
      "75%            0.00   107.00          6.80       34.00\n",
      "max   2787965087.00  1256.00         10.00    14075.00\n",
      "\n",
      "Cast\n",
      "Index(['cast', 'crew', 'id'], dtype='object')\n",
      "                                                cast  \\\n",
      "0  [{'cast_id': 14, 'character': 'Woody (voice)',...   \n",
      "1  [{'cast_id': 1, 'character': 'Alan Parrish', '...   \n",
      "2  [{'cast_id': 2, 'character': 'Max Goldman', 'c...   \n",
      "3  [{'cast_id': 1, 'character': \"Savannah 'Vannah...   \n",
      "4  [{'cast_id': 1, 'character': 'George Banks', '...   \n",
      "\n",
      "                                                crew     id  \n",
      "0  [{'credit_id': '52fe4284c3a36847f8024f49', 'de...    862  \n",
      "1  [{'credit_id': '52fe44bfc3a36847f80a7cd1', 'de...   8844  \n",
      "2  [{'credit_id': '52fe466a9251416c75077a89', 'de...  15602  \n",
      "3  [{'credit_id': '52fe44779251416c91011acb', 'de...  31357  \n",
      "4  [{'credit_id': '52fe44959251416c75039ed7', 'de...  11862  \n",
      "             id\n",
      "count  45476.00\n",
      "mean  108346.00\n",
      "std   112443.80\n",
      "min        2.00\n",
      "25%    26443.25\n",
      "50%    60002.50\n",
      "75%   157302.00\n",
      "max   469172.00\n",
      "\n",
      "Keywords\n",
      "Index(['id', 'keywords'], dtype='object')\n",
      "      id                                           keywords\n",
      "0    862  [{'id': 931, 'name': 'jealousy'}, {'id': 4290,...\n",
      "1   8844  [{'id': 10090, 'name': 'board game'}, {'id': 1...\n",
      "2  15602  [{'id': 1495, 'name': 'fishing'}, {'id': 12392...\n",
      "3  31357  [{'id': 818, 'name': 'based on novel'}, {'id':...\n",
      "4  11862  [{'id': 1009, 'name': 'baby'}, {'id': 1599, 'n...\n",
      "             id\n",
      "count  46419.00\n",
      "mean  109769.95\n",
      "std   113045.78\n",
      "min        2.00\n",
      "25%    26810.50\n",
      "50%    61198.00\n",
      "75%   159908.50\n",
      "max   469172.00\n"
     ]
    }
   ],
   "source": [
    "print('Movies Info')\n",
    "print(movies.columns)\n",
    "print(movies.head())\n",
    "print(movies.describe())\n",
    "print('')\n",
    "print('Cast')\n",
    "# TODO: print the columns, head and describe for the Walking Score dataframe\n",
    "print(cast.columns)\n",
    "print(cast.head())\n",
    "print(cast.describe())\n",
    "print('')\n",
    "print('Keywords')\n",
    "# TODO: print the columns, head and describe for the Income dataframe\n",
    "print(keywords.columns)\n",
    "print(keywords.head(5))\n",
    "print(keywords.describe())"
   ]
  },
  {
   "cell_type": "markdown",
   "metadata": {},
   "source": [
    "### Fixing columns"
   ]
  },
  {
   "cell_type": "code",
   "execution_count": null,
   "metadata": {
    "collapsed": true
   },
   "outputs": [],
   "source": []
  }
 ],
 "metadata": {
  "anaconda-cloud": {},
  "kernelspec": {
   "display_name": "Python 3",
   "language": "python",
   "name": "python3"
  },
  "language_info": {
   "codemirror_mode": {
    "name": "ipython",
    "version": 3
   },
   "file_extension": ".py",
   "mimetype": "text/x-python",
   "name": "python",
   "nbconvert_exporter": "python",
   "pygments_lexer": "ipython3",
   "version": "3.6.0"
  }
 },
 "nbformat": 4,
 "nbformat_minor": 1
}
