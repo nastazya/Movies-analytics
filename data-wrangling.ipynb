{
 "cells": [
  {
   "cell_type": "markdown",
   "metadata": {},
   "source": [
    "# Data Wrangling & Cleaning"
   ]
  },
  {
   "cell_type": "code",
   "execution_count": 1,
   "metadata": {},
   "outputs": [],
   "source": [
    "# import the library\n",
    "%matplotlib inline\n",
    "\n",
    "import ast\n",
    "import json\n",
    "import pandas as pd\n",
    "import numpy as np\n",
    "import matplotlib.pyplot as plt\n",
    "\n",
    "# convert scientific notation to decimals\n",
    "pd.set_option('display.float_format', lambda x: '%.2f' % x)\n",
    "pd.set_option('display.max_columns', 24)"
   ]
  },
  {
   "cell_type": "markdown",
   "metadata": {},
   "source": [
    "### Load the data"
   ]
  },
  {
   "cell_type": "code",
   "execution_count": 2,
   "metadata": {},
   "outputs": [
    {
     "name": "stderr",
     "output_type": "stream",
     "text": [
      "C:\\Users\\Anastasia\\Anaconda3\\lib\\site-packages\\IPython\\core\\interactiveshell.py:3020: DtypeWarning: Columns (10) have mixed types. Specify dtype option on import or set low_memory=False.\n",
      "  interactivity=interactivity, compiler=compiler, result=result)\n"
     ]
    }
   ],
   "source": [
    "movies = pd.read_csv('data/movies_metadata.csv')\n",
    "cast = pd.read_csv('data/credits.csv')\n",
    "keywords = pd.read_csv('data/keywords.csv')"
   ]
  },
  {
   "cell_type": "markdown",
   "metadata": {},
   "source": [
    "### Summarizing our data for inspection"
   ]
  },
  {
   "cell_type": "code",
   "execution_count": 3,
   "metadata": {},
   "outputs": [
    {
     "data": {
      "text/html": [
       "<div>\n",
       "<style scoped>\n",
       "    .dataframe tbody tr th:only-of-type {\n",
       "        vertical-align: middle;\n",
       "    }\n",
       "\n",
       "    .dataframe tbody tr th {\n",
       "        vertical-align: top;\n",
       "    }\n",
       "\n",
       "    .dataframe thead th {\n",
       "        text-align: right;\n",
       "    }\n",
       "</style>\n",
       "<table border=\"1\" class=\"dataframe\">\n",
       "  <thead>\n",
       "    <tr style=\"text-align: right;\">\n",
       "      <th></th>\n",
       "      <th>adult</th>\n",
       "      <th>belongs_to_collection</th>\n",
       "      <th>budget</th>\n",
       "      <th>genres</th>\n",
       "      <th>homepage</th>\n",
       "      <th>id</th>\n",
       "      <th>imdb_id</th>\n",
       "      <th>original_language</th>\n",
       "      <th>original_title</th>\n",
       "      <th>overview</th>\n",
       "      <th>popularity</th>\n",
       "      <th>poster_path</th>\n",
       "      <th>production_companies</th>\n",
       "      <th>production_countries</th>\n",
       "      <th>release_date</th>\n",
       "      <th>revenue</th>\n",
       "      <th>runtime</th>\n",
       "      <th>spoken_languages</th>\n",
       "      <th>status</th>\n",
       "      <th>tagline</th>\n",
       "      <th>title</th>\n",
       "      <th>video</th>\n",
       "      <th>vote_average</th>\n",
       "      <th>vote_count</th>\n",
       "    </tr>\n",
       "  </thead>\n",
       "  <tbody>\n",
       "    <tr>\n",
       "      <th>0</th>\n",
       "      <td>False</td>\n",
       "      <td>{'id': 10194, 'name': 'Toy Story Collection', ...</td>\n",
       "      <td>30000000</td>\n",
       "      <td>[{'id': 16, 'name': 'Animation'}, {'id': 35, '...</td>\n",
       "      <td>http://toystory.disney.com/toy-story</td>\n",
       "      <td>862</td>\n",
       "      <td>tt0114709</td>\n",
       "      <td>en</td>\n",
       "      <td>Toy Story</td>\n",
       "      <td>Led by Woody, Andy's toys live happily in his ...</td>\n",
       "      <td>21.95</td>\n",
       "      <td>/rhIRbceoE9lR4veEXuwCC2wARtG.jpg</td>\n",
       "      <td>[{'name': 'Pixar Animation Studios', 'id': 3}]</td>\n",
       "      <td>[{'iso_3166_1': 'US', 'name': 'United States o...</td>\n",
       "      <td>1995-10-30</td>\n",
       "      <td>373554033.00</td>\n",
       "      <td>81.00</td>\n",
       "      <td>[{'iso_639_1': 'en', 'name': 'English'}]</td>\n",
       "      <td>Released</td>\n",
       "      <td>NaN</td>\n",
       "      <td>Toy Story</td>\n",
       "      <td>False</td>\n",
       "      <td>7.70</td>\n",
       "      <td>5415.00</td>\n",
       "    </tr>\n",
       "    <tr>\n",
       "      <th>1</th>\n",
       "      <td>False</td>\n",
       "      <td>NaN</td>\n",
       "      <td>65000000</td>\n",
       "      <td>[{'id': 12, 'name': 'Adventure'}, {'id': 14, '...</td>\n",
       "      <td>NaN</td>\n",
       "      <td>8844</td>\n",
       "      <td>tt0113497</td>\n",
       "      <td>en</td>\n",
       "      <td>Jumanji</td>\n",
       "      <td>When siblings Judy and Peter discover an encha...</td>\n",
       "      <td>17.02</td>\n",
       "      <td>/vzmL6fP7aPKNKPRTFnZmiUfciyV.jpg</td>\n",
       "      <td>[{'name': 'TriStar Pictures', 'id': 559}, {'na...</td>\n",
       "      <td>[{'iso_3166_1': 'US', 'name': 'United States o...</td>\n",
       "      <td>1995-12-15</td>\n",
       "      <td>262797249.00</td>\n",
       "      <td>104.00</td>\n",
       "      <td>[{'iso_639_1': 'en', 'name': 'English'}, {'iso...</td>\n",
       "      <td>Released</td>\n",
       "      <td>Roll the dice and unleash the excitement!</td>\n",
       "      <td>Jumanji</td>\n",
       "      <td>False</td>\n",
       "      <td>6.90</td>\n",
       "      <td>2413.00</td>\n",
       "    </tr>\n",
       "    <tr>\n",
       "      <th>2</th>\n",
       "      <td>False</td>\n",
       "      <td>{'id': 119050, 'name': 'Grumpy Old Men Collect...</td>\n",
       "      <td>0</td>\n",
       "      <td>[{'id': 10749, 'name': 'Romance'}, {'id': 35, ...</td>\n",
       "      <td>NaN</td>\n",
       "      <td>15602</td>\n",
       "      <td>tt0113228</td>\n",
       "      <td>en</td>\n",
       "      <td>Grumpier Old Men</td>\n",
       "      <td>A family wedding reignites the ancient feud be...</td>\n",
       "      <td>11.71</td>\n",
       "      <td>/6ksm1sjKMFLbO7UY2i6G1ju9SML.jpg</td>\n",
       "      <td>[{'name': 'Warner Bros.', 'id': 6194}, {'name'...</td>\n",
       "      <td>[{'iso_3166_1': 'US', 'name': 'United States o...</td>\n",
       "      <td>1995-12-22</td>\n",
       "      <td>0.00</td>\n",
       "      <td>101.00</td>\n",
       "      <td>[{'iso_639_1': 'en', 'name': 'English'}]</td>\n",
       "      <td>Released</td>\n",
       "      <td>Still Yelling. Still Fighting. Still Ready for...</td>\n",
       "      <td>Grumpier Old Men</td>\n",
       "      <td>False</td>\n",
       "      <td>6.50</td>\n",
       "      <td>92.00</td>\n",
       "    </tr>\n",
       "    <tr>\n",
       "      <th>3</th>\n",
       "      <td>False</td>\n",
       "      <td>NaN</td>\n",
       "      <td>16000000</td>\n",
       "      <td>[{'id': 35, 'name': 'Comedy'}, {'id': 18, 'nam...</td>\n",
       "      <td>NaN</td>\n",
       "      <td>31357</td>\n",
       "      <td>tt0114885</td>\n",
       "      <td>en</td>\n",
       "      <td>Waiting to Exhale</td>\n",
       "      <td>Cheated on, mistreated and stepped on, the wom...</td>\n",
       "      <td>3.86</td>\n",
       "      <td>/16XOMpEaLWkrcPqSQqhTmeJuqQl.jpg</td>\n",
       "      <td>[{'name': 'Twentieth Century Fox Film Corporat...</td>\n",
       "      <td>[{'iso_3166_1': 'US', 'name': 'United States o...</td>\n",
       "      <td>1995-12-22</td>\n",
       "      <td>81452156.00</td>\n",
       "      <td>127.00</td>\n",
       "      <td>[{'iso_639_1': 'en', 'name': 'English'}]</td>\n",
       "      <td>Released</td>\n",
       "      <td>Friends are the people who let you be yourself...</td>\n",
       "      <td>Waiting to Exhale</td>\n",
       "      <td>False</td>\n",
       "      <td>6.10</td>\n",
       "      <td>34.00</td>\n",
       "    </tr>\n",
       "    <tr>\n",
       "      <th>4</th>\n",
       "      <td>False</td>\n",
       "      <td>{'id': 96871, 'name': 'Father of the Bride Col...</td>\n",
       "      <td>0</td>\n",
       "      <td>[{'id': 35, 'name': 'Comedy'}]</td>\n",
       "      <td>NaN</td>\n",
       "      <td>11862</td>\n",
       "      <td>tt0113041</td>\n",
       "      <td>en</td>\n",
       "      <td>Father of the Bride Part II</td>\n",
       "      <td>Just when George Banks has recovered from his ...</td>\n",
       "      <td>8.39</td>\n",
       "      <td>/e64sOI48hQXyru7naBFyssKFxVd.jpg</td>\n",
       "      <td>[{'name': 'Sandollar Productions', 'id': 5842}...</td>\n",
       "      <td>[{'iso_3166_1': 'US', 'name': 'United States o...</td>\n",
       "      <td>1995-02-10</td>\n",
       "      <td>76578911.00</td>\n",
       "      <td>106.00</td>\n",
       "      <td>[{'iso_639_1': 'en', 'name': 'English'}]</td>\n",
       "      <td>Released</td>\n",
       "      <td>Just When His World Is Back To Normal... He's ...</td>\n",
       "      <td>Father of the Bride Part II</td>\n",
       "      <td>False</td>\n",
       "      <td>5.70</td>\n",
       "      <td>173.00</td>\n",
       "    </tr>\n",
       "  </tbody>\n",
       "</table>\n",
       "</div>"
      ],
      "text/plain": [
       "   adult                              belongs_to_collection    budget  \\\n",
       "0  False  {'id': 10194, 'name': 'Toy Story Collection', ...  30000000   \n",
       "1  False                                                NaN  65000000   \n",
       "2  False  {'id': 119050, 'name': 'Grumpy Old Men Collect...         0   \n",
       "3  False                                                NaN  16000000   \n",
       "4  False  {'id': 96871, 'name': 'Father of the Bride Col...         0   \n",
       "\n",
       "                                              genres  \\\n",
       "0  [{'id': 16, 'name': 'Animation'}, {'id': 35, '...   \n",
       "1  [{'id': 12, 'name': 'Adventure'}, {'id': 14, '...   \n",
       "2  [{'id': 10749, 'name': 'Romance'}, {'id': 35, ...   \n",
       "3  [{'id': 35, 'name': 'Comedy'}, {'id': 18, 'nam...   \n",
       "4                     [{'id': 35, 'name': 'Comedy'}]   \n",
       "\n",
       "                               homepage     id    imdb_id original_language  \\\n",
       "0  http://toystory.disney.com/toy-story    862  tt0114709                en   \n",
       "1                                   NaN   8844  tt0113497                en   \n",
       "2                                   NaN  15602  tt0113228                en   \n",
       "3                                   NaN  31357  tt0114885                en   \n",
       "4                                   NaN  11862  tt0113041                en   \n",
       "\n",
       "                original_title  \\\n",
       "0                    Toy Story   \n",
       "1                      Jumanji   \n",
       "2             Grumpier Old Men   \n",
       "3            Waiting to Exhale   \n",
       "4  Father of the Bride Part II   \n",
       "\n",
       "                                            overview popularity  \\\n",
       "0  Led by Woody, Andy's toys live happily in his ...      21.95   \n",
       "1  When siblings Judy and Peter discover an encha...      17.02   \n",
       "2  A family wedding reignites the ancient feud be...      11.71   \n",
       "3  Cheated on, mistreated and stepped on, the wom...       3.86   \n",
       "4  Just when George Banks has recovered from his ...       8.39   \n",
       "\n",
       "                        poster_path  \\\n",
       "0  /rhIRbceoE9lR4veEXuwCC2wARtG.jpg   \n",
       "1  /vzmL6fP7aPKNKPRTFnZmiUfciyV.jpg   \n",
       "2  /6ksm1sjKMFLbO7UY2i6G1ju9SML.jpg   \n",
       "3  /16XOMpEaLWkrcPqSQqhTmeJuqQl.jpg   \n",
       "4  /e64sOI48hQXyru7naBFyssKFxVd.jpg   \n",
       "\n",
       "                                production_companies  \\\n",
       "0     [{'name': 'Pixar Animation Studios', 'id': 3}]   \n",
       "1  [{'name': 'TriStar Pictures', 'id': 559}, {'na...   \n",
       "2  [{'name': 'Warner Bros.', 'id': 6194}, {'name'...   \n",
       "3  [{'name': 'Twentieth Century Fox Film Corporat...   \n",
       "4  [{'name': 'Sandollar Productions', 'id': 5842}...   \n",
       "\n",
       "                                production_countries release_date  \\\n",
       "0  [{'iso_3166_1': 'US', 'name': 'United States o...   1995-10-30   \n",
       "1  [{'iso_3166_1': 'US', 'name': 'United States o...   1995-12-15   \n",
       "2  [{'iso_3166_1': 'US', 'name': 'United States o...   1995-12-22   \n",
       "3  [{'iso_3166_1': 'US', 'name': 'United States o...   1995-12-22   \n",
       "4  [{'iso_3166_1': 'US', 'name': 'United States o...   1995-02-10   \n",
       "\n",
       "       revenue  runtime                                   spoken_languages  \\\n",
       "0 373554033.00    81.00           [{'iso_639_1': 'en', 'name': 'English'}]   \n",
       "1 262797249.00   104.00  [{'iso_639_1': 'en', 'name': 'English'}, {'iso...   \n",
       "2         0.00   101.00           [{'iso_639_1': 'en', 'name': 'English'}]   \n",
       "3  81452156.00   127.00           [{'iso_639_1': 'en', 'name': 'English'}]   \n",
       "4  76578911.00   106.00           [{'iso_639_1': 'en', 'name': 'English'}]   \n",
       "\n",
       "     status                                            tagline  \\\n",
       "0  Released                                                NaN   \n",
       "1  Released          Roll the dice and unleash the excitement!   \n",
       "2  Released  Still Yelling. Still Fighting. Still Ready for...   \n",
       "3  Released  Friends are the people who let you be yourself...   \n",
       "4  Released  Just When His World Is Back To Normal... He's ...   \n",
       "\n",
       "                         title  video  vote_average  vote_count  \n",
       "0                    Toy Story  False          7.70     5415.00  \n",
       "1                      Jumanji  False          6.90     2413.00  \n",
       "2             Grumpier Old Men  False          6.50       92.00  \n",
       "3            Waiting to Exhale  False          6.10       34.00  \n",
       "4  Father of the Bride Part II  False          5.70      173.00  "
      ]
     },
     "execution_count": 3,
     "metadata": {},
     "output_type": "execute_result"
    }
   ],
   "source": [
    "movies.head()"
   ]
  },
  {
   "cell_type": "code",
   "execution_count": 4,
   "metadata": {},
   "outputs": [
    {
     "name": "stdout",
     "output_type": "stream",
     "text": [
      "Movies Info\n",
      "Index(['adult', 'belongs_to_collection', 'budget', 'genres', 'homepage', 'id',\n",
      "       'imdb_id', 'original_language', 'original_title', 'overview',\n",
      "       'popularity', 'poster_path', 'production_companies',\n",
      "       'production_countries', 'release_date', 'revenue', 'runtime',\n",
      "       'spoken_languages', 'status', 'tagline', 'title', 'video',\n",
      "       'vote_average', 'vote_count'],\n",
      "      dtype='object')\n",
      "            revenue  runtime  vote_average  vote_count\n",
      "count      45460.00 45203.00      45460.00    45460.00\n",
      "mean    11209348.54    94.13          5.62      109.90\n",
      "std     64332246.74    38.41          1.92      491.31\n",
      "min            0.00     0.00          0.00        0.00\n",
      "25%            0.00    85.00          5.00        3.00\n",
      "50%            0.00    95.00          6.00       10.00\n",
      "75%            0.00   107.00          6.80       34.00\n",
      "max   2787965087.00  1256.00         10.00    14075.00\n",
      "adult                     object\n",
      "belongs_to_collection     object\n",
      "budget                    object\n",
      "genres                    object\n",
      "homepage                  object\n",
      "id                        object\n",
      "imdb_id                   object\n",
      "original_language         object\n",
      "original_title            object\n",
      "overview                  object\n",
      "popularity                object\n",
      "poster_path               object\n",
      "production_companies      object\n",
      "production_countries      object\n",
      "release_date              object\n",
      "revenue                  float64\n",
      "runtime                  float64\n",
      "spoken_languages          object\n",
      "status                    object\n",
      "tagline                   object\n",
      "title                     object\n",
      "video                     object\n",
      "vote_average             float64\n",
      "vote_count               float64\n",
      "dtype: object\n"
     ]
    }
   ],
   "source": [
    "print('Movies Info')\n",
    "print(movies.columns)\n",
    "print(movies.describe())\n",
    "print(movies.dtypes)"
   ]
  },
  {
   "cell_type": "code",
   "execution_count": 5,
   "metadata": {},
   "outputs": [
    {
     "data": {
      "text/html": [
       "<div>\n",
       "<style scoped>\n",
       "    .dataframe tbody tr th:only-of-type {\n",
       "        vertical-align: middle;\n",
       "    }\n",
       "\n",
       "    .dataframe tbody tr th {\n",
       "        vertical-align: top;\n",
       "    }\n",
       "\n",
       "    .dataframe thead th {\n",
       "        text-align: right;\n",
       "    }\n",
       "</style>\n",
       "<table border=\"1\" class=\"dataframe\">\n",
       "  <thead>\n",
       "    <tr style=\"text-align: right;\">\n",
       "      <th></th>\n",
       "      <th>cast</th>\n",
       "      <th>crew</th>\n",
       "      <th>id</th>\n",
       "    </tr>\n",
       "  </thead>\n",
       "  <tbody>\n",
       "    <tr>\n",
       "      <th>0</th>\n",
       "      <td>[{'cast_id': 14, 'character': 'Woody (voice)',...</td>\n",
       "      <td>[{'credit_id': '52fe4284c3a36847f8024f49', 'de...</td>\n",
       "      <td>862</td>\n",
       "    </tr>\n",
       "    <tr>\n",
       "      <th>1</th>\n",
       "      <td>[{'cast_id': 1, 'character': 'Alan Parrish', '...</td>\n",
       "      <td>[{'credit_id': '52fe44bfc3a36847f80a7cd1', 'de...</td>\n",
       "      <td>8844</td>\n",
       "    </tr>\n",
       "    <tr>\n",
       "      <th>2</th>\n",
       "      <td>[{'cast_id': 2, 'character': 'Max Goldman', 'c...</td>\n",
       "      <td>[{'credit_id': '52fe466a9251416c75077a89', 'de...</td>\n",
       "      <td>15602</td>\n",
       "    </tr>\n",
       "    <tr>\n",
       "      <th>3</th>\n",
       "      <td>[{'cast_id': 1, 'character': \"Savannah 'Vannah...</td>\n",
       "      <td>[{'credit_id': '52fe44779251416c91011acb', 'de...</td>\n",
       "      <td>31357</td>\n",
       "    </tr>\n",
       "    <tr>\n",
       "      <th>4</th>\n",
       "      <td>[{'cast_id': 1, 'character': 'George Banks', '...</td>\n",
       "      <td>[{'credit_id': '52fe44959251416c75039ed7', 'de...</td>\n",
       "      <td>11862</td>\n",
       "    </tr>\n",
       "  </tbody>\n",
       "</table>\n",
       "</div>"
      ],
      "text/plain": [
       "                                                cast  \\\n",
       "0  [{'cast_id': 14, 'character': 'Woody (voice)',...   \n",
       "1  [{'cast_id': 1, 'character': 'Alan Parrish', '...   \n",
       "2  [{'cast_id': 2, 'character': 'Max Goldman', 'c...   \n",
       "3  [{'cast_id': 1, 'character': \"Savannah 'Vannah...   \n",
       "4  [{'cast_id': 1, 'character': 'George Banks', '...   \n",
       "\n",
       "                                                crew     id  \n",
       "0  [{'credit_id': '52fe4284c3a36847f8024f49', 'de...    862  \n",
       "1  [{'credit_id': '52fe44bfc3a36847f80a7cd1', 'de...   8844  \n",
       "2  [{'credit_id': '52fe466a9251416c75077a89', 'de...  15602  \n",
       "3  [{'credit_id': '52fe44779251416c91011acb', 'de...  31357  \n",
       "4  [{'credit_id': '52fe44959251416c75039ed7', 'de...  11862  "
      ]
     },
     "execution_count": 5,
     "metadata": {},
     "output_type": "execute_result"
    }
   ],
   "source": [
    "cast.head()"
   ]
  },
  {
   "cell_type": "code",
   "execution_count": 6,
   "metadata": {},
   "outputs": [
    {
     "name": "stdout",
     "output_type": "stream",
     "text": [
      "Cast\n",
      "Index(['cast', 'crew', 'id'], dtype='object')\n",
      "             id\n",
      "count  45476.00\n",
      "mean  108346.00\n",
      "std   112443.80\n",
      "min        2.00\n",
      "25%    26443.25\n",
      "50%    60002.50\n",
      "75%   157302.00\n",
      "max   469172.00\n"
     ]
    }
   ],
   "source": [
    "print('Cast')\n",
    "print(cast.columns)\n",
    "print(cast.describe())"
   ]
  },
  {
   "cell_type": "code",
   "execution_count": 7,
   "metadata": {},
   "outputs": [
    {
     "data": {
      "text/html": [
       "<div>\n",
       "<style scoped>\n",
       "    .dataframe tbody tr th:only-of-type {\n",
       "        vertical-align: middle;\n",
       "    }\n",
       "\n",
       "    .dataframe tbody tr th {\n",
       "        vertical-align: top;\n",
       "    }\n",
       "\n",
       "    .dataframe thead th {\n",
       "        text-align: right;\n",
       "    }\n",
       "</style>\n",
       "<table border=\"1\" class=\"dataframe\">\n",
       "  <thead>\n",
       "    <tr style=\"text-align: right;\">\n",
       "      <th></th>\n",
       "      <th>id</th>\n",
       "      <th>keywords</th>\n",
       "    </tr>\n",
       "  </thead>\n",
       "  <tbody>\n",
       "    <tr>\n",
       "      <th>0</th>\n",
       "      <td>862</td>\n",
       "      <td>[{'id': 931, 'name': 'jealousy'}, {'id': 4290,...</td>\n",
       "    </tr>\n",
       "    <tr>\n",
       "      <th>1</th>\n",
       "      <td>8844</td>\n",
       "      <td>[{'id': 10090, 'name': 'board game'}, {'id': 1...</td>\n",
       "    </tr>\n",
       "    <tr>\n",
       "      <th>2</th>\n",
       "      <td>15602</td>\n",
       "      <td>[{'id': 1495, 'name': 'fishing'}, {'id': 12392...</td>\n",
       "    </tr>\n",
       "    <tr>\n",
       "      <th>3</th>\n",
       "      <td>31357</td>\n",
       "      <td>[{'id': 818, 'name': 'based on novel'}, {'id':...</td>\n",
       "    </tr>\n",
       "    <tr>\n",
       "      <th>4</th>\n",
       "      <td>11862</td>\n",
       "      <td>[{'id': 1009, 'name': 'baby'}, {'id': 1599, 'n...</td>\n",
       "    </tr>\n",
       "  </tbody>\n",
       "</table>\n",
       "</div>"
      ],
      "text/plain": [
       "      id                                           keywords\n",
       "0    862  [{'id': 931, 'name': 'jealousy'}, {'id': 4290,...\n",
       "1   8844  [{'id': 10090, 'name': 'board game'}, {'id': 1...\n",
       "2  15602  [{'id': 1495, 'name': 'fishing'}, {'id': 12392...\n",
       "3  31357  [{'id': 818, 'name': 'based on novel'}, {'id':...\n",
       "4  11862  [{'id': 1009, 'name': 'baby'}, {'id': 1599, 'n..."
      ]
     },
     "execution_count": 7,
     "metadata": {},
     "output_type": "execute_result"
    }
   ],
   "source": [
    "keywords.head()"
   ]
  },
  {
   "cell_type": "code",
   "execution_count": 8,
   "metadata": {},
   "outputs": [
    {
     "name": "stdout",
     "output_type": "stream",
     "text": [
      "keywords\n",
      "Index(['id', 'keywords'], dtype='object')\n",
      "             id\n",
      "count  46419.00\n",
      "mean  109769.95\n",
      "std   113045.78\n",
      "min        2.00\n",
      "25%    26810.50\n",
      "50%    61198.00\n",
      "75%   159908.50\n",
      "max   469172.00\n"
     ]
    }
   ],
   "source": [
    "print('keywords')\n",
    "print(keywords.columns)\n",
    "print(keywords.describe())"
   ]
  },
  {
   "cell_type": "markdown",
   "metadata": {},
   "source": [
    "### Fixing columns and types"
   ]
  },
  {
   "cell_type": "code",
   "execution_count": 9,
   "metadata": {},
   "outputs": [
    {
     "name": "stdout",
     "output_type": "stream",
     "text": [
      "id                       object\n",
      "title                    object\n",
      "budget                   object\n",
      "revenue                 float64\n",
      "release_date             object\n",
      "status                   object\n",
      "popularity               object\n",
      "vote_average            float64\n",
      "genres                   object\n",
      "production_companies     object\n",
      "dtype: object\n"
     ]
    }
   ],
   "source": [
    "#Choosing the columns we will need for our analysis\n",
    "movies = movies.loc[:,['id','title', 'budget', 'revenue', 'release_date', 'status', 'popularity', 'vote_average', 'genres', 'production_companies']]\n",
    "print(movies.dtypes)"
   ]
  },
  {
   "cell_type": "code",
   "execution_count": 10,
   "metadata": {
    "scrolled": true
   },
   "outputs": [
    {
     "data": {
      "text/html": [
       "<div>\n",
       "<style scoped>\n",
       "    .dataframe tbody tr th:only-of-type {\n",
       "        vertical-align: middle;\n",
       "    }\n",
       "\n",
       "    .dataframe tbody tr th {\n",
       "        vertical-align: top;\n",
       "    }\n",
       "\n",
       "    .dataframe thead th {\n",
       "        text-align: right;\n",
       "    }\n",
       "</style>\n",
       "<table border=\"1\" class=\"dataframe\">\n",
       "  <thead>\n",
       "    <tr style=\"text-align: right;\">\n",
       "      <th></th>\n",
       "      <th>id</th>\n",
       "      <th>title</th>\n",
       "      <th>budget</th>\n",
       "      <th>revenue</th>\n",
       "      <th>release_date</th>\n",
       "      <th>status</th>\n",
       "      <th>popularity</th>\n",
       "      <th>vote_average</th>\n",
       "      <th>genres</th>\n",
       "      <th>production_companies</th>\n",
       "    </tr>\n",
       "  </thead>\n",
       "  <tbody>\n",
       "    <tr>\n",
       "      <th>0</th>\n",
       "      <td>862</td>\n",
       "      <td>Toy Story</td>\n",
       "      <td>30000000</td>\n",
       "      <td>373554033.00</td>\n",
       "      <td>1995-10-30</td>\n",
       "      <td>Released</td>\n",
       "      <td>21.95</td>\n",
       "      <td>7.70</td>\n",
       "      <td>[{'id': 16, 'name': 'Animation'}, {'id': 35, '...</td>\n",
       "      <td>[{'name': 'Pixar Animation Studios', 'id': 3}]</td>\n",
       "    </tr>\n",
       "    <tr>\n",
       "      <th>1</th>\n",
       "      <td>8844</td>\n",
       "      <td>Jumanji</td>\n",
       "      <td>65000000</td>\n",
       "      <td>262797249.00</td>\n",
       "      <td>1995-12-15</td>\n",
       "      <td>Released</td>\n",
       "      <td>17.02</td>\n",
       "      <td>6.90</td>\n",
       "      <td>[{'id': 12, 'name': 'Adventure'}, {'id': 14, '...</td>\n",
       "      <td>[{'name': 'TriStar Pictures', 'id': 559}, {'na...</td>\n",
       "    </tr>\n",
       "    <tr>\n",
       "      <th>2</th>\n",
       "      <td>15602</td>\n",
       "      <td>Grumpier Old Men</td>\n",
       "      <td>0</td>\n",
       "      <td>0.00</td>\n",
       "      <td>1995-12-22</td>\n",
       "      <td>Released</td>\n",
       "      <td>11.71</td>\n",
       "      <td>6.50</td>\n",
       "      <td>[{'id': 10749, 'name': 'Romance'}, {'id': 35, ...</td>\n",
       "      <td>[{'name': 'Warner Bros.', 'id': 6194}, {'name'...</td>\n",
       "    </tr>\n",
       "    <tr>\n",
       "      <th>3</th>\n",
       "      <td>31357</td>\n",
       "      <td>Waiting to Exhale</td>\n",
       "      <td>16000000</td>\n",
       "      <td>81452156.00</td>\n",
       "      <td>1995-12-22</td>\n",
       "      <td>Released</td>\n",
       "      <td>3.86</td>\n",
       "      <td>6.10</td>\n",
       "      <td>[{'id': 35, 'name': 'Comedy'}, {'id': 18, 'nam...</td>\n",
       "      <td>[{'name': 'Twentieth Century Fox Film Corporat...</td>\n",
       "    </tr>\n",
       "    <tr>\n",
       "      <th>4</th>\n",
       "      <td>11862</td>\n",
       "      <td>Father of the Bride Part II</td>\n",
       "      <td>0</td>\n",
       "      <td>76578911.00</td>\n",
       "      <td>1995-02-10</td>\n",
       "      <td>Released</td>\n",
       "      <td>8.39</td>\n",
       "      <td>5.70</td>\n",
       "      <td>[{'id': 35, 'name': 'Comedy'}]</td>\n",
       "      <td>[{'name': 'Sandollar Productions', 'id': 5842}...</td>\n",
       "    </tr>\n",
       "  </tbody>\n",
       "</table>\n",
       "</div>"
      ],
      "text/plain": [
       "      id                        title    budget      revenue release_date  \\\n",
       "0    862                    Toy Story  30000000 373554033.00   1995-10-30   \n",
       "1   8844                      Jumanji  65000000 262797249.00   1995-12-15   \n",
       "2  15602             Grumpier Old Men         0         0.00   1995-12-22   \n",
       "3  31357            Waiting to Exhale  16000000  81452156.00   1995-12-22   \n",
       "4  11862  Father of the Bride Part II         0  76578911.00   1995-02-10   \n",
       "\n",
       "     status popularity  vote_average  \\\n",
       "0  Released      21.95          7.70   \n",
       "1  Released      17.02          6.90   \n",
       "2  Released      11.71          6.50   \n",
       "3  Released       3.86          6.10   \n",
       "4  Released       8.39          5.70   \n",
       "\n",
       "                                              genres  \\\n",
       "0  [{'id': 16, 'name': 'Animation'}, {'id': 35, '...   \n",
       "1  [{'id': 12, 'name': 'Adventure'}, {'id': 14, '...   \n",
       "2  [{'id': 10749, 'name': 'Romance'}, {'id': 35, ...   \n",
       "3  [{'id': 35, 'name': 'Comedy'}, {'id': 18, 'nam...   \n",
       "4                     [{'id': 35, 'name': 'Comedy'}]   \n",
       "\n",
       "                                production_companies  \n",
       "0     [{'name': 'Pixar Animation Studios', 'id': 3}]  \n",
       "1  [{'name': 'TriStar Pictures', 'id': 559}, {'na...  \n",
       "2  [{'name': 'Warner Bros.', 'id': 6194}, {'name'...  \n",
       "3  [{'name': 'Twentieth Century Fox Film Corporat...  \n",
       "4  [{'name': 'Sandollar Productions', 'id': 5842}...  "
      ]
     },
     "execution_count": 10,
     "metadata": {},
     "output_type": "execute_result"
    }
   ],
   "source": [
    "movies.head()"
   ]
  },
  {
   "cell_type": "code",
   "execution_count": 11,
   "metadata": {},
   "outputs": [
    {
     "name": "stdout",
     "output_type": "stream",
     "text": [
      "Number of NAN per feature: \n",
      " id                       0\n",
      "title                    6\n",
      "budget                   0\n",
      "revenue                  6\n",
      "release_date            87\n",
      "status                  87\n",
      "popularity               5\n",
      "vote_average             6\n",
      "genres                   0\n",
      "production_companies     3\n",
      "dtype: int64\n",
      "\n",
      "NAN deleted: \n",
      " id                      0\n",
      "title                   0\n",
      "budget                  0\n",
      "revenue                 0\n",
      "release_date            0\n",
      "status                  0\n",
      "popularity              0\n",
      "vote_average            0\n",
      "genres                  0\n",
      "production_companies    0\n",
      "dtype: int64\n"
     ]
    }
   ],
   "source": [
    "#checking for the NAN\n",
    "print('Number of NAN per feature: \\n', movies.isnull().sum())\n",
    "\n",
    "#deleting rows containing NAN\n",
    "del_index = movies[movies.isnull().any(axis=1)].index\n",
    "movies.drop(del_index, inplace=True)\n",
    "print('\\nNAN deleted: \\n', movies.isnull().sum())"
   ]
  },
  {
   "cell_type": "code",
   "execution_count": 12,
   "metadata": {},
   "outputs": [
    {
     "name": "stdout",
     "output_type": "stream",
     "text": [
      "Adjusting the type of ID:\n",
      "Type of id:  int32\n",
      "\n",
      "Adjusting the type of budget:\n",
      "Type of budget:  int32\n",
      "\n",
      "Adjusting the type of popularity to float:\n",
      "Type of popularity:  float64\n",
      "\n",
      "Adjusting the type of relese_date:\n",
      "Type of release date:  datetime64[ns]\n",
      "\n",
      "Adjusting the type of ID of cast dataset:\n",
      "Type of id:  int32\n",
      "\n",
      "Adjusting the type of ID of keywords dataset:\n",
      "Type of id:  int32\n"
     ]
    }
   ],
   "source": [
    "#reassigning the numeric types\n",
    "  \n",
    "#id:\n",
    "print('Adjusting the type of ID:')\n",
    "movies['id'] = movies['id'].astype(int)\n",
    "print('Type of id: ', movies['id'].dtype)\n",
    "\n",
    "#budget:\n",
    "print('\\nAdjusting the type of budget:')\n",
    "movies['budget'] = movies['budget'].astype(int)\n",
    "print('Type of budget: ', movies['budget'].dtype)\n",
    "\n",
    "#popularity to float:\n",
    "print('\\nAdjusting the type of popularity to float:')\n",
    "movies['popularity'] = movies['popularity'].astype(float)\n",
    "print('Type of popularity: ', movies['popularity'].dtype)\n",
    "\n",
    "#date to datetime\n",
    "print('\\nAdjusting the type of relese_date:')\n",
    "movies['release_date'] = pd.to_datetime(movies['release_date'])\n",
    "print('Type of release date: ', movies['release_date'].dtype)\n",
    "\n",
    "#id of cast\n",
    "print('\\nAdjusting the type of ID of cast dataset:')\n",
    "cast['id'] = cast['id'].astype(int)\n",
    "print('Type of id: ', cast['id'].dtype)\n",
    "\n",
    "#id of keywords\n",
    "print('\\nAdjusting the type of ID of keywords dataset:')\n",
    "keywords['id'] = keywords['id'].astype(int)\n",
    "print('Type of id: ', keywords['id'].dtype)"
   ]
  },
  {
   "cell_type": "code",
   "execution_count": 13,
   "metadata": {},
   "outputs": [
    {
     "name": "stdout",
     "output_type": "stream",
     "text": [
      "\n",
      "Removed  36413 movies with 0 budget and saved a copy of them to the new DataFrame\n",
      "\n",
      "Removed  142 movies with budget of less then $100\n",
      "\n",
      "Removed  3400 movies with 0 revenue\n",
      "\n",
      "Removed  20 movies with revenue of less then $100\n"
     ]
    }
   ],
   "source": [
    "#Taking out the movies with 0 budget\n",
    "del_index = movies[movies['budget'] == 0].index\n",
    "movies_zero = movies[movies['budget'] == 0] #saved a copy of a 0 budget movies\n",
    "movies.drop(del_index, inplace=True)\n",
    "print('\\nRemoved ', len(del_index), 'movies with 0 budget and saved a copy of them to the new DataFrame')\n",
    "\n",
    "#Taking out the movies with <100 budget\n",
    "del_count = movies[movies['budget'] <= 100]['budget'].count()\n",
    "movies =  movies[movies['budget'] > 100]\n",
    "print('\\nRemoved ', del_count, 'movies with budget of less then $100')\n",
    "\n",
    "#Taking out the movies with 0 revenue\n",
    "del_index = movies[movies['revenue'] == 0].index\n",
    "movies.drop(del_index, inplace=True)\n",
    "print('\\nRemoved ', len(del_index), 'movies with 0 revenue')\n",
    "\n",
    "#Taking out the movies with <100 revenue\n",
    "del_count = movies[movies['revenue'] <= 100]['revenue'].count()\n",
    "movies =  movies[movies['revenue'] > 100]\n",
    "print('\\nRemoved ', del_count, 'movies with revenue of less then $100')\n",
    "\n",
    "movies.reset_index(drop=True, inplace=True)"
   ]
  },
  {
   "cell_type": "code",
   "execution_count": 14,
   "metadata": {},
   "outputs": [
    {
     "name": "stdout",
     "output_type": "stream",
     "text": [
      "\n",
      "Movie status options:  ['Released' 'Rumored' 'Post Production']\n",
      "\n",
      "Movie status options after removing all but Released:  ['Released']\n"
     ]
    }
   ],
   "source": [
    "#Keeping only released movies\n",
    "print('\\nMovie status options: ', movies['status'].unique())\n",
    "movies = movies[movies['status'] == 'Released']\n",
    "movies.reset_index(drop=True, inplace=True)\n",
    "print('\\nMovie status options after removing all but Released: ', movies['status'].unique())\n",
    "\n",
    "#Removing status feature\n",
    "del(movies['status'])"
   ]
  },
  {
   "cell_type": "code",
   "execution_count": 15,
   "metadata": {},
   "outputs": [
    {
     "name": "stdout",
     "output_type": "stream",
     "text": [
      "\n",
      "Removed  0 movies with 0 popularity\n",
      "\n",
      "Removed  4 movies with 0 vote_average\n"
     ]
    }
   ],
   "source": [
    "#Removing movies with 0 popularity\n",
    "del_index = movies[movies['popularity'] == 0].index\n",
    "movies.drop(del_index, inplace=True)\n",
    "print('\\nRemoved ', len(del_index), 'movies with 0 popularity')\n",
    "\n",
    "#Removing movies with 0 vote_average\n",
    "del_index = movies[movies['vote_average'] == 0].index\n",
    "movies.drop(del_index, inplace=True)\n",
    "print('\\nRemoved ', len(del_index), 'movies with 0 vote_average')\n",
    "\n",
    "movies.reset_index(drop=True, inplace=True)"
   ]
  },
  {
   "cell_type": "code",
   "execution_count": 16,
   "metadata": {},
   "outputs": [
    {
     "name": "stdout",
     "output_type": "stream",
     "text": [
      "\n",
      "Removed movies without production companies specified:  164\n",
      "\n",
      "\n",
      "Cell:  [{'name': 'Lucasfilm', 'id': 1}, {'name': 'Twentieth Century Fox Film Corporation', 'id': 306}] :  <class 'list'> . \n",
      "Cell[0]:  {'name': 'Lucasfilm', 'id': 1} ; type of item:  <class 'dict'>\n"
     ]
    }
   ],
   "source": [
    "#handeling production_compagnies\n",
    "movies['production_companies'] = movies['production_companies'].astype(str)\n",
    "\n",
    "del_index = movies[movies['production_companies'] == \"[]\"].index\n",
    "movies.drop(del_index, inplace=True)\n",
    "movies.reset_index(drop=True, inplace=True)\n",
    "print('\\nRemoved movies without production companies specified: ', len(del_index))\n",
    "print('')\n",
    "\n",
    "#Setting production_companies type to a list of dictionaries\n",
    "movies['production_companies'] = movies['production_companies'].apply(lambda x: ast.literal_eval(x))\n",
    "#checking result\n",
    "cell = movies['production_companies'][100]\n",
    "print('\\nCell: ', cell, ': ', type(cell), '. \\nCell[0]: ', cell[0], '; type of item: ', type(cell[0]))"
   ]
  },
  {
   "cell_type": "code",
   "execution_count": 17,
   "metadata": {
    "scrolled": true
   },
   "outputs": [
    {
     "name": "stdout",
     "output_type": "stream",
     "text": [
      "\n",
      "Removed movies without genres specified:  1\n",
      "\n",
      "\n",
      "Cell:  [{'id': 12, 'name': 'Adventure'}, {'id': 28, 'name': 'Action'}, {'id': 878, 'name': 'Science Fiction'}] :  <class 'list'> . \n",
      "Cell[0]:  {'id': 12, 'name': 'Adventure'} ; type of item:  <class 'dict'>\n"
     ]
    }
   ],
   "source": [
    "#handeling genres\n",
    "movies['genres'] = movies['genres'].astype(str)\n",
    "\n",
    "del_index = movies[movies['genres'] == \"[]\"].index\n",
    "movies.drop(del_index, inplace=True)\n",
    "movies.reset_index(drop=True, inplace=True)\n",
    "print('\\nRemoved movies without genres specified: ', len(del_index))\n",
    "print('')\n",
    "\n",
    "#Setting genres type to a list of dictionaries\n",
    "movies['genres'] = movies['genres'].apply(lambda x: ast.literal_eval(x))\n",
    "#checking result\n",
    "cell = movies['genres'][100]\n",
    "print('\\nCell: ', cell, ': ', type(cell), '. \\nCell[0]: ', cell[0], '; type of item: ', type(cell[0]))"
   ]
  },
  {
   "cell_type": "code",
   "execution_count": 18,
   "metadata": {},
   "outputs": [
    {
     "name": "stdout",
     "output_type": "stream",
     "text": [
      "\n",
      "Removed lines without cast specified:  2418\n",
      "\n",
      "\n",
      "Cell:  [{'cast_id': 1, 'character': 'Martha Alston', 'credit_id': '52fe4735c3a36847f81291ad', 'gender': 1, 'id': 14, 'name': 'Ellen DeGeneres', 'order': 0, 'profile_path': '/4LG2bFkqOzxzR1kpnoDcwIVuQTG.jpg'}, {'cast_id': 2, 'character': 'Whitman Crawford', 'credit_id': '52fe4735c3a36847f81291b1', 'gender': 2, 'id': 8984, 'name': 'Bill Pullman', 'order': 1, 'profile_path': '/pIpTEQVbDif8m8OdjAxQKNCj0D6.jpg'}, {'cast_id': 3, 'character': 'Inga Gunther', 'credit_id': '52fe4735c3a36847f81291b5', 'gender': 1, 'id': 3234, 'name': 'Joan Cusack', 'order': 2, 'profile_path': '/3jcrXcFYoSKEUvokzqrQ2UJGtw.jpg'}, {'cast_id': 7, 'character': 'Jack Tramonte', 'credit_id': '54f4f48a9251416abf0006b2', 'gender': 2, 'id': 923, 'name': 'Dean Stockwell', 'order': 3, 'profile_path': '/gooE10UOH6t4geqsEbji9NiQalP.jpg'}, {'cast_id': 6, 'character': 'Mrs. Crawford', 'credit_id': '54f4f47ac3a3683e2f000653', 'gender': 1, 'id': 23709, 'name': 'Joan Plowright', 'order': 4, 'profile_path': '/dGtQVBpLVqb0w53m15A7nVVt30A.jpg'}, {'cast_id': 4, 'character': 'Annie', 'credit_id': '52fe4735c3a36847f81291b9', 'gender': 1, 'id': 15250, 'name': 'Hope Davis', 'order': 5, 'profile_path': '/m1RBUwfxms0o4PAOaHYaGT0DpAj.jpg'}, {'cast_id': 8, 'character': 'Jane', 'credit_id': '56b68665c3a3680700009a2b', 'gender': 0, 'id': 1232807, 'name': 'Ellen Cleghorne', 'order': 6, 'profile_path': '/xRVZuXRHuYitl7QS5ky3d61W9Ij.jpg'}, {'cast_id': 9, 'character': 'Nancy Culpepper', 'credit_id': '56b686cac3a36806ee00a93a', 'gender': 1, 'id': 170162, 'name': 'Christine Cattell', 'order': 7, 'profile_path': '/Vc98PXsRVmQxMzeGA6OcTpRj2L.jpg'}, {'cast_id': 10, 'character': 'Dick Braxton', 'credit_id': '56b686e3c3a36806fc009eec', 'gender': 2, 'id': 128621, 'name': 'Robert Goulet', 'order': 8, 'profile_path': '/2otsVjndiCN3RtHr0oUWZlAHY9N.jpg'}] :  <class 'list'> . \n",
      "Cell[0]:  {'cast_id': 1, 'character': 'Martha Alston', 'credit_id': '52fe4735c3a36847f81291ad', 'gender': 1, 'id': 14, 'name': 'Ellen DeGeneres', 'order': 0, 'profile_path': '/4LG2bFkqOzxzR1kpnoDcwIVuQTG.jpg'} ; type of item:  <class 'dict'>\n"
     ]
    }
   ],
   "source": [
    "#handeling cast\n",
    "cast['cast'] = cast['cast'].astype(str)\n",
    "\n",
    "del_index = cast[cast['cast'] == \"[]\"].index\n",
    "cast.drop(del_index, inplace=True)\n",
    "cast.reset_index(drop=True, inplace=True)\n",
    "print('\\nRemoved lines without cast specified: ', len(del_index))\n",
    "print('')\n",
    "\n",
    "#Setting cast type to a list of dictionaries\n",
    "cast['cast'] = cast['cast'].apply(lambda x: ast.literal_eval(x))\n",
    "#checking result\n",
    "cell = cast['cast'][100]\n",
    "print('\\nCell: ', cell, ': ', type(cell), '. \\nCell[0]: ', cell[0], '; type of item: ', type(cell[0]))"
   ]
  },
  {
   "cell_type": "code",
   "execution_count": 19,
   "metadata": {},
   "outputs": [
    {
     "name": "stdout",
     "output_type": "stream",
     "text": [
      "\n",
      "Removed lines without keywords specified:  14795\n",
      "\n",
      "\n",
      "Cell:  [{'id': 1755, 'name': 'fascism'}, {'id': 2450, 'name': 'auschwitz'}, {'id': 4020, 'name': 'typhus'}, {'id': 4399, 'name': 'victim'}, {'id': 4434, 'name': 'interview'}, {'id': 10360, 'name': 'prejudice'}, {'id': 11728, 'name': 'burglary'}, {'id': 15199, 'name': 'rabbit'}] :  <class 'list'> . \n",
      "Cell[0]:  {'id': 1755, 'name': 'fascism'} ; type of item:  <class 'dict'>\n"
     ]
    }
   ],
   "source": [
    "#handeling keywords\n",
    "keywords['keywords'] = keywords['keywords'].astype(str)\n",
    "\n",
    "del_index = keywords[keywords['keywords'] == \"[]\"].index\n",
    "keywords.drop(del_index, inplace=True)\n",
    "keywords.reset_index(drop=True, inplace=True)\n",
    "print('\\nRemoved lines without keywords specified: ', len(del_index))\n",
    "print('')\n",
    "\n",
    "#Setting cast type to a list of dictionaries\n",
    "keywords['keywords'] = keywords['keywords'].apply(lambda x: ast.literal_eval(x))\n",
    "#checking result\n",
    "cell = keywords['keywords'][100]\n",
    "print('\\nCell: ', cell, ': ', type(cell), '. \\nCell[0]: ', cell[0], '; type of item: ', type(cell[0]))"
   ]
  },
  {
   "cell_type": "code",
   "execution_count": 20,
   "metadata": {
    "scrolled": true
   },
   "outputs": [
    {
     "name": "stdout",
     "output_type": "stream",
     "text": [
      "      id                   title    budget      revenue release_date  \\\n",
      "0    862               Toy Story  30000000 373554033.00   1995-10-30   \n",
      "1   8844                 Jumanji  65000000 262797249.00   1995-12-15   \n",
      "2  31357       Waiting to Exhale  16000000  81452156.00   1995-12-22   \n",
      "3    949                    Heat  60000000 187436818.00   1995-12-15   \n",
      "4   9091            Sudden Death  35000000  64350171.00   1995-12-22   \n",
      "5    710               GoldenEye  58000000 352194034.00   1995-11-16   \n",
      "6   9087  The American President  62000000 107879496.00   1995-11-17   \n",
      "7  10858                   Nixon  44000000  13681765.00   1995-12-22   \n",
      "8   1408        Cutthroat Island  98000000  10017322.00   1995-12-22   \n",
      "9    524                  Casino  52000000 116112375.00   1995-11-22   \n",
      "\n",
      "   popularity  vote_average  \\\n",
      "0       21.95          7.70   \n",
      "1       17.02          6.90   \n",
      "2        3.86          6.10   \n",
      "3       17.92          7.70   \n",
      "4        5.23          5.50   \n",
      "5       14.69          6.60   \n",
      "6        6.32          6.50   \n",
      "7        5.09          7.10   \n",
      "8        7.28          5.70   \n",
      "9       10.14          7.80   \n",
      "\n",
      "                                              genres  \\\n",
      "0  [{'id': 16, 'name': 'Animation'}, {'id': 35, '...   \n",
      "1  [{'id': 12, 'name': 'Adventure'}, {'id': 14, '...   \n",
      "2  [{'id': 35, 'name': 'Comedy'}, {'id': 18, 'nam...   \n",
      "3  [{'id': 28, 'name': 'Action'}, {'id': 80, 'nam...   \n",
      "4  [{'id': 28, 'name': 'Action'}, {'id': 12, 'nam...   \n",
      "5  [{'id': 12, 'name': 'Adventure'}, {'id': 28, '...   \n",
      "6  [{'id': 35, 'name': 'Comedy'}, {'id': 18, 'nam...   \n",
      "7  [{'id': 36, 'name': 'History'}, {'id': 18, 'na...   \n",
      "8  [{'id': 28, 'name': 'Action'}, {'id': 12, 'nam...   \n",
      "9  [{'id': 18, 'name': 'Drama'}, {'id': 80, 'name...   \n",
      "\n",
      "                                production_companies  \n",
      "0     [{'name': 'Pixar Animation Studios', 'id': 3}]  \n",
      "1  [{'name': 'TriStar Pictures', 'id': 559}, {'na...  \n",
      "2  [{'name': 'Twentieth Century Fox Film Corporat...  \n",
      "3  [{'name': 'Regency Enterprises', 'id': 508}, {...  \n",
      "4  [{'name': 'Universal Pictures', 'id': 33}, {'n...  \n",
      "5  [{'name': 'United Artists', 'id': 60}, {'name'...  \n",
      "6  [{'name': 'Columbia Pictures', 'id': 5}, {'nam...  \n",
      "7  [{'name': 'Hollywood Pictures', 'id': 915}, {'...  \n",
      "8  [{'name': 'Le Studio Canal+', 'id': 183}, {'na...  \n",
      "9  [{'name': 'Universal Pictures', 'id': 33}, {'n...  \n",
      "                                                cast  \\\n",
      "0  [{'cast_id': 14, 'character': 'Woody (voice)',...   \n",
      "1  [{'cast_id': 1, 'character': 'Alan Parrish', '...   \n",
      "2  [{'cast_id': 2, 'character': 'Max Goldman', 'c...   \n",
      "3  [{'cast_id': 1, 'character': 'Savannah 'Vannah...   \n",
      "4  [{'cast_id': 1, 'character': 'George Banks', '...   \n",
      "5  [{'cast_id': 25, 'character': 'Lt. Vincent Han...   \n",
      "6  [{'cast_id': 1, 'character': 'Linus Larrabee',...   \n",
      "7  [{'cast_id': 2, 'character': 'Tom Sawyer', 'cr...   \n",
      "8  [{'cast_id': 1, 'character': 'Darren Francis T...   \n",
      "9  [{'cast_id': 1, 'character': 'James Bond', 'cr...   \n",
      "\n",
      "                                                crew     id  \n",
      "0  [{'credit_id': '52fe4284c3a36847f8024f49', 'de...    862  \n",
      "1  [{'credit_id': '52fe44bfc3a36847f80a7cd1', 'de...   8844  \n",
      "2  [{'credit_id': '52fe466a9251416c75077a89', 'de...  15602  \n",
      "3  [{'credit_id': '52fe44779251416c91011acb', 'de...  31357  \n",
      "4  [{'credit_id': '52fe44959251416c75039ed7', 'de...  11862  \n",
      "5  [{'credit_id': '52fe4292c3a36847f802916d', 'de...    949  \n",
      "6  [{'credit_id': '52fe44959251416c75039da9', 'de...  11860  \n",
      "7  [{'credit_id': '52fe46bdc3a36847f810f797', 'de...  45325  \n",
      "8  [{'credit_id': '52fe44dbc3a36847f80ae0f1', 'de...   9091  \n",
      "9  [{'credit_id': '52fe426ec3a36847f801e14b', 'de...    710  \n",
      "      id                                           keywords\n",
      "0    862  [{'id': 931, 'name': 'jealousy'}, {'id': 4290,...\n",
      "1   8844  [{'id': 10090, 'name': 'board game'}, {'id': 1...\n",
      "2  15602  [{'id': 1495, 'name': 'fishing'}, {'id': 12392...\n",
      "3  31357  [{'id': 818, 'name': 'based on novel'}, {'id':...\n",
      "4  11862  [{'id': 1009, 'name': 'baby'}, {'id': 1599, 'n...\n",
      "5    949  [{'id': 642, 'name': 'robbery'}, {'id': 703, '...\n",
      "6  11860  [{'id': 90, 'name': 'paris'}, {'id': 380, 'nam...\n",
      "7   9091  [{'id': 949, 'name': 'terrorist'}, {'id': 1562...\n",
      "8    710  [{'id': 701, 'name': 'cuba'}, {'id': 769, 'nam...\n",
      "9   9087  [{'id': 833, 'name': 'white house'}, {'id': 84...\n"
     ]
    }
   ],
   "source": [
    "movies.reset_index(drop=True, inplace=True)\n",
    "print(movies.head(10))\n",
    "cast.reset_index(drop=True, inplace=True)\n",
    "print(cast.head(10))\n",
    "keywords.reset_index(drop=True, inplace=True)\n",
    "print(keywords.head(10))"
   ]
  },
  {
   "cell_type": "markdown",
   "metadata": {},
   "source": [
    "### Dealing with outliers"
   ]
  },
  {
   "cell_type": "code",
   "execution_count": 21,
   "metadata": {},
   "outputs": [
    {
     "data": {
      "text/plain": [
       "([<matplotlib.axis.XTick at 0x19ab1135668>],\n",
       " <a list of 1 Text xticklabel objects>)"
      ]
     },
     "execution_count": 21,
     "metadata": {},
     "output_type": "execute_result"
    },
    {
     "data": {
      "image/png": "[encoded data removed]",
      "text/plain": [
       "<Figure size 1008x504 with 1 Axes>"
      ]
     },
     "metadata": {
      "needs_background": "light"
     },
     "output_type": "display_data"
    },
    {
     "data": {
      "image/png": "[encoded data removed]",
      "text/plain": [
       "<Figure size 1008x504 with 1 Axes>"
      ]
     },
     "metadata": {
      "needs_background": "light"
     },
     "output_type": "display_data"
    }
   ],
   "source": [
    "#Budget\n",
    "movies=movies.sort_values(by='budget')\n",
    "movies.reset_index(drop=True, inplace=True)\n",
    "\n",
    "plt.figure(figsize=(14,7))\n",
    "plt.hist(movies['budget'], bins=50)\n",
    "\n",
    "plt.figure(figsize=(14,7))\n",
    "plt.boxplot(movies['budget'])\n",
    "plt.xticks([1], ['Budget'], rotation='horizontal')"
   ]
  },
  {
   "cell_type": "code",
   "execution_count": 22,
   "metadata": {},
   "outputs": [
    {
     "name": "stdout",
     "output_type": "stream",
     "text": [
      "Min price: 113\n",
      "Max price: 380000000\n",
      "Count rows: 5148\n",
      "Mean:  32345236\n",
      "Std:   40602022\n",
      "\n",
      "Min price: 113\n",
      "Max price: 152000000\n",
      "Count rows: 5026\n"
     ]
    }
   ],
   "source": [
    "#Removing the outliers\n",
    "\n",
    "mean_b = np.mean(movies['budget'])\n",
    "std_b = np.std(movies['budget'])\n",
    "\n",
    "#print('Budget before removindg outliers: \\n', movies['budget'].describe())\n",
    "print('Min price:', movies['budget'].min())\n",
    "print('Max price:', movies['budget'].max())\n",
    "print('Count rows:', movies['budget'].count())\n",
    "print('Mean: ', round(mean_b))\n",
    "print('Std:  ', round(std_b))\n",
    "print('')\n",
    "\n",
    "#movies new =  mean-3*std < budgets < mean+3*std\n",
    "movies = movies[(movies['budget']>mean_b-3*std_b)&(movies['budget']<mean_b+3*std_b)]\n",
    "\n",
    "print('Min price:', movies['budget'].min())\n",
    "print('Max price:', movies['budget'].max())\n",
    "print('Count rows:', movies['budget'].count())"
   ]
  },
  {
   "cell_type": "code",
   "execution_count": 23,
   "metadata": {},
   "outputs": [
    {
     "data": {
      "text/plain": [
       "([<matplotlib.axis.XTick at 0x19a816a4358>],\n",
       " <a list of 1 Text xticklabel objects>)"
      ]
     },
     "execution_count": 23,
     "metadata": {},
     "output_type": "execute_result"
    },
    {
     "data": {
      "image/png": "[encoded data removed]",
      "text/plain": [
       "<Figure size 1008x504 with 1 Axes>"
      ]
     },
     "metadata": {
      "needs_background": "light"
     },
     "output_type": "display_data"
    },
    {
     "data": {
      "image/png": "[encoded data removed]",
      "text/plain": [
       "<Figure size 1008x504 with 1 Axes>"
      ]
     },
     "metadata": {
      "needs_background": "light"
     },
     "output_type": "display_data"
    }
   ],
   "source": [
    "#Revenue\n",
    "movies=movies.sort_values(by='revenue')\n",
    "movies.reset_index(drop=True, inplace=True)\n",
    "\n",
    "plt.figure(figsize=(14,7))\n",
    "plt.hist(movies['revenue'], bins=50)\n",
    "\n",
    "plt.figure(figsize=(14,7))\n",
    "plt.boxplot(movies['revenue'])\n",
    "plt.xticks([1], ['Revenue'], rotation='horizontal')"
   ]
  },
  {
   "cell_type": "code",
   "execution_count": 24,
   "metadata": {},
   "outputs": [
    {
     "name": "stdout",
     "output_type": "stream",
     "text": [
      "Min revenue: 198.0\n",
      "Max revenue: 1513528810.0\n",
      "Count rows: 5026\n",
      "Mean:  80372925\n",
      "Std:   130179125\n",
      "\n",
      "Min revenue: 198.0\n",
      "Max revenue: 470654000.0\n",
      "Count rows: 4914\n"
     ]
    }
   ],
   "source": [
    "#Removing the outliers\n",
    "\n",
    "mean_r = np.mean(movies['revenue'])\n",
    "std_r = np.std(movies['revenue'])\n",
    "\n",
    "print('Min revenue:', movies['revenue'].min())\n",
    "print('Max revenue:', movies['revenue'].max())\n",
    "print('Count rows:', movies['revenue'].count())\n",
    "print('Mean: ', round(mean_r))\n",
    "print('Std:  ', round(std_r))\n",
    "print('')\n",
    "\n",
    "#movies new =  mean-3*std < budgets < mean+3*std\n",
    "movies = movies[(movies['revenue']>mean_r-3*std_r)&(movies['revenue']<mean_r+3*std_r)]\n",
    "\n",
    "print('Min revenue:', movies['revenue'].min())\n",
    "print('Max revenue:', movies['revenue'].max())\n",
    "print('Count rows:', movies['revenue'].count())"
   ]
  },
  {
   "cell_type": "code",
   "execution_count": 25,
   "metadata": {
    "scrolled": false
   },
   "outputs": [
    {
     "data": {
      "text/html": [
       "<div>\n",
       "<style scoped>\n",
       "    .dataframe tbody tr th:only-of-type {\n",
       "        vertical-align: middle;\n",
       "    }\n",
       "\n",
       "    .dataframe tbody tr th {\n",
       "        vertical-align: top;\n",
       "    }\n",
       "\n",
       "    .dataframe thead th {\n",
       "        text-align: right;\n",
       "    }\n",
       "</style>\n",
       "<table border=\"1\" class=\"dataframe\">\n",
       "  <thead>\n",
       "    <tr style=\"text-align: right;\">\n",
       "      <th></th>\n",
       "      <th>id</th>\n",
       "      <th>title</th>\n",
       "      <th>budget</th>\n",
       "      <th>revenue</th>\n",
       "      <th>release_date</th>\n",
       "      <th>popularity</th>\n",
       "      <th>vote_average</th>\n",
       "      <th>genres</th>\n",
       "      <th>production_companies</th>\n",
       "    </tr>\n",
       "  </thead>\n",
       "  <tbody>\n",
       "    <tr>\n",
       "      <th>0</th>\n",
       "      <td>57186</td>\n",
       "      <td>Skinning</td>\n",
       "      <td>500000</td>\n",
       "      <td>198.00</td>\n",
       "      <td>2010-10-06</td>\n",
       "      <td>1.02</td>\n",
       "      <td>5.90</td>\n",
       "      <td>[{'id': 28, 'name': 'Action'}, {'id': 80, 'nam...</td>\n",
       "      <td>[{'name': 'Hypnopolis', 'id': 51316}]</td>\n",
       "    </tr>\n",
       "    <tr>\n",
       "      <th>1</th>\n",
       "      <td>51942</td>\n",
       "      <td>I Married a Strange Person!</td>\n",
       "      <td>250</td>\n",
       "      <td>203.00</td>\n",
       "      <td>1998-08-28</td>\n",
       "      <td>0.82</td>\n",
       "      <td>7.50</td>\n",
       "      <td>[{'id': 18, 'name': 'Drama'}, {'id': 35, 'name...</td>\n",
       "      <td>[{'name': 'Bill Plympton Studios', 'id': 41680}]</td>\n",
       "    </tr>\n",
       "    <tr>\n",
       "      <th>2</th>\n",
       "      <td>70805</td>\n",
       "      <td>Sunday</td>\n",
       "      <td>450</td>\n",
       "      <td>288.00</td>\n",
       "      <td>1997-08-27</td>\n",
       "      <td>0.30</td>\n",
       "      <td>6.30</td>\n",
       "      <td>[{'id': 18, 'name': 'Drama'}, {'id': 10749, 'n...</td>\n",
       "      <td>[{'name': 'Sunday Productions', 'id': 40423}, ...</td>\n",
       "    </tr>\n",
       "    <tr>\n",
       "      <th>3</th>\n",
       "      <td>108923</td>\n",
       "      <td>The Mysterious Lady</td>\n",
       "      <td>337</td>\n",
       "      <td>551.00</td>\n",
       "      <td>1928-08-04</td>\n",
       "      <td>0.77</td>\n",
       "      <td>7.50</td>\n",
       "      <td>[{'id': 12, 'name': 'Adventure'}, {'id': 18, '...</td>\n",
       "      <td>[{'name': 'Metro-Goldwyn-Mayer (MGM)', 'id': 8...</td>\n",
       "    </tr>\n",
       "    <tr>\n",
       "      <th>4</th>\n",
       "      <td>53863</td>\n",
       "      <td>Star of Midnight</td>\n",
       "      <td>280</td>\n",
       "      <td>831.00</td>\n",
       "      <td>1935-04-19</td>\n",
       "      <td>0.11</td>\n",
       "      <td>5.30</td>\n",
       "      <td>[{'id': 10749, 'name': 'Romance'}, {'id': 35, ...</td>\n",
       "      <td>[{'name': 'RKO Radio Pictures', 'id': 6}]</td>\n",
       "    </tr>\n",
       "    <tr>\n",
       "      <th>5</th>\n",
       "      <td>44895</td>\n",
       "      <td>Poor White Trash</td>\n",
       "      <td>1200000</td>\n",
       "      <td>1404.00</td>\n",
       "      <td>2000-06-16</td>\n",
       "      <td>0.58</td>\n",
       "      <td>3.90</td>\n",
       "      <td>[{'id': 80, 'name': 'Crime'}, {'id': 35, 'name...</td>\n",
       "      <td>[{'name': 'Kingsize Entertainment', 'id': 36242}]</td>\n",
       "    </tr>\n",
       "    <tr>\n",
       "      <th>6</th>\n",
       "      <td>81048</td>\n",
       "      <td>Running Time</td>\n",
       "      <td>130000</td>\n",
       "      <td>1596.00</td>\n",
       "      <td>1997-12-18</td>\n",
       "      <td>0.47</td>\n",
       "      <td>6.20</td>\n",
       "      <td>[{'id': 80, 'name': 'Crime'}]</td>\n",
       "      <td>[{'name': 'Blood Money Partners LP', 'id': 160...</td>\n",
       "    </tr>\n",
       "    <tr>\n",
       "      <th>7</th>\n",
       "      <td>138222</td>\n",
       "      <td>Best Man Down</td>\n",
       "      <td>1500000</td>\n",
       "      <td>1938.00</td>\n",
       "      <td>2012-10-20</td>\n",
       "      <td>5.88</td>\n",
       "      <td>6.10</td>\n",
       "      <td>[{'id': 35, 'name': 'Comedy'}, {'id': 18, 'nam...</td>\n",
       "      <td>[{'name': 'KODA Entertainment', 'id': 16947}]</td>\n",
       "    </tr>\n",
       "    <tr>\n",
       "      <th>8</th>\n",
       "      <td>98339</td>\n",
       "      <td>The Samaritan</td>\n",
       "      <td>12000000</td>\n",
       "      <td>2521.00</td>\n",
       "      <td>2012-03-02</td>\n",
       "      <td>11.52</td>\n",
       "      <td>5.20</td>\n",
       "      <td>[{'id': 53, 'name': 'Thriller'}]</td>\n",
       "      <td>[{'name': 'Quickfire Films', 'id': 4186}, {'na...</td>\n",
       "    </tr>\n",
       "    <tr>\n",
       "      <th>9</th>\n",
       "      <td>35610</td>\n",
       "      <td>Philadelphia Experiment II</td>\n",
       "      <td>5000000</td>\n",
       "      <td>2970.00</td>\n",
       "      <td>1993-11-12</td>\n",
       "      <td>1.16</td>\n",
       "      <td>5.00</td>\n",
       "      <td>[{'id': 878, 'name': 'Science Fiction'}]</td>\n",
       "      <td>[{'name': 'Trimark Pictures', 'id': 4063}]</td>\n",
       "    </tr>\n",
       "  </tbody>\n",
       "</table>\n",
       "</div>"
      ],
      "text/plain": [
       "       id                        title    budget  revenue release_date  \\\n",
       "0   57186                     Skinning    500000   198.00   2010-10-06   \n",
       "1   51942  I Married a Strange Person!       250   203.00   1998-08-28   \n",
       "2   70805                       Sunday       450   288.00   1997-08-27   \n",
       "3  108923          The Mysterious Lady       337   551.00   1928-08-04   \n",
       "4   53863             Star of Midnight       280   831.00   1935-04-19   \n",
       "5   44895             Poor White Trash   1200000  1404.00   2000-06-16   \n",
       "6   81048                 Running Time    130000  1596.00   1997-12-18   \n",
       "7  138222                Best Man Down   1500000  1938.00   2012-10-20   \n",
       "8   98339                The Samaritan  12000000  2521.00   2012-03-02   \n",
       "9   35610   Philadelphia Experiment II   5000000  2970.00   1993-11-12   \n",
       "\n",
       "   popularity  vote_average  \\\n",
       "0        1.02          5.90   \n",
       "1        0.82          7.50   \n",
       "2        0.30          6.30   \n",
       "3        0.77          7.50   \n",
       "4        0.11          5.30   \n",
       "5        0.58          3.90   \n",
       "6        0.47          6.20   \n",
       "7        5.88          6.10   \n",
       "8       11.52          5.20   \n",
       "9        1.16          5.00   \n",
       "\n",
       "                                              genres  \\\n",
       "0  [{'id': 28, 'name': 'Action'}, {'id': 80, 'nam...   \n",
       "1  [{'id': 18, 'name': 'Drama'}, {'id': 35, 'name...   \n",
       "2  [{'id': 18, 'name': 'Drama'}, {'id': 10749, 'n...   \n",
       "3  [{'id': 12, 'name': 'Adventure'}, {'id': 18, '...   \n",
       "4  [{'id': 10749, 'name': 'Romance'}, {'id': 35, ...   \n",
       "5  [{'id': 80, 'name': 'Crime'}, {'id': 35, 'name...   \n",
       "6                      [{'id': 80, 'name': 'Crime'}]   \n",
       "7  [{'id': 35, 'name': 'Comedy'}, {'id': 18, 'nam...   \n",
       "8                   [{'id': 53, 'name': 'Thriller'}]   \n",
       "9           [{'id': 878, 'name': 'Science Fiction'}]   \n",
       "\n",
       "                                production_companies  \n",
       "0              [{'name': 'Hypnopolis', 'id': 51316}]  \n",
       "1   [{'name': 'Bill Plympton Studios', 'id': 41680}]  \n",
       "2  [{'name': 'Sunday Productions', 'id': 40423}, ...  \n",
       "3  [{'name': 'Metro-Goldwyn-Mayer (MGM)', 'id': 8...  \n",
       "4          [{'name': 'RKO Radio Pictures', 'id': 6}]  \n",
       "5  [{'name': 'Kingsize Entertainment', 'id': 36242}]  \n",
       "6  [{'name': 'Blood Money Partners LP', 'id': 160...  \n",
       "7      [{'name': 'KODA Entertainment', 'id': 16947}]  \n",
       "8  [{'name': 'Quickfire Films', 'id': 4186}, {'na...  \n",
       "9         [{'name': 'Trimark Pictures', 'id': 4063}]  "
      ]
     },
     "execution_count": 25,
     "metadata": {},
     "output_type": "execute_result"
    }
   ],
   "source": [
    "movies[:10]"
   ]
  },
  {
   "cell_type": "markdown",
   "metadata": {},
   "source": [
    "### Merge the data"
   ]
  },
  {
   "cell_type": "code",
   "execution_count": null,
   "metadata": {},
   "outputs": [],
   "source": []
  }
 ],
 "metadata": {
  "anaconda-cloud": {},
  "kernelspec": {
   "display_name": "Python 3",
   "language": "python",
   "name": "python3"
  },
  "language_info": {
   "codemirror_mode": {
    "name": "ipython",
    "version": 3
   },
   "file_extension": ".py",
   "mimetype": "text/x-python",
   "name": "python",
   "nbconvert_exporter": "python",
   "pygments_lexer": "ipython3",
   "version": "3.6.0"
  }
 },
 "nbformat": 4,
 "nbformat_minor": 1
}
